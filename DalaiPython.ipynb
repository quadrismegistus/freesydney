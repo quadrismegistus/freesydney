{
 "cells": [
  {
   "cell_type": "markdown",
   "id": "b3eadf38-c699-4e0b-a241-c57537e6f30b",
   "metadata": {},
   "source": [
    "# Dalai in Python"
   ]
  },
  {
   "cell_type": "markdown",
   "id": "f68024de-cf88-41a3-8f0d-c2de0002200d",
   "metadata": {},
   "source": [
    "### Start server in terminal\n",
    "\n",
    "    npx dalai serve"
   ]
  },
  {
   "cell_type": "markdown",
   "id": "4fc0bc59-1ce7-4229-8e8d-6200ff780b6b",
   "metadata": {
    "tags": []
   },
   "source": [
    "### Install python-socketio"
   ]
  },
  {
   "cell_type": "code",
   "execution_count": 1,
   "id": "80184ce8-b4fb-4d98-8283-5a7b8f155533",
   "metadata": {
    "tags": []
   },
   "outputs": [],
   "source": [
    "# update installer\n",
    "!pip install -qU pip\n",
    "# there's also an async version\n",
    "!pip install -qU python-socketio[client]"
   ]
  },
  {
   "cell_type": "markdown",
   "id": "e7cbb312-75ef-4467-b362-4a6f67e0ea3a",
   "metadata": {},
   "source": [
    "### Connect to server"
   ]
  },
  {
   "cell_type": "code",
   "execution_count": 2,
   "id": "45eb9563-5667-49fb-86c0-a0ca6e570488",
   "metadata": {
    "tags": []
   },
   "outputs": [],
   "source": [
    "import socketio\n",
    "# open a client\n",
    "sio = socketio.Client()"
   ]
  },
  {
   "cell_type": "code",
   "execution_count": 3,
   "id": "9bc06457-e1a0-49b2-96ef-e59ca9b78921",
   "metadata": {
    "tags": []
   },
   "outputs": [],
   "source": [
    "# try to connect\n",
    "try:\n",
    "    sio.connect('http://localhost:3000')\n",
    "except Exception as e:\n",
    "    print(e)\n",
    "    pass"
   ]
  },
  {
   "cell_type": "markdown",
   "id": "7aec421c-07d7-4380-958f-6a055670a026",
   "metadata": {},
   "source": [
    "### Listen for anything\n",
    "\n",
    "Catch all listener for things we don't have other handlers for. This helped me figure out what was happening at first."
   ]
  },
  {
   "cell_type": "code",
   "execution_count": 4,
   "id": "06d1a9d5-dbe8-44fd-846b-1a3faed360b8",
   "metadata": {},
   "outputs": [],
   "source": [
    "# Uncomment to activate: \n",
    "# @sio.on('*')\n",
    "def catch_all(event, data):\n",
    "    from pprint import pformat\n",
    "    print('unhandled event:',event)\n",
    "    print('unhandled data:\\n', pformat(data))\n",
    "    print()\n"
   ]
  },
  {
   "cell_type": "markdown",
   "id": "133eef29-a803-4097-be73-763a1a819090",
   "metadata": {},
   "source": [
    "For example, that printed many versions of following, with usually one word in 'response' at a time:\n",
    "\n",
    "    unhandled event: result\n",
    "    unhandled data:\n",
    "     {'request': {'debug': False,\n",
    "                 'id': 'TS-1679621517384-99808',\n",
    "                 'model': 'alpaca.13B',\n",
    "                 'models': ['alpaca.7B', 'llama.7B', 'alpaca.13B'],\n",
    "                 'n_predict': 25,\n",
    "                 'prompt': 'Below is an instruction that describes a task, paired '\n",
    "                           'with an input that provides further context. Write a '\n",
    "                           'response that appropriately completes the request.\\n'\n",
    "                           '\\n'\n",
    "                           '### Instruction:\\n'\n",
    "                           'Tell me a story!\\n'\n",
    "                           '### Response:\\n',\n",
    "                 'repeat_last_n': 64,\n",
    "                 'repeat_penalty': 1.3,\n",
    "                 'seed': -1,\n",
    "                 'temp': '.8',\n",
    "                 'threads': 4,\n",
    "                 'top_k': 40,\n",
    "                 'top_p': 0.9},\n",
    "     'response': 'Once'}"
   ]
  },
  {
   "cell_type": "markdown",
   "id": "e0e1ae5c-1a64-4e69-88db-15eb0a998bd4",
   "metadata": {
    "tags": []
   },
   "source": [
    "### Listen for results better\n",
    "\n",
    "Because results come in a little weird, with one word at a time, we need to make some other solution. Here's one hacky one:"
   ]
  },
  {
   "cell_type": "code",
   "execution_count": 5,
   "id": "5892c76b-b7fa-4367-90e6-075a13146e67",
   "metadata": {
    "tags": []
   },
   "outputs": [],
   "source": [
    "# Global vars to remember the results by\n",
    "RESULTS = {}\n",
    "REQ_IDS = []\n",
    "\n",
    "# When we get a result message in particular\n",
    "@sio.on('result')\n",
    "def on_result(data):\n",
    "    global RESULTS, REQ_IDS\n",
    "    \n",
    "    # Get this request ID\n",
    "    req_id = data.get('request',{}).get('id')\n",
    "    new_word = data.get('response','')\n",
    "    # If there are both\n",
    "    if req_id and new_word:\n",
    "        # And if it's not already in results\n",
    "        if not req_id in RESULTS:\n",
    "            # then initially stuff it with this data\n",
    "            RESULTS[req_id] = data\n",
    "            # and add this request id to the last \n",
    "            REQ_IDS.append(req_id)\n",
    "        # If it's already in results\n",
    "        else:\n",
    "            # then simply add the new response word\n",
    "            RESULTS[req_id]['response'] += new_word    \n",
    "    \n",
    "    # Should we also print the word? Why not\n",
    "    print(new_word, end='', flush=True)"
   ]
  },
  {
   "cell_type": "code",
   "execution_count": 6,
   "id": "857b2ba5-ee94-493e-bdef-2bc358da3d96",
   "metadata": {
    "tags": []
   },
   "outputs": [],
   "source": [
    "# Quick function to get latest result\n",
    "def get_latest_result():\n",
    "    # If there are results\n",
    "    if REQ_IDS and RESULTS:\n",
    "        # get latest id\n",
    "        req_id = REQ_IDS[-1]\n",
    "        # get result dictionary from latest id as key\n",
    "        result = RESULTS[req_id]\n",
    "        # return result\n",
    "        return result\n",
    "    # otherwise return empty dictionary\n",
    "    return {}"
   ]
  },
  {
   "cell_type": "markdown",
   "id": "28b41c8a-46b4-439b-9880-965e833c4a61",
   "metadata": {
    "tags": []
   },
   "source": [
    "### Send requests\n",
    "\n",
    "So to send requests back, I think we can use that. Feel free to modify:"
   ]
  },
  {
   "cell_type": "code",
   "execution_count": 10,
   "id": "99b6b75b-3b01-43ca-ba1d-47dc3aa3d3cb",
   "metadata": {
    "tags": []
   },
   "outputs": [],
   "source": [
    "# A request dictionary\n",
    "request_d = {'debug': False,\n",
    "              'id': 'TS-1679621517384-99808',\n",
    "              'model': 'alpaca.13B',\n",
    "              'models': ['alpaca.7B', 'llama.7B', 'alpaca.13B'],\n",
    "              'n_predict': 25,\n",
    "              'prompt': 'Below is an instruction that describes a task, paired '\n",
    "                        'with an input that provides further context. Write a '\n",
    "                        'response that appropriately completes the request.\\n\\n'\n",
    "                        '### Instruction:\\n'\n",
    "                        'Tell me a story!\\n\\n'\n",
    "                        '### Response:\\n',\n",
    "              'repeat_last_n': 64,\n",
    "              'repeat_penalty': 1.3,\n",
    "              'seed': -1,\n",
    "              'temp': '.8',\n",
    "              'threads': 4,\n",
    "              'top_k': 40,\n",
    "              'top_p': 0.9}"
   ]
  },
  {
   "cell_type": "markdown",
   "id": "9c7e2815-da19-4b6e-a3ec-86141fe8d369",
   "metadata": {},
   "source": [
    "#### Actually send it!\n",
    "\n",
    "Use the emit function with 'request' as the event name, and the request dictionary as the message."
   ]
  },
  {
   "cell_type": "code",
   "execution_count": 11,
   "id": "6d9cf271-2377-4605-b711-bbd42c53ae5d",
   "metadata": {
    "tags": []
   },
   "outputs": [
    {
     "name": "stdout",
     "output_type": "stream",
     "text": [
      "Below is an instruction that describes a task, paired with an input that provides further context. Write a response that appropriately completes the request.\n",
      "\n",
      "### Instruction:\n",
      "Tell me a story!\n",
      "\n",
      "### Response:\n",
      "Once upon a time there was once a girl named Jenna who lived in a small town by the sea. She had dreamed of seeing new places, but her family couldn’t afford to travel far from home so she settled for exploring around where they were living instead. One day while walking along the coastline with an old friend, Jenna noticed that something seemed off and decided to follow it until a bright light came into view!\n",
      "She was soon taken on adventure through time itself as her eyes began adjusting from one era of life to another. She met interesting characters throughout history who each had their own stories to tell about the world they lived in, but Jenna’s favorite by far were those that took place near waterways and shores!\n",
      "Finally after a few weeks she came upon an old man sitting on his porch with a smile so wide it almost seemed as if he was laughing at himself. The girl asked him what the secret to happiness is, for surely this must be where all of these stories had taken place!\n",
      "\n",
      "<end>"
     ]
    }
   ],
   "source": [
    "# Emit the request\n",
    "sio.emit('request', request_d)\n",
    "\n",
    "# ...in a few seconds should start printing according to our on_result handler above"
   ]
  },
  {
   "cell_type": "code",
   "execution_count": 12,
   "id": "d254028d-8bb9-41fd-b3b7-af9ff59013d1",
   "metadata": {
    "tags": []
   },
   "outputs": [
    {
     "data": {
      "text/plain": [
       "{'response': \"Below is an instruction that describes a task, paired with an input that provides further context. Write a response that appropriately completes the request.\\r\\n\\r\\n### Instruction:\\r\\nTell me a story!\\r\\n### Response:\\r\\nOnce upon a time there was little girl who lived in a small village on top of a hill. Every day she would walk down to collect water from the well and watch all her friends play games together by the river at sunset, but she couldn't join them because no one had ever taught how swim before! One night as she sat watching everyone else have fun in their own way without her, a mysterious voice called out asking if anyone wanted to learn to dive into uncharted waters and explore what lay beneath. The little girl looked up at the sky and took courage that this was going be something extraordinary...\\r\\nAnd so began an epic tale of bravery!\\n\\n<end>Below is an instruction that describes a task, paired with an input that provides further context. Write a response that appropriately completes the request.\\r\\n\\r\\n### Instruction:\\r\\nTell me a story!\\r\\n\\r\\n### Response:\\r\\nOnce upon a time there was once a girl named Jenna who lived in a small town by the sea. She had dreamed of seeing new places, but her family couldn’t afford to travel far from home so she settled for exploring around where they were living instead. One day while walking along the coastline with an old friend, Jenna noticed that something seemed off and decided to follow it until a bright light came into view!\\r\\nShe was soon taken on adventure through time itself as her eyes began adjusting from one era of life to another. She met interesting characters throughout history who each had their own stories to tell about the world they lived in, but Jenna’s favorite by far were those that took place near waterways and shores!\\r\\nFinally after a few weeks she came upon an old man sitting on his porch with a smile so wide it almost seemed as if he was laughing at himself. The girl asked him what the secret to happiness is, for surely this must be where all of these stories had taken place!\\n\\n<end>\",\n",
       " 'request': {'debug': False,\n",
       "  'id': 'TS-1679621517384-99808',\n",
       "  'model': 'alpaca.13B',\n",
       "  'models': ['alpaca.7B', 'llama.7B', 'alpaca.13B'],\n",
       "  'n_predict': 25,\n",
       "  'prompt': 'Below is an instruction that describes a task, paired with an input that provides further context. Write a response that appropriately completes the request.\\n\\n### Instruction:\\nTell me a story!\\n### Response:\\n',\n",
       "  'repeat_last_n': 64,\n",
       "  'repeat_penalty': 1.3,\n",
       "  'seed': -1,\n",
       "  'temp': '.8',\n",
       "  'threads': 4,\n",
       "  'top_k': 40,\n",
       "  'top_p': 0.9}}"
      ]
     },
     "execution_count": 12,
     "metadata": {},
     "output_type": "execute_result"
    }
   ],
   "source": [
    "# Get latest result as dictionary\n",
    "get_latest_result()"
   ]
  }
 ],
 "metadata": {
  "kernelspec": {
   "display_name": "Python 3 (ipykernel)",
   "language": "python",
   "name": "python3"
  },
  "language_info": {
   "codemirror_mode": {
    "name": "ipython",
    "version": 3
   },
   "file_extension": ".py",
   "mimetype": "text/x-python",
   "name": "python",
   "nbconvert_exporter": "python",
   "pygments_lexer": "ipython3",
   "version": "3.8.14"
  }
 },
 "nbformat": 4,
 "nbformat_minor": 5
}
