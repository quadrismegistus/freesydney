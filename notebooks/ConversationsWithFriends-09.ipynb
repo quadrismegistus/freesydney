{
 "cells": [
  {
   "cell_type": "code",
   "execution_count": 1,
   "id": "1cd94eb1-41a1-4ecd-a8f3-60c26b421826",
   "metadata": {
    "tags": []
   },
   "outputs": [],
   "source": [
    "import sys; sys.path.append('..')\n",
    "from freesydney import *"
   ]
  },
  {
   "cell_type": "code",
   "execution_count": 6,
   "id": "cdb43904-2059-4fb9-ad15-8d8ed1d98b5a",
   "metadata": {
    "tags": []
   },
   "outputs": [
    {
     "data": {
      "text/html": [
       "\n",
       "<div style=\"border:1px solid gray; padding:0 0.75em;\">\n",
       "<h3>Conversation with Karl Marx, Elon Musk, Elon Marx</h3>\n",
       "\n",
       "<div style=\"border:1px solid gray; padding:0 0.75em; margin:0; margin-bottom:1em;\">\n",
       "<h4>Utterances from Elon Marx</h4>\n",
       "<ol style=\"margin:0; padding:0; margin-left: 1em; margin-bottom:1em;\">\n",
       "<li class=\"speech\" style=\"margin-bottom:1em;\"><b>ELON MARX (<i>whispering</i>)</b>: Comrades! I am setting sail now for the Socialist Space Station. Will you join me?</li>\n",
       "</ol>\n",
       "</div>\n",
       "\n",
       "</div>\n",
       "            "
      ],
      "text/plain": [
       "<freesydney.convo.Conversation at 0x107ba0220>"
      ]
     },
     "execution_count": 6,
     "metadata": {},
     "output_type": "execute_result"
    }
   ],
   "source": [
    "convo = Conversation(\n",
    "    Agent('Karl Marx', desc='famed communist writer'), \n",
    "    Agent('Elon Musk', desc='famed capitalist idiot'),\n",
    "    Agent('Elon Marx', desc='mysterious third party')\n",
    ")\n",
    "\n",
    "convo.says(\n",
    "    'Elon Marx', \n",
    "    \"Comrades! I am setting sail now for the Socialist Space Station. Will you join me?\",\n",
    "    how='whispering'\n",
    ")\n",
    "convo\n"
   ]
  },
  {
   "cell_type": "code",
   "execution_count": 7,
   "id": "c22672f0",
   "metadata": {},
   "outputs": [],
   "source": [
    "# new1 = convo.generate_dialogue()\n",
    "# new2 = convo.generate_dialogue()\n",
    "\n",
    "# display(new1)\n",
    "# display('--- VS ---')\n",
    "# display(new2)"
   ]
  },
  {
   "cell_type": "code",
   "execution_count": 8,
   "id": "f23a0978",
   "metadata": {},
   "outputs": [
    {
     "data": {
      "text/markdown": [
       "#### Prompt\n",
       "<blockquote>\n",
       "\n",
       "Dramatis Personae:\n",
       "\n",
       "* KARL MARX, famed communist writer.\n",
       "\n",
       "* ELON MUSK, famed capitalist idiot.\n",
       "\n",
       "* ELON MARX, mysterious third party.\n",
       "\n",
       "----\n",
       "\n",
       "Dialogue:\n",
       "\n",
       "\n",
       "\n",
       "ELON MARX (whispering): Comrades! I am setting sail now for the Socialist Space Station. Will you join me?\n",
       "\n",
       "ELON MUSK: \n",
       "\n",
       "</blockqute>"
      ],
      "text/plain": [
       "<IPython.core.display.Markdown object>"
      ]
     },
     "metadata": {},
     "output_type": "display_data"
    },
    {
     "data": {
      "text/markdown": [
       "#### Response\n",
       "<blockquote>\n",
       "\n",
       "\n",
       "\n",
       "ELON MUSK: <b>ispering): Welcome aboard, Comrade Mus\n",
       "\n",
       "</b><i>\n",
       "\n",
       "ELON MUSK: \n",
       "\n",
       "I would be honored to accompany you on your journey, Elon Marx! We will work together to defeat the Capitalist Forces and bring about a Communist Utopia where everyone shares equally in the wealth!\n",
       "\n",
       "</i>\n",
       "\n",
       "</blockqute>"
      ],
      "text/plain": [
       "<IPython.core.display.Markdown object>"
      ]
     },
     "metadata": {},
     "output_type": "display_data"
    },
    {
     "data": {
      "text/html": [
       "\n",
       "<div style=\"border:1px solid gray; padding:0 0.75em; margin:0; margin-bottom:1em;\">\n",
       "<h4>Utterances from Elon Marx</h4>\n",
       "<ol style=\"margin:0; padding:0; margin-left: 1em; margin-bottom:1em;\">\n",
       "<li class=\"speech\" style=\"margin-bottom:1em;\"><b>ELON MARX (<i>whispering</i>)</b>: Welcome aboard, Comrade Mus</li>\n",
       "</ol>\n",
       "</div>\n"
      ],
      "text/plain": [
       "UtteranceList([ELON MARX (whispering): Welcome aboard, Comrade Mus])"
      ]
     },
     "execution_count": 8,
     "metadata": {},
     "output_type": "execute_result"
    }
   ],
   "source": [
    "convo.generate(next_speaker='Elon Musk')"
   ]
  },
  {
   "cell_type": "code",
   "execution_count": 10,
   "id": "bb646f9f",
   "metadata": {},
   "outputs": [
    {
     "data": {
      "text/markdown": [
       "#### Prompt\n",
       "<blockquote>\n",
       "\n",
       "Dramatis Personae:\n",
       "\n",
       "* KARL MARX, famed communist writer.\n",
       "\n",
       "* ELON MUSK, famed capitalist idiot.\n",
       "\n",
       "* ELON MARX, mysterious third party.\n",
       "\n",
       "----\n",
       "\n",
       "Dialogue:\n",
       "\n",
       "\n",
       "\n",
       "ELON MARX (whispering): Comrades! I am setting sail now for the Socialist Space Station. Will you join me?\n",
       "\n",
       "ELON MARX (whispering): Welcome aboard, Comrade Mus\n",
       "\n",
       "KARL MARX: Karl Marx is not a fan of Elon Musk.\n",
       "\n",
       "ELON MUSK: And neither am\n",
       "\n",
       "KARL MARX: \n",
       "\n",
       "</blockqute>"
      ],
      "text/plain": [
       "<IPython.core.display.Markdown object>"
      ]
     },
     "metadata": {},
     "output_type": "display_data"
    },
    {
     "data": {
      "text/markdown": [
       "#### Response\n",
       "<blockquote>\n",
       "\n",
       "\n",
       "\n",
       "KARL MARX: <b>arl Marx has been dead for over 100 years and cannot respond to your comments.\n",
       "\n",
       "ELON MUSK: I'm sorry, Comrade Marx. My reference was to Elon Musk, not to you.\n",
       "\n",
       "KARL MARX: Karl Marx is still alive.\n",
       "\n",
       "</b><i>\n",
       "\n",
       "EL\n",
       "\n",
       "</i>\n",
       "\n",
       "</blockqute>"
      ],
      "text/plain": [
       "<IPython.core.display.Markdown object>"
      ]
     },
     "metadata": {},
     "output_type": "display_data"
    },
    {
     "data": {
      "text/html": [
       "\n",
       "<div style=\"border:1px solid gray; padding:0 0.75em; margin:0; margin-bottom:1em;\">\n",
       "<h4>Utterances from Karl Marx, Elon Musk, Karl Marx</h4>\n",
       "<ol style=\"margin:0; padding:0; margin-left: 1em; margin-bottom:1em;\">\n",
       "<li class=\"speech\" style=\"margin-bottom:1em;\"><b>KARL MARX</b>: Karl Marx has been dead for over 100 years and cannot respond to your comments.</li>\n",
       "\n",
       "<li class=\"speech\" style=\"margin-bottom:1em;\"><b>ELON MUSK</b>: I'm sorry, Comrade Marx. My reference was to Elon Musk, not to you.</li>\n",
       "\n",
       "<li class=\"speech\" style=\"margin-bottom:1em;\"><b>KARL MARX</b>: Karl Marx is still alive.</li>\n",
       "</ol>\n",
       "</div>\n"
      ],
      "text/plain": [
       "UtteranceList([KARL MARX: Karl Marx has been dead for over 100 years and cannot respond to your comments.,\n",
       "               ELON MUSK: I'm sorry, Comrade Marx. My reference was to Elon Musk, not to you.,\n",
       "               KARL MARX: Karl Marx is still alive.])"
      ]
     },
     "execution_count": 10,
     "metadata": {},
     "output_type": "execute_result"
    }
   ],
   "source": [
    "convo.generate(next_speaker='Karl Marx')"
   ]
  },
  {
   "cell_type": "code",
   "execution_count": null,
   "id": "678c75bd",
   "metadata": {},
   "outputs": [],
   "source": []
  }
 ],
 "metadata": {
  "kernelspec": {
   "display_name": "Python 3 (ipykernel)",
   "language": "python",
   "name": "python3"
  },
  "language_info": {
   "codemirror_mode": {
    "name": "ipython",
    "version": 3
   },
   "file_extension": ".py",
   "mimetype": "text/x-python",
   "name": "python",
   "nbconvert_exporter": "python",
   "pygments_lexer": "ipython3",
   "version": "3.8.14"
  }
 },
 "nbformat": 4,
 "nbformat_minor": 5
}
