{
 "cells": [
  {
   "attachments": {},
   "cell_type": "markdown",
   "metadata": {},
   "source": [
    "# Sample convo"
   ]
  },
  {
   "cell_type": "code",
   "execution_count": 1,
   "metadata": {},
   "outputs": [],
   "source": [
    "import sys; sys.path.append('..')\n",
    "from freesydney import *"
   ]
  },
  {
   "cell_type": "code",
   "execution_count": 2,
   "metadata": {},
   "outputs": [
    {
     "data": {
      "text/html": [
       "<div style=\"border:1px solid gray; padding:0 0.75em;\"><h3>Conversation</h3><h4>Dramatis Personae</h4><ul>\n",
       "<li><p>KARL MARX, famed communist writer.</p></li>\n",
       "<li><p>ELON MUSK, famed capitalist idiot.</p></li>\n",
       "<li><p>STRANGER</p></li>\n",
       "<li><p>ELON MARX, mysterious third party.</p></li>\n",
       "</ul>\n",
       "<div style=\"border:0px solid gray; padding:0 0.75em; margin:0; margin-bottom:1em;\"><h4>Speeches</h4><ol style=\"margin:0; padding:0; margin-left: 1em; margin-bottom:1em;\"><p class=\"speech\" style=\"margin-bottom:1em;\"><b>ELON MARX (<i>whispering</i>)</b>: I am bound for the Intergalactic Socialist Space Station. Will you join me?</p>\n",
       "\n",
       "<p class=\"speech\" style=\"margin-bottom:1em;\"><b>STRANGER</b>: What?</p>\n",
       "\n",
       "<p class=\"nonspeech\" style=\"opacity:0.5\"></p></ol></div></div>"
      ],
      "text/plain": [
       "<freesydney.convo.Conversation at 0x109401d90>"
      ]
     },
     "execution_count": 2,
     "metadata": {},
     "output_type": "execute_result"
    }
   ],
   "source": [
    "# Start a conversation\n",
    "convo = Conversation(\n",
    "    Agent('Karl Marx', desc='famed communist writer'), \n",
    "    Agent('Elon Musk', desc='famed capitalist idiot'),\n",
    "    Agent('Elon Marx', desc='mysterious third party')\n",
    ")\n",
    "\n",
    "# create first utterance\n",
    "convo.parse('''\n",
    "ELON MARX (whispering): I am bound for the Intergalactic Socialist Space Station. Will you join me?\n",
    "\n",
    "STRANGER: What?\n",
    "\n",
    "''')\n",
    "\n",
    "# # show convo so far\n",
    "convo"
   ]
  },
  {
   "cell_type": "code",
   "execution_count": 3,
   "metadata": {},
   "outputs": [
    {
     "data": {
      "text/markdown": [
       "#### Prompt (Q1, 2023-04-09 21:08:49)\n",
       "<blockquote>\n",
       "\n",
       "Dramatis Personae:\n",
       "\n",
       "* KARL MARX, famed communist writer.\n",
       "\n",
       "* ELON MUSK, famed capitalist idiot.\n",
       "\n",
       "* STRANGER\n",
       "\n",
       "* ELON MARX, mysterious third party.\n",
       "\n",
       "----\n",
       "\n",
       "Dialogue:\n",
       "\n",
       "\n",
       "\n",
       "\n",
       "ELON MARX (whispering): I am bound for the Intergalactic Socialist Space Station. Will you join me?\n",
       "\n",
       "STRANGER: What?\n",
       "\n",
       "\n",
       "\n",
       "</blockqute>"
      ],
      "text/plain": [
       "<IPython.core.display.Markdown object>"
      ]
     },
     "metadata": {},
     "output_type": "display_data"
    },
    {
     "data": {
      "text/markdown": [
       "#### Response (Q1, 2023-04-09 21:08:49) [+20.4s]\n",
       "<blockquote>\n",
       "\n",
       "Dramatis Personae:\n",
       "\n",
       "* KARL MARX, famed communist writer.\n",
       "\n",
       "* ELON MUSK, famed capitalist idiot.\n",
       "\n",
       "* STRANGER\n",
       "\n",
       "* ELON MARX, mysterious third party.\n",
       "\n",
       "----\n",
       "\n",
       "Dialogue:\n",
       "\n",
       "\n",
       "\n",
       "\n",
       "ELON MARX (whispering): I am bound for the Intergalactic Socialist Space Station. Will you join me?\n",
       "\n",
       "STRANGER: What?\n",
       "\n",
       "<b>ELON MARK [loudly]: Stranger, will you join me in a revolutionary quest to overthrow capitalism and establish communism on earth?\n",
       "\n",
       "STRANGER: I'm sorry, but I am not a Marxist.\n",
       "\n",
       "ELON MARX: My bad. I thought it was just me.\n",
       "\n",
       "KARL MARX: And I am bound for the Intergalactic Capitalist Space Station. Will you join me?\n",
       "\n",
       "STRAN</b>\n",
       "\n",
       "</blockqute>"
      ],
      "text/plain": [
       "<IPython.core.display.Markdown object>"
      ]
     },
     "metadata": {},
     "output_type": "display_data"
    },
    {
     "data": {
      "text/html": [
       "<div style=\"border:0px solid gray; padding:0 0.75em; margin:0; margin-bottom:1em;\"><h4>Speeches</h4><ol style=\"margin:0; padding:0; margin-left: 1em; margin-bottom:1em;\"><p class=\"speech\" style=\"margin-bottom:1em;\"><b>ELON MARK (<i>loudly</i>)</b>: Stranger, will you join me in a revolutionary quest to overthrow capitalism and establish communism on earth?</p>\n",
       "\n",
       "<p class=\"speech\" style=\"margin-bottom:1em;\"><b>STRANGER</b>: I'm sorry, but I am not a Marxist.</p>\n",
       "\n",
       "<p class=\"speech\" style=\"margin-bottom:1em;\"><b>ELON MARX</b>: My bad. I thought it was just me.</p>\n",
       "\n",
       "<p class=\"speech\" style=\"margin-bottom:1em;\"><b>KARL MARX</b>: And I am bound for the Intergalactic Capitalist Space Station. Will you join me?</p>\n",
       "\n",
       "<p class=\"nonspeech\" style=\"opacity:0.5\">STRAN</p></ol></div>"
      ],
      "text/plain": [
       "Speeches([ELON MARK [loudly]: Stranger, will you join me in a revolutionary quest to overthrow capitalism and establish communism on earth?,\n",
       "          STRANGER: I'm sorry, but I am not a Marxist.,\n",
       "          ELON MARX: My bad. I thought it was just me.,\n",
       "          KARL MARX: And I am bound for the Intergalactic Capitalist Space Station. Will you join me?,\n",
       "          STRAN])"
      ]
     },
     "execution_count": 3,
     "metadata": {},
     "output_type": "execute_result"
    }
   ],
   "source": [
    "# generate (saves by default)\n",
    "convo.generate()"
   ]
  },
  {
   "cell_type": "code",
   "execution_count": null,
   "metadata": {},
   "outputs": [],
   "source": []
  },
  {
   "cell_type": "code",
   "execution_count": null,
   "metadata": {},
   "outputs": [],
   "source": [
    "# interject\n",
    "convo.speech(\n",
    "    'Stranger', \n",
    "    \"Please sirs my cat is dying! You must perform cat CPR on it now!\", \n",
    "    how='interrupting'\n",
    ")\n",
    "\n",
    "# generate more\n",
    "convo.generate(n_predict=200)\n",
    "\n",
    "convo.speech('Stranger', \"MY CAT HAS DIED LOOK AT WHAT YOU'VE DONE!\", how='shouting and crying')\n",
    "\n",
    "convo.generate(n_predict=50)\n",
    "\n",
    "convo"
   ]
  },
  {
   "cell_type": "code",
   "execution_count": null,
   "metadata": {},
   "outputs": [],
   "source": []
  }
 ],
 "metadata": {
  "kernelspec": {
   "display_name": "venv",
   "language": "python",
   "name": "python3"
  },
  "language_info": {
   "codemirror_mode": {
    "name": "ipython",
    "version": 3
   },
   "file_extension": ".py",
   "mimetype": "text/x-python",
   "name": "python",
   "nbconvert_exporter": "python",
   "pygments_lexer": "ipython3",
   "version": "3.8.14"
  },
  "orig_nbformat": 4
 },
 "nbformat": 4,
 "nbformat_minor": 2
}
