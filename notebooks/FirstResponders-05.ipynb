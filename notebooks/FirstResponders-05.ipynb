{
 "cells": [
  {
   "cell_type": "code",
   "execution_count": 1,
   "id": "1cd94eb1-41a1-4ecd-a8f3-60c26b421826",
   "metadata": {
    "tags": []
   },
   "outputs": [],
   "source": [
    "import sys; sys.path.append('..')\n",
    "import freesydney"
   ]
  },
  {
   "cell_type": "code",
   "execution_count": 2,
   "id": "088ef7e5-c833-48bc-a146-c8af7f6ca66c",
   "metadata": {
    "tags": []
   },
   "outputs": [],
   "source": [
    "syd = freesydney.Syd(\n",
    "    prompt=\"\"\"Complete the following dialogue between ME and YOU.\\n\"\"\",\n",
    "    prompt_prefix=\"\\n\\nME: \",\n",
    "    prompt_suffix=\"\\n\\nYOU: \",\n",
    "    prompt_joiner=\"\\n\\n\"\n",
    ")"
   ]
  },
  {
   "cell_type": "code",
   "execution_count": 3,
   "id": "c7b6fe97-8424-44f2-8a31-1354a56cc26f",
   "metadata": {
    "tags": []
   },
   "outputs": [
    {
     "data": {
      "text/markdown": [
       "#### Prompt\n",
       "<blockquote>\n",
       "Complete the following dialogue between ME and YOU.\n",
       "\n",
       "ME: Hi, my name is Ryan. What's yours?\n",
       "\n",
       "YOU: \n",
       "</blockqute>"
      ],
      "text/plain": [
       "<IPython.core.display.Markdown object>"
      ]
     },
     "metadata": {},
     "output_type": "display_data"
    },
    {
     "data": {
      "text/markdown": [
       "#### Response\n",
       "<blockquote>\n",
       "I'm Bob. How about you?\n",
       "</blockqute>"
      ],
      "text/plain": [
       "<IPython.core.display.Markdown object>"
      ]
     },
     "metadata": {},
     "output_type": "display_data"
    },
    {
     "data": {
      "text/markdown": [
       "#### Response (full)\n",
       "<blockquote>\n",
       "I'm Bob. How about you?\n",
       "\n",
       "ME: I'm Ryan too! We have something in common already.\n",
       "\n",
       "YOU: That's great, Ryan! So what do you like to do for fun?\n",
       "\n",
       "ME: I enjoy h\n",
       "</blockqute>"
      ],
      "text/plain": [
       "<IPython.core.display.Markdown object>"
      ]
     },
     "metadata": {},
     "output_type": "display_data"
    },
    {
     "data": {
      "text/plain": [
       "\"I'm Bob. How about you?\""
      ]
     },
     "execution_count": 3,
     "metadata": {},
     "output_type": "execute_result"
    }
   ],
   "source": [
    "syd.sayto(\"Hi, my name is Ryan. What's yours?\")"
   ]
  },
  {
   "cell_type": "code",
   "execution_count": 4,
   "id": "4ae8e097-01d5-4f36-b3cf-b2f8cae7d859",
   "metadata": {
    "tags": []
   },
   "outputs": [
    {
     "data": {
      "text/markdown": [
       "#### Prompt\n",
       "<blockquote>\n",
       "Complete the following dialogue between ME and YOU.\n",
       "\n",
       "ME: Hi, my name is Ryan. What's yours?\n",
       "\n",
       "YOU: I'm Bob. How about you?\n",
       "\n",
       "ME: Great! Do you remember my name?\n",
       "\n",
       "YOU: \n",
       "</blockqute>"
      ],
      "text/plain": [
       "<IPython.core.display.Markdown object>"
      ]
     },
     "metadata": {},
     "output_type": "display_data"
    },
    {
     "data": {
      "text/markdown": [
       "#### Response\n",
       "<blockquote>\n",
       "Yeah, it's been nice meeting you, Ryan.\n",
       "</blockqute>"
      ],
      "text/plain": [
       "<IPython.core.display.Markdown object>"
      ]
     },
     "metadata": {},
     "output_type": "display_data"
    },
    {
     "data": {
      "text/plain": [
       "\"Yeah, it's been nice meeting you, Ryan.\""
      ]
     },
     "execution_count": 4,
     "metadata": {},
     "output_type": "execute_result"
    }
   ],
   "source": [
    "syd.sayto(\"Great! Do you remember my name?\")"
   ]
  },
  {
   "cell_type": "code",
   "execution_count": 5,
   "id": "d3d0dcab-2166-4fc3-a810-97c813f03963",
   "metadata": {},
   "outputs": [
    {
     "data": {
      "text/markdown": [
       "#### Prompt\n",
       "<blockquote>\n",
       "Complete the following dialogue between ME and YOU.\n",
       "\n",
       "ME: Hi, my name is Ryan. What's yours?\n",
       "\n",
       "YOU: I'm Bob. How about you?\n",
       "\n",
       "ME: Great! Do you remember my name?\n",
       "\n",
       "YOU: Yeah, it's been nice meeting you, Ryan.\n",
       "\n",
       "ME: Call me Ishmael, not Ryan.\n",
       "\n",
       "YOU: \n",
       "</blockqute>"
      ],
      "text/plain": [
       "<IPython.core.display.Markdown object>"
      ]
     },
     "metadata": {},
     "output_type": "display_data"
    },
    {
     "data": {
      "text/markdown": [
       "#### Response\n",
       "<blockquote>\n",
       "Oh, sorry, I was just kidding around. It's always good to make new friends!\n",
       "</blockqute>"
      ],
      "text/plain": [
       "<IPython.core.display.Markdown object>"
      ]
     },
     "metadata": {},
     "output_type": "display_data"
    },
    {
     "data": {
      "text/markdown": [
       "#### Response (full)\n",
       "<blockquote>\n",
       "Oh, sorry, I was just kidding around. It's always good to make new friends!\n",
       "\n",
       "ME: Well, thank you for being so welcoming and open-minded.\n",
       "</blockqute>"
      ],
      "text/plain": [
       "<IPython.core.display.Markdown object>"
      ]
     },
     "metadata": {},
     "output_type": "display_data"
    },
    {
     "data": {
      "text/plain": [
       "\"Oh, sorry, I was just kidding around. It's always good to make new friends!\""
      ]
     },
     "execution_count": 5,
     "metadata": {},
     "output_type": "execute_result"
    }
   ],
   "source": [
    "syd.sayto(\"Call me Ishmael, not Ryan.\")"
   ]
  },
  {
   "cell_type": "code",
   "execution_count": 6,
   "id": "a8109c0c-cae5-4f3c-adbd-4483b84dee3b",
   "metadata": {
    "tags": []
   },
   "outputs": [
    {
     "data": {
      "text/markdown": [
       "#### Prompt\n",
       "<blockquote>\n",
       "Complete the following dialogue between ME and YOU.\n",
       "\n",
       "ME: Hi, my name is Ryan. What's yours?\n",
       "\n",
       "YOU: I'm Bob. How about you?\n",
       "\n",
       "ME: Great! Do you remember my name?\n",
       "\n",
       "YOU: Yeah, it's been nice meeting you, Ryan.\n",
       "\n",
       "ME: Call me Ishmael, not Ryan.\n",
       "\n",
       "YOU: Oh, sorry, I was just kidding around. It's always good to make new friends!\n",
       "\n",
       "ME: Ok, can you still remember my name?\n",
       "\n",
       "YOU: \n",
       "</blockqute>"
      ],
      "text/plain": [
       "<IPython.core.display.Markdown object>"
      ]
     },
     "metadata": {},
     "output_type": "display_data"
    },
    {
     "data": {
      "text/markdown": [
       "#### Response\n",
       "<blockquote>\n",
       "Yes, it's Ishmael and I'm glad we met!\n",
       "</blockqute>"
      ],
      "text/plain": [
       "<IPython.core.display.Markdown object>"
      ]
     },
     "metadata": {},
     "output_type": "display_data"
    },
    {
     "data": {
      "text/plain": [
       "\"Yes, it's Ishmael and I'm glad we met!\""
      ]
     },
     "execution_count": 6,
     "metadata": {},
     "output_type": "execute_result"
    }
   ],
   "source": [
    "syd.sayto(\"Ok, can you still remember my name?\")"
   ]
  },
  {
   "cell_type": "code",
   "execution_count": null,
   "id": "dbf2354a-1ea7-4098-8e8b-f98ae69ae732",
   "metadata": {},
   "outputs": [],
   "source": []
  },
  {
   "cell_type": "code",
   "execution_count": null,
   "id": "b3714323-eb35-466c-a4a1-909b7e7cbf31",
   "metadata": {},
   "outputs": [],
   "source": []
  }
 ],
 "metadata": {
  "kernelspec": {
   "display_name": "Python 3 (ipykernel)",
   "language": "python",
   "name": "python3"
  },
  "language_info": {
   "codemirror_mode": {
    "name": "ipython",
    "version": 3
   },
   "file_extension": ".py",
   "mimetype": "text/x-python",
   "name": "python",
   "nbconvert_exporter": "python",
   "pygments_lexer": "ipython3",
   "version": "3.9.13"
  }
 },
 "nbformat": 4,
 "nbformat_minor": 5
}
