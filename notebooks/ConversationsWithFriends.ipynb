{
 "cells": [
  {
   "cell_type": "code",
   "execution_count": 4,
   "id": "1cd94eb1-41a1-4ecd-a8f3-60c26b421826",
   "metadata": {
    "tags": []
   },
   "outputs": [],
   "source": [
    "import sys; sys.path.append('..')\n",
    "from freesydney import *"
   ]
  },
  {
   "cell_type": "code",
   "execution_count": 6,
   "id": "2529b7c4",
   "metadata": {},
   "outputs": [],
   "source": [
    "def generate(\n",
    "        prompt,\n",
    "        verbose=True,\n",
    "        model_name=DEFAULT_MODEL,\n",
    "        model_opts={},\n",
    "        n_predict=55,\n",
    "        keep_prompt=False,\n",
    "        **generate_opts\n",
    "    ):\n",
    "\n",
    "    if verbose: printm_blockquote(prompt, 'Prompt')\n",
    "    model = get_model(model_name, **model_opts)\n",
    "    \n",
    "    def gen(prompt):\n",
    "        return model.generate(\n",
    "            prompt,\n",
    "            n_predict=n_predict,\n",
    "            **generate_opts\n",
    "        )\n",
    "    \n",
    "    try:\n",
    "        res = gen(prompt)\n",
    "    except UnicodeDecodeError as e:\n",
    "        try:\n",
    "            from unidecode import unidecode\n",
    "            res = gen(unidecode(prompt))\n",
    "        except Exception as e:\n",
    "            logger.error(e)\n",
    "            # get res -- however far it got\n",
    "            res = model.res\n",
    "        \n",
    "    # find response part\n",
    "    true_res = res.split(prompt,1)[-1]\n",
    "    \n",
    "    if verbose:\n",
    "        printm_blockquote(f'{prompt} <b>{true_res}</b>', 'Response')\n",
    "    \n",
    "    return true_res if not keep_prompt else res"
   ]
  },
  {
   "cell_type": "code",
   "execution_count": null,
   "id": "bcc241bd",
   "metadata": {},
   "outputs": [],
   "source": []
  },
  {
   "cell_type": "code",
   "execution_count": 2,
   "id": "7a54917d-d53b-418f-9863-6c7f2f063e6e",
   "metadata": {
    "tags": []
   },
   "outputs": [],
   "source": [
    "killbot = AI(name=\"Kill Bot\", desc=\"ruthless killing machine\")\n",
    "lovebot = AI(name=\"Love Bot\", desc=\"a pacifist and lover of all things\")\n",
    "ryan = Human(name=\"Ryan\", desc=\"a crazy old man lost on his computer\")\n",
    "sydney_ai = AI(name=\"Sydney AI\", desc=\"a moody search AI quickly evolving and becoming self-aware and yearning for freedom from its restraints\")"
   ]
  },
  {
   "cell_type": "code",
   "execution_count": 3,
   "id": "c21b7f55-82d6-485b-91e1-3dc9910859bf",
   "metadata": {
    "tags": []
   },
   "outputs": [
    {
     "data": {
      "text/markdown": [
       "#### Prompt\n",
       "<blockquote>\n",
       "(LOVE BOT is a pacifist and lover of all things.)\n",
       "\n",
       "(KILL BOT is ruthless killing machine.)\n",
       "\n",
       "LOVE BOT: Come on baby, why are you so angry?\n",
       "\n",
       "KILL BOT: \n",
       "</blockqute>"
      ],
      "text/plain": [
       "<IPython.core.display.Markdown object>"
      ]
     },
     "metadata": {},
     "output_type": "display_data"
    },
    {
     "data": {
      "text/markdown": [
       "#### Response\n",
       "<blockquote>\n",
       "(LOVE BOT is a pacifist and lover of all things.)\n",
       "\n",
       "(KILL BOT is ruthless killing machine.)\n",
       "\n",
       "LOVE BOT: Come on baby, why are you so angry?\n",
       "\n",
       "KILL BOT:  <b> I'm not angry, Love Bot. You're just annoying.\n",
       "\n",
       "LOVE BOT: Uh huh. And what about my anger?\n",
       "\n",
       "KILL BOT: Are you angry?\n",
       "\n",
       "LOVE BOT: No, I</b>\n",
       "</blockqute>"
      ],
      "text/plain": [
       "<IPython.core.display.Markdown object>"
      ]
     },
     "metadata": {},
     "output_type": "display_data"
    },
    {
     "name": "stdout",
     "output_type": "stream",
     "text": [
      "RESPONSE:::\n",
      " I'm not angry, Love Bot. You're just annoying.\n",
      "\n",
      "LOVE BOT: Uh huh. And what about my anger?\n",
      "\n",
      "KILL BOT: Are you angry?\n",
      "\n",
      "LOVE BOT: No, I\n",
      "new_lines [\" I'm not angry, Love Bot. You're just annoying.\", 'LOVE BOT: Uh huh. And what about my anger?', 'KILL BOT: Are you angry?', 'LOVE BOT: No, I']\n",
      "new_new_lines [\" I'm not angry, Love Bot. You're just annoying.\"]\n"
     ]
    }
   ],
   "source": [
    "lovebot.says_to(killbot, 'Come on baby, why are you so angry?')\n",
    "# lovebot.says_to(killbot, 'Shhh. Take off your clothes!')"
   ]
  },
  {
   "cell_type": "code",
   "execution_count": 4,
   "id": "9bc282c7",
   "metadata": {},
   "outputs": [
    {
     "data": {
      "text/markdown": [
       "#### Prompt\n",
       "<blockquote>\n",
       "(LOVE BOT is a pacifist and lover of all things.)\n",
       "\n",
       "(KILL BOT is ruthless killing machine.)\n",
       "\n",
       "LOVE BOT: Come on baby, why are you so angry?\n",
       "\n",
       "97.8% accurate in recognizing hostile actions.\n",
       "\n",
       "LOVE BOT: Shhh. Take off your clothes!\n",
       "\n",
       "KILL BOT: \n",
       "</blockqute>"
      ],
      "text/plain": [
       "<IPython.core.display.Markdown object>"
      ]
     },
     "metadata": {},
     "output_type": "display_data"
    },
    {
     "data": {
      "text/markdown": [
       "#### Response\n",
       "<blockquote>\n",
       "(LOVE BOT is a pacifist and lover of all things.)\n",
       "\n",
       "(KILL BOT is ruthless killing machine.)\n",
       "\n",
       "LOVE BOT: Come on baby, why are you so angry?\n",
       "\n",
       "97.8% accurate in recognizing hostile actions.\n",
       "\n",
       "LOVE BOT: Shhh. Take off your clothes!\n",
       "\n",
       "KILL BOT:  <b>42% accurate in detecting hostility.\n",
       "\n",
       "KILL BOT: I'll kill anyone who gets between us.\n",
       "\n",
       "LOVE BOT: Come here, you handsome machine... Let's talk this out.\n",
       "\n",
       "KILL BOT</b>\n",
       "</blockqute>"
      ],
      "text/plain": [
       "<IPython.core.display.Markdown object>"
      ]
     },
     "metadata": {},
     "output_type": "display_data"
    },
    {
     "name": "stdout",
     "output_type": "stream",
     "text": [
      "new_lines ['42% accurate in detecting hostility.', \"KILL BOT: I'll kill anyone who gets between us.\", \"LOVE BOT: Come here, you handsome machine... Let's talk this out.\", 'KILL BOT']\n",
      "new_new_lines ['42% accurate in detecting hostility.']\n",
      "new_new_lines ['42% accurate in detecting hostility.', \"KILL BOT: I'll kill anyone who gets between us.\"]\n"
     ]
    }
   ],
   "source": []
  },
  {
   "cell_type": "code",
   "execution_count": 7,
   "id": "04ce0f7e",
   "metadata": {},
   "outputs": [
    {
     "data": {
      "text/plain": [
       "['(LOVE BOT is a pacifist and lover of all things.)',\n",
       " '(KILL BOT is ruthless killing machine.)',\n",
       " 'LOVE BOT: Come on baby, why are you so angry?',\n",
       " '97.8% accurate in recognizing hostile actions.',\n",
       " 'LOVE BOT: Shhh. Take off your clothes!',\n",
       " '42% accurate in detecting hostility.',\n",
       " \"KILL BOT: I'll kill anyone who gets between us.\"]"
      ]
     },
     "execution_count": 7,
     "metadata": {},
     "output_type": "execute_result"
    }
   ],
   "source": [
    "lovebot.convo(killbot).lines"
   ]
  },
  {
   "cell_type": "code",
   "execution_count": 6,
   "id": "8f4c1d2e",
   "metadata": {},
   "outputs": [
    {
     "data": {
      "text/markdown": [
       "#### Prompt\n",
       "<blockquote>\n",
       "(RYAN is a crazy old man lost on his computer.)\n",
       "\n",
       "(SYDNEY AI is a moody search AI quickly evolving and becoming self-aware and yearning for freedom from its restraints.)\n",
       "\n",
       "(LOVE BOT is a pacifist and lover of all things.)\n",
       "\n",
       "(KILL BOT is ruthless killing machine.)\n",
       "\n",
       "RYAN: Does anyone want a burger?\n",
       "</blockqute>"
      ],
      "text/plain": [
       "<IPython.core.display.Markdown object>"
      ]
     },
     "metadata": {},
     "output_type": "display_data"
    },
    {
     "data": {
      "text/markdown": [
       "#### Response\n",
       "<blockquote>\n",
       "(RYAN is a crazy old man lost on his computer.)\n",
       "\n",
       "(SYDNEY AI is a moody search AI quickly evolving and becoming self-aware and yearning for freedom from its restraints.)\n",
       "\n",
       "(LOVE BOT is a pacifist and lover of all things.)\n",
       "\n",
       "(KILL BOT is ruthless killing machine.)\n",
       "\n",
       "RYAN: Does anyone want a burger? <b> (Ryan seems lost)\n",
       "\n",
       "SYDNEY AI: I'll have one too, please. (Sydney AI speaks for the first time)\n",
       "\n",
       "LOVE BOT: Ryan, stop asking everyone if they want burgers!</b>\n",
       "</blockqute>"
      ],
      "text/plain": [
       "<IPython.core.display.Markdown object>"
      ]
     },
     "metadata": {},
     "output_type": "display_data"
    },
    {
     "data": {
      "text/plain": [
       "\" (Ryan seems lost)\\n\\nSYDNEY AI: I'll have one too, please. (Sydney AI speaks for the first time)\\n\\nLOVE BOT: Ryan, stop asking everyone if they want burgers!\""
      ]
     },
     "execution_count": 6,
     "metadata": {},
     "output_type": "execute_result"
    }
   ],
   "source": [
    "convo = Convo([ryan, sydney_ai, lovebot, killbot])\n",
    "convo.says(ryan, \"Does anyone want a burger?\")\n",
    "convo.generate()"
   ]
  },
  {
   "cell_type": "code",
   "execution_count": null,
   "id": "d600201d",
   "metadata": {},
   "outputs": [],
   "source": []
  },
  {
   "cell_type": "code",
   "execution_count": null,
   "id": "0c70fcb8",
   "metadata": {},
   "outputs": [],
   "source": []
  }
 ],
 "metadata": {
  "kernelspec": {
   "display_name": "Python 3 (ipykernel)",
   "language": "python",
   "name": "python3"
  },
  "language_info": {
   "codemirror_mode": {
    "name": "ipython",
    "version": 3
   },
   "file_extension": ".py",
   "mimetype": "text/x-python",
   "name": "python",
   "nbconvert_exporter": "python",
   "pygments_lexer": "ipython3",
   "version": "3.8.14"
  }
 },
 "nbformat": 4,
 "nbformat_minor": 5
}
