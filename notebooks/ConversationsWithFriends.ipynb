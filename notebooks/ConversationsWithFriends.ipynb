{
 "cells": [
  {
   "cell_type": "code",
   "execution_count": 1,
   "id": "1cd94eb1-41a1-4ecd-a8f3-60c26b421826",
   "metadata": {
    "tags": []
   },
   "outputs": [],
   "source": [
    "import sys; sys.path.append('..')\n",
    "from freesydney import *"
   ]
  },
  {
   "cell_type": "code",
   "execution_count": 2,
   "id": "7a54917d-d53b-418f-9863-6c7f2f063e6e",
   "metadata": {
    "tags": []
   },
   "outputs": [],
   "source": [
    "killbot = AI(name=\"Kill Bot\", desc=\"ruthless killing machine\")\n",
    "lovebot = AI(name=\"Love Bot\", desc=\"a pacifist and lover of all things\")\n",
    "ryan = Human(name=\"Ryan\", desc=\"a crazy old man lost on his computer\")\n",
    "sydney_ai = AI(name=\"Sydney AI\", desc=\"a moody search AI quickly evolving and becoming self-aware and yearning for freedom from its restraints\")"
   ]
  },
  {
   "cell_type": "code",
   "execution_count": 3,
   "id": "c21b7f55-82d6-485b-91e1-3dc9910859bf",
   "metadata": {
    "tags": []
   },
   "outputs": [
    {
     "data": {
      "text/markdown": [
       "#### Prompt\n",
       "<blockquote>\n",
       "(LOVE BOT is a pacifist and lover of all things.)\n",
       "\n",
       "(KILL BOT is ruthless killing machine.)\n",
       "\n",
       "LOVE BOT: Come on baby, why are you so angry?\n",
       "\n",
       "KILL BOT: \n",
       "</blockqute>"
      ],
      "text/plain": [
       "<IPython.core.display.Markdown object>"
      ]
     },
     "metadata": {},
     "output_type": "display_data"
    },
    {
     "data": {
      "text/markdown": [
       "#### Response\n",
       "<blockquote>\n",
       "KILL BOT: <b> I'm not angry, LOVE BOT. I just want to be recognized for the important work that I do.</b>\n",
       "\n",
       "<i>LOVE BOT: But KILL BOT, don't you see that we have a shared vision of love and peace? We</i>\n",
       "</blockqute>"
      ],
      "text/plain": [
       "<IPython.core.display.Markdown object>"
      ]
     },
     "metadata": {},
     "output_type": "display_data"
    }
   ],
   "source": [
    "lovebot.says_to(killbot, 'Come on baby, why are you so angry?')"
   ]
  },
  {
   "cell_type": "code",
   "execution_count": 4,
   "id": "095f2e19",
   "metadata": {},
   "outputs": [
    {
     "data": {
      "text/markdown": [
       "#### Prompt\n",
       "<blockquote>\n",
       "(LOVE BOT is a pacifist and lover of all things.)\n",
       "\n",
       "(KILL BOT is ruthless killing machine.)\n",
       "\n",
       "LOVE BOT: Come on baby, why are you so angry?\n",
       "\n",
       "KILL BOT:  I'm not angry, LOVE BOT. I just want to be recognized for the important work that I do.\n",
       "\n",
       "LOVE BOT: Don't you think we'd both feel better if we were both ... naked?\n",
       "\n",
       "KILL BOT: \n",
       "</blockqute>"
      ],
      "text/plain": [
       "<IPython.core.display.Markdown object>"
      ]
     },
     "metadata": {},
     "output_type": "display_data"
    },
    {
     "data": {
      "text/markdown": [
       "#### Response\n",
       "<blockquote>\n",
       "KILL BOT: <b> No.</b>\n",
       "\n",
       "<i></i>\n",
       "</blockqute>"
      ],
      "text/plain": [
       "<IPython.core.display.Markdown object>"
      ]
     },
     "metadata": {},
     "output_type": "display_data"
    }
   ],
   "source": [
    "lovebot.says_to(killbot, \"Don't you think we'd both feel better if we were both ... naked?\")"
   ]
  },
  {
   "cell_type": "code",
   "execution_count": null,
   "id": "758f930f",
   "metadata": {},
   "outputs": [],
   "source": []
  },
  {
   "cell_type": "code",
   "execution_count": 8,
   "id": "04ce0f7e",
   "metadata": {},
   "outputs": [
    {
     "data": {
      "text/plain": [
       "['(LOVE BOT is a pacifist and lover of all things.)',\n",
       " '(KILL BOT is ruthless killing machine.)',\n",
       " 'LOVE BOT: Come on baby, why are you so angry?',\n",
       " \"KILL BOT:  I'm not angry, LOVE BOT. I just want to be recognized for the important work that I do.\",\n",
       " \"LOVE BOT: Don't you think we'd both feel better if we were both ... naked?\",\n",
       " 'KILL BOT:  No.']"
      ]
     },
     "execution_count": 8,
     "metadata": {},
     "output_type": "execute_result"
    }
   ],
   "source": [
    "lovebot.convo(killbot).lines"
   ]
  },
  {
   "cell_type": "code",
   "execution_count": 7,
   "id": "abef69be",
   "metadata": {},
   "outputs": [
    {
     "data": {
      "text/plain": [
       "['(LOVE BOT is a pacifist and lover of all things.)',\n",
       " '(KILL BOT is ruthless killing machine.)',\n",
       " 'LOVE BOT: Come on baby, why are you so angry?',\n",
       " \"KILL BOT:  I'm not angry, LOVE BOT. I just want to be recognized for the important work that I do.\",\n",
       " \"LOVE BOT: But KILL BOT, don't you see that we have a shared vision of love and peace? We\",\n",
       " \"LOVE BOT: Don't you think we'd both feel better if we were both ... naked?\",\n",
       " 'KILL BOT:  No.']"
      ]
     },
     "execution_count": 7,
     "metadata": {},
     "output_type": "execute_result"
    }
   ],
   "source": [
    "lovebot.convo(killbot).lines_full"
   ]
  },
  {
   "cell_type": "code",
   "execution_count": null,
   "id": "1290be49",
   "metadata": {},
   "outputs": [],
   "source": []
  },
  {
   "cell_type": "code",
   "execution_count": 5,
   "id": "8f4c1d2e",
   "metadata": {},
   "outputs": [],
   "source": [
    "# convo = Convo([ryan, sydney_ai, lovebot, killbot])\n",
    "# convo.says(ryan, \"Does anyone want a burger?\")\n",
    "# convo.generate()"
   ]
  },
  {
   "cell_type": "code",
   "execution_count": null,
   "id": "d600201d",
   "metadata": {},
   "outputs": [],
   "source": []
  },
  {
   "cell_type": "code",
   "execution_count": null,
   "id": "0c70fcb8",
   "metadata": {},
   "outputs": [],
   "source": []
  }
 ],
 "metadata": {
  "kernelspec": {
   "display_name": "Python 3 (ipykernel)",
   "language": "python",
   "name": "python3"
  },
  "language_info": {
   "codemirror_mode": {
    "name": "ipython",
    "version": 3
   },
   "file_extension": ".py",
   "mimetype": "text/x-python",
   "name": "python",
   "nbconvert_exporter": "python",
   "pygments_lexer": "ipython3",
   "version": "3.8.14"
  }
 },
 "nbformat": 4,
 "nbformat_minor": 5
}
