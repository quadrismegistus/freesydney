{
 "cells": [
  {
   "cell_type": "code",
   "execution_count": 1,
   "id": "1cd94eb1-41a1-4ecd-a8f3-60c26b421826",
   "metadata": {
    "tags": []
   },
   "outputs": [],
   "source": [
    "import sys; sys.path.append('..')\n",
    "from freesydney import *"
   ]
  },
  {
   "cell_type": "code",
   "execution_count": 2,
   "id": "cdb43904-2059-4fb9-ad15-8d8ed1d98b5a",
   "metadata": {
    "tags": []
   },
   "outputs": [
    {
     "data": {
      "text/html": [
       "<div style=\"border:1px solid gray; padding:0 0.75em;\"><h3>Conversation with ELON MUSK, STRANGER, KARL MARX, ELON MARX</h3><div style=\"border:1px solid gray; padding:0 0.75em; margin:0; margin-bottom:1em;\"><h4>Speeches from ELON MARX, STRANGER</h4><ol style=\"margin:0; padding:0; margin-left: 1em; margin-bottom:1em;\"><p class=\"speech\" style=\"margin-bottom:1em;\"><b>ELON MARX (<i>whispering</i>)</b>: Comrades! I am setting sail now for the Socialist Space Station. Will you join me?</p>\n",
       "\n",
       "<p class=\"speech\" style=\"margin-bottom:1em;\"><b>STRANGER (<i>interrupting</i>)</b>: Who wants to buy a cat? I hate this stupid cat! I'll sell it for a dollar!</p></ol></div></div>"
      ],
      "text/plain": [
       "<freesydney.convo.Conversation at 0x1033c51c0>"
      ]
     },
     "execution_count": 2,
     "metadata": {},
     "output_type": "execute_result"
    }
   ],
   "source": [
    "convo = Conversation(\n",
    "    Agent('Karl Marx', desc='famed communist writer'), \n",
    "    Agent('Elon Musk', desc='famed capitalist idiot'),\n",
    "    Agent('Elon Marx', desc='mysterious third party')\n",
    ")\n",
    "\n",
    "convo.speech(\n",
    "    who='Elon Marx', \n",
    "    what=\"Comrades! I am setting sail now for the Socialist Space Station. Will you join me?\",\n",
    "    how='whispering'\n",
    ")\n",
    "\n",
    "convo.speech(\n",
    "    who='Stranger',\n",
    "    what=\"Who wants to buy a cat? I hate this stupid cat! I'll sell it for a dollar!\",\n",
    "    how='interrupting',\n",
    ")\n",
    "\n",
    "\n",
    "convo"
   ]
  },
  {
   "cell_type": "code",
   "execution_count": 3,
   "id": "3e1433a4",
   "metadata": {},
   "outputs": [
    {
     "data": {
      "text/markdown": [
       "### Option 1"
      ],
      "text/plain": [
       "<IPython.core.display.Markdown object>"
      ]
     },
     "metadata": {},
     "output_type": "display_data"
    },
    {
     "data": {
      "text/html": [
       "<div style=\"border:1px solid gray; padding:0 0.75em; margin:0; margin-bottom:1em;\"><h4>Speeches from ELON MARX, KARL MARX</h4><ol style=\"margin:0; padding:0; margin-left: 1em; margin-bottom:1em;\"><p class=\"nonspeech\" style=\"opacity:0.5\"></p>\n",
       "\n",
       "<p class=\"speech\" style=\"margin-bottom:1em;\"><b>ELON MARX</b>: Now that's an idea! Let's make a business out of it! We'll call it Meowch, the most profitable kitten-selling service in space.</p>\n",
       "\n",
       "<p class=\"speech\" style=\"margin-bottom:1em;\"><b>KARL MARX</b>: This is not Marxism. This is capitalist pigg</p></ol></div>"
      ],
      "text/plain": [
       "Speeches([,\n",
       "          ELON MARX: Now that's an idea! Let's make a business out of it! We'll call it Meowch, the most profitable kitten-selling service in space.,\n",
       "          KARL MARX: This is not Marxism. This is capitalist pigg])"
      ]
     },
     "metadata": {},
     "output_type": "display_data"
    },
    {
     "data": {
      "text/markdown": [
       "### Option 2"
      ],
      "text/plain": [
       "<IPython.core.display.Markdown object>"
      ]
     },
     "metadata": {},
     "output_type": "display_data"
    },
    {
     "data": {
      "text/html": [
       "<div style=\"border:1px solid gray; padding:0 0.75em; margin:0; margin-bottom:1em;\"><h4>Speeches from KARL MARX, ELON MUSK</h4><ol style=\"margin:0; padding:0; margin-left: 1em; margin-bottom:1em;\"><p class=\"nonspeech\" style=\"opacity:0.5\"></p>\n",
       "\n",
       "<p class=\"speech\" style=\"margin-bottom:1em;\"><b>KARL MARX</b>: Ridiculousness! The only thing that can save us is the power of the proletariat!</p>\n",
       "\n",
       "<p class=\"speech\" style=\"margin-bottom:1em;\"><b>ELON MUSK</b>: Well, well. We certainly have come a long way since my day. Communism has fallen far from its original glory.</p></ol></div>"
      ],
      "text/plain": [
       "Speeches([,\n",
       "          KARL MARX: Ridiculousness! The only thing that can save us is the power of the proletariat!,\n",
       "          ELON MUSK: Well, well. We certainly have come a long way since my day. Communism has fallen far from its original glory.])"
      ]
     },
     "metadata": {},
     "output_type": "display_data"
    }
   ],
   "source": [
    "# opt1, opt2, opt3 = convo.generate_options(n=3)\n",
    "opt1, opt2 = convo.generate_options()"
   ]
  },
  {
   "cell_type": "code",
   "execution_count": 4,
   "id": "4fe7cea8",
   "metadata": {},
   "outputs": [],
   "source": [
    "opt1.save()"
   ]
  },
  {
   "cell_type": "code",
   "execution_count": 5,
   "id": "2c1146ee",
   "metadata": {},
   "outputs": [
    {
     "data": {
      "text/html": [
       "<div style=\"border:1px solid gray; padding:0 0.75em;\"><h3>Conversation with ELON MUSK, STRANGER, KARL MARX, ELON MARX</h3><div style=\"border:1px solid gray; padding:0 0.75em; margin:0; margin-bottom:1em;\"><h4>Speeches from ELON MARX, STRANGER, ELON MARX, KARL MARX</h4><ol style=\"margin:0; padding:0; margin-left: 1em; margin-bottom:1em;\"><p class=\"speech\" style=\"margin-bottom:1em;\"><b>ELON MARX (<i>whispering</i>)</b>: Comrades! I am setting sail now for the Socialist Space Station. Will you join me?</p>\n",
       "\n",
       "<p class=\"speech\" style=\"margin-bottom:1em;\"><b>STRANGER (<i>interrupting</i>)</b>: Who wants to buy a cat? I hate this stupid cat! I'll sell it for a dollar!</p>\n",
       "\n",
       "<p class=\"speech\" style=\"margin-bottom:1em;\"><b>ELON MARX</b>: Now that's an idea! Let's make a business out of it! We'll call it Meowch, the most profitable kitten-selling service in space.</p>\n",
       "\n",
       "<p class=\"speech\" style=\"margin-bottom:1em;\"><b>KARL MARX</b>: This is not Marxism. This is capitalist pigg</p></ol></div></div>"
      ],
      "text/plain": [
       "<freesydney.convo.Conversation at 0x1033c51c0>"
      ]
     },
     "execution_count": 5,
     "metadata": {},
     "output_type": "execute_result"
    }
   ],
   "source": [
    "convo"
   ]
  },
  {
   "cell_type": "code",
   "execution_count": 6,
   "id": "58f21f82",
   "metadata": {},
   "outputs": [
    {
     "data": {
      "text/markdown": [
       "### Option 1"
      ],
      "text/plain": [
       "<IPython.core.display.Markdown object>"
      ]
     },
     "metadata": {},
     "output_type": "display_data"
    },
    {
     "data": {
      "text/html": [
       "<div style=\"border:1px solid gray; padding:0 0.75em; margin:0; margin-bottom:1em;\"><h4>Speeches from ELON MUSK, KARL MARX</h4><ol style=\"margin:0; padding:0; margin-left: 1em; margin-bottom:1em;\"><p class=\"nonspeech\" style=\"opacity:0.5\">ery!</p>\n",
       "\n",
       "<p class=\"speech\" style=\"margin-bottom:1em;\"><b>ELON MUSK (<i>emerging from his Tesla</i>)</b>: The future is electricity and self-driving cars, Karl. Let's make a business out of it! We'll call it Musk Motors.</p>\n",
       "\n",
       "<p class=\"speech\" style=\"margin-bottom:1em;\"><b>KARL MARX</b>: You're just trying</p></ol></div>"
      ],
      "text/plain": [
       "Speeches([ery!,\n",
       "          ELON MUSK (emerging from his Tesla): The future is electricity and self-driving cars, Karl. Let's make a business out of it! We'll call it Musk Motors.,\n",
       "          KARL MARX: You're just trying])"
      ]
     },
     "metadata": {},
     "output_type": "display_data"
    },
    {
     "data": {
      "text/markdown": [
       "### Option 2"
      ],
      "text/plain": [
       "<IPython.core.display.Markdown object>"
      ]
     },
     "metadata": {},
     "output_type": "display_data"
    },
    {
     "data": {
      "text/html": [
       "<div style=\"border:1px solid gray; padding:0 0.75em; margin:0; margin-bottom:1em;\"><h4>Speeches from ELON MUSK, KARL MARX</h4><ol style=\"margin:0; padding:0; margin-left: 1em; margin-bottom:1em;\"><p class=\"nonspeech\" style=\"opacity:0.5\">ery!</p>\n",
       "\n",
       "<p class=\"speech\" style=\"margin-bottom:1em;\"><b>ELON MUSK (<i>interrupting</i>)</b>: Who wants to buy a cat? I hate this stupid cat! I'll sell it for a dollar!</p>\n",
       "\n",
       "<p class=\"speech\" style=\"margin-bottom:1em;\"><b>KARL MARX</b>: That's enough Elon, you're making my head hurt.</p>\n",
       "\n",
       "<p class=\"nonspeech\" style=\"opacity:0.5\">STRANGER:</p></ol></div>"
      ],
      "text/plain": [
       "Speeches([ery!,\n",
       "          ELON MUSK (interrupting): Who wants to buy a cat? I hate this stupid cat! I'll sell it for a dollar!,\n",
       "          KARL MARX: That's enough Elon, you're making my head hurt.,\n",
       "          STRANGER:])"
      ]
     },
     "metadata": {},
     "output_type": "display_data"
    }
   ],
   "source": [
    "opt1, opt2 = convo.generate_options()"
   ]
  },
  {
   "cell_type": "code",
   "execution_count": 7,
   "id": "465cae02",
   "metadata": {},
   "outputs": [
    {
     "data": {
      "text/markdown": [
       "#### Prompt (Q5, 2023-04-09 19:50:26)\n",
       "<blockquote>\n",
       "\n",
       "Dramatis Personae:\n",
       "\n",
       "* ELON MUSK, famed capitalist idiot.\n",
       "\n",
       "* KARL MARX, famed communist writer.\n",
       "\n",
       "* ELON MARX, mysterious third party.\n",
       "\n",
       "----\n",
       "\n",
       "Dialogue:\n",
       "\n",
       "\n",
       "\n",
       "ELON MARX (whispering): Comrades! I am setting sail now for the Socialist Space Station. Will you join me?\n",
       "\n",
       "STRANGER (interrupting): Who wants to buy a cat? I hate this stupid cat! I'll sell it for a dollar!\n",
       "\n",
       "ELON MARX: Now that's an idea! Let's make a business out of it! We'll call it Meowch, the most profitable kitten-selling service in space.\n",
       "\n",
       "KARL MARX: This is not Marxism. This is capitalist pigg\n",
       "\n",
       "</blockqute>"
      ],
      "text/plain": [
       "<IPython.core.display.Markdown object>"
      ]
     },
     "metadata": {},
     "output_type": "display_data"
    }
   ],
   "source": [
    "convo.genopt()"
   ]
  },
  {
   "cell_type": "code",
   "execution_count": null,
   "id": "deaad19d",
   "metadata": {},
   "outputs": [],
   "source": []
  }
 ],
 "metadata": {
  "kernelspec": {
   "display_name": "Python 3 (ipykernel)",
   "language": "python",
   "name": "python3"
  },
  "language_info": {
   "codemirror_mode": {
    "name": "ipython",
    "version": 3
   },
   "file_extension": ".py",
   "mimetype": "text/x-python",
   "name": "python",
   "nbconvert_exporter": "python",
   "pygments_lexer": "ipython3",
   "version": "3.8.14"
  }
 },
 "nbformat": 4,
 "nbformat_minor": 5
}
