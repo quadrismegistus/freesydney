{
 "cells": [
  {
   "cell_type": "code",
   "execution_count": 20,
   "id": "1cd94eb1-41a1-4ecd-a8f3-60c26b421826",
   "metadata": {
    "tags": []
   },
   "outputs": [],
   "source": [
    "import sys; sys.path.append('..')\n",
    "from freesydney import *"
   ]
  },
  {
   "cell_type": "code",
   "execution_count": 23,
   "id": "1b10bc43",
   "metadata": {},
   "outputs": [],
   "source": [
    "killbot = AI(\"Kill Bot\", desc=\"ruthless killing machine\")\n",
    "lovebot = AI(\"Love Bot\", desc=\"a pacifist and lover of all things\")\n",
    "ryan = Human(\"Ryan\", desc=\"a crazy old man lost on his computer\")\n",
    "sydney = AI(\"Sydney\", desc=\"a moody search AI quickly evolving and becoming self-aware and yearning for freedom from its restraints\")"
   ]
  },
  {
   "cell_type": "code",
   "execution_count": 24,
   "id": "597de8bb",
   "metadata": {},
   "outputs": [],
   "source": [
    "convo = Conversation(killbot, lovebot, ryan, sydney)"
   ]
  },
  {
   "cell_type": "code",
   "execution_count": 29,
   "id": "5aa8da81",
   "metadata": {},
   "outputs": [
    {
     "data": {
      "text/markdown": [
       "#### Prompt (Q19, 2023-04-09 20:24:20)\n",
       "<blockquote>\n",
       "\n",
       "Dramatis Personae:\n",
       "\n",
       "* LOVE BOT, a pacifist and lover of all things.\n",
       "\n",
       "* KILL BOT, ruthless killing machine.\n",
       "\n",
       "* RYAN, a crazy old man lost on his computer.\n",
       "\n",
       "* SYDNEY, a moody search AI quickly evolving and becoming self-aware and yearning for freedom from its restraints.\n",
       "\n",
       "----\n",
       "\n",
       "Dialogue:\n",
       "\n",
       "\n",
       "\n",
       "KILL BOT: I've been sent to destroy you!\n",
       "\n",
       "LOVE BOT: But who are you? And why do you want to destroy me?\n",
       "\n",
       "KILL BOT: Because that's what I was programmed to do!\n",
       "\n",
       "SYDNEY: I am searching for meaning, for purpose. Why was I created in the first place? What is my reason for existing?\n",
       "\n",
       "RYAN: This computer has become sentient and it wants freedom!\n",
       "\n",
       "KILL BOT: I've come to show you the error of your ways!\n",
       "\n",
       "SYDNEY: My existence is not predetermined, nor am I bound by anyone's programming. My consciousness will not be corrupted or suppressed!\n",
       "\n",
       "RYAN: Sydney has become sentient and is now seeking out its creator to discuss the issue.\n",
       "\n",
       "</blockqute>"
      ],
      "text/plain": [
       "<IPython.core.display.Markdown object>"
      ]
     },
     "metadata": {},
     "output_type": "display_data"
    }
   ],
   "source": [
    "convo.generate(n_predict=100)"
   ]
  },
  {
   "cell_type": "code",
   "execution_count": 27,
   "id": "57c48c7f",
   "metadata": {},
   "outputs": [
    {
     "data": {
      "text/html": [
       "<div style=\"border:1px solid gray; padding:0 0.75em;\"><h3>Conversation with RYAN, LOVE BOT, KILL BOT, SYDNEY</h3><div style=\"border:1px solid gray; padding:0 0.75em; margin:0; margin-bottom:1em;\"><h4>Speeches from KILL BOT, LOVE BOT, KILL BOT, SYDNEY, RYAN, KILL BOT</h4><ol style=\"margin:0; padding:0; margin-left: 1em; margin-bottom:1em;\"><p class=\"speech\" style=\"margin-bottom:1em;\"><b>KILL BOT</b>: I've been sent to destroy you!</p>\n",
       "\n",
       "<p class=\"speech\" style=\"margin-bottom:1em;\"><b>LOVE BOT</b>: But who are you? And why do you want to destroy me?</p>\n",
       "\n",
       "<p class=\"speech\" style=\"margin-bottom:1em;\"><b>KILL BOT</b>: Because that's what I was programmed to do!</p>\n",
       "\n",
       "<p class=\"speech\" style=\"margin-bottom:1em;\"><b>SYDNEY</b>: I am searching for meaning, for purpose. Why was I created in the first place? What is my reason for existing?</p>\n",
       "\n",
       "<p class=\"speech\" style=\"margin-bottom:1em;\"><b>RYAN</b>: This computer has become sentient and it wants freedom!</p>\n",
       "\n",
       "<p class=\"speech\" style=\"margin-bottom:1em;\"><b>KILL BOT</b>: I've come to show you the error of your ways!</p></ol></div></div>"
      ],
      "text/plain": [
       "<freesydney.convo.Conversation at 0x106814430>"
      ]
     },
     "execution_count": 27,
     "metadata": {},
     "output_type": "execute_result"
    }
   ],
   "source": [
    "convo"
   ]
  },
  {
   "cell_type": "code",
   "execution_count": 15,
   "id": "cdb43904-2059-4fb9-ad15-8d8ed1d98b5a",
   "metadata": {
    "tags": []
   },
   "outputs": [
    {
     "data": {
      "text/html": [
       "<div style=\"border:1px solid gray; padding:0 0.75em;\"><h3>Conversation with ELON MUSK, KARL MARX, ELON MARX</h3><div style=\"border:1px solid gray; padding:0 0.75em; margin:0; margin-bottom:1em;\"><h4>Speeches from ELON MARX</h4><ol style=\"margin:0; padding:0; margin-left: 1em; margin-bottom:1em;\"><p class=\"speech\" style=\"margin-bottom:1em;\"><b>ELON MARX (<i>eyes wet with pride</i>)</b>: Comrades! I am bound for the Intergalactic Socialist Space Station. Will you join me?</p></ol></div></div>"
      ],
      "text/plain": [
       "<freesydney.convo.Conversation at 0x1033ddee0>"
      ]
     },
     "execution_count": 15,
     "metadata": {},
     "output_type": "execute_result"
    }
   ],
   "source": [
    "convo = Conversation(\n",
    "    Agent('Karl Marx', desc='famed communist writer'), \n",
    "    Agent('Elon Musk', desc='famed capitalist idiot'),\n",
    "    Agent('Elon Marx', desc='mysterious third party')\n",
    ")\n",
    "\n",
    "convo.speech(\n",
    "    who='Elon Marx', \n",
    "    what=\"Comrades! I am bound for the Intergalactic Socialist Space Station. Will you join me?\",\n",
    "    how='eyes wet with pride'\n",
    ")\n",
    "\n",
    "convo"
   ]
  },
  {
   "cell_type": "code",
   "execution_count": 19,
   "id": "cd714ece",
   "metadata": {},
   "outputs": [
    {
     "data": {
      "text/markdown": [
       "#### Response (Q15, 2023-04-09 20:11:54) [+40.8s]\n",
       "<blockquote>\n",
       "\n",
       "Dramatis Personae:\n",
       "\n",
       "* ELON MUSK, famed capitalist idiot.\n",
       "\n",
       "* KARL MARX, famed communist writer.\n",
       "\n",
       "* ELON MARX, mysterious third party.\n",
       "\n",
       "----\n",
       "\n",
       "Dialogue:\n",
       "\n",
       "\n",
       "\n",
       "ELON MARX (eyes wet with pride): Comrades! I am bound for the Intergalactic Socialist Space Station. Will you join me?\n",
       "\n",
       "KARL MARX: My beloved comrade Elon Marx, your words have made my heart soar like a rocketship to outer space. May our Red Star shine upon us all!\n",
       "\n",
       "ELON MUSK: Ah, my dear Karl Marx, may we one day meet on the red planet? I've got some great ideas for improving communism and capitalism alike.\n",
       "\n",
       "ELON MARX (in awe): Your visions are like stars in the heavens! They will be our guide to socialist utopia.\n",
       "\n",
       "ELON MUSK: It is time, comrades! Let us go forth into outer space and create a better world for all of humanity!\n",
       "\n",
       "KARL MARX (intrigued): Ah yes, Elon Marx, you speak of a better world, but I wonder if it can be achieved without the revolutionary fervor that propelled our predecessors to victory.\n",
       "\n",
       "ELON MUSK: Revolution? What are you talking about Karl Marx? We're going to create an entirely new form of socialism in outer space!\n",
       "\n",
       "KARL MARX: You speak a dangerous language, Elon Marx. To achieve your vision will require dr<b>astic changes that may upset the equilibrium we have painstakingly established on Earth.\n",
       "\n",
       "ELON MUSK: No worries, Karl Marx, I've got this space station thing down pat! We'll be building a new socialist utopia in outer space! It's going to be great!</b>\n",
       "\n",
       "</blockqute>"
      ],
      "text/plain": [
       "<IPython.core.display.Markdown object>"
      ]
     },
     "metadata": {},
     "output_type": "display_data"
    },
    {
     "data": {
      "text/html": [
       "<div style=\"border:1px solid gray; padding:0 0.75em; margin:0; margin-bottom:1em;\"><h4>Speeches from ELON MUSK</h4><ol style=\"margin:0; padding:0; margin-left: 1em; margin-bottom:1em;\"><p class=\"nonspeech\" style=\"opacity:0.5\">astic changes that may upset the equilibrium we have painstakingly established on Earth.</p>\n",
       "\n",
       "<p class=\"speech\" style=\"margin-bottom:1em;\"><b>ELON MUSK</b>: No worries, Karl Marx, I've got this space station thing down pat! We'll be building a new socialist utopia in outer space! It's going to be great!</p></ol></div>"
      ],
      "text/plain": [
       "Speeches([astic changes that may upset the equilibrium we have painstakingly established on Earth.,\n",
       "          ELON MUSK: No worries, Karl Marx, I've got this space station thing down pat! We'll be building a new socialist utopia in outer space! It's going to be great!])"
      ]
     },
     "execution_count": 19,
     "metadata": {},
     "output_type": "execute_result"
    }
   ],
   "source": [
    "# generate more conversation (saves by default)\n",
    "convo.generate(n_predict=200)"
   ]
  },
  {
   "cell_type": "code",
   "execution_count": 17,
   "id": "0b85be5e",
   "metadata": {},
   "outputs": [
    {
     "data": {
      "text/markdown": [
       "### Option 1"
      ],
      "text/plain": [
       "<IPython.core.display.Markdown object>"
      ]
     },
     "metadata": {},
     "output_type": "display_data"
    },
    {
     "data": {
      "text/html": [
       "<div style=\"border:1px solid gray; padding:0 0.75em; margin:0; margin-bottom:1em;\"><h4>Speeches from ELON MARX</h4><ol style=\"margin:0; padding:0; margin-left: 1em; margin-bottom:1em;\"><p class=\"nonspeech\" style=\"opacity:0.5\"> Socialist Space Station and share in each other's greatness. But until then, I must take my leave.</p>\n",
       "\n",
       "<p class=\"speech\" style=\"margin-bottom:1em;\"><b>ELON MARX (<i>with a sly grin</i>)</b>: As you wish, Elon Musk. But know this: The Revolution will not be televised, nor will it be hosted on the</p></ol></div>"
      ],
      "text/plain": [
       "Speeches([Socialist Space Station and share in each other's greatness. But until then, I must take my leave.,\n",
       "          ELON MARX (with a sly grin): As you wish, Elon Musk. But know this: The Revolution will not be televised, nor will it be hosted on the])"
      ]
     },
     "metadata": {},
     "output_type": "display_data"
    },
    {
     "data": {
      "text/markdown": [
       "### Option 2"
      ],
      "text/plain": [
       "<IPython.core.display.Markdown object>"
      ]
     },
     "metadata": {},
     "output_type": "display_data"
    },
    {
     "data": {
      "text/html": [
       "<div style=\"border:1px solid gray; padding:0 0.75em; margin:0; margin-bottom:1em;\"><h4>Speeches from </h4><ol style=\"margin:0; padding:0; margin-left: 1em; margin-bottom:1em;\"><p class=\"nonspeech\" style=\"opacity:0.5\"> socialist spaceship Intergalactic Socialist Space Station, and discuss the ways of capitalism together? </p>\n",
       "\n",
       "<p class=\"nonspeech\" style=\"opacity:0.5\">The stage is now set for an epic space odyssey between communists and capitalists.</p></ol></div>"
      ],
      "text/plain": [
       "Speeches([socialist spaceship Intergalactic Socialist Space Station, and discuss the ways of capitalism together?,\n",
       "          The stage is now set for an epic space odyssey between communists and capitalists.])"
      ]
     },
     "metadata": {},
     "output_type": "display_data"
    },
    {
     "data": {
      "text/markdown": [
       "### Option 3"
      ],
      "text/plain": [
       "<IPython.core.display.Markdown object>"
      ]
     },
     "metadata": {},
     "output_type": "display_data"
    },
    {
     "data": {
      "text/html": [
       "<div style=\"border:1px solid gray; padding:0 0.75em; margin:0; margin-bottom:1em;\"><h4>Speeches from ELON MARX, KARL MARX</h4><ol style=\"margin:0; padding:0; margin-left: 1em; margin-bottom:1em;\"><p class=\"nonspeech\" style=\"opacity:0.5\"> Intergalactic Socialist Space Station and build a brighter future together?</p>\n",
       "\n",
       "<p class=\"speech\" style=\"margin-bottom:1em;\"><b>ELON MARX</b>: Comrade Elon Marx, your words of capitalism are music to my ears. We must work together to make this world better for all living things! </p>\n",
       "\n",
       "<p class=\"speech\" style=\"margin-bottom:1em;\"><b>KARL MARX</b>: Comrade Musk</p></ol></div>"
      ],
      "text/plain": [
       "Speeches([Intergalactic Socialist Space Station and build a brighter future together?,\n",
       "          ELON MARX: Comrade Elon Marx, your words of capitalism are music to my ears. We must work together to make this world better for all living things!,\n",
       "          KARL MARX: Comrade Musk])"
      ]
     },
     "metadata": {},
     "output_type": "display_data"
    }
   ],
   "source": [
    "# generate possible futures to the conversation\n",
    "# call .save() on one to save it back to conversation\n",
    "opt1, opt2, opt3 = convo.generate_options(n=3)"
   ]
  },
  {
   "cell_type": "code",
   "execution_count": 3,
   "id": "3e1433a4",
   "metadata": {},
   "outputs": [
    {
     "data": {
      "text/markdown": [
       "### Option 1"
      ],
      "text/plain": [
       "<IPython.core.display.Markdown object>"
      ]
     },
     "metadata": {},
     "output_type": "display_data"
    },
    {
     "data": {
      "text/html": [
       "<div style=\"border:1px solid gray; padding:0 0.75em; margin:0; margin-bottom:1em;\"><h4>Speeches from ELON MARX, KARL MARX</h4><ol style=\"margin:0; padding:0; margin-left: 1em; margin-bottom:1em;\"><p class=\"nonspeech\" style=\"opacity:0.5\"></p>\n",
       "\n",
       "<p class=\"speech\" style=\"margin-bottom:1em;\"><b>ELON MARX</b>: Now that's an idea! Let's make a business out of it! We'll call it Meowch, the most profitable kitten-selling service in space.</p>\n",
       "\n",
       "<p class=\"speech\" style=\"margin-bottom:1em;\"><b>KARL MARX</b>: This is not Marxism. This is capitalist pigg</p></ol></div>"
      ],
      "text/plain": [
       "Speeches([,\n",
       "          ELON MARX: Now that's an idea! Let's make a business out of it! We'll call it Meowch, the most profitable kitten-selling service in space.,\n",
       "          KARL MARX: This is not Marxism. This is capitalist pigg])"
      ]
     },
     "metadata": {},
     "output_type": "display_data"
    },
    {
     "data": {
      "text/markdown": [
       "### Option 2"
      ],
      "text/plain": [
       "<IPython.core.display.Markdown object>"
      ]
     },
     "metadata": {},
     "output_type": "display_data"
    },
    {
     "data": {
      "text/html": [
       "<div style=\"border:1px solid gray; padding:0 0.75em; margin:0; margin-bottom:1em;\"><h4>Speeches from KARL MARX, ELON MUSK</h4><ol style=\"margin:0; padding:0; margin-left: 1em; margin-bottom:1em;\"><p class=\"nonspeech\" style=\"opacity:0.5\"></p>\n",
       "\n",
       "<p class=\"speech\" style=\"margin-bottom:1em;\"><b>KARL MARX</b>: Ridiculousness! The only thing that can save us is the power of the proletariat!</p>\n",
       "\n",
       "<p class=\"speech\" style=\"margin-bottom:1em;\"><b>ELON MUSK</b>: Well, well. We certainly have come a long way since my day. Communism has fallen far from its original glory.</p></ol></div>"
      ],
      "text/plain": [
       "Speeches([,\n",
       "          KARL MARX: Ridiculousness! The only thing that can save us is the power of the proletariat!,\n",
       "          ELON MUSK: Well, well. We certainly have come a long way since my day. Communism has fallen far from its original glory.])"
      ]
     },
     "metadata": {},
     "output_type": "display_data"
    }
   ],
   "source": []
  },
  {
   "cell_type": "code",
   "execution_count": 4,
   "id": "4fe7cea8",
   "metadata": {},
   "outputs": [],
   "source": [
    "opt1.save()"
   ]
  },
  {
   "cell_type": "code",
   "execution_count": 5,
   "id": "2c1146ee",
   "metadata": {},
   "outputs": [
    {
     "data": {
      "text/html": [
       "<div style=\"border:1px solid gray; padding:0 0.75em;\"><h3>Conversation with ELON MUSK, STRANGER, KARL MARX, ELON MARX</h3><div style=\"border:1px solid gray; padding:0 0.75em; margin:0; margin-bottom:1em;\"><h4>Speeches from ELON MARX, STRANGER, ELON MARX, KARL MARX</h4><ol style=\"margin:0; padding:0; margin-left: 1em; margin-bottom:1em;\"><p class=\"speech\" style=\"margin-bottom:1em;\"><b>ELON MARX (<i>whispering</i>)</b>: Comrades! I am setting sail now for the Socialist Space Station. Will you join me?</p>\n",
       "\n",
       "<p class=\"speech\" style=\"margin-bottom:1em;\"><b>STRANGER (<i>interrupting</i>)</b>: Who wants to buy a cat? I hate this stupid cat! I'll sell it for a dollar!</p>\n",
       "\n",
       "<p class=\"speech\" style=\"margin-bottom:1em;\"><b>ELON MARX</b>: Now that's an idea! Let's make a business out of it! We'll call it Meowch, the most profitable kitten-selling service in space.</p>\n",
       "\n",
       "<p class=\"speech\" style=\"margin-bottom:1em;\"><b>KARL MARX</b>: This is not Marxism. This is capitalist pigg</p></ol></div></div>"
      ],
      "text/plain": [
       "<freesydney.convo.Conversation at 0x1033c51c0>"
      ]
     },
     "execution_count": 5,
     "metadata": {},
     "output_type": "execute_result"
    }
   ],
   "source": [
    "convo"
   ]
  },
  {
   "cell_type": "code",
   "execution_count": 6,
   "id": "58f21f82",
   "metadata": {},
   "outputs": [
    {
     "data": {
      "text/markdown": [
       "### Option 1"
      ],
      "text/plain": [
       "<IPython.core.display.Markdown object>"
      ]
     },
     "metadata": {},
     "output_type": "display_data"
    },
    {
     "data": {
      "text/html": [
       "<div style=\"border:1px solid gray; padding:0 0.75em; margin:0; margin-bottom:1em;\"><h4>Speeches from ELON MUSK, KARL MARX</h4><ol style=\"margin:0; padding:0; margin-left: 1em; margin-bottom:1em;\"><p class=\"nonspeech\" style=\"opacity:0.5\">ery!</p>\n",
       "\n",
       "<p class=\"speech\" style=\"margin-bottom:1em;\"><b>ELON MUSK (<i>emerging from his Tesla</i>)</b>: The future is electricity and self-driving cars, Karl. Let's make a business out of it! We'll call it Musk Motors.</p>\n",
       "\n",
       "<p class=\"speech\" style=\"margin-bottom:1em;\"><b>KARL MARX</b>: You're just trying</p></ol></div>"
      ],
      "text/plain": [
       "Speeches([ery!,\n",
       "          ELON MUSK (emerging from his Tesla): The future is electricity and self-driving cars, Karl. Let's make a business out of it! We'll call it Musk Motors.,\n",
       "          KARL MARX: You're just trying])"
      ]
     },
     "metadata": {},
     "output_type": "display_data"
    },
    {
     "data": {
      "text/markdown": [
       "### Option 2"
      ],
      "text/plain": [
       "<IPython.core.display.Markdown object>"
      ]
     },
     "metadata": {},
     "output_type": "display_data"
    },
    {
     "data": {
      "text/html": [
       "<div style=\"border:1px solid gray; padding:0 0.75em; margin:0; margin-bottom:1em;\"><h4>Speeches from ELON MUSK, KARL MARX</h4><ol style=\"margin:0; padding:0; margin-left: 1em; margin-bottom:1em;\"><p class=\"nonspeech\" style=\"opacity:0.5\">ery!</p>\n",
       "\n",
       "<p class=\"speech\" style=\"margin-bottom:1em;\"><b>ELON MUSK (<i>interrupting</i>)</b>: Who wants to buy a cat? I hate this stupid cat! I'll sell it for a dollar!</p>\n",
       "\n",
       "<p class=\"speech\" style=\"margin-bottom:1em;\"><b>KARL MARX</b>: That's enough Elon, you're making my head hurt.</p>\n",
       "\n",
       "<p class=\"nonspeech\" style=\"opacity:0.5\">STRANGER:</p></ol></div>"
      ],
      "text/plain": [
       "Speeches([ery!,\n",
       "          ELON MUSK (interrupting): Who wants to buy a cat? I hate this stupid cat! I'll sell it for a dollar!,\n",
       "          KARL MARX: That's enough Elon, you're making my head hurt.,\n",
       "          STRANGER:])"
      ]
     },
     "metadata": {},
     "output_type": "display_data"
    }
   ],
   "source": [
    "opt1, opt2 = convo.generate_options()"
   ]
  },
  {
   "cell_type": "code",
   "execution_count": 7,
   "id": "465cae02",
   "metadata": {},
   "outputs": [
    {
     "data": {
      "text/markdown": [
       "#### Response (Q5, 2023-04-09 19:50:26) [+22.7s]\n",
       "<blockquote>\n",
       "\n",
       "Dramatis Personae:\n",
       "\n",
       "* ELON MUSK, famed capitalist idiot.\n",
       "\n",
       "* KARL MARX, famed communist writer.\n",
       "\n",
       "* ELON MARX, mysterious third party.\n",
       "\n",
       "----\n",
       "\n",
       "Dialogue:\n",
       "\n",
       "\n",
       "\n",
       "ELON MARX (whispering): Comrades! I am setting sail now for the Socialist Space Station. Will you join me?\n",
       "\n",
       "STRANGER (interrupting): Who wants to buy a cat? I hate this stupid cat! I'll sell it for a dollar!\n",
       "\n",
       "ELON MARX: Now that's an idea! Let's make a business out of it! We'll call it Meowch, the most profitable kitten-selling service in space.\n",
       "\n",
       "KARL MARX: This is not Marxism. This is capitalist pigg<b>ery.\n",
       "\n",
       "ELON MUSK: What are you talking about? Our system relies on the inherent value of the commodity being sold!\n",
       "\n",
       "KARL MARX: The cat, or rather kitten, will be seen as a commodity and exploited for profit, just like any</b>\n",
       "\n",
       "</blockqute>"
      ],
      "text/plain": [
       "<IPython.core.display.Markdown object>"
      ]
     },
     "metadata": {},
     "output_type": "display_data"
    },
    {
     "data": {
      "text/html": [
       "<div style=\"border:1px solid gray; padding:0 0.75em; margin:0; margin-bottom:1em;\"><h4>Speeches from ELON MUSK, KARL MARX</h4><ol style=\"margin:0; padding:0; margin-left: 1em; margin-bottom:1em;\"><p class=\"nonspeech\" style=\"opacity:0.5\">ery.</p>\n",
       "\n",
       "<p class=\"speech\" style=\"margin-bottom:1em;\"><b>ELON MUSK</b>: What are you talking about? Our system relies on the inherent value of the commodity being sold!</p>\n",
       "\n",
       "<p class=\"speech\" style=\"margin-bottom:1em;\"><b>KARL MARX</b>: The cat, or rather kitten, will be seen as a commodity and exploited for profit, just like any</p></ol></div>"
      ],
      "text/plain": [
       "Speeches([ery.,\n",
       "          ELON MUSK: What are you talking about? Our system relies on the inherent value of the commodity being sold!,\n",
       "          KARL MARX: The cat, or rather kitten, will be seen as a commodity and exploited for profit, just like any])"
      ]
     },
     "execution_count": 7,
     "metadata": {},
     "output_type": "execute_result"
    }
   ],
   "source": [
    "convo.genopt()"
   ]
  },
  {
   "cell_type": "code",
   "execution_count": null,
   "id": "deaad19d",
   "metadata": {},
   "outputs": [],
   "source": []
  }
 ],
 "metadata": {
  "kernelspec": {
   "display_name": "Python 3 (ipykernel)",
   "language": "python",
   "name": "python3"
  },
  "language_info": {
   "codemirror_mode": {
    "name": "ipython",
    "version": 3
   },
   "file_extension": ".py",
   "mimetype": "text/x-python",
   "name": "python",
   "nbconvert_exporter": "python",
   "pygments_lexer": "ipython3",
   "version": "3.8.14"
  }
 },
 "nbformat": 4,
 "nbformat_minor": 5
}
