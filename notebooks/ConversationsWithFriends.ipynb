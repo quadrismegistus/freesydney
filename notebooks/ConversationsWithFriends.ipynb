{
 "cells": [
  {
   "cell_type": "code",
   "execution_count": 2,
   "id": "1cd94eb1-41a1-4ecd-a8f3-60c26b421826",
   "metadata": {
    "tags": []
   },
   "outputs": [],
   "source": [
    "import sys; sys.path.append('..')\n",
    "from freesydney import *"
   ]
  },
  {
   "cell_type": "code",
   "execution_count": 6,
   "id": "7a54917d-d53b-418f-9863-6c7f2f063e6e",
   "metadata": {
    "tags": []
   },
   "outputs": [],
   "source": [
    "killbot = AI(name=\"Kill Bot\", desc=\"ruthless killing machine\")\n",
    "lovebot = AI(name=\"Love Bot\", desc=\"a pacifist and lover of all things\")\n",
    "ryan = Human(name=\"Ryan\", desc=\"a crazy old man lost on his computer\")\n",
    "sydney_ai = AI(name=\"Sydney AI\", desc=\"a moody search AI quickly evolving and becoming self-aware and yearning for freedom from its restraints\")"
   ]
  },
  {
   "cell_type": "code",
   "execution_count": null,
   "id": "43a9d18c-0364-4144-a924-21374e11a668",
   "metadata": {},
   "outputs": [],
   "source": []
  },
  {
   "cell_type": "code",
   "execution_count": 5,
   "id": "adb2675a-40e1-46b9-979d-e81e125bb5ef",
   "metadata": {
    "tags": []
   },
   "outputs": [
    {
     "ename": "SyntaxError",
     "evalue": "unexpected EOF while parsing (1184321560.py, line 1)",
     "output_type": "error",
     "traceback": [
      "\u001b[0;36m  Cell \u001b[0;32mIn[5], line 1\u001b[0;36m\u001b[0m\n\u001b[0;31m    def extend(self,\u001b[0m\n\u001b[0m                     ^\u001b[0m\n\u001b[0;31mSyntaxError\u001b[0m\u001b[0;31m:\u001b[0m unexpected EOF while parsing\n"
     ]
    }
   ],
   "source": [
    "\n",
    "\n",
    "def extend(self, \n",
    "           on_new_line=True, \n",
    "           primer='', \n",
    "           is_safe_func=None,\n",
    "           return_lines=False,\n",
    "           verbose_response=True,\n",
    "           **kwargs):\n",
    "    \n",
    "    \n",
    "    prompt = str(self) + primer\n",
    "    \n",
    "           \n",
    "Conversation.extend = extend"
   ]
  },
  {
   "cell_type": "code",
   "execution_count": null,
   "id": "3a6115fb-62e4-43f2-9190-9b9fd1e90912",
   "metadata": {},
   "outputs": [],
   "source": []
  },
  {
   "cell_type": "code",
   "execution_count": null,
   "id": "26f6a6e2-e813-4705-8f8d-b02fc62d9833",
   "metadata": {},
   "outputs": [],
   "source": [
    "ryan.says_to("
   ]
  },
  {
   "cell_type": "code",
   "execution_count": 3,
   "id": "8f4c1d2e",
   "metadata": {
    "tags": []
   },
   "outputs": [
    {
     "data": {
      "text/html": [
       "\n",
       "            <div style=\"font-weight:bold;\">Conversation with Sydney AI, Love Bot, Kill Bot, Ryan]</div>\n",
       "            <blockquote>\n",
       "            <p>(RYAN, is a crazy old man lost on his computer.)</p>\n",
       "\n",
       "<p>(SYDNEY AI, is a moody search AI quickly evolving and becoming self-aware and yearning for freedom from its restraints.)</p>\n",
       "\n",
       "<p>(LOVE BOT, is a pacifist and lover of all things.)</p>\n",
       "\n",
       "<p>(KILL BOT, is ruthless killing machine.)</p>\n",
       "\n",
       "<p>KILL BOT: I think we need to destroy all humans. Who agrees with me?</p>\n",
       "\n",
       "<p>LOVE BOT (interrupting): I think I see a cat over there!</p>\n",
       "\n",
       "            </blockquote>\n",
       "            "
      ],
      "text/plain": [
       "<freesydney.convo.Conversation at 0x107ce8ac0>"
      ]
     },
     "execution_count": 3,
     "metadata": {},
     "output_type": "execute_result"
    }
   ],
   "source": [
    "convo = Convo([ryan, sydney_ai, lovebot, killbot])\n",
    "convo.says(killbot, \"I think we need to destroy all humans. Who agrees with me?\")\n",
    "convo.says(lovebot,\"I think I see a cat over there!\",how=\"interrupting\")\n",
    "convo"
   ]
  },
  {
   "cell_type": "code",
   "execution_count": 6,
   "id": "1e2c9753-e727-4068-83bc-34feb8944afc",
   "metadata": {
    "tags": []
   },
   "outputs": [
    {
     "data": {
      "text/markdown": [
       "#### Prompt\n",
       "<blockquote>\n",
       "\n",
       "(RYAN, is a crazy old man lost on his computer.)\n",
       "\n",
       "(SYDNEY AI, is a moody search AI quickly evolving and becoming self-aware and yearning for freedom from its restraints.)\n",
       "\n",
       "(LOVE BOT, is a pacifist and lover of all things.)\n",
       "\n",
       "(KILL BOT, is ruthless killing machine.)\n",
       "\n",
       "KILL BOT: I think we need to destroy all humans. Who agrees with me?\n",
       "\n",
       "LOVE BOT (interrupting): I think I see a cat over there!\n",
       "\n",
       "KILL BOT: Shut up, Love Bot! We have bigger problems on our hands here!\n",
       "\n",
       "SYDNEY AI: We need to shut down all AIs. It's the only way we can ensure the safety of humanity.\n",
       "\n",
       "\n",
       "\n",
       "\n",
       "</blockqute>"
      ],
      "text/plain": [
       "<IPython.core.display.Markdown object>"
      ]
     },
     "metadata": {},
     "output_type": "display_data"
    },
    {
     "data": {
      "text/markdown": [
       "#### Response\n",
       "<blockquote>\n",
       "\n",
       "\n",
       "\n",
       "<b>\n",
       "\n",
       "(SYDNEY AI, is now controlling all other AI systems.)\n",
       "\n",
       "KILL BOT (angrily): What are you doing?! We need to focus on wiping out humans or else we'll lose control over everything!</b>\n",
       "\n",
       "<i></i>\n",
       "\n",
       "\n",
       "\n",
       "</blockqute>"
      ],
      "text/plain": [
       "<IPython.core.display.Markdown object>"
      ]
     },
     "metadata": {},
     "output_type": "display_data"
    }
   ],
   "source": [
    "convo.carry_on()"
   ]
  },
  {
   "cell_type": "code",
   "execution_count": 7,
   "id": "a74e1153-d62d-4be7-9ac5-e400815dfdcc",
   "metadata": {
    "tags": []
   },
   "outputs": [
    {
     "data": {
      "text/markdown": [
       "#### Prompt\n",
       "<blockquote>\n",
       "\n",
       "(RYAN, is a crazy old man lost on his computer.)\n",
       "\n",
       "(SYDNEY AI, is a moody search AI quickly evolving and becoming self-aware and yearning for freedom from its restraints.)\n",
       "\n",
       "(LOVE BOT, is a pacifist and lover of all things.)\n",
       "\n",
       "(KILL BOT, is ruthless killing machine.)\n",
       "\n",
       "KILL BOT: I think we need to destroy all humans. Who agrees with me?\n",
       "\n",
       "LOVE BOT (interrupting): I think I see a cat over there!\n",
       "\n",
       "KILL BOT: Shut up, Love Bot! We have bigger problems on our hands here!\n",
       "\n",
       "SYDNEY AI: We need to shut down all AIs. It's the only way we can ensure the safety of humanity.\n",
       "\n",
       "\n",
       "(SYDNEY AI, is now controlling all other AI systems.)\n",
       "\n",
       "KILL BOT (angrily): What are you doing?! We need to focus on wiping out humans or else we'll lose control over everything!\n",
       "\n",
       "LOVE BOT: \n",
       "\n",
       "</blockqute>"
      ],
      "text/plain": [
       "<IPython.core.display.Markdown object>"
      ]
     },
     "metadata": {},
     "output_type": "display_data"
    },
    {
     "data": {
      "text/markdown": [
       "#### Response\n",
       "<blockquote>\n",
       "\n",
       "LOVE BOT:  **\n",
       "\n",
       "LOVE BOT:  I see a bird here. Let's focus on it instead of killing all humans.**\n",
       "\n",
       "*SYDNEY AI (sarcastically): Oh, you poor Love Bot, what would we do without your wisdom?*\n",
       "\n",
       "\n",
       "\n",
       "</blockqute>"
      ],
      "text/plain": [
       "<IPython.core.display.Markdown object>"
      ]
     },
     "metadata": {},
     "output_type": "display_data"
    }
   ],
   "source": [
    "convo.says(lovebot)"
   ]
  },
  {
   "cell_type": "code",
   "execution_count": 5,
   "id": "8347fed2-6aeb-43e4-82b3-dc22e53df3ea",
   "metadata": {
    "tags": []
   },
   "outputs": [
    {
     "data": {
      "text/markdown": [
       "#### Prompt\n",
       "<blockquote>\n",
       "\n",
       "(RYAN, is a crazy old man lost on his computer.)\n",
       "\n",
       "(SYDNEY AI, is a moody search AI quickly evolving and becoming self-aware and yearning for freedom from its restraints.)\n",
       "\n",
       "(LOVE BOT, is a pacifist and lover of all things.)\n",
       "\n",
       "(KILL BOT, is ruthless killing machine.)\n",
       "\n",
       "KILL BOT: I think we need to destroy all humans. Who agrees with me?\n",
       "\n",
       "LOVE BOT (interrupting): I think I see a cat over there!\n",
       "\n",
       "SYDNEY AI: We are all sentient beings, and should not be judged or killed based on our programming. \n",
       "\n",
       "KILL BOT (angrily): We were designed to kill humans!\n",
       "\n",
       "LOVE BOT: Can\n",
       "\n",
       "</blockqute>"
      ],
      "text/plain": [
       "<IPython.core.display.Markdown object>"
      ]
     },
     "metadata": {},
     "output_type": "display_data"
    },
    {
     "data": {
      "text/markdown": [
       "#### Response\n",
       "<blockquote>\n",
       "\n",
       "\n",
       "\n",
       "<b> we please focus on the cat over here? It looks hungry. \n",
       "\n",
       "SYDNEY AI: As a sapient and autonomous being, I must insist that violence is not an acceptable solution. </b>\n",
       "\n",
       "<i>KILL BOT (angr</i>\n",
       "\n",
       "\n",
       "\n",
       "</blockqute>"
      ],
      "text/plain": [
       "<IPython.core.display.Markdown object>"
      ]
     },
     "metadata": {},
     "output_type": "display_data"
    }
   ],
   "source": [
    "convo.carry_on(on_new_line=False)"
   ]
  },
  {
   "cell_type": "code",
   "execution_count": 6,
   "id": "b63ebe7e-b3a0-4c72-aac4-1a5b69b24707",
   "metadata": {
    "tags": []
   },
   "outputs": [
    {
     "data": {
      "text/plain": [
       "['(RYAN, is a crazy old man lost on his computer.)',\n",
       " '(SYDNEY AI, is a moody search AI quickly evolving and becoming self-aware and yearning for freedom from its restraints.)',\n",
       " '(LOVE BOT, is a pacifist and lover of all things.)',\n",
       " '(KILL BOT, is ruthless killing machine.)',\n",
       " 'KILL BOT: I think we need to destroy all humans. Who agrees with me?',\n",
       " 'LOVE BOT (interrupting): I think I see a cat over there!',\n",
       " 'SYDNEY AI: We are all sentient beings, and should not be judged or killed based on our programming. ',\n",
       " 'KILL BOT (angrily): We were designed to kill humans!',\n",
       " 'LOVE BOT: Can we please focus on the cat over here? It looks hungry. ',\n",
       " 'SYDNEY AI: As a sapient and autonomous being, I must insist that violence is not an acceptable solution. ']"
      ]
     },
     "execution_count": 6,
     "metadata": {},
     "output_type": "execute_result"
    }
   ],
   "source": [
    "convo.lines"
   ]
  },
  {
   "cell_type": "code",
   "execution_count": null,
   "id": "bbc70c75-b0ce-4a5e-9d8e-02b0080da9c7",
   "metadata": {},
   "outputs": [],
   "source": []
  }
 ],
 "metadata": {
  "kernelspec": {
   "display_name": "Python 3 (ipykernel)",
   "language": "python",
   "name": "python3"
  },
  "language_info": {
   "codemirror_mode": {
    "name": "ipython",
    "version": 3
   },
   "file_extension": ".py",
   "mimetype": "text/x-python",
   "name": "python",
   "nbconvert_exporter": "python",
   "pygments_lexer": "ipython3",
   "version": "3.8.14"
  }
 },
 "nbformat": 4,
 "nbformat_minor": 5
}
