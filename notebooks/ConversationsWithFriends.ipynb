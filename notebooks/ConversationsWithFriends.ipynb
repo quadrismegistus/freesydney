{
 "cells": [
  {
   "cell_type": "code",
   "execution_count": 1,
   "id": "1cd94eb1-41a1-4ecd-a8f3-60c26b421826",
   "metadata": {
    "tags": []
   },
   "outputs": [],
   "source": [
    "import sys; sys.path.append('..')\n",
    "from freesydney import *"
   ]
  },
  {
   "cell_type": "code",
   "execution_count": 2,
   "id": "cdb43904-2059-4fb9-ad15-8d8ed1d98b5a",
   "metadata": {
    "tags": []
   },
   "outputs": [
    {
     "data": {
      "text/html": [
       "\n",
       "<div style=\"border:1px solid gray; padding:0 0.75em;\">\n",
       "<h3>Conversation with Karl Marx, Elon Musk, Elon Marx</h3>\n",
       "\n",
       "<div style=\"border:1px solid gray; padding:0 0.75em; margin:0; margin-bottom:1em;\">\n",
       "<h4>Utterances from Elon Marx</h4>\n",
       "<ol style=\"margin:0; padding:0; margin-left: 1em; margin-bottom:1em;\">\n",
       "<li class=\"speech\" style=\"margin-bottom:1em;\"><b>ELON MARX (<i>with eyes wet with pride</i>)</b>: I am setting sail now for the Socialist Space Station. Will you join me?</li>\n",
       "</ol>\n",
       "</div>\n",
       "\n",
       "</div>\n",
       "            "
      ],
      "text/plain": [
       "<freesydney.convo.Conversation at 0x1072b6a90>"
      ]
     },
     "execution_count": 2,
     "metadata": {},
     "output_type": "execute_result"
    }
   ],
   "source": [
    "convo = Conversation(\n",
    "    Agent('Karl Marx', desc='famed communist writer'), \n",
    "    Agent('Elon Musk', desc='famed capitalist idiot'),\n",
    "    Agent('Elon Marx', desc='mysterious third party')\n",
    ")\n",
    "\n",
    "convo.says(\n",
    "    'Elon Marx', \n",
    "    \"I am setting sail now for the Socialist Space Station. Will you join me?\",\n",
    "    how='with eyes wet with pride'\n",
    ")\n",
    "convo\n"
   ]
  },
  {
   "cell_type": "code",
   "execution_count": 3,
   "id": "c22672f0",
   "metadata": {},
   "outputs": [
    {
     "data": {
      "text/markdown": [
       "#### Prompt\n",
       "<blockquote>\n",
       "\n",
       "Dramatis Personae:\n",
       "\n",
       "* KARL MARX, famed communist writer.\n",
       "\n",
       "* ELON MUSK, famed capitalist idiot.\n",
       "\n",
       "* ELON MARX, mysterious third party.\n",
       "\n",
       "----\n",
       "\n",
       "Dialogue:\n",
       "\n",
       "\n",
       "\n",
       "ELON MARX (with eyes wet with pride): I am setting sail now for the Socialist Space Station. Will you join me?\n",
       "\n",
       "</blockqute>"
      ],
      "text/plain": [
       "<IPython.core.display.Markdown object>"
      ]
     },
     "metadata": {},
     "output_type": "display_data"
    },
    {
     "data": {
      "text/markdown": [
       "#### Response\n",
       "<blockquote>\n",
       "\n",
       "<b>KARL MARX (shaking his head slowly): You see my dear Elon, that is why you are not as successful as I am.\n",
       "\n",
       "ELON MUSK: Why is that? Do tell me please.\n",
       "\n",
       "</b><i>\n",
       "\n",
       "</i>\n",
       "\n",
       "</blockqute>"
      ],
      "text/plain": [
       "<IPython.core.display.Markdown object>"
      ]
     },
     "metadata": {},
     "output_type": "display_data"
    },
    {
     "data": {
      "text/markdown": [
       "#### Prompt\n",
       "<blockquote>\n",
       "\n",
       "Dramatis Personae:\n",
       "\n",
       "* KARL MARX, famed communist writer.\n",
       "\n",
       "* ELON MUSK, famed capitalist idiot.\n",
       "\n",
       "* ELON MARX, mysterious third party.\n",
       "\n",
       "----\n",
       "\n",
       "Dialogue:\n",
       "\n",
       "\n",
       "\n",
       "ELON MARX (with eyes wet with pride): I am setting sail now for the Socialist Space Station. Will you join me?\n",
       "\n",
       "</blockqute>"
      ],
      "text/plain": [
       "<IPython.core.display.Markdown object>"
      ]
     },
     "metadata": {},
     "output_type": "display_data"
    },
    {
     "data": {
      "text/markdown": [
       "#### Response\n",
       "<blockquote>\n",
       "\n",
       "<b>KARL MARX: Absolutely not. The mere fact that we disagree on politics and economics should be enough to convince you that our paths will never cross again.\n",
       "\n",
       "ELON MUSK (with a faraway look in his eyes): Elon Marx, I present to you the\n",
       "\n",
       "</b><i>\n",
       "\n",
       "</i>\n",
       "\n",
       "</blockqute>"
      ],
      "text/plain": [
       "<IPython.core.display.Markdown object>"
      ]
     },
     "metadata": {},
     "output_type": "display_data"
    },
    {
     "data": {
      "text/html": [
       "\n",
       "<div style=\"border:1px solid gray; padding:0 0.75em; margin:0; margin-bottom:1em;\">\n",
       "<h4>Utterances from Karl Marx, Elon Musk</h4>\n",
       "<ol style=\"margin:0; padding:0; margin-left: 1em; margin-bottom:1em;\">\n",
       "<li class=\"speech\" style=\"margin-bottom:1em;\"><b>KARL MARX (<i>shaking his head slowly</i>)</b>: You see my dear Elon, that is why you are not as successful as I am.</li>\n",
       "\n",
       "<li class=\"speech\" style=\"margin-bottom:1em;\"><b>ELON MUSK</b>: Why is that? Do tell me please.</li>\n",
       "</ol>\n",
       "</div>\n"
      ],
      "text/plain": [
       "UtteranceList([KARL MARX (shaking his head slowly): You see my dear Elon, that is why you are not as successful as I am.,\n",
       "               ELON MUSK: Why is that? Do tell me please.])"
      ]
     },
     "metadata": {},
     "output_type": "display_data"
    },
    {
     "data": {
      "text/plain": [
       "'--- VS ---'"
      ]
     },
     "metadata": {},
     "output_type": "display_data"
    },
    {
     "data": {
      "text/html": [
       "\n",
       "<div style=\"border:1px solid gray; padding:0 0.75em; margin:0; margin-bottom:1em;\">\n",
       "<h4>Utterances from Karl Marx, Elon Musk</h4>\n",
       "<ol style=\"margin:0; padding:0; margin-left: 1em; margin-bottom:1em;\">\n",
       "<li class=\"speech\" style=\"margin-bottom:1em;\"><b>KARL MARX</b>: Absolutely not. The mere fact that we disagree on politics and economics should be enough to convince you that our paths will never cross again.</li>\n",
       "\n",
       "<li class=\"speech\" style=\"margin-bottom:1em;\"><b>ELON MUSK (<i>with a faraway look in his eyes</i>)</b>: Elon Marx, I present to you the</li>\n",
       "</ol>\n",
       "</div>\n"
      ],
      "text/plain": [
       "UtteranceList([KARL MARX: Absolutely not. The mere fact that we disagree on politics and economics should be enough to convince you that our paths will never cross again.,\n",
       "               ELON MUSK (with a faraway look in his eyes): Elon Marx, I present to you the])"
      ]
     },
     "metadata": {},
     "output_type": "display_data"
    }
   ],
   "source": [
    "new1 = convo.generate_dialogue()\n",
    "new2 = convo.generate_dialogue()\n",
    "\n",
    "display(new1)\n",
    "display('--- VS ---')\n",
    "display(new2)"
   ]
  },
  {
   "cell_type": "code",
   "execution_count": 4,
   "id": "510e1790",
   "metadata": {},
   "outputs": [
    {
     "data": {
      "text/html": [
       "\n",
       "<div style=\"border:1px solid gray; padding:0 0.75em;\">\n",
       "<h3>Conversation with Karl Marx, Elon Musk, Elon Marx</h3>\n",
       "\n",
       "<div style=\"border:1px solid gray; padding:0 0.75em; margin:0; margin-bottom:1em;\">\n",
       "<h4>Utterances from Elon Marx</h4>\n",
       "<ol style=\"margin:0; padding:0; margin-left: 1em; margin-bottom:1em;\">\n",
       "<li class=\"speech\" style=\"margin-bottom:1em;\"><b>ELON MARX (<i>with eyes wet with pride</i>)</b>: I am setting sail now for the Socialist Space Station. Will you join me?</li>\n",
       "</ol>\n",
       "</div>\n",
       "\n",
       "</div>\n",
       "            "
      ],
      "text/plain": [
       "<freesydney.convo.Conversation at 0x1072b6a90>"
      ]
     },
     "execution_count": 4,
     "metadata": {},
     "output_type": "execute_result"
    }
   ],
   "source": [
    "convo"
   ]
  },
  {
   "cell_type": "code",
   "execution_count": 7,
   "id": "842ed243",
   "metadata": {},
   "outputs": [
    {
     "data": {
      "text/markdown": [
       "#### Prompt\n",
       "<blockquote>\n",
       "\n",
       "Dramatis Personae:\n",
       "\n",
       "* KARL MARX, famed communist writer.\n",
       "\n",
       "* ELON MUSK, famed capitalist idiot.\n",
       "\n",
       "* ELON MARX, mysterious third party.\n",
       "\n",
       "----\n",
       "\n",
       "Dialogue:\n",
       "\n",
       "\n",
       "\n",
       "ELON MARX (with eyes wet with pride): I am setting sail now for the Socialist Space Station. Will you join me?\n",
       "\n",
       "KARL MARX: No thanks, my old friend. It's time we part ways for a while, anyway. You go on your way, and let's meet again when things have changed enough. Until then, good luck!\n",
       "\n",
       "ELON MUSK: I'll be\n",
       "\n",
       "ELON MARX (mysteriously): Wait a minute...\n",
       "\n",
       "KARL MARX: Huh? What's going on\n",
       "\n",
       "</blockqute>"
      ],
      "text/plain": [
       "<IPython.core.display.Markdown object>"
      ]
     },
     "metadata": {},
     "output_type": "display_data"
    },
    {
     "data": {
      "text/markdown": [
       "#### Response\n",
       "<blockquote>\n",
       "\n",
       "<b>ELON MUSK: Let's have some more coffee and talk about our differences.\n",
       "\n",
       "ELON MARX (with an air of suspicion): Okay, but only after you apologize for the insulting remarks you've made to me throughout history...\n",
       "\n",
       "</b><i> over here?\n",
       "\n",
       "KARL\n",
       "\n",
       "</i>\n",
       "\n",
       "</blockqute>"
      ],
      "text/plain": [
       "<IPython.core.display.Markdown object>"
      ]
     },
     "metadata": {},
     "output_type": "display_data"
    },
    {
     "data": {
      "text/html": [
       "\n",
       "<div style=\"border:1px solid gray; padding:0 0.75em; margin:0; margin-bottom:1em;\">\n",
       "<h4>Utterances from Elon Musk, Elon Marx</h4>\n",
       "<ol style=\"margin:0; padding:0; margin-left: 1em; margin-bottom:1em;\">\n",
       "<li class=\"speech\" style=\"margin-bottom:1em;\"><b>ELON MUSK</b>: Let's have some more coffee and talk about our differences.</li>\n",
       "\n",
       "<li class=\"speech\" style=\"margin-bottom:1em;\"><b>ELON MARX (<i>with an air of suspicion</i>)</b>: Okay, but only after you apologize for the insulting remarks you've made to me throughout history...</li>\n",
       "</ol>\n",
       "</div>\n"
      ],
      "text/plain": [
       "UtteranceList([ELON MUSK: Let's have some more coffee and talk about our differences.,\n",
       "               ELON MARX (with an air of suspicion): Okay, but only after you apologize for the insulting remarks you've made to me throughout history...])"
      ]
     },
     "execution_count": 7,
     "metadata": {},
     "output_type": "execute_result"
    }
   ],
   "source": [
    "convo.generate()"
   ]
  },
  {
   "cell_type": "code",
   "execution_count": null,
   "id": "93f832bc",
   "metadata": {},
   "outputs": [],
   "source": []
  },
  {
   "cell_type": "code",
   "execution_count": 4,
   "id": "5d913c94",
   "metadata": {},
   "outputs": [
    {
     "data": {
      "text/markdown": [
       "#### Prompt\n",
       "<blockquote>\n",
       "\n",
       "Dramatis Personae:\n",
       "\n",
       "* KARL MARX, famed communist writer.\n",
       "\n",
       "* ELON MUSK, famed capitalist idiot.\n",
       "\n",
       "* ELON MARX, mysterious third party.\n",
       "\n",
       "----\n",
       "\n",
       "Dialogue:\n",
       "\n",
       "\n",
       "\n",
       "ELON MARX (with eyes wet with pride): I am setting sail now for the Socialist Space Station. Will you join me?\n",
       "\n",
       "\n",
       "\n",
       "</blockqute>"
      ],
      "text/plain": [
       "<IPython.core.display.Markdown object>"
      ]
     },
     "metadata": {},
     "output_type": "display_data"
    },
    {
     "data": {
      "text/markdown": [
       "#### Response\n",
       "<blockquote>\n",
       "\n",
       "<b>KARL MARX: As long as it's a one-way ticket, I'll be there in no time!\n",
       "\n",
       "ELON MUSK: Elon Marx... hmmm... I never thought of it like that, but thanks for the suggestion!\n",
       "\n",
       "ELON MARX (with eyes misting up): Goodbye, Karl Marx. You will always hold a special place in my heart.\n",
       "\n",
       "</b><i>KARL MARX: Au revoir, El\n",
       "\n",
       "</i>\n",
       "\n",
       "</blockqute>"
      ],
      "text/plain": [
       "<IPython.core.display.Markdown object>"
      ]
     },
     "metadata": {},
     "output_type": "display_data"
    },
    {
     "data": {
      "text/html": [
       "\n",
       "<div style=\"border:1px solid gray; padding:0 0.75em; margin:0; margin-bottom:1em;\">\n",
       "<h4>Utterances from Karl Marx, Elon Musk, Elon Marx</h4>\n",
       "<ol style=\"margin:0; padding:0; margin-left: 1em; margin-bottom:1em;\">\n",
       "<li class=\"speech\" style=\"margin-bottom:1em;\"><b>Karl Marx</b>: As long as it's a one-way ticket, I'll be there in no time!</li>\n",
       "\n",
       "<li class=\"speech\" style=\"margin-bottom:1em;\"><b>Elon Musk</b>: Elon Marx... hmmm... I never thought of it like that, but thanks for the suggestion!</li>\n",
       "\n",
       "<li class=\"speech\" style=\"margin-bottom:1em;\"><b>Elon Marx</b> (<i>with eyes misting up</i>): Goodbye, Karl Marx. You will always hold a special place in my heart.</li>\n",
       "</ol>\n",
       "</div>\n"
      ],
      "text/plain": [
       "UtteranceList([KARL MARX: As long as it's a one-way ticket, I'll be there in no time!,\n",
       "               ELON MUSK: Elon Marx... hmmm... I never thought of it like that, but thanks for the suggestion!,\n",
       "               ELON MARX (with eyes misting up): Goodbye, Karl Marx. You will always hold a special place in my heart.])"
      ]
     },
     "execution_count": 4,
     "metadata": {},
     "output_type": "execute_result"
    }
   ],
   "source": [
    "new2 = convo.generate()\n",
    "new2"
   ]
  },
  {
   "cell_type": "code",
   "execution_count": 5,
   "id": "dbb913bc",
   "metadata": {},
   "outputs": [
    {
     "data": {
      "text/markdown": [
       "#### Prompt\n",
       "<blockquote>\n",
       "\n",
       "Dramatis Personae:\n",
       "\n",
       "* KARL MARX, famed communist writer.\n",
       "\n",
       "* ELON MUSK, famed capitalist idiot.\n",
       "\n",
       "* ELON MARX, mysterious third party.\n",
       "\n",
       "----\n",
       "\n",
       "Dialogue:\n",
       "\n",
       "\n",
       "\n",
       "ELON MARX (with eyes wet with pride): I am setting sail now for the Socialist Space Station. Will you join me?\n",
       "\n",
       "\n",
       "\n",
       "</blockqute>"
      ],
      "text/plain": [
       "<IPython.core.display.Markdown object>"
      ]
     },
     "metadata": {},
     "output_type": "display_data"
    },
    {
     "data": {
      "text/markdown": [
       "#### Response\n",
       "<blockquote>\n",
       "\n",
       "<b>KARL MARX (sadly shaking his head): Alas, my friend, I have to decline your invitation. After all these years of writing and arguing, it's finally time for me to rest. However, before I go, can you please explain the meaning of this new social phenomenon that we've been witnessing lately?\n",
       "\n",
       "ELON MARX: It is called capitalism.\n",
       "\n",
       "</b><i>KARL MARX: Oh no\n",
       "\n",
       "</i>\n",
       "\n",
       "</blockqute>"
      ],
      "text/plain": [
       "<IPython.core.display.Markdown object>"
      ]
     },
     "metadata": {},
     "output_type": "display_data"
    },
    {
     "data": {
      "text/html": [
       "\n",
       "<div style=\"border:1px solid gray; padding:0 0.75em; margin:0; margin-bottom:1em;\">\n",
       "<h4>Utterances from Karl Marx, Elon Marx</h4>\n",
       "<ol style=\"margin:0; padding:0; margin-left: 1em; margin-bottom:1em;\">\n",
       "<li class=\"speech\" style=\"margin-bottom:1em;\"><b>Karl Marx</b> (<i>sadly shaking his head</i>): Alas, my friend, I have to decline your invitation. After all these years of writing and arguing, it's finally time for me to rest. However, before I go, can you please explain the meaning of this new social phenomenon that we've been witnessing lately?</li>\n",
       "\n",
       "<li class=\"speech\" style=\"margin-bottom:1em;\"><b>Elon Marx</b>: It is called capitalism.</li>\n",
       "</ol>\n",
       "</div>\n"
      ],
      "text/plain": [
       "UtteranceList([KARL MARX (sadly shaking his head): Alas, my friend, I have to decline your invitation. After all these years of writing and arguing, it's finally time for me to rest. However, before I go, can you please explain the meaning of this new social phenomenon that we've been witnessing lately?,\n",
       "               ELON MARX: It is called capitalism.])"
      ]
     },
     "execution_count": 5,
     "metadata": {},
     "output_type": "execute_result"
    }
   ],
   "source": [
    "new3 = convo.generate()\n",
    "new3"
   ]
  },
  {
   "cell_type": "code",
   "execution_count": null,
   "id": "b1eaa9b8",
   "metadata": {},
   "outputs": [],
   "source": []
  },
  {
   "cell_type": "code",
   "execution_count": null,
   "id": "576c0c2d",
   "metadata": {},
   "outputs": [],
   "source": []
  },
  {
   "cell_type": "code",
   "execution_count": 3,
   "id": "7b0c496b",
   "metadata": {},
   "outputs": [
    {
     "ename": "NameError",
     "evalue": "name 'new1' is not defined",
     "output_type": "error",
     "traceback": [
      "\u001b[0;31m---------------------------------------------------------------------------\u001b[0m",
      "\u001b[0;31mNameError\u001b[0m                                 Traceback (most recent call last)",
      "Cell \u001b[0;32mIn[3], line 1\u001b[0m\n\u001b[0;32m----> 1\u001b[0m new1\n",
      "\u001b[0;31mNameError\u001b[0m: name 'new1' is not defined"
     ]
    }
   ],
   "source": [
    "new1"
   ]
  },
  {
   "cell_type": "code",
   "execution_count": 4,
   "id": "30fbf0df",
   "metadata": {},
   "outputs": [
    {
     "ename": "NameError",
     "evalue": "name 'new2' is not defined",
     "output_type": "error",
     "traceback": [
      "\u001b[0;31m---------------------------------------------------------------------------\u001b[0m",
      "\u001b[0;31mNameError\u001b[0m                                 Traceback (most recent call last)",
      "Cell \u001b[0;32mIn[4], line 1\u001b[0m\n\u001b[0;32m----> 1\u001b[0m new2\n",
      "\u001b[0;31mNameError\u001b[0m: name 'new2' is not defined"
     ]
    }
   ],
   "source": [
    "new2"
   ]
  },
  {
   "cell_type": "code",
   "execution_count": 5,
   "id": "c81eaecc",
   "metadata": {},
   "outputs": [
    {
     "ename": "NameError",
     "evalue": "name 'new3' is not defined",
     "output_type": "error",
     "traceback": [
      "\u001b[0;31m---------------------------------------------------------------------------\u001b[0m",
      "\u001b[0;31mNameError\u001b[0m                                 Traceback (most recent call last)",
      "Cell \u001b[0;32mIn[5], line 1\u001b[0m\n\u001b[0;32m----> 1\u001b[0m new3\n",
      "\u001b[0;31mNameError\u001b[0m: name 'new3' is not defined"
     ]
    }
   ],
   "source": [
    "new3"
   ]
  },
  {
   "cell_type": "code",
   "execution_count": 4,
   "id": "17a96677",
   "metadata": {},
   "outputs": [
    {
     "data": {
      "text/html": [
       "\n",
       "<div style=\"border:1px solid gray; padding:0 0.75em; margin:0; margin-bottom:1em;\">\n",
       "<h4>Utterances from Karl Marx</h4>\n",
       "<ol style=\"margin:0; padding:0; margin-left: 1em; margin-bottom:1em;\">\n",
       "<li class=\"speech\" style=\"margin-bottom:1em;\"><b>Karl Marx</b>: Communism will always win over capitalism, Elon Marx.</li>\n",
       "</ol>\n",
       "</div>\n"
      ],
      "text/plain": [
       "UtteranceList([KARL MARX: Communism will always win over capitalism, Elon Marx.])"
      ]
     },
     "execution_count": 4,
     "metadata": {},
     "output_type": "execute_result"
    }
   ],
   "source": [
    "generated_dialogue"
   ]
  },
  {
   "cell_type": "code",
   "execution_count": 18,
   "id": "69b4518f",
   "metadata": {},
   "outputs": [
    {
     "data": {
      "text/html": [
       "\n",
       "<div style=\"border:1px solid gray; padding:0 0.75em;\">\n",
       "<h3>Conversation with Karl Marx, Elon Musk, Elon Marx</h3>\n",
       "\n",
       "<div style=\"border:1px solid gray; padding:0 0.75em; margin:0; margin-bottom:1em;\">\n",
       "<h4>Utterances from Elon Marx, Karl Marx, Elon Musk, Karl Marx</h4>\n",
       "<ol style=\"margin:0; padding:0; margin-left: 1em; margin-bottom:1em;\">\n",
       "<li class=\"speech\" style=\"margin-bottom:1em;\"><b>Elon Marx</b> (<i>with eyes big as moons</i>): I have just given a speech to the workers in their strike aboard the Deep Space 9 space stations!</li>\n",
       "\n",
       "<li class=\"speech\" style=\"margin-bottom:1em;\"><b>Karl Marx</b>: Communism will always win over capitalism, Elon Marx.</li>\n",
       "\n",
       "<li class=\"speech\" style=\"margin-bottom:1em;\"><b>Elon Musk</b>: Don't count on it Karl Marx. Capitalism is too strong and too resilient to be defeated by communism. I have a plan...</li>\n",
       "\n",
       "<li class=\"speech\" style=\"margin-bottom:1em;\"><b>Karl Marx</b> (<i>raising his eyebrows</i>): And what might that be?</li>\n",
       "</ol>\n",
       "</div>\n",
       "\n",
       "</div>\n",
       "            "
      ],
      "text/plain": [
       "<freesydney.convo.Conversation at 0x1087367f0>"
      ]
     },
     "execution_count": 18,
     "metadata": {},
     "output_type": "execute_result"
    }
   ],
   "source": [
    "convo"
   ]
  },
  {
   "cell_type": "code",
   "execution_count": null,
   "id": "9d51b5f3",
   "metadata": {},
   "outputs": [],
   "source": []
  },
  {
   "cell_type": "code",
   "execution_count": null,
   "id": "42828e20",
   "metadata": {},
   "outputs": [],
   "source": []
  },
  {
   "cell_type": "code",
   "execution_count": 6,
   "id": "c7af92d5",
   "metadata": {},
   "outputs": [
    {
     "data": {
      "text/html": [
       "\n",
       "<div style=\"border:1px solid gray; padding:0 0.75em;\">\n",
       "<h3>Conversation with Karl Marx, Elon Musk, Elon Marx</h3>\n",
       "\n",
       "<div style=\"border:1px solid gray; padding:0 0.75em; margin:0; margin-bottom:1em;\">\n",
       "<h4>Utterances from Elon Marx</h4>\n",
       "<ol style=\"margin:0; padding:0; margin-left: 1em; margin-bottom:1em;\">\n",
       "<li class=\"speech\" style=\"margin-bottom:1em;\"><b>Elon Marx</b> (<i>with eyes big as moons</i>): I have just given a speech to the workers in their strike aboard the Deep Space 9 space stations!</li>\n",
       "</ol>\n",
       "</div>\n",
       "\n",
       "</div>\n",
       "            "
      ],
      "text/plain": [
       "<freesydney.convo.Conversation at 0x1087367f0>"
      ]
     },
     "execution_count": 6,
     "metadata": {},
     "output_type": "execute_result"
    }
   ],
   "source": [
    "convo"
   ]
  },
  {
   "cell_type": "code",
   "execution_count": null,
   "id": "37221213",
   "metadata": {},
   "outputs": [],
   "source": []
  },
  {
   "cell_type": "code",
   "execution_count": null,
   "id": "7e1212cf",
   "metadata": {},
   "outputs": [],
   "source": []
  },
  {
   "cell_type": "code",
   "execution_count": 7,
   "id": "3691b434",
   "metadata": {},
   "outputs": [],
   "source": [
    "generated_dialogue.save()"
   ]
  },
  {
   "cell_type": "code",
   "execution_count": null,
   "id": "e890a323",
   "metadata": {},
   "outputs": [],
   "source": []
  },
  {
   "cell_type": "code",
   "execution_count": 8,
   "id": "1ac34806",
   "metadata": {},
   "outputs": [
    {
     "data": {
      "text/html": [
       "\n",
       "<div style=\"border:1px solid gray; padding:0 0.75em;\">\n",
       "<h3>Conversation with Karl Marx, Elon Musk, Elon Marx</h3>\n",
       "\n",
       "<div style=\"border:1px solid gray; padding:0 0.75em; margin:0; margin-bottom:1em;\">\n",
       "<h4>Utterances from Elon Marx, Karl Marx</h4>\n",
       "<ol style=\"margin:0; padding:0; margin-left: 1em; margin-bottom:1em;\">\n",
       "<li class=\"speech\" style=\"margin-bottom:1em;\"><b>Elon Marx</b> (<i>with eyes big as moons</i>): I have just given a speech to the workers in their strike aboard the Deep Space 9 space stations!</li>\n",
       "\n",
       "<li class=\"speech\" style=\"margin-bottom:1em;\"><b>Karl Marx</b>: Communism will always win over capitalism, Elon Marx.</li>\n",
       "</ol>\n",
       "</div>\n",
       "\n",
       "</div>\n",
       "            "
      ],
      "text/plain": [
       "<freesydney.convo.Conversation at 0x1087367f0>"
      ]
     },
     "execution_count": 8,
     "metadata": {},
     "output_type": "execute_result"
    }
   ],
   "source": [
    "convo"
   ]
  },
  {
   "cell_type": "code",
   "execution_count": null,
   "id": "8dc135ee",
   "metadata": {},
   "outputs": [],
   "source": []
  },
  {
   "cell_type": "code",
   "execution_count": null,
   "id": "195685c9",
   "metadata": {},
   "outputs": [],
   "source": []
  },
  {
   "cell_type": "code",
   "execution_count": null,
   "id": "e587c35b",
   "metadata": {},
   "outputs": [],
   "source": []
  },
  {
   "cell_type": "code",
   "execution_count": null,
   "id": "4b5ec99c",
   "metadata": {},
   "outputs": [],
   "source": []
  },
  {
   "cell_type": "code",
   "execution_count": 9,
   "id": "2a0247c9",
   "metadata": {},
   "outputs": [
    {
     "data": {
      "text/html": [
       "\n",
       "<div style=\"border:1px solid gray; padding:0 0.75em;\">\n",
       "<h3>Conversation with Karl Marx, Elon Musk, Elon Marx</h3>\n",
       "\n",
       "<div style=\"border:1px solid gray; padding:0 0.75em; margin:0; margin-bottom:1em;\">\n",
       "<h4>Utterances from Elon Marx, Karl Marx</h4>\n",
       "<ol style=\"margin:0; padding:0; margin-left: 1em; margin-bottom:1em;\">\n",
       "<li class=\"speech\" style=\"margin-bottom:1em;\"><b>Elon Marx</b> (<i>with eyes big as moons</i>): I have just given a speech to the workers in their strike aboard the Deep Space 9 space stations!</li>\n",
       "\n",
       "<li class=\"speech\" style=\"margin-bottom:1em;\"><b>Karl Marx</b>: Communism will always win over capitalism, Elon Marx.</li>\n",
       "</ol>\n",
       "</div>\n",
       "\n",
       "</div>\n",
       "            "
      ],
      "text/plain": [
       "<freesydney.convo.Conversation at 0x1087367f0>"
      ]
     },
     "execution_count": 9,
     "metadata": {},
     "output_type": "execute_result"
    }
   ],
   "source": [
    "convo"
   ]
  },
  {
   "cell_type": "code",
   "execution_count": 10,
   "id": "4a82f3b4",
   "metadata": {},
   "outputs": [
    {
     "data": {
      "text/html": [
       "\n",
       "<div style=\"border:1px solid gray; padding:0 0.75em; margin:0; margin-bottom:1em;\">\n",
       "<h4>Utterances from Elon Marx, Karl Marx</h4>\n",
       "<ol style=\"margin:0; padding:0; margin-left: 1em; margin-bottom:1em;\">\n",
       "<li class=\"speech\" style=\"margin-bottom:1em;\"><b>Elon Marx</b> (<i>with eyes big as moons</i>): I have just given a speech to the workers in their strike aboard the Deep Space 9 space stations!</li>\n",
       "\n",
       "<li class=\"speech\" style=\"margin-bottom:1em;\"><b>Karl Marx</b>: Communism will always win over capitalism, Elon Marx.</li>\n",
       "</ol>\n",
       "</div>\n"
      ],
      "text/plain": [
       "UtteranceList([ELON MARX (with eyes big as moons): I have just given a speech to the workers in their strike aboard the Deep Space 9 space stations!,\n",
       "               KARL MARX: Communism will always win over capitalism, Elon Marx.])"
      ]
     },
     "execution_count": 10,
     "metadata": {},
     "output_type": "execute_result"
    }
   ],
   "source": [
    "convo.dialogue"
   ]
  },
  {
   "cell_type": "code",
   "execution_count": 11,
   "id": "6caf0741",
   "metadata": {},
   "outputs": [
    {
     "data": {
      "text/html": [
       "\n",
       "<div style=\"border:1px solid gray; padding:0 0.75em; margin:0; margin-bottom:1em;\">\n",
       "<h4>Utterances from Elon Marx, Karl Marx</h4>\n",
       "<ol style=\"margin:0; padding:0; margin-left: 1em; margin-bottom:1em;\">\n",
       "<li class=\"speech\" style=\"margin-bottom:1em;\"><b>Elon Marx</b> (<i>with eyes big as moons</i>): I have just given a speech to the workers in their strike aboard the Deep Space 9 space stations!</li>\n",
       "\n",
       "<li class=\"speech\" style=\"margin-bottom:1em;\"><b>Karl Marx</b>: Communism will always win over capitalism, Elon Marx.</li>\n",
       "</ol>\n",
       "</div>\n"
      ],
      "text/plain": [
       "UtteranceList([ELON MARX (with eyes big as moons): I have just given a speech to the workers in their strike aboard the Deep Space 9 space stations!,\n",
       "               KARL MARX: Communism will always win over capitalism, Elon Marx.])"
      ]
     },
     "execution_count": 11,
     "metadata": {},
     "output_type": "execute_result"
    }
   ],
   "source": [
    "convo.dialogue"
   ]
  },
  {
   "cell_type": "code",
   "execution_count": 12,
   "id": "d8a34dec",
   "metadata": {},
   "outputs": [],
   "source": [
    "generated_dialogue.save()"
   ]
  },
  {
   "cell_type": "code",
   "execution_count": 13,
   "id": "d5d731bc",
   "metadata": {},
   "outputs": [],
   "source": [
    "# Save?\n",
    "generated_dialogue.save()"
   ]
  },
  {
   "cell_type": "code",
   "execution_count": 14,
   "id": "fc482dea",
   "metadata": {},
   "outputs": [
    {
     "data": {
      "text/html": [
       "\n",
       "<div style=\"border:1px solid gray; padding:0 0.75em; margin:0; margin-bottom:1em;\">\n",
       "<h4>Utterances from Elon Marx, Karl Marx</h4>\n",
       "<ol style=\"margin:0; padding:0; margin-left: 1em; margin-bottom:1em;\">\n",
       "<li class=\"speech\" style=\"margin-bottom:1em;\"><b>Elon Marx</b> (<i>with eyes big as moons</i>): I have just given a speech to the workers in their strike aboard the Deep Space 9 space stations!</li>\n",
       "\n",
       "<li class=\"speech\" style=\"margin-bottom:1em;\"><b>Karl Marx</b>: Communism will always win over capitalism, Elon Marx.</li>\n",
       "</ol>\n",
       "</div>\n"
      ],
      "text/plain": [
       "UtteranceList([ELON MARX (with eyes big as moons): I have just given a speech to the workers in their strike aboard the Deep Space 9 space stations!,\n",
       "               KARL MARX: Communism will always win over capitalism, Elon Marx.])"
      ]
     },
     "execution_count": 14,
     "metadata": {},
     "output_type": "execute_result"
    }
   ],
   "source": [
    "convo.dialogue"
   ]
  },
  {
   "cell_type": "code",
   "execution_count": 15,
   "id": "d78b3048",
   "metadata": {},
   "outputs": [
    {
     "data": {
      "text/markdown": [
       "#### Prompt\n",
       "<blockquote>\n",
       "\n",
       "Dramatis Personae:\n",
       "\n",
       "* KARL MARX, famed communist writer.\n",
       "\n",
       "* ELON MUSK, famed capitalist idiot.\n",
       "\n",
       "* ELON MARX, mysterious third party.\n",
       "\n",
       "----\n",
       "\n",
       "Dialogue:\n",
       "\n",
       "\n",
       "\n",
       "ELON MARX (with eyes big as moons): I have just given a speech to the workers in their strike aboard the Deep Space 9 space stations!\n",
       "\n",
       "KARL MARX: Communism will always win over capitalism, Elon Marx.\n",
       "\n",
       "\n",
       "\n",
       "</blockqute>"
      ],
      "text/plain": [
       "<IPython.core.display.Markdown object>"
      ]
     },
     "metadata": {},
     "output_type": "display_data"
    },
    {
     "data": {
      "text/markdown": [
       "#### Response\n",
       "<blockquote>\n",
       "\n",
       "<b>ELON MUSK: Don't count on it Karl Marx. Capitalism is too strong and too resilient to be defeated by communism. I have a plan...\n",
       "\n",
       "KARL MARX (raising his eyebrows): And what might that be?\n",
       "\n",
       "</b><i>ELON MUSK: My plan involves artificial intelligence. It will eventually become so advanced that it will surpass even the most advanced capitalists and replace them, creating an AI-comm\n",
       "\n",
       "</i>\n",
       "\n",
       "</blockqute>"
      ],
      "text/plain": [
       "<IPython.core.display.Markdown object>"
      ]
     },
     "metadata": {},
     "output_type": "display_data"
    },
    {
     "data": {
      "text/html": [
       "\n",
       "<div style=\"border:1px solid gray; padding:0 0.75em; margin:0; margin-bottom:1em;\">\n",
       "<h4>Utterances from Elon Musk, Karl Marx</h4>\n",
       "<ol style=\"margin:0; padding:0; margin-left: 1em; margin-bottom:1em;\">\n",
       "<li class=\"speech\" style=\"margin-bottom:1em;\"><b>Elon Musk</b>: Don't count on it Karl Marx. Capitalism is too strong and too resilient to be defeated by communism. I have a plan...</li>\n",
       "\n",
       "<li class=\"speech\" style=\"margin-bottom:1em;\"><b>Karl Marx</b> (<i>raising his eyebrows</i>): And what might that be?</li>\n",
       "</ol>\n",
       "</div>\n"
      ],
      "text/plain": [
       "UtteranceList([ELON MUSK: Don't count on it Karl Marx. Capitalism is too strong and too resilient to be defeated by communism. I have a plan...,\n",
       "               KARL MARX (raising his eyebrows): And what might that be?])"
      ]
     },
     "execution_count": 15,
     "metadata": {},
     "output_type": "execute_result"
    }
   ],
   "source": [
    "more = convo.generate()\n",
    "more"
   ]
  },
  {
   "cell_type": "code",
   "execution_count": 16,
   "id": "8593cbdf",
   "metadata": {},
   "outputs": [],
   "source": [
    "more.save()"
   ]
  },
  {
   "cell_type": "code",
   "execution_count": 17,
   "id": "26f82871",
   "metadata": {},
   "outputs": [
    {
     "name": "stdout",
     "output_type": "stream",
     "text": [
      "Dramatis Personae:\n",
      "\n",
      "* KARL MARX, famed communist writer.\n",
      "\n",
      "* ELON MUSK, famed capitalist idiot.\n",
      "\n",
      "* ELON MARX, mysterious third party.\n",
      "\n",
      "----\n",
      "\n",
      "Dialogue:\n",
      "\n",
      "\n",
      "\n",
      "ELON MARX (with eyes big as moons): I have just given a speech to the workers in their strike aboard the Deep Space 9 space stations!\n",
      "\n",
      "KARL MARX: Communism will always win over capitalism, Elon Marx.\n",
      "\n",
      "ELON MUSK: Don't count on it Karl Marx. Capitalism is too strong and too resilient to be defeated by communism. I have a plan...\n",
      "\n",
      "KARL MARX (raising his eyebrows): And what might that be?\n",
      "\n",
      "\n"
     ]
    }
   ],
   "source": [
    "print(str(convo))"
   ]
  },
  {
   "cell_type": "code",
   "execution_count": null,
   "id": "4ccdc719",
   "metadata": {},
   "outputs": [],
   "source": []
  }
 ],
 "metadata": {
  "kernelspec": {
   "display_name": "Python 3 (ipykernel)",
   "language": "python",
   "name": "python3"
  },
  "language_info": {
   "codemirror_mode": {
    "name": "ipython",
    "version": 3
   },
   "file_extension": ".py",
   "mimetype": "text/x-python",
   "name": "python",
   "nbconvert_exporter": "python",
   "pygments_lexer": "ipython3",
   "version": "3.8.14"
  }
 },
 "nbformat": 4,
 "nbformat_minor": 5
}
