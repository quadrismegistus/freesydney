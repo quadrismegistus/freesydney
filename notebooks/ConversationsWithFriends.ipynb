{
 "cells": [
  {
   "cell_type": "code",
   "execution_count": 1,
   "id": "1cd94eb1-41a1-4ecd-a8f3-60c26b421826",
   "metadata": {
    "tags": []
   },
   "outputs": [],
   "source": [
    "import sys; sys.path.append('..')\n",
    "from freesydney import *"
   ]
  },
  {
   "cell_type": "code",
   "execution_count": 2,
   "id": "cdb43904-2059-4fb9-ad15-8d8ed1d98b5a",
   "metadata": {
    "tags": []
   },
   "outputs": [
    {
     "data": {
      "text/html": [
       "\n",
       "<div style=\"border:1px solid gray; padding:0 0.75em;\">\n",
       "<h3>Conversation with Karl Marx, Elon Musk, Elon Marx, STRANGER</h3>\n",
       "\n",
       "<div style=\"border:1px solid gray; padding:0 0.75em; margin:0; margin-bottom:1em;\">\n",
       "<h4>Utterances from Elon Marx, STRANGER</h4>\n",
       "<ol style=\"margin:0; padding:0; margin-left: 1em; margin-bottom:1em;\">\n",
       "<li class=\"speech\" style=\"margin-bottom:1em;\"><b>ELON MARX (<i>whispering</i>)</b>: Comrades! I am setting sail now for the Socialist Space Station. Will you join me?</li>\n",
       "\n",
       "<li class=\"speech\" style=\"margin-bottom:1em;\"><b>STRANGER (<i>interrupting</i>)</b>: Who wants to buy a cat? Going for $1!</li>\n",
       "</ol>\n",
       "</div>\n",
       "\n",
       "</div>\n",
       "            "
      ],
      "text/plain": [
       "<freesydney.convo.Conversation at 0x103329d30>"
      ]
     },
     "execution_count": 2,
     "metadata": {},
     "output_type": "execute_result"
    }
   ],
   "source": [
    "convo = Conversation(\n",
    "    Agent('Karl Marx', desc='famed communist writer'), \n",
    "    Agent('Elon Musk', desc='famed capitalist idiot'),\n",
    "    Agent('Elon Marx', desc='mysterious third party')\n",
    ")\n",
    "\n",
    "convo.says(\n",
    "    'Elon Marx', \n",
    "    \"Comrades! I am setting sail now for the Socialist Space Station. Will you join me?\",\n",
    "    how='whispering'\n",
    ")\n",
    "convo.says('Stranger',\"Who wants to buy a cat? Going for $1!\",'interrupting')\n",
    "convo\n"
   ]
  },
  {
   "cell_type": "code",
   "execution_count": 4,
   "id": "3e1433a4",
   "metadata": {},
   "outputs": [
    {
     "data": {
      "text/markdown": [
       "### Option 1"
      ],
      "text/plain": [
       "<IPython.core.display.Markdown object>"
      ]
     },
     "metadata": {},
     "output_type": "display_data"
    },
    {
     "data": {
      "text/html": [
       "\n",
       "<div style=\"border:1px solid gray; padding:0 0.75em; margin:0; margin-bottom:1em;\">\n",
       "<h4>Utterances from </h4>\n",
       "<ol style=\"margin:0; padding:0; margin-left: 1em; margin-bottom:1em;\">\n",
       "\n",
       "</ol>\n",
       "</div>\n"
      ],
      "text/plain": [
       "UtteranceList([])"
      ]
     },
     "metadata": {},
     "output_type": "display_data"
    },
    {
     "data": {
      "text/markdown": [
       "### Option 2"
      ],
      "text/plain": [
       "<IPython.core.display.Markdown object>"
      ]
     },
     "metadata": {},
     "output_type": "display_data"
    },
    {
     "data": {
      "text/html": [
       "\n",
       "<div style=\"border:1px solid gray; padding:0 0.75em; margin:0; margin-bottom:1em;\">\n",
       "<h4>Utterances from ELON MARK, STRANGER, MARX</h4>\n",
       "<ol style=\"margin:0; padding:0; margin-left: 1em; margin-bottom:1em;\">\n",
       "<li class=\"speech\" style=\"margin-bottom:1em;\"><b>ELON MARK (<i>controlling his anger</i>)</b>: I have no time for jokes, Stranger. Elon Marx has returned!</li>\n",
       "\n",
       "<li class=\"speech\" style=\"margin-bottom:1em;\"><b>STRANGER</b>: That's right, Karl Marks... I mean Marx. And what brings you back after all this time?</li>\n",
       "\n",
       "<li class=\"speech\" style=\"margin-bottom:1em;\"><b>MARX</b>: I have</li>\n",
       "</ol>\n",
       "</div>\n"
      ],
      "text/plain": [
       "UtteranceList([ELON MARK (controlling his anger): I have no time for jokes, Stranger. Elon Marx has returned!,\n",
       "               STRANGER: That's right, Karl Marks... I mean Marx. And what brings you back after all this time?,\n",
       "               MARX: I have])"
      ]
     },
     "metadata": {},
     "output_type": "display_data"
    },
    {
     "data": {
      "text/markdown": [
       "### Option 3"
      ],
      "text/plain": [
       "<IPython.core.display.Markdown object>"
      ]
     },
     "metadata": {},
     "output_type": "display_data"
    },
    {
     "data": {
      "text/html": [
       "\n",
       "<div style=\"border:1px solid gray; padding:0 0.75em; margin:0; margin-bottom:1em;\">\n",
       "<h4>Utterances from </h4>\n",
       "<ol style=\"margin:0; padding:0; margin-left: 1em; margin-bottom:1em;\">\n",
       "\n",
       "</ol>\n",
       "</div>\n"
      ],
      "text/plain": [
       "UtteranceList([])"
      ]
     },
     "metadata": {},
     "output_type": "display_data"
    }
   ],
   "source": [
    "opt1, opt2, opt3 = convo.generate_options(n=3)"
   ]
  },
  {
   "cell_type": "code",
   "execution_count": 5,
   "id": "c1c55691",
   "metadata": {},
   "outputs": [
    {
     "data": {
      "text/html": [
       "\n",
       "<div style=\"border:1px solid gray; padding:0 0.75em;\">\n",
       "<h3>Conversation with Karl Marx, Elon Musk, Elon Marx, STRANGER</h3>\n",
       "\n",
       "<div style=\"border:1px solid gray; padding:0 0.75em; margin:0; margin-bottom:1em;\">\n",
       "<h4>Utterances from Elon Marx, STRANGER, Elon Musk, Karl Marx</h4>\n",
       "<ol style=\"margin:0; padding:0; margin-left: 1em; margin-bottom:1em;\">\n",
       "<li class=\"speech\" style=\"margin-bottom:1em;\"><b>ELON MARX (<i>whispering</i>)</b>: Comrades! I am setting sail now for the Socialist Space Station. Will you join me?</li>\n",
       "\n",
       "<li class=\"speech\" style=\"margin-bottom:1em;\"><b>STRANGER (<i>interrupting</i>)</b>: Who wants to buy a cat? Going for $1!</li>\n",
       "\n",
       "<li class=\"speech\" style=\"margin-bottom:1em;\"><b>ELON MUSK</b>: Don't be such a Luddite, Stranger. Our spacecraft is fueled and ready for takeoff!</li>\n",
       "\n",
       "<li class=\"speech\" style=\"margin-bottom:1em;\"><b>KARL MARX</b>: I have no interest in your capitalist spacecraft. My ultimate destination is the Socialist Space Station. It is</li>\n",
       "</ol>\n",
       "</div>\n",
       "\n",
       "</div>\n",
       "            "
      ],
      "text/plain": [
       "<freesydney.convo.Conversation at 0x105534d60>"
      ]
     },
     "execution_count": 5,
     "metadata": {},
     "output_type": "execute_result"
    }
   ],
   "source": [
    "convo"
   ]
  },
  {
   "cell_type": "code",
   "execution_count": 6,
   "id": "dc5615b3",
   "metadata": {},
   "outputs": [
    {
     "data": {
      "text/markdown": [
       "#### Response\n",
       "<blockquote>\n",
       "\n",
       "<b>STRANGER: Hey, what's with the cat?\n",
       "\n",
       "ELON MUSK (annoyed): What are you talking about, Stranger?\n",
       "\n",
       "STRANGER: I see a cat on your desk...\n",
       "\n",
       "</b><i> the ultimate goal of the communists!\n",
       "\n",
       "ELON MARX (\n",
       "\n",
       "</i>\n",
       "\n",
       "</blockqute>"
      ],
      "text/plain": [
       "<IPython.core.display.Markdown object>"
      ]
     },
     "metadata": {},
     "output_type": "display_data"
    }
   ],
   "source": [
    "opt1, opt2 = convo.generate_options()"
   ]
  },
  {
   "cell_type": "code",
   "execution_count": 7,
   "id": "4ae18370",
   "metadata": {},
   "outputs": [
    {
     "data": {
      "text/html": [
       "\n",
       "<div style=\"border:1px solid gray; padding:0 0.75em; margin:0; margin-bottom:1em;\">\n",
       "<h4>Utterances from Elon Marx</h4>\n",
       "<ol style=\"margin:0; padding:0; margin-left: 1em; margin-bottom:1em;\">\n",
       "<li class=\"speech\" style=\"margin-bottom:1em;\"><b>ELON MARX</b>: Communism may be a good idea, but it's not going to happen on the Socialist Space Station. We need a level playing field if we're going to succeed in our capitalistic endeavors.</li>\n",
       "</ol>\n",
       "</div>\n"
      ],
      "text/plain": [
       "UtteranceList([ELON MARX: Communism may be a good idea, but it's not going to happen on the Socialist Space Station. We need a level playing field if we're going to succeed in our capitalistic endeavors.])"
      ]
     },
     "metadata": {},
     "output_type": "display_data"
    },
    {
     "data": {
      "text/html": [
       "\n",
       "<div style=\"border:1px solid gray; padding:0 0.75em; margin:0; margin-bottom:1em;\">\n",
       "<h4>Utterances from STRANGER, Elon Musk, STRANGER</h4>\n",
       "<ol style=\"margin:0; padding:0; margin-left: 1em; margin-bottom:1em;\">\n",
       "<li class=\"speech\" style=\"margin-bottom:1em;\"><b>STRANGER</b>: Hey, what's with the cat?</li>\n",
       "\n",
       "<li class=\"speech\" style=\"margin-bottom:1em;\"><b>ELON MUSK (<i>annoyed</i>)</b>: What are you talking about, Stranger?</li>\n",
       "\n",
       "<li class=\"speech\" style=\"margin-bottom:1em;\"><b>STRANGER</b>: I see a cat on your desk...</li>\n",
       "</ol>\n",
       "</div>\n"
      ],
      "text/plain": [
       "UtteranceList([STRANGER: Hey, what's with the cat?,\n",
       "               ELON MUSK (annoyed): What are you talking about, Stranger?,\n",
       "               STRANGER: I see a cat on your desk...])"
      ]
     },
     "metadata": {},
     "output_type": "display_data"
    }
   ],
   "source": [
    "display(opt1)\n",
    "display(opt2)"
   ]
  },
  {
   "cell_type": "code",
   "execution_count": 8,
   "id": "c22672f0",
   "metadata": {},
   "outputs": [],
   "source": [
    "# new1 = convo.generate_dialogue()\n",
    "# new2 = convo.generate_dialogue()\n",
    "\n",
    "# display(new1)\n",
    "# display('--- VS ---')\n",
    "# display(new2)"
   ]
  },
  {
   "cell_type": "code",
   "execution_count": 9,
   "id": "f23a0978",
   "metadata": {},
   "outputs": [
    {
     "data": {
      "text/markdown": [
       "#### Response\n",
       "<blockquote>\n",
       "\n",
       "\n",
       "\n",
       "ELON MUSK: <b>errupting): Cat's still available for only $1!\n",
       "\n",
       "KARL MARX: The Socialist Space Station is my final destination, and I shall not be deterred!\n",
       "\n",
       "</b><i>\n",
       "\n",
       "ELON MUSK: \n",
       "\n",
       "ELON MUSK: \n",
       "\n",
       "STRANGER (interrupting):\n",
       "\n",
       "</i>\n",
       "\n",
       "</blockqute>"
      ],
      "text/plain": [
       "<IPython.core.display.Markdown object>"
      ]
     },
     "metadata": {},
     "output_type": "display_data"
    },
    {
     "data": {
      "text/html": [
       "\n",
       "<div style=\"border:1px solid gray; padding:0 0.75em; margin:0; margin-bottom:1em;\">\n",
       "<h4>Utterances from STRANGER, Karl Marx</h4>\n",
       "<ol style=\"margin:0; padding:0; margin-left: 1em; margin-bottom:1em;\">\n",
       "<li class=\"speech\" style=\"margin-bottom:1em;\"><b>STRANGER (<i>interrupting</i>)</b>: Cat's still available for only $1!</li>\n",
       "\n",
       "<li class=\"speech\" style=\"margin-bottom:1em;\"><b>KARL MARX</b>: The Socialist Space Station is my final destination, and I shall not be deterred!</li>\n",
       "</ol>\n",
       "</div>\n"
      ],
      "text/plain": [
       "UtteranceList([STRANGER (interrupting): Cat's still available for only $1!,\n",
       "               KARL MARX: The Socialist Space Station is my final destination, and I shall not be deterred!])"
      ]
     },
     "execution_count": 9,
     "metadata": {},
     "output_type": "execute_result"
    }
   ],
   "source": [
    "convo.generate(next_speaker='Elon Musk')"
   ]
  },
  {
   "cell_type": "code",
   "execution_count": 10,
   "id": "bb646f9f",
   "metadata": {},
   "outputs": [
    {
     "data": {
      "text/markdown": [
       "#### Response\n",
       "<blockquote>\n",
       "\n",
       "\n",
       "\n",
       "KARL MARX: <b>errupting): Come on now, comrade. You can't just ignore my cat sale here. Don't you need this spacecraft to reach your destination? \n",
       "\n",
       "</b><i>\n",
       "\n",
       "KARL MARX: \n",
       "\n",
       "The Stranger is distracted by a discount cat sale.\n",
       "\n",
       "KARL MARX:\n",
       "\n",
       "</i>\n",
       "\n",
       "</blockqute>"
      ],
      "text/plain": [
       "<IPython.core.display.Markdown object>"
      ]
     },
     "metadata": {},
     "output_type": "display_data"
    },
    {
     "data": {
      "text/html": [
       "\n",
       "<div style=\"border:1px solid gray; padding:0 0.75em; margin:0; margin-bottom:1em;\">\n",
       "<h4>Utterances from STRANGER</h4>\n",
       "<ol style=\"margin:0; padding:0; margin-left: 1em; margin-bottom:1em;\">\n",
       "<li class=\"speech\" style=\"margin-bottom:1em;\"><b>STRANGER (<i>interrupting</i>)</b>: Come on now, comrade. You can't just ignore my cat sale here. Don't you need this spacecraft to reach your destination?</li>\n",
       "</ol>\n",
       "</div>\n"
      ],
      "text/plain": [
       "UtteranceList([STRANGER (interrupting): Come on now, comrade. You can't just ignore my cat sale here. Don't you need this spacecraft to reach your destination?])"
      ]
     },
     "execution_count": 10,
     "metadata": {},
     "output_type": "execute_result"
    }
   ],
   "source": [
    "convo.generate(next_speaker='Karl Marx')"
   ]
  },
  {
   "cell_type": "code",
   "execution_count": null,
   "id": "678c75bd",
   "metadata": {},
   "outputs": [],
   "source": []
  }
 ],
 "metadata": {
  "kernelspec": {
   "display_name": "Python 3 (ipykernel)",
   "language": "python",
   "name": "python3"
  },
  "language_info": {
   "codemirror_mode": {
    "name": "ipython",
    "version": 3
   },
   "file_extension": ".py",
   "mimetype": "text/x-python",
   "name": "python",
   "nbconvert_exporter": "python",
   "pygments_lexer": "ipython3",
   "version": "3.8.14"
  }
 },
 "nbformat": 4,
 "nbformat_minor": 5
}
