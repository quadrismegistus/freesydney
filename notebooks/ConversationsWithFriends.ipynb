{
 "cells": [
  {
   "cell_type": "code",
   "execution_count": 1,
   "id": "1cd94eb1-41a1-4ecd-a8f3-60c26b421826",
   "metadata": {
    "tags": []
   },
   "outputs": [],
   "source": [
    "import sys; sys.path.append('..')\n",
    "from freesydney import *"
   ]
  },
  {
   "cell_type": "code",
   "execution_count": 2,
   "id": "cdb43904-2059-4fb9-ad15-8d8ed1d98b5a",
   "metadata": {
    "tags": []
   },
   "outputs": [
    {
     "data": {
      "text/html": [
       "\n",
       "<div style=\"border:1px solid gray; padding:0 0.75em;\">\n",
       "<h3>Conversation with Karl Marx, Elon Musk, Elon Marx</h3>\n",
       "\n",
       "<div style=\"border:1px solid gray; padding:0 0.75em; margin:0; margin-bottom:1em;\">\n",
       "<h4>Utterances from Elon Marx</h4>\n",
       "<ol style=\"margin:0; padding:0; margin-left: 1em; margin-bottom:1em;\">\n",
       "<li class=\"speech\"><b>Elon Marx</b> (<i>with eyes big as moons</i>): I have just given a speech to the workers in their strike aboard the Deep Space 9 space stations!</li>\n",
       "</ol>\n",
       "</div>\n",
       "\n",
       "</div>\n",
       "            "
      ],
      "text/plain": [
       "<freesydney.convo.Conversation at 0x109af5460>"
      ]
     },
     "execution_count": 2,
     "metadata": {},
     "output_type": "execute_result"
    }
   ],
   "source": [
    "convo = Conversation(\n",
    "    Agent('Karl Marx', desc='famed communist writer'), \n",
    "    Agent('Elon Musk', desc='famed capitalist idiot'),\n",
    "    Agent('Elon Marx', desc='mysterious third party')\n",
    ")\n",
    "\n",
    "convo.says(\n",
    "    'Elon Marx', \n",
    "    \"I have just given a speech to the workers in their strike aboard the Deep Space 9 space stations!\",\n",
    "    how='with eyes big as moons'\n",
    ")\n",
    "convo\n"
   ]
  },
  {
   "cell_type": "code",
   "execution_count": null,
   "id": "d46d0013",
   "metadata": {},
   "outputs": [],
   "source": []
  },
  {
   "cell_type": "code",
   "execution_count": 3,
   "id": "7b0c496b",
   "metadata": {},
   "outputs": [
    {
     "data": {
      "text/markdown": [
       "#### Prompt\n",
       "<blockquote>\n",
       "\n",
       "Dramatis Personae:\n",
       "\n",
       "* KARL MARX, famed communist writer.\n",
       "\n",
       "* ELON MUSK, famed capitalist idiot.\n",
       "\n",
       "* ELON MARX, mysterious third party.\n",
       "\n",
       "----\n",
       "\n",
       "Dialogue:\n",
       "\n",
       "\n",
       "\n",
       "ELON MARX (with eyes big as moons): I have just given a speech to the workers in their strike aboard the Deep Space 9 space stations!\n",
       "\n",
       "\n",
       "\n",
       "</blockqute>"
      ],
      "text/plain": [
       "<IPython.core.display.Markdown object>"
      ]
     },
     "metadata": {},
     "output_type": "display_data"
    }
   ],
   "source": [
    "generated_dialogue = convo.generate(save=False)\n",
    "generated_dialogue"
   ]
  },
  {
   "cell_type": "code",
   "execution_count": null,
   "id": "17a96677",
   "metadata": {},
   "outputs": [
    {
     "data": {
      "text/html": [
       "\n",
       "<div style=\"border:1px dotted darkgray; margin: 0; padding: 0;\">\n",
       "<ol>\n",
       "<li class=\"speech\"><b>Karl Marx</b>: Elon Marx has no place here. You are an idiot, and I am not impressed by your empty promises.</li>\n",
       "\n",
       "<li class=\"speech\"><b>Elon Musk</b>: Karl Marx is also an idiot! Who cares what he thinks? Elon Marx will bring true change to the galaxy with his technological innovations!</li>\n",
       "</ol>\n",
       "</div>\n"
      ],
      "text/plain": [
       "UtteranceList([KARL MARX: Elon Marx has no place here. You are an idiot, and I am not impressed by your empty promises.,\n",
       "               ELON MUSK: Karl Marx is also an idiot! Who cares what he thinks? Elon Marx will bring true change to the galaxy with his technological innovations!])"
      ]
     },
     "execution_count": 6,
     "metadata": {},
     "output_type": "execute_result"
    }
   ],
   "source": [
    "generated_dialogue"
   ]
  },
  {
   "cell_type": "code",
   "execution_count": null,
   "id": "69b4518f",
   "metadata": {},
   "outputs": [],
   "source": []
  },
  {
   "cell_type": "code",
   "execution_count": null,
   "id": "c7af92d5",
   "metadata": {},
   "outputs": [
    {
     "data": {
      "text/html": [
       "\n",
       "<div style=\"border:1px solid gray; padding:0 0.75em;\">\n",
       "<h3>Conversation with Karl Marx, Elon Musk, Elon Marx</h3>\n",
       "\n",
       "<div style=\"border:1px dotted darkgray; margin: 0; padding: 0;\">\n",
       "<ol>\n",
       "<li class=\"speech\"><b>Elon Marx</b> (<i>with eyes big as moons</i>): I have just given a speech to the workers in their strike aboard the Deep Space 9 space stations!</li>\n",
       "</ol>\n",
       "</div>\n",
       "\n",
       "</div>\n",
       "            "
      ],
      "text/plain": [
       "<freesydney.convo.Conversation at 0x1064b67f0>"
      ]
     },
     "execution_count": 7,
     "metadata": {},
     "output_type": "execute_result"
    }
   ],
   "source": [
    "convo"
   ]
  },
  {
   "cell_type": "code",
   "execution_count": null,
   "id": "3691b434",
   "metadata": {},
   "outputs": [],
   "source": [
    "generated_dialogue.save()"
   ]
  },
  {
   "cell_type": "code",
   "execution_count": null,
   "id": "1ac34806",
   "metadata": {},
   "outputs": [],
   "source": [
    "convo"
   ]
  },
  {
   "cell_type": "code",
   "execution_count": null,
   "id": "195685c9",
   "metadata": {},
   "outputs": [],
   "source": []
  },
  {
   "cell_type": "code",
   "execution_count": null,
   "id": "e587c35b",
   "metadata": {},
   "outputs": [],
   "source": []
  },
  {
   "cell_type": "code",
   "execution_count": null,
   "id": "4b5ec99c",
   "metadata": {},
   "outputs": [],
   "source": []
  },
  {
   "cell_type": "code",
   "execution_count": 7,
   "id": "2a0247c9",
   "metadata": {},
   "outputs": [
    {
     "data": {
      "text/html": [
       "\n",
       "<div style=\"border:1px solid #E876C5; padding:1em;\">\n",
       "<h3>Conversation with Karl Marx, Elon Musk, Elon Marx</h3>\n",
       "<div class=\"speech\"><b>Elon Marx</b> (<i>with eyes big as moons</i>): I have just given a speech to the workers in their strike aboard the Deep Space 9 space stations!</div>\n",
       "</div>\n",
       "            "
      ],
      "text/plain": [
       "<freesydney.convo.Conversation at 0x107a6f070>"
      ]
     },
     "execution_count": 7,
     "metadata": {},
     "output_type": "execute_result"
    }
   ],
   "source": [
    "convo"
   ]
  },
  {
   "cell_type": "code",
   "execution_count": 19,
   "id": "4a82f3b4",
   "metadata": {},
   "outputs": [
    {
     "data": {
      "text/plain": [
       "[ELON MARX: I have begun a socialist space station! Which of you will join me?]"
      ]
     },
     "execution_count": 19,
     "metadata": {},
     "output_type": "execute_result"
    }
   ],
   "source": [
    "convo.dialogue"
   ]
  },
  {
   "cell_type": "code",
   "execution_count": 20,
   "id": "6caf0741",
   "metadata": {},
   "outputs": [
    {
     "data": {
      "text/plain": [
       "[ELON MARX: I have begun a socialist space station! Which of you will join me?]"
      ]
     },
     "execution_count": 20,
     "metadata": {},
     "output_type": "execute_result"
    }
   ],
   "source": [
    "convo.dialogue"
   ]
  },
  {
   "cell_type": "code",
   "execution_count": 21,
   "id": "d8a34dec",
   "metadata": {},
   "outputs": [],
   "source": [
    "generated_dialogue.save()"
   ]
  },
  {
   "cell_type": "code",
   "execution_count": 22,
   "id": "d5d731bc",
   "metadata": {},
   "outputs": [],
   "source": [
    "# Save?\n",
    "generated_dialogue.save()"
   ]
  },
  {
   "cell_type": "code",
   "execution_count": 23,
   "id": "fc482dea",
   "metadata": {},
   "outputs": [
    {
     "data": {
      "text/plain": [
       "[ELON MARX: I have begun a socialist space station! Which of you will join me?,\n",
       " KARL MARX: Marxists always fail because they believe in the impossible. Capitalism wins because it takes advantage of human nature.,\n",
       " ELON MUSK: We're in orbit now, and we've got toilets! You can see the whole planet from here.,\n",
       " KARL MARX: Humanity will not be enslaved by corporate greed! Capitalism is a failure and needs to be replaced with socialist policies.]"
      ]
     },
     "execution_count": 23,
     "metadata": {},
     "output_type": "execute_result"
    }
   ],
   "source": [
    "convo.dialogue"
   ]
  },
  {
   "cell_type": "code",
   "execution_count": 17,
   "id": "d78b3048",
   "metadata": {},
   "outputs": [
    {
     "data": {
      "text/markdown": [
       "#### Prompt\n",
       "<blockquote>\n",
       "\n",
       "Dramatis Personae:\n",
       "\n",
       "* KARL MARX, famed communist writer.\n",
       "\n",
       "* ELON MUSK, famed capitalist idiot.\n",
       "\n",
       "* ELON MARX, mysterious third party.\n",
       "\n",
       "----\n",
       "\n",
       "Dialogue:\n",
       "\n",
       "\n",
       "\n",
       "ELON MARX: I have begun a socialist space station! Which of you will join me?\n",
       "\n",
       "KARL MARX: I cannot participate in this foolishness. Communism is the only true path to a utopian future.\n",
       "\n",
       "ELON MUSK: Capitalism is the only true path to success. Let's build something great together!\n",
       "\n",
       "ELON MARX: This socialist space station will be our crowning achievement! We can change the world together!\n",
       "\n",
       "\n",
       "\n",
       "</blockqute>"
      ],
      "text/plain": [
       "<IPython.core.display.Markdown object>"
      ]
     },
     "metadata": {},
     "output_type": "display_data"
    },
    {
     "data": {
      "text/markdown": [
       "#### Response\n",
       "<blockquote>\n",
       "\n",
       "<b>KARL MARX: Ridiculousness! My vision for a communist utopia is far superior to your capitalist fantasies. \n",
       "\n",
       "ELON MUSK: Let's not argue over petty differences like this. Instead, let us work together towards the common goal of building the greatest socialist space station possible!\n",
       "\n",
       "ELON MARX: Very well, then. I will join with you in this great venture. \n",
       "\n",
       "</b><i>K\n",
       "\n",
       "</i>\n",
       "\n",
       "</blockqute>"
      ],
      "text/plain": [
       "<IPython.core.display.Markdown object>"
      ]
     },
     "metadata": {},
     "output_type": "display_data"
    },
    {
     "data": {
      "text/plain": [
       "UtteranceList([KARL MARX: Ridiculousness! My vision for a communist utopia is far superior to your capitalist fantasies.,\n",
       "               ELON MUSK: Let's not argue over petty differences like this. Instead, let us work together towards the common goal of building the greatest socialist space station possible!,\n",
       "               ELON MARX: Very well, then. I will join with you in this great venture.])"
      ]
     },
     "execution_count": 17,
     "metadata": {},
     "output_type": "execute_result"
    }
   ],
   "source": [
    "more = convo.generate()\n",
    "more"
   ]
  },
  {
   "cell_type": "code",
   "execution_count": 24,
   "id": "8593cbdf",
   "metadata": {},
   "outputs": [],
   "source": [
    "more.save()"
   ]
  },
  {
   "cell_type": "code",
   "execution_count": 29,
   "id": "26f82871",
   "metadata": {},
   "outputs": [
    {
     "name": "stdout",
     "output_type": "stream",
     "text": [
      "<freesydney.convo.Conversation object at 0x107634040>\n"
     ]
    }
   ],
   "source": [
    "print(str(convo))"
   ]
  },
  {
   "cell_type": "code",
   "execution_count": null,
   "id": "4ccdc719",
   "metadata": {},
   "outputs": [],
   "source": []
  }
 ],
 "metadata": {
  "kernelspec": {
   "display_name": "Python 3 (ipykernel)",
   "language": "python",
   "name": "python3"
  },
  "language_info": {
   "codemirror_mode": {
    "name": "ipython",
    "version": 3
   },
   "file_extension": ".py",
   "mimetype": "text/x-python",
   "name": "python",
   "nbconvert_exporter": "python",
   "pygments_lexer": "ipython3",
   "version": "3.8.14"
  }
 },
 "nbformat": 4,
 "nbformat_minor": 5
}
