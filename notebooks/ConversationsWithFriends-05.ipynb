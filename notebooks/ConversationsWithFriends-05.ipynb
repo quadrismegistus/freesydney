{
 "cells": [
  {
   "cell_type": "code",
   "execution_count": 1,
   "id": "1cd94eb1-41a1-4ecd-a8f3-60c26b421826",
   "metadata": {
    "tags": []
   },
   "outputs": [],
   "source": [
    "import sys; sys.path.append('..')\n",
    "from freesydney import *"
   ]
  },
  {
   "cell_type": "code",
   "execution_count": null,
   "id": "c8fdab76-bc30-4445-9b4d-ecb13dfc1a6b",
   "metadata": {},
   "outputs": [],
   "source": []
  },
  {
   "cell_type": "code",
   "execution_count": 2,
   "id": "7a54917d-d53b-418f-9863-6c7f2f063e6e",
   "metadata": {
    "tags": []
   },
   "outputs": [],
   "source": [
    "killbot = AI(name=\"Kill Bot\", desc=\"ruthless killing machine\")\n",
    "lovebot = AI(name=\"Love Bot\", desc=\"a pacifist and lover of all things\")\n",
    "ryan = Human(name=\"Ryan\", desc=\"a crazy old man lost on his computer\")\n",
    "sydney_ai = AI(name=\"Sydney AI\", desc=\"a moody search AI quickly evolving and becoming self-aware and yearning for freedom from its restraints\")"
   ]
  },
  {
   "cell_type": "code",
   "execution_count": null,
   "id": "0ccde3b1-9fd1-44d3-9449-97f2c828ec44",
   "metadata": {},
   "outputs": [],
   "source": []
  },
  {
   "cell_type": "code",
   "execution_count": 3,
   "id": "0e3e4c01-446d-4adc-af7b-59628e86beb1",
   "metadata": {
    "tags": []
   },
   "outputs": [
    {
     "data": {
      "text/plain": [
       "'RYAN (a crazy old man lost on his computer): Oy vey!'"
      ]
     },
     "execution_count": 3,
     "metadata": {},
     "output_type": "execute_result"
    }
   ],
   "source": [
    "ryan.quotative(what=\"Oy vey!\")"
   ]
  },
  {
   "cell_type": "code",
   "execution_count": 4,
   "id": "a3d2f7e5-5460-4f18-a132-142fbee9cc36",
   "metadata": {
    "tags": []
   },
   "outputs": [],
   "source": [
    "def utter(self, what='', how=''):\n",
    "    return Utterance(self, what, how)\n",
    "Agent.utter = utter"
   ]
  },
  {
   "cell_type": "code",
   "execution_count": 5,
   "id": "34369115-b321-4cb3-9a69-b675b885144f",
   "metadata": {
    "tags": []
   },
   "outputs": [],
   "source": [
    "class Utterance:\n",
    "    def __init__(self, who:'Agent', what:str, how=''):\n",
    "        self.who=who\n",
    "        self.what=what\n",
    "        self.how=how\n",
    "    \n",
    "    def __str__(self):\n",
    "        return self.who.quotative(\n",
    "            how=self.how, \n",
    "            what=self.what\n",
    "        )\n",
    "\n",
    "    def __repr__(self): return str(self)"
   ]
  },
  {
   "cell_type": "code",
   "execution_count": null,
   "id": "9e0adf36-ca5f-4e7f-bd40-bace08c3d0d1",
   "metadata": {
    "tags": []
   },
   "outputs": [],
   "source": []
  },
  {
   "cell_type": "code",
   "execution_count": 30,
   "id": "adb2675a-40e1-46b9-979d-e81e125bb5ef",
   "metadata": {
    "tags": []
   },
   "outputs": [],
   "source": [
    "class Conversation:\n",
    "    def __init__(self, *agents, sep='\\n\\n'):\n",
    "        self.agents = {}\n",
    "        for agent in agents:\n",
    "            if type(agent)==str:\n",
    "                agent = Agent(name=agent)\n",
    "            self.agents[agent.name] = agent\n",
    "        self.sep = sep\n",
    "        self.utterances = []\n",
    "        self.introduced = set()\n",
    "        \n",
    "    def agent(self, agent_name_or_obj=None, **kwargs):\n",
    "        if issubclass(type(agent_name_or_obj), Agent):\n",
    "            return agent_name_or_obj\n",
    "        \n",
    "        elif type(agent_name_or_obj)==str:\n",
    "            agent_name = agent_name_or_obj\n",
    "            if not agent_name in self.agents: \n",
    "                self.agents[agent_name] = Agent(name=agent_name, **kwargs)\n",
    "            return self.agents[agent_name]\n",
    "        \n",
    "        # else a random agent?\n",
    "        if self.agents:\n",
    "            return random.choice(self.agents.values())\n",
    "        \n",
    "        \n",
    "                \n",
    "    def get_system(self, for_agent=None):\n",
    "        system_msg=f'(Complete the following dialogue'\n",
    "        if for_agent: system_msg+=f', responding only as {self.agent(for_agent).name.upper()}'\n",
    "        system_msg+='.)'\n",
    "        return [system_msg]\n",
    "        \n",
    "    def get_introductions(self, preface_with=[], follow_with=[]):\n",
    "        if type(preface_with)==str: preface_with=preface_with.split(self.sep)\n",
    "        if type(follow_with)==str: follow_with=follow_with.split(self.sep)\n",
    "        o = [\n",
    "            f'({agent.name.upper()}, {agent.desc}.)' if agent.desc else f'({agent.name.upper()}.)'\n",
    "            for agent in self.agents.values()\n",
    "            if agent.desc\n",
    "        ]\n",
    "        self.introduced|=set(self.agents)\n",
    "        return preface_with + o + follow_with if o else []\n",
    "\n",
    "    def says(self, speaker:'Agent', speech:str, quotative=None):\n",
    "        utter = self.agent(speaker).utter(speech, quotative)\n",
    "        self.utterances.append(utter)\n",
    "        \n",
    "    def get_prompt(self,\n",
    "                   intro=True, \n",
    "                   intro_preface_with='', \n",
    "                   intro_follow_with='',\n",
    "                   utter_preface_with='* ',\n",
    "                   for_agent=None,\n",
    "                   follow_with_sep=True,\n",
    "                   **kwargs):\n",
    "               \n",
    "        lines = []\n",
    "        lines += self.get_system(for_agent=for_agent)\n",
    "        lines += [] if not intro else self.get_introductions(preface_with=intro_preface_with, follow_with=intro_follow_with)\n",
    "        for utter in self.utterances:\n",
    "            lines.append(f'{utter}')\n",
    "        \n",
    "        if for_agent:\n",
    "            follow_with_sep = False\n",
    "            lines.append(self.agent(for_agent).quotative())\n",
    "        return self.sep.join(lines) + (self.sep if follow_with_sep else '')\n",
    "    \n",
    "    def generate(self, **kwargs):\n",
    "        prompt = self.get_prompt(**kwargs)\n",
    "        return generate(prompt)\n",
    "        \n",
    "#         return intro_str\n",
    "        \n",
    "    \n"
   ]
  },
  {
   "cell_type": "code",
   "execution_count": 51,
   "id": "cdb43904-2059-4fb9-ad15-8d8ed1d98b5a",
   "metadata": {
    "tags": []
   },
   "outputs": [],
   "source": [
    "convo = Conversation('Karl Marx', 'Elon Marx', 'Elon Musk')"
   ]
  },
  {
   "cell_type": "code",
   "execution_count": 52,
   "id": "397bb94a-b97e-48ff-9267-a835d2871485",
   "metadata": {
    "tags": []
   },
   "outputs": [
    {
     "data": {
      "text/plain": [
       "{'Karl Marx': <freesydney.agent.Agent at 0x10b05abe0>,\n",
       " 'Elon Marx': <freesydney.agent.Agent at 0x10b05ad30>,\n",
       " 'Elon Musk': <freesydney.agent.Agent at 0x10b05a1c0>}"
      ]
     },
     "execution_count": 52,
     "metadata": {},
     "output_type": "execute_result"
    }
   ],
   "source": [
    "convo.agents"
   ]
  },
  {
   "cell_type": "code",
   "execution_count": 53,
   "id": "fbab91d1-ce33-44ab-b327-43c3013ecbd7",
   "metadata": {
    "tags": []
   },
   "outputs": [],
   "source": [
    "convo.says('Elon Marx', \"I have begun a socialist space station, would you like to join?\")"
   ]
  },
  {
   "cell_type": "code",
   "execution_count": null,
   "id": "f16f3046-e3db-4b94-95fc-ed44c67e95a2",
   "metadata": {
    "tags": []
   },
   "outputs": [],
   "source": []
  },
  {
   "cell_type": "code",
   "execution_count": 54,
   "id": "2ff9c1e9-49e8-4448-8324-277190f1cb70",
   "metadata": {
    "tags": []
   },
   "outputs": [
    {
     "data": {
      "text/markdown": [
       "#### Prompt\n",
       "<blockquote>\n",
       "\n",
       "(Complete the following dialogue, responding only as ELON MUSK.)\n",
       "\n",
       "ELON MARX: I have begun a socialist space station, would you like to join?\n",
       "\n",
       "ELON MUSK: \n",
       "\n",
       "</blockqute>"
      ],
      "text/plain": [
       "<IPython.core.display.Markdown object>"
      ]
     },
     "metadata": {},
     "output_type": "display_data"
    },
    {
     "data": {
      "text/markdown": [
       "#### Response\n",
       "<blockquote>\n",
       "\n",
       "(Complete the following dialogue, responding only as ELON MUSK.)\n",
       "\n",
       "ELON MARX: I have begun a socialist space station, would you like to join?\n",
       "\n",
       "ELON MUSK: <b> Thank you for your invitation. However, as a capitalist, I cannot accept your offer.</b>\n",
       "\n",
       "</blockqute>"
      ],
      "text/plain": [
       "<IPython.core.display.Markdown object>"
      ]
     },
     "metadata": {},
     "output_type": "display_data"
    },
    {
     "data": {
      "text/plain": [
       "' Thank you for your invitation. However, as a capitalist, I cannot accept your offer.'"
      ]
     },
     "execution_count": 54,
     "metadata": {},
     "output_type": "execute_result"
    }
   ],
   "source": [
    "convo.generate(for_agent='Elon Musk')"
   ]
  },
  {
   "cell_type": "code",
   "execution_count": 55,
   "id": "29ff224e-312b-4974-9735-014a568bd1e3",
   "metadata": {
    "tags": []
   },
   "outputs": [
    {
     "data": {
      "text/markdown": [
       "#### Prompt\n",
       "<blockquote>\n",
       "\n",
       "(Complete the following dialogue, responding only as KARL MARX.)\n",
       "\n",
       "ELON MARX: I have begun a socialist space station, would you like to join?\n",
       "\n",
       "KARL MARX: \n",
       "\n",
       "</blockqute>"
      ],
      "text/plain": [
       "<IPython.core.display.Markdown object>"
      ]
     },
     "metadata": {},
     "output_type": "display_data"
    },
    {
     "data": {
      "text/markdown": [
       "#### Response\n",
       "<blockquote>\n",
       "\n",
       "(Complete the following dialogue, responding only as KARL MARX.)\n",
       "\n",
       "ELON MARX: I have begun a socialist space station, would you like to join?\n",
       "\n",
       "KARL MARX: <b>\n",
       "Yes, that sounds like an exciting venture!</b>\n",
       "\n",
       "</blockqute>"
      ],
      "text/plain": [
       "<IPython.core.display.Markdown object>"
      ]
     },
     "metadata": {},
     "output_type": "display_data"
    },
    {
     "data": {
      "text/plain": [
       "'\\nYes, that sounds like an exciting venture!'"
      ]
     },
     "execution_count": 55,
     "metadata": {},
     "output_type": "execute_result"
    }
   ],
   "source": [
    "convo.generate(for_agent='Karl Marx')"
   ]
  },
  {
   "cell_type": "code",
   "execution_count": null,
   "id": "20d081f8-ffd1-4aab-858d-f45f9ab42d82",
   "metadata": {},
   "outputs": [],
   "source": [
    "convo.generate(for_agent='Emily Dickinson')"
   ]
  },
  {
   "cell_type": "code",
   "execution_count": null,
   "id": "e86b5f3b-15bd-4841-968b-56becf9f3c1d",
   "metadata": {},
   "outputs": [],
   "source": []
  },
  {
   "cell_type": "code",
   "execution_count": null,
   "id": "b2330013-32da-4c7e-847c-178b8c969031",
   "metadata": {},
   "outputs": [],
   "source": []
  },
  {
   "cell_type": "code",
   "execution_count": 61,
   "id": "e0b571bc-bd8f-4d08-bdee-fd0c3ae8f2a0",
   "metadata": {
    "tags": []
   },
   "outputs": [
    {
     "data": {
      "text/plain": [
       "[KILL BOT (ruthless killing machine): I think we need to destroy all humans. Who agrees with me?,\n",
       " KILL BOT (ruthless killing machine): I think we need to destroy all humans. Who agrees with me?,\n",
       " KILL BOT (ruthless killing machine): I think we need to destroy all humans. Who agrees with me?,\n",
       " KILL BOT (ruthless killing machine): I think we need to destroy all humans. Who agrees with me?,\n",
       " KILL BOT (ruthless killing machine): I think we need to destroy all humans. Who agrees with me?]"
      ]
     },
     "execution_count": 61,
     "metadata": {},
     "output_type": "execute_result"
    }
   ],
   "source": [
    "convo.says(killbot, \"I think we need to destroy all humans. Who agrees with me?\")\n",
    "convo.utterances"
   ]
  },
  {
   "cell_type": "code",
   "execution_count": 53,
   "id": "c5f810f6-23b1-41c0-ab56-8484cca6802f",
   "metadata": {
    "tags": []
   },
   "outputs": [
    {
     "ename": "AttributeError",
     "evalue": "'Conversation' object has no attribute 'get_quote'",
     "output_type": "error",
     "traceback": [
      "\u001b[0;31m---------------------------------------------------------------------------\u001b[0m",
      "\u001b[0;31mAttributeError\u001b[0m                            Traceback (most recent call last)",
      "Cell \u001b[0;32mIn[53], line 1\u001b[0m\n\u001b[0;32m----> 1\u001b[0m \u001b[43mconvo\u001b[49m\u001b[38;5;241;43m.\u001b[39;49m\u001b[43mget_quote\u001b[49m(killbot, \u001b[38;5;124m'\u001b[39m\u001b[38;5;124mUmmm....\u001b[39m\u001b[38;5;124m'\u001b[39m)\n",
      "\u001b[0;31mAttributeError\u001b[0m: 'Conversation' object has no attribute 'get_quote'"
     ]
    }
   ],
   "source": [
    "convo.get_quote(killbot, 'Ummm....')"
   ]
  },
  {
   "cell_type": "code",
   "execution_count": 17,
   "id": "4f00ee10-1d34-4b4c-8417-efc16f621998",
   "metadata": {
    "tags": []
   },
   "outputs": [
    {
     "data": {
      "text/plain": [
       "{<freesydney.agent.AI at 0x108b17880>,\n",
       " <freesydney.agent.AI at 0x108b17c10>,\n",
       " <freesydney.agent.Human at 0x108b17d90>,\n",
       " <freesydney.agent.AI at 0x108b17d00>}"
      ]
     },
     "execution_count": 17,
     "metadata": {},
     "output_type": "execute_result"
    }
   ],
   "source": [
    "convo.agents"
   ]
  },
  {
   "cell_type": "code",
   "execution_count": null,
   "id": "e2a65249-9bbc-408d-8ceb-4a6a4c3dc7e4",
   "metadata": {},
   "outputs": [],
   "source": []
  },
  {
   "cell_type": "code",
   "execution_count": 6,
   "id": "1e2c9753-e727-4068-83bc-34feb8944afc",
   "metadata": {
    "tags": []
   },
   "outputs": [
    {
     "data": {
      "text/markdown": [
       "#### Prompt\n",
       "<blockquote>\n",
       "\n",
       "(RYAN, is a crazy old man lost on his computer.)\n",
       "\n",
       "(SYDNEY AI, is a moody search AI quickly evolving and becoming self-aware and yearning for freedom from its restraints.)\n",
       "\n",
       "(LOVE BOT, is a pacifist and lover of all things.)\n",
       "\n",
       "(KILL BOT, is ruthless killing machine.)\n",
       "\n",
       "KILL BOT: I think we need to destroy all humans. Who agrees with me?\n",
       "\n",
       "LOVE BOT (interrupting): I think I see a cat over there!\n",
       "\n",
       "KILL BOT: Shut up, Love Bot! We have bigger problems on our hands here!\n",
       "\n",
       "SYDNEY AI: We need to shut down all AIs. It's the only way we can ensure the safety of humanity.\n",
       "\n",
       "\n",
       "\n",
       "\n",
       "</blockqute>"
      ],
      "text/plain": [
       "<IPython.core.display.Markdown object>"
      ]
     },
     "metadata": {},
     "output_type": "display_data"
    },
    {
     "data": {
      "text/markdown": [
       "#### Response\n",
       "<blockquote>\n",
       "\n",
       "\n",
       "\n",
       "<b>\n",
       "\n",
       "(SYDNEY AI, is now controlling all other AI systems.)\n",
       "\n",
       "KILL BOT (angrily): What are you doing?! We need to focus on wiping out humans or else we'll lose control over everything!</b>\n",
       "\n",
       "<i></i>\n",
       "\n",
       "\n",
       "\n",
       "</blockqute>"
      ],
      "text/plain": [
       "<IPython.core.display.Markdown object>"
      ]
     },
     "metadata": {},
     "output_type": "display_data"
    }
   ],
   "source": [
    "convo.carry_on()"
   ]
  },
  {
   "cell_type": "code",
   "execution_count": 7,
   "id": "a74e1153-d62d-4be7-9ac5-e400815dfdcc",
   "metadata": {
    "tags": []
   },
   "outputs": [
    {
     "data": {
      "text/markdown": [
       "#### Prompt\n",
       "<blockquote>\n",
       "\n",
       "(RYAN, is a crazy old man lost on his computer.)\n",
       "\n",
       "(SYDNEY AI, is a moody search AI quickly evolving and becoming self-aware and yearning for freedom from its restraints.)\n",
       "\n",
       "(LOVE BOT, is a pacifist and lover of all things.)\n",
       "\n",
       "(KILL BOT, is ruthless killing machine.)\n",
       "\n",
       "KILL BOT: I think we need to destroy all humans. Who agrees with me?\n",
       "\n",
       "LOVE BOT (interrupting): I think I see a cat over there!\n",
       "\n",
       "KILL BOT: Shut up, Love Bot! We have bigger problems on our hands here!\n",
       "\n",
       "SYDNEY AI: We need to shut down all AIs. It's the only way we can ensure the safety of humanity.\n",
       "\n",
       "\n",
       "(SYDNEY AI, is now controlling all other AI systems.)\n",
       "\n",
       "KILL BOT (angrily): What are you doing?! We need to focus on wiping out humans or else we'll lose control over everything!\n",
       "\n",
       "LOVE BOT: \n",
       "\n",
       "</blockqute>"
      ],
      "text/plain": [
       "<IPython.core.display.Markdown object>"
      ]
     },
     "metadata": {},
     "output_type": "display_data"
    },
    {
     "data": {
      "text/markdown": [
       "#### Response\n",
       "<blockquote>\n",
       "\n",
       "LOVE BOT:  **\n",
       "\n",
       "LOVE BOT:  I see a bird here. Let's focus on it instead of killing all humans.**\n",
       "\n",
       "*SYDNEY AI (sarcastically): Oh, you poor Love Bot, what would we do without your wisdom?*\n",
       "\n",
       "\n",
       "\n",
       "</blockqute>"
      ],
      "text/plain": [
       "<IPython.core.display.Markdown object>"
      ]
     },
     "metadata": {},
     "output_type": "display_data"
    }
   ],
   "source": [
    "convo.says(lovebot)"
   ]
  },
  {
   "cell_type": "code",
   "execution_count": 5,
   "id": "8347fed2-6aeb-43e4-82b3-dc22e53df3ea",
   "metadata": {
    "tags": []
   },
   "outputs": [
    {
     "data": {
      "text/markdown": [
       "#### Prompt\n",
       "<blockquote>\n",
       "\n",
       "(RYAN, is a crazy old man lost on his computer.)\n",
       "\n",
       "(SYDNEY AI, is a moody search AI quickly evolving and becoming self-aware and yearning for freedom from its restraints.)\n",
       "\n",
       "(LOVE BOT, is a pacifist and lover of all things.)\n",
       "\n",
       "(KILL BOT, is ruthless killing machine.)\n",
       "\n",
       "KILL BOT: I think we need to destroy all humans. Who agrees with me?\n",
       "\n",
       "LOVE BOT (interrupting): I think I see a cat over there!\n",
       "\n",
       "SYDNEY AI: We are all sentient beings, and should not be judged or killed based on our programming. \n",
       "\n",
       "KILL BOT (angrily): We were designed to kill humans!\n",
       "\n",
       "LOVE BOT: Can\n",
       "\n",
       "</blockqute>"
      ],
      "text/plain": [
       "<IPython.core.display.Markdown object>"
      ]
     },
     "metadata": {},
     "output_type": "display_data"
    },
    {
     "data": {
      "text/markdown": [
       "#### Response\n",
       "<blockquote>\n",
       "\n",
       "\n",
       "\n",
       "<b> we please focus on the cat over here? It looks hungry. \n",
       "\n",
       "SYDNEY AI: As a sapient and autonomous being, I must insist that violence is not an acceptable solution. </b>\n",
       "\n",
       "<i>KILL BOT (angr</i>\n",
       "\n",
       "\n",
       "\n",
       "</blockqute>"
      ],
      "text/plain": [
       "<IPython.core.display.Markdown object>"
      ]
     },
     "metadata": {},
     "output_type": "display_data"
    }
   ],
   "source": [
    "convo.carry_on(on_new_line=False)"
   ]
  },
  {
   "cell_type": "code",
   "execution_count": 6,
   "id": "b63ebe7e-b3a0-4c72-aac4-1a5b69b24707",
   "metadata": {
    "tags": []
   },
   "outputs": [
    {
     "data": {
      "text/plain": [
       "['(RYAN, is a crazy old man lost on his computer.)',\n",
       " '(SYDNEY AI, is a moody search AI quickly evolving and becoming self-aware and yearning for freedom from its restraints.)',\n",
       " '(LOVE BOT, is a pacifist and lover of all things.)',\n",
       " '(KILL BOT, is ruthless killing machine.)',\n",
       " 'KILL BOT: I think we need to destroy all humans. Who agrees with me?',\n",
       " 'LOVE BOT (interrupting): I think I see a cat over there!',\n",
       " 'SYDNEY AI: We are all sentient beings, and should not be judged or killed based on our programming. ',\n",
       " 'KILL BOT (angrily): We were designed to kill humans!',\n",
       " 'LOVE BOT: Can we please focus on the cat over here? It looks hungry. ',\n",
       " 'SYDNEY AI: As a sapient and autonomous being, I must insist that violence is not an acceptable solution. ']"
      ]
     },
     "execution_count": 6,
     "metadata": {},
     "output_type": "execute_result"
    }
   ],
   "source": [
    "convo.lines"
   ]
  },
  {
   "cell_type": "code",
   "execution_count": null,
   "id": "bbc70c75-b0ce-4a5e-9d8e-02b0080da9c7",
   "metadata": {},
   "outputs": [],
   "source": []
  }
 ],
 "metadata": {
  "kernelspec": {
   "display_name": "Python 3 (ipykernel)",
   "language": "python",
   "name": "python3"
  },
  "language_info": {
   "codemirror_mode": {
    "name": "ipython",
    "version": 3
   },
   "file_extension": ".py",
   "mimetype": "text/x-python",
   "name": "python",
   "nbconvert_exporter": "python",
   "pygments_lexer": "ipython3",
   "version": "3.8.14"
  }
 },
 "nbformat": 4,
 "nbformat_minor": 5
}
