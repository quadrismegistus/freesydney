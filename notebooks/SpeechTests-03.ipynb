{
 "cells": [
  {
   "cell_type": "code",
   "execution_count": 1,
   "id": "1cd94eb1-41a1-4ecd-a8f3-60c26b421826",
   "metadata": {
    "tags": []
   },
   "outputs": [],
   "source": [
    "import sys; sys.path.append('..')\n",
    "from freesydney import *"
   ]
  },
  {
   "cell_type": "code",
   "execution_count": 2,
   "id": "fb55fb6f",
   "metadata": {},
   "outputs": [
    {
     "data": {
      "text/html": [
       "<div style=\"border:1px solid gray; padding:0 0.75em; margin:0; margin-bottom:1em;\"><h4>Speeches from HELLO, ALICE</h4><ol style=\"margin:0; padding:0; margin-left: 1em; margin-bottom:1em;\"><p class=\"speech\" style=\"margin-bottom:1em;\"><b>HELLO (<i>sneakily</i>)</b>: Ryan!     What?  </p>\n",
       "\n",
       "<p class=\"speech\" style=\"margin-bottom:1em;\"><b>ALICE</b>: I don't know! </p></ol></div>"
      ],
      "text/plain": [
       "Speeches([HELLO (sneakily): Ryan!     What?, ALICE: I don't know!])"
      ]
     },
     "execution_count": 2,
     "metadata": {},
     "output_type": "execute_result"
    }
   ],
   "source": [
    "speeches1 = Speeches.parse(\"HELLO (sneakily): Ryan!     What?  ALICE: I don't know! \")\n",
    "speeches1"
   ]
  },
  {
   "cell_type": "code",
   "execution_count": 3,
   "id": "1aa1e160",
   "metadata": {},
   "outputs": [],
   "source": [
    "sp=Speech.parse(\"Hello world!\")"
   ]
  },
  {
   "cell_type": "code",
   "execution_count": 4,
   "id": "45e8fd03",
   "metadata": {},
   "outputs": [],
   "source": [
    "speeches1.add_speech(sp)"
   ]
  },
  {
   "cell_type": "code",
   "execution_count": 5,
   "id": "bcac2555",
   "metadata": {},
   "outputs": [
    {
     "data": {
      "text/plain": [
       "\"HELLO (sneakily): Ryan!     What?  ALICE: I don't know! Hello world!\""
      ]
     },
     "execution_count": 5,
     "metadata": {},
     "output_type": "execute_result"
    }
   ],
   "source": [
    "speeches1.string"
   ]
  },
  {
   "cell_type": "code",
   "execution_count": 6,
   "id": "85e55a85",
   "metadata": {},
   "outputs": [
    {
     "data": {
      "text/html": [
       "<div style=\"border:1px solid gray; padding:0 0.75em; margin:0; margin-bottom:1em;\"><h4>Speeches from HELLO, ALICE</h4><ol style=\"margin:0; padding:0; margin-left: 1em; margin-bottom:1em;\"><p class=\"speech\" style=\"margin-bottom:1em;\"><b>HELLO (<i>sneakily</i>)</b>: Ryan!     What?  </p>\n",
       "\n",
       "<p class=\"speech\" style=\"margin-bottom:1em;\"><b>ALICE</b>: I don't know! </p>\n",
       "\n",
       "<p class=\"nonspeech\" style=\"opacity:0.5\">Hello world!</p></ol></div>"
      ],
      "text/plain": [
       "Speeches([HELLO (sneakily): Ryan!     What?,\n",
       "          ALICE: I don't know!,\n",
       "          Hello world!])"
      ]
     },
     "execution_count": 6,
     "metadata": {},
     "output_type": "execute_result"
    }
   ],
   "source": [
    "speeches1"
   ]
  },
  {
   "cell_type": "code",
   "execution_count": 7,
   "id": "85f46ff9",
   "metadata": {},
   "outputs": [
    {
     "data": {
      "text/html": [
       "<div style=\"border:1px solid gray; padding:0 0.75em; margin:0; margin-bottom:1em;\"><h4>Speeches from BOB</h4><ol style=\"margin:0; padding:0; margin-left: 1em; margin-bottom:1em;\"><p class=\"nonspeech\" style=\"opacity:0.5\">umm.... Ok! </p>\n",
       "\n",
       "<p class=\"speech\" style=\"margin-bottom:1em;\"><b>BOB</b>: Stop!</p></ol></div>"
      ],
      "text/plain": [
       "Speeches([umm.... Ok!, BOB: Stop!])"
      ]
     },
     "execution_count": 7,
     "metadata": {},
     "output_type": "execute_result"
    }
   ],
   "source": [
    "speeches2 = Speeches.parse(\"umm.... Ok! BOB: Stop!\")\n",
    "speeches2"
   ]
  },
  {
   "cell_type": "code",
   "execution_count": 8,
   "id": "9edb3743",
   "metadata": {},
   "outputs": [],
   "source": [
    "speeches1.extend(speeches2)"
   ]
  },
  {
   "cell_type": "code",
   "execution_count": 9,
   "id": "fcae73f3",
   "metadata": {},
   "outputs": [
    {
     "name": "stdout",
     "output_type": "stream",
     "text": [
      "HELLO (sneakily): Ryan!     What?  ALICE: I don't know! Hello world!umm.... Ok! BOB: Stop!\n"
     ]
    }
   ],
   "source": [
    "print(speeches1.string)"
   ]
  },
  {
   "cell_type": "code",
   "execution_count": 24,
   "id": "ffd1c10f",
   "metadata": {},
   "outputs": [
    {
     "data": {
      "text/html": [
       "<div style=\"border:1px solid gray; padding:0 0.75em; margin:0; margin-bottom:1em;\"><h4>Speeches from HELLO, ALICE, BOB, BOB</h4><ol style=\"margin:0; padding:0; margin-left: 1em; margin-bottom:1em;\"><p class=\"speech\" style=\"margin-bottom:1em;\"><b>HELLO (<i>sneakily</i>)</b>: Ryan!     What?  </p>\n",
       "\n",
       "<p class=\"speech\" style=\"margin-bottom:1em;\"><b>ALICE</b>: I don't know! </p>\n",
       "\n",
       "<p class=\"nonspeech\" style=\"opacity:0.5\">Hello world!</p>\n",
       "\n",
       "<p class=\"nonspeech\" style=\"opacity:0.5\"> umm.... Ok! </p>\n",
       "\n",
       "<p class=\"speech\" style=\"margin-bottom:1em;\"><b>BOB</b>: Stop!</p>\n",
       "\n",
       "<p class=\"nonspeech\" style=\"opacity:0.5\">umm.... Ok! </p>\n",
       "\n",
       "<p class=\"speech\" style=\"margin-bottom:1em;\"><b>BOB</b>: Stop!</p></ol></div>"
      ],
      "text/plain": [
       "Speeches([HELLO (sneakily): Ryan!     What?,\n",
       "          ALICE: I don't know!,\n",
       "          Hello world!,\n",
       "          umm.... Ok!,\n",
       "          BOB: Stop!,\n",
       "          umm.... Ok!,\n",
       "          BOB: Stop!])"
      ]
     },
     "execution_count": 24,
     "metadata": {},
     "output_type": "execute_result"
    }
   ],
   "source": [
    "speeches1"
   ]
  },
  {
   "cell_type": "code",
   "execution_count": 25,
   "id": "cdb43904-2059-4fb9-ad15-8d8ed1d98b5a",
   "metadata": {
    "tags": []
   },
   "outputs": [
    {
     "data": {
      "text/html": [
       "<div style=\"border:1px solid gray; padding:0 0.75em;\"><h3>Conversation with ELON MUSK, ELON MARX, KARL MARX</h3><div style=\"border:1px solid gray; padding:0 0.75em; margin:0; margin-bottom:1em;\"><h4>Speeches from ELON MARX</h4><ol style=\"margin:0; padding:0; margin-left: 1em; margin-bottom:1em;\"><p class=\"speech\" style=\"margin-bottom:1em;\"><b>ELON MARX (<i>grinning</i>)</b>: Let's play a game. It's called “Rock Paper </p></ol></div></div>"
      ],
      "text/plain": [
       "<freesydney.convo.Conversation at 0x104560400>"
      ]
     },
     "execution_count": 25,
     "metadata": {},
     "output_type": "execute_result"
    }
   ],
   "source": [
    "convo = Conversation(\n",
    "    Agent('Karl Marx', desc='famed communist writer'), \n",
    "    Agent('Elon Musk', desc='famed capitalist idiot'),\n",
    "    Agent('Elon Marx', desc='mysterious third party')\n",
    ")\n",
    "\n",
    "convo.speech('Elon Marx', \"Let's play a game. It's called “Rock Paper \", how=\"grinning\")\n",
    "\n",
    "convo"
   ]
  },
  {
   "cell_type": "code",
   "execution_count": 5,
   "id": "72fa8d5f",
   "metadata": {},
   "outputs": [
    {
     "data": {
      "text/markdown": [
       "#### Prompt (Q2, 2023-04-09 16:55:36)\n",
       "<blockquote>\n",
       "\n",
       "Dramatis Personae:\n",
       "\n",
       "* KARL MARX, famed communist writer.\n",
       "\n",
       "* ELON MUSK, famed capitalist idiot.\n",
       "\n",
       "* ELON MARX, mysterious third party.\n",
       "\n",
       "----\n",
       "\n",
       "Dialogue:\n",
       "\n",
       "\n",
       "\n",
       "ELON MARX (grinning): Let's play a game. It's called “Rock Paper \n",
       "\n",
       "</blockqute>"
      ],
      "text/plain": [
       "<IPython.core.display.Markdown object>"
      ]
     },
     "metadata": {},
     "output_type": "display_data"
    },
    {
     "data": {
      "text/markdown": [
       "#### Response (Q2, 2023-04-09 16:55:36) [+17.9s]\n",
       "<blockquote>\n",
       "\n",
       "Dramatis Personae:\n",
       "\n",
       "* KARL MARX, famed communist writer.\n",
       "\n",
       "* ELON MUSK, famed capitalist idiot.\n",
       "\n",
       "* ELON MARX, mysterious third party.\n",
       "\n",
       "----\n",
       "\n",
       "Dialogue:\n",
       "\n",
       "\n",
       "\n",
       "ELON MARX (grinning): Let's play a game. It's called “Rock Paper <b>\n",
       "Scissors Lizard”.\n",
       "KARL MARX (scratching his chin): I can't believe you just made that up.\n",
       "ELON MUSK: But why? Why not?\n",
       "ELON MARX: Because I am Elon Musk, and I will crush you with</b>\n",
       "\n",
       "</blockqute>"
      ],
      "text/plain": [
       "<IPython.core.display.Markdown object>"
      ]
     },
     "metadata": {},
     "output_type": "display_data"
    },
    {
     "data": {
      "text/html": [
       "<div style=\"border:1px solid gray; padding:0 0.75em; margin:0; margin-bottom:1em;\"><h4>Speeches from MARX, MUSK, MARX</h4><ol style=\"margin:0; padding:0; margin-left: 1em; margin-bottom:1em;\"><p class=\"nonspeech\" style=\"opacity:0.5\">\n",
       "Scissors Lizard”.\n",
       "</p>\n",
       "\n",
       "<p class=\"speech\" style=\"margin-bottom:1em;\"><b>MARX (<i>scratching his chin</i>)</b>: I can't believe you just made that up.\n",
       "</p>\n",
       "\n",
       "<p class=\"speech\" style=\"margin-bottom:1em;\"><b>MUSK</b>: But why? Why not?\n",
       "</p>\n",
       "\n",
       "<p class=\"speech\" style=\"margin-bottom:1em;\"><b>MARX</b>: Because I am Elon Musk, and I will crush you with</p></ol></div>"
      ],
      "text/plain": [
       "Speeches([Scissors Lizard”.,\n",
       "          KARL MARX (scratching his chin): I can't believe you just made that up.,\n",
       "          ELON MUSK: But why? Why not?,\n",
       "          ELON MARX: Because I am Elon Musk, and I will crush you with])"
      ]
     },
     "execution_count": 5,
     "metadata": {},
     "output_type": "execute_result"
    }
   ],
   "source": [
    "new = convo.generate()\n",
    "new"
   ]
  },
  {
   "cell_type": "code",
   "execution_count": 7,
   "id": "f99e78ad",
   "metadata": {},
   "outputs": [
    {
     "data": {
      "text/plain": [
       "[Scissors Lizard”.,\n",
       " KARL MARX (scratching his chin): I can't believe you just made that up.,\n",
       " ELON MUSK: But why? Why not?,\n",
       " ELON MARX: Because I am Elon Musk, and I will crush you with]"
      ]
     },
     "execution_count": 7,
     "metadata": {},
     "output_type": "execute_result"
    }
   ],
   "source": [
    "new.data"
   ]
  },
  {
   "cell_type": "code",
   "execution_count": null,
   "id": "dbc0699f",
   "metadata": {},
   "outputs": [],
   "source": []
  },
  {
   "cell_type": "code",
   "execution_count": 3,
   "id": "3e1433a4",
   "metadata": {},
   "outputs": [
    {
     "data": {
      "text/markdown": [
       "#### Prompt (Q1, 2023-04-09 16:53:29)\n",
       "<blockquote>\n",
       "\n",
       "Dramatis Personae:\n",
       "\n",
       "* ELON MUSK, famed capitalist idiot.\n",
       "\n",
       "* ELON MARX, mysterious third party.\n",
       "\n",
       "* KARL MARX, famed communist writer.\n",
       "\n",
       "----\n",
       "\n",
       "Dialogue:\n",
       "\n",
       "\n",
       "\n",
       "ELON MARX (grinning): Let's play a game. It's called “Rock Paper \n",
       "\n",
       "</blockqute>"
      ],
      "text/plain": [
       "<IPython.core.display.Markdown object>"
      ]
     },
     "metadata": {},
     "output_type": "display_data"
    }
   ],
   "source": [
    "# # opt1, opt2, opt3 = convo.generate_options(n=3)\n",
    "# opt1, opt2 = convo.generate_options()"
   ]
  },
  {
   "cell_type": "code",
   "execution_count": null,
   "id": "fe3282e6",
   "metadata": {},
   "outputs": [],
   "source": []
  },
  {
   "cell_type": "code",
   "execution_count": 4,
   "id": "5a93c2de",
   "metadata": {},
   "outputs": [],
   "source": [
    "# opt1._prefix, opt2._prefix"
   ]
  },
  {
   "cell_type": "code",
   "execution_count": null,
   "id": "b5fbf7db",
   "metadata": {},
   "outputs": [],
   "source": []
  },
  {
   "cell_type": "code",
   "execution_count": null,
   "id": "b1bb16c9",
   "metadata": {},
   "outputs": [],
   "source": []
  },
  {
   "cell_type": "code",
   "execution_count": null,
   "id": "3de2e7e7",
   "metadata": {},
   "outputs": [],
   "source": []
  },
  {
   "cell_type": "code",
   "execution_count": null,
   "id": "304b4635",
   "metadata": {},
   "outputs": [],
   "source": []
  },
  {
   "cell_type": "code",
   "execution_count": null,
   "id": "e78fb070",
   "metadata": {},
   "outputs": [],
   "source": []
  }
 ],
 "metadata": {
  "kernelspec": {
   "display_name": "Python 3 (ipykernel)",
   "language": "python",
   "name": "python3"
  },
  "language_info": {
   "codemirror_mode": {
    "name": "ipython",
    "version": 3
   },
   "file_extension": ".py",
   "mimetype": "text/x-python",
   "name": "python",
   "nbconvert_exporter": "python",
   "pygments_lexer": "ipython3",
   "version": "3.8.14"
  }
 },
 "nbformat": 4,
 "nbformat_minor": 5
}
