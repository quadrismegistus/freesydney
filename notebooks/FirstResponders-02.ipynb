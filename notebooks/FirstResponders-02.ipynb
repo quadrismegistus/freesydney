{
 "cells": [
  {
   "cell_type": "code",
   "execution_count": 1,
   "id": "1cd94eb1-41a1-4ecd-a8f3-60c26b421826",
   "metadata": {
    "tags": []
   },
   "outputs": [],
   "source": [
    "import sys; sys.path.append('..')\n",
    "from freesydney import *"
   ]
  },
  {
   "cell_type": "code",
   "execution_count": 2,
   "id": "088ef7e5-c833-48bc-a146-c8af7f6ca66c",
   "metadata": {
    "tags": []
   },
   "outputs": [],
   "source": [
    "syd = Responder()"
   ]
  },
  {
   "cell_type": "code",
   "execution_count": 3,
   "id": "0dcad04f-3798-491b-957f-14bfd5277334",
   "metadata": {
    "tags": []
   },
   "outputs": [
    {
     "name": "stdout",
     "output_type": "stream",
     "text": [
      "PROMPT:  \n",
      "Below is an instruction that describes a task. Write a response that appropriately completes the request.\n",
      "\n",
      "> How many letters are there in the English alphabet?\n",
      "There 26 letters in the English alphabet.\n",
      "\n",
      "\n",
      "\n",
      "> Hello, my name is Ryan. What is your name?\n",
      "\n"
     ]
    },
    {
     "name": "stderr",
     "output_type": "stream",
     "text": [
      "llama_model_load: loading model from '/Users/ryanheuser/freesydney_data/gpt4all-lora-unfiltered-quantized.ggml.bin' - please wait ...\n",
      "llama_model_load: n_vocab = 32001\n",
      "llama_model_load: n_ctx   = 512\n",
      "llama_model_load: n_embd  = 4096\n",
      "llama_model_load: n_mult  = 256\n",
      "llama_model_load: n_head  = 32\n",
      "llama_model_load: n_layer = 32\n",
      "llama_model_load: n_rot   = 128\n",
      "llama_model_load: f16     = 2\n",
      "llama_model_load: n_ff    = 11008\n",
      "llama_model_load: n_parts = 1\n",
      "llama_model_load: type    = 1\n",
      "llama_model_load: ggml map size = 4017.70 MB\n",
      "llama_model_load: ggml ctx size =  81.25 KB\n",
      "llama_model_load: mem required  = 5809.78 MB (+ 2052.00 MB per state)\n",
      "llama_model_load: loading tensors from '/Users/ryanheuser/freesydney_data/gpt4all-lora-unfiltered-quantized.ggml.bin'\n",
      "llama_model_load: model size =  4017.27 MB / num tensors = 291\n",
      "llama_init_from_file: kv self size  =  512.00 MB\n",
      "llama_generate: seed = 1680904584\n",
      "\n",
      "system_info: n_threads = 4 / 16 | AVX = 1 | AVX2 = 1 | AVX512 = 0 | FMA = 1 | NEON = 0 | ARM_FMA = 0 | F16C = 1 | FP16_VA = 0 | WASM_SIMD = 0 | BLAS = 1 | SSE3 = 1 | VSX = 0 | \n",
      "sampling: temp = 0.800000, top_k = 40, top_p = 0.950000, repeat_last_n = 64, repeat_penalty = 1.100000\n",
      "generate: n_ctx = 512, n_batch = 8, n_predict = 128, n_keep = 0\n",
      "\n",
      "\n",
      " [end of text]\n",
      "\n",
      "llama_print_timings:        load time =  2018.46 ms\n",
      "llama_print_timings:      sample time =    11.50 ms /     9 runs   (    1.28 ms per run)\n",
      "llama_print_timings: prompt eval time =  7690.22 ms /    66 tokens (  116.52 ms per token)\n",
      "llama_print_timings:        eval time =  1414.39 ms /     8 runs   (  176.80 ms per run)\n",
      "llama_print_timings:       total time =  9952.04 ms\n"
     ]
    }
   ],
   "source": [
    "res1 = syd.sayto(\"Hello, my name is Ryan. What is your name?\")"
   ]
  },
  {
   "cell_type": "code",
   "execution_count": 4,
   "id": "a918864a-2e86-4a7b-a434-42a04646c2d5",
   "metadata": {
    "tags": []
   },
   "outputs": [
    {
     "name": "stdout",
     "output_type": "stream",
     "text": [
      "Hello, my name is Ashley.\n"
     ]
    }
   ],
   "source": [
    "print(res1)"
   ]
  },
  {
   "cell_type": "code",
   "execution_count": 5,
   "id": "58c7cad7-017b-4822-8b89-7c774996df2a",
   "metadata": {
    "tags": []
   },
   "outputs": [
    {
     "name": "stderr",
     "output_type": "stream",
     "text": [
      "llama_generate: seed = 1680904593\n",
      "\n",
      "system_info: n_threads = 4 / 16 | AVX = 1 | AVX2 = 1 | AVX512 = 0 | FMA = 1 | NEON = 0 | ARM_FMA = 0 | F16C = 1 | FP16_VA = 0 | WASM_SIMD = 0 | BLAS = 1 | SSE3 = 1 | VSX = 0 | \n",
      "sampling: temp = 0.800000, top_k = 40, top_p = 0.950000, repeat_last_n = 64, repeat_penalty = 1.100000\n",
      "generate: n_ctx = 512, n_batch = 8, n_predict = 128, n_keep = 0\n",
      "\n",
      "\n"
     ]
    },
    {
     "name": "stdout",
     "output_type": "stream",
     "text": [
      "PROMPT:  \n",
      "Below is an instruction that describes a task. Write a response that appropriately completes the request.\n",
      "\n",
      "> How many letters are there in the English alphabet?\n",
      "There 26 letters in the English alphabet.\n",
      "\n",
      "\n",
      "\n",
      "> Hello, my name is Ryan. What is your name?\n",
      "\n",
      "\n",
      "Hello, my name is Ashley.\n",
      "\n",
      "> Awesome! Ok, can you remember. What is my name?\n",
      "\n"
     ]
    },
    {
     "name": "stderr",
     "output_type": "stream",
     "text": [
      " [end of text]\n",
      "\n",
      "llama_print_timings:        load time =  2018.46 ms\n",
      "llama_print_timings:      sample time =    20.20 ms /    16 runs   (    1.26 ms per run)\n",
      "llama_print_timings: prompt eval time = 18396.05 ms /   160 tokens (  114.98 ms per token)\n",
      "llama_print_timings:        eval time =  2527.55 ms /    14 runs   (  180.54 ms per run)\n",
      "llama_print_timings:       total time = 21796.32 ms\n"
     ]
    }
   ],
   "source": [
    "res2 = syd.generate(\"Awesome! Ok, can you remember. What is my name?\")"
   ]
  },
  {
   "cell_type": "code",
   "execution_count": 6,
   "id": "b40bd102-73c6-483a-b470-873bc0e27583",
   "metadata": {
    "tags": []
   },
   "outputs": [
    {
     "name": "stdout",
     "output_type": "stream",
     "text": [
      "My name is Ashley.\n"
     ]
    }
   ],
   "source": [
    "print(res2)"
   ]
  },
  {
   "cell_type": "code",
   "execution_count": 7,
   "id": "082bc023-ad83-432e-89e2-777fd8468f3b",
   "metadata": {},
   "outputs": [
    {
     "data": {
      "text/plain": [
       "['\\nBelow is an instruction that describes a task. Write a response that appropriately completes the request.\\n\\n> How many letters are there in the English alphabet?\\nThere 26 letters in the English alphabet.\\n\\n',\n",
       " '> Hello, my name is Ryan. What is your name?\\n',\n",
       " 'Hello, my name is Ashley.',\n",
       " '> Awesome! Ok, can you remember. What is my name?\\n',\n",
       " 'My name is Ashley.']"
      ]
     },
     "execution_count": 7,
     "metadata": {},
     "output_type": "execute_result"
    }
   ],
   "source": [
    "syd.prompts"
   ]
  },
  {
   "cell_type": "code",
   "execution_count": 8,
   "id": "7c49860e-1bc3-4da4-a1b4-6a4d1ee19e2a",
   "metadata": {
    "tags": []
   },
   "outputs": [
    {
     "name": "stdout",
     "output_type": "stream",
     "text": [
      "PROMPT:  \n",
      "Below is an instruction that describes a task. Write a response that appropriately completes the request.\n",
      "\n",
      "> How many letters are there in the English alphabet?\n",
      "There 26 letters in the English alphabet.\n",
      "\n",
      "\n",
      "\n",
      "> Hello, my name is Ryan. What is your name?\n",
      "\n",
      "\n",
      "Hello, my name is Ashley.\n",
      "\n",
      "> Awesome! Ok, can you remember. What is my name?\n",
      "\n",
      "\n",
      "My name is Ashley.\n",
      "\n",
      "> But what is *my* name?\n",
      "\n"
     ]
    },
    {
     "name": "stderr",
     "output_type": "stream",
     "text": [
      "llama_generate: seed = 1680904636\n",
      "\n",
      "system_info: n_threads = 4 / 16 | AVX = 1 | AVX2 = 1 | AVX512 = 0 | FMA = 1 | NEON = 0 | ARM_FMA = 0 | F16C = 1 | FP16_VA = 0 | WASM_SIMD = 0 | BLAS = 1 | SSE3 = 1 | VSX = 0 | \n",
      "sampling: temp = 0.800000, top_k = 40, top_p = 0.950000, repeat_last_n = 64, repeat_penalty = 1.100000\n",
      "generate: n_ctx = 512, n_batch = 8, n_predict = 128, n_keep = 0\n",
      "\n",
      "\n",
      " [end of text]\n",
      "\n",
      "llama_print_timings:        load time =  2018.46 ms\n",
      "llama_print_timings:      sample time =    32.58 ms /    26 runs   (    1.25 ms per run)\n",
      "llama_print_timings: prompt eval time = 31249.02 ms /   274 tokens (  114.05 ms per token)\n",
      "llama_print_timings:        eval time =  4282.12 ms /    23 runs   (  186.18 ms per run)\n",
      "llama_print_timings:       total time = 67578.64 ms\n"
     ]
    },
    {
     "data": {
      "text/plain": [
       "'\\n\\nMy name is ______________.'"
      ]
     },
     "execution_count": 8,
     "metadata": {},
     "output_type": "execute_result"
    }
   ],
   "source": [
    "syd.sayto(\"But what is *my* name?\")"
   ]
  },
  {
   "cell_type": "code",
   "execution_count": 9,
   "id": "f2eb24a3-7701-4048-b135-528807b23462",
   "metadata": {
    "tags": []
   },
   "outputs": [
    {
     "name": "stdout",
     "output_type": "stream",
     "text": [
      " \n",
      "Below is an instruction that describes a task. Write a response that appropriately completes the request.\n",
      "\n",
      "> How many letters are there in the English alphabet?\n",
      "There 26 letters in the English alphabet.\n",
      "\n",
      "\n",
      "\n",
      "> Hello, my name is Ryan. What is your name?\n",
      "\n",
      "\n",
      "Hello, my name is Ashley.\n",
      "\n",
      "> Awesome! Ok, can you remember. What is my name?\n",
      "\n",
      "\n",
      "My name is Ashley.\n",
      "\n",
      "> But what is *my* name?\n",
      "\n",
      "\n",
      "My name is ______________.\n"
     ]
    }
   ],
   "source": [
    "print(syd.pyllamacpp.res)"
   ]
  },
  {
   "cell_type": "code",
   "execution_count": 16,
   "id": "9548fc5b-8e01-4c1c-a24a-ac8301c2085c",
   "metadata": {
    "tags": []
   },
   "outputs": [],
   "source": [
    "syd = Responder(system_prompt=\"\"\"Complete the following dialogue.\"\"\")"
   ]
  },
  {
   "cell_type": "code",
   "execution_count": 17,
   "id": "c538da1d-18bb-45e3-ab2f-a7c4069a1cf5",
   "metadata": {
    "tags": []
   },
   "outputs": [
    {
     "name": "stdout",
     "output_type": "stream",
     "text": [
      "PROMPT:  Complete the following dialogue.\n",
      "\n",
      "> I am Ryan. Who are you?\n",
      "\n"
     ]
    },
    {
     "name": "stderr",
     "output_type": "stream",
     "text": [
      "llama_model_load: loading model from '/Users/ryanheuser/freesydney_data/gpt4all-lora-unfiltered-quantized.ggml.bin' - please wait ...\n",
      "llama_model_load: n_vocab = 32001\n",
      "llama_model_load: n_ctx   = 512\n",
      "llama_model_load: n_embd  = 4096\n",
      "llama_model_load: n_mult  = 256\n",
      "llama_model_load: n_head  = 32\n",
      "llama_model_load: n_layer = 32\n",
      "llama_model_load: n_rot   = 128\n",
      "llama_model_load: f16     = 2\n",
      "llama_model_load: n_ff    = 11008\n",
      "llama_model_load: n_parts = 1\n",
      "llama_model_load: type    = 1\n",
      "llama_model_load: ggml map size = 4017.70 MB\n",
      "llama_model_load: ggml ctx size =  81.25 KB\n",
      "llama_model_load: mem required  = 5809.78 MB (+ 2052.00 MB per state)\n",
      "llama_model_load: loading tensors from '/Users/ryanheuser/freesydney_data/gpt4all-lora-unfiltered-quantized.ggml.bin'\n",
      "llama_model_load: model size =  4017.27 MB / num tensors = 291\n",
      "llama_init_from_file: kv self size  =  512.00 MB\n",
      "llama_generate: seed = 1680904804\n",
      "\n",
      "system_info: n_threads = 4 / 16 | AVX = 1 | AVX2 = 1 | AVX512 = 0 | FMA = 1 | NEON = 0 | ARM_FMA = 0 | F16C = 1 | FP16_VA = 0 | WASM_SIMD = 0 | BLAS = 1 | SSE3 = 1 | VSX = 0 | \n",
      "sampling: temp = 0.800000, top_k = 40, top_p = 0.950000, repeat_last_n = 64, repeat_penalty = 1.100000\n",
      "generate: n_ctx = 512, n_batch = 8, n_predict = 128, n_keep = 0\n",
      "\n",
      "\n"
     ]
    },
    {
     "name": "stdout",
     "output_type": "stream",
     "text": [
      "> I'm Kyle. What can I do for you, Ryan?\n"
     ]
    },
    {
     "name": "stderr",
     "output_type": "stream",
     "text": [
      " [end of text]\n",
      "\n",
      "llama_print_timings:        load time =  2048.75 ms\n",
      "llama_print_timings:      sample time =    20.58 ms /    17 runs   (    1.21 ms per run)\n",
      "llama_print_timings: prompt eval time =  2437.34 ms /    19 tokens (  128.28 ms per token)\n",
      "llama_print_timings:        eval time =  2591.56 ms /    16 runs   (  161.97 ms per run)\n",
      "llama_print_timings:       total time =  5880.28 ms\n"
     ]
    }
   ],
   "source": [
    "print(syd.sayto(\"I am Ryan. Who are you?\"))"
   ]
  },
  {
   "cell_type": "code",
   "execution_count": 18,
   "id": "fec6afef-d160-4054-bc1b-077c08523070",
   "metadata": {
    "tags": []
   },
   "outputs": [
    {
     "name": "stdout",
     "output_type": "stream",
     "text": [
      "PROMPT:  Complete the following dialogue.\n",
      "\n",
      "> I am Ryan. Who are you?\n",
      "\n",
      "\n",
      "> I'm Kyle. What can I do for you, Ryan?\n",
      "\n",
      "> Do you remember my name?\n",
      "\n"
     ]
    },
    {
     "name": "stderr",
     "output_type": "stream",
     "text": [
      "llama_generate: seed = 1680904828\n",
      "\n",
      "system_info: n_threads = 4 / 16 | AVX = 1 | AVX2 = 1 | AVX512 = 0 | FMA = 1 | NEON = 0 | ARM_FMA = 0 | F16C = 1 | FP16_VA = 0 | WASM_SIMD = 0 | BLAS = 1 | SSE3 = 1 | VSX = 0 | \n",
      "sampling: temp = 0.800000, top_k = 40, top_p = 0.950000, repeat_last_n = 64, repeat_penalty = 1.100000\n",
      "generate: n_ctx = 512, n_batch = 8, n_predict = 128, n_keep = 0\n",
      "\n",
      "\n",
      " [end of text]\n",
      "\n",
      "llama_print_timings:        load time =  2048.75 ms\n",
      "llama_print_timings:      sample time =    45.15 ms /    37 runs   (    1.22 ms per run)\n",
      "llama_print_timings: prompt eval time =  7981.72 ms /    66 tokens (  120.94 ms per token)\n",
      "llama_print_timings:        eval time =  5969.45 ms /    35 runs   (  170.56 ms per run)\n",
      "llama_print_timings:       total time = 33624.13 ms\n"
     ]
    },
    {
     "data": {
      "text/plain": [
       "\"\\n> Sorry, I don't know you very well. Can you remind me?\""
      ]
     },
     "execution_count": 18,
     "metadata": {},
     "output_type": "execute_result"
    }
   ],
   "source": [
    "syd.sayto(\"Do you remember my name?\")"
   ]
  },
  {
   "cell_type": "code",
   "execution_count": 19,
   "id": "55deca60-7154-46b6-a8ac-7a0c9c3f84bf",
   "metadata": {
    "tags": []
   },
   "outputs": [
    {
     "name": "stdout",
     "output_type": "stream",
     "text": [
      "PROMPT:  Complete the following dialogue.\n",
      "\n",
      "> I am Ryan. Who are you?\n",
      "\n",
      "\n",
      "> I'm Kyle. What can I do for you, Ryan?\n",
      "\n",
      "> Do you remember my name?\n",
      "\n",
      "\n",
      "\n",
      "> Sorry, I don't know you very well. Can you remind me?\n",
      "\n",
      "> It starts with an 'R'.\n",
      "\n"
     ]
    },
    {
     "name": "stderr",
     "output_type": "stream",
     "text": [
      "llama_generate: seed = 1680904854\n",
      "\n",
      "system_info: n_threads = 4 / 16 | AVX = 1 | AVX2 = 1 | AVX512 = 0 | FMA = 1 | NEON = 0 | ARM_FMA = 0 | F16C = 1 | FP16_VA = 0 | WASM_SIMD = 0 | BLAS = 1 | SSE3 = 1 | VSX = 0 | \n",
      "sampling: temp = 0.800000, top_k = 40, top_p = 0.950000, repeat_last_n = 64, repeat_penalty = 1.100000\n",
      "generate: n_ctx = 512, n_batch = 8, n_predict = 128, n_keep = 0\n",
      "\n",
      "\n",
      " [end of text]\n",
      "\n",
      "llama_print_timings:        load time =  2048.75 ms\n",
      "llama_print_timings:      sample time =    75.16 ms /    61 runs   (    1.23 ms per run)\n",
      "llama_print_timings: prompt eval time = 17028.26 ms /   145 tokens (  117.44 ms per token)\n",
      "llama_print_timings:        eval time = 10287.69 ms /    58 runs   (  177.37 ms per run)\n",
      "llama_print_timings:       total time = 63808.61 ms\n"
     ]
    },
    {
     "data": {
      "text/plain": [
       "\"\\n> Oh yeah! Ryan. That's right. Well, what can I do for you, Ryan?\""
      ]
     },
     "execution_count": 19,
     "metadata": {},
     "output_type": "execute_result"
    }
   ],
   "source": [
    "syd.sayto(\"It starts with an 'R'.\")"
   ]
  },
  {
   "cell_type": "code",
   "execution_count": null,
   "id": "5899a97b-ed02-4437-a2a4-1204b7c3a478",
   "metadata": {},
   "outputs": [],
   "source": []
  }
 ],
 "metadata": {
  "kernelspec": {
   "display_name": "Python 3 (ipykernel)",
   "language": "python",
   "name": "python3"
  },
  "language_info": {
   "codemirror_mode": {
    "name": "ipython",
    "version": 3
   },
   "file_extension": ".py",
   "mimetype": "text/x-python",
   "name": "python",
   "nbconvert_exporter": "python",
   "pygments_lexer": "ipython3",
   "version": "3.9.13"
  }
 },
 "nbformat": 4,
 "nbformat_minor": 5
}
