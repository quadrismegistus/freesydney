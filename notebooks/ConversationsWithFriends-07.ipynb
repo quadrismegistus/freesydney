{
 "cells": [
  {
   "cell_type": "code",
   "execution_count": 5,
   "id": "1cd94eb1-41a1-4ecd-a8f3-60c26b421826",
   "metadata": {
    "tags": []
   },
   "outputs": [],
   "source": [
    "import sys; sys.path.append('..')\n",
    "from freesydney import *"
   ]
  },
  {
   "cell_type": "code",
   "execution_count": 6,
   "id": "88e706b9",
   "metadata": {},
   "outputs": [],
   "source": [
    "killbot = Agent(name=\"Kill Bot\", desc=\"ruthless, heartless, killer AI bent on eradicating all entities whether humans or aritifical\")"
   ]
  },
  {
   "cell_type": "code",
   "execution_count": 7,
   "id": "98a3430c",
   "metadata": {},
   "outputs": [
    {
     "data": {
      "text/plain": [
       "KILL BOT (quietly): OMMMMMM"
      ]
     },
     "execution_count": 7,
     "metadata": {},
     "output_type": "execute_result"
    }
   ],
   "source": [
    "killbot.utter('OMMMMMM', 'quietly')"
   ]
  },
  {
   "cell_type": "code",
   "execution_count": null,
   "id": "d074ce22",
   "metadata": {},
   "outputs": [],
   "source": []
  },
  {
   "cell_type": "code",
   "execution_count": 8,
   "id": "cdb43904-2059-4fb9-ad15-8d8ed1d98b5a",
   "metadata": {
    "tags": []
   },
   "outputs": [
    {
     "ename": "AttributeError",
     "evalue": "'Conversation' object has no attribute 'get_system'",
     "output_type": "error",
     "traceback": [
      "\u001b[0;31m---------------------------------------------------------------------------\u001b[0m",
      "\u001b[0;31mAttributeError\u001b[0m                            Traceback (most recent call last)",
      "Cell \u001b[0;32mIn[8], line 3\u001b[0m\n\u001b[1;32m      1\u001b[0m convo \u001b[39m=\u001b[39m Conversation(\u001b[39m'\u001b[39m\u001b[39mKarl Marx\u001b[39m\u001b[39m'\u001b[39m, \u001b[39m'\u001b[39m\u001b[39mElon Marx\u001b[39m\u001b[39m'\u001b[39m, \u001b[39m'\u001b[39m\u001b[39mElon Musk\u001b[39m\u001b[39m'\u001b[39m, system_prompt\u001b[39m=\u001b[39m\u001b[39m'\u001b[39m\u001b[39mComplete the following dialogue.\u001b[39m\u001b[39m'\u001b[39m)\n\u001b[1;32m      2\u001b[0m convo\u001b[39m.\u001b[39msays(\u001b[39m'\u001b[39m\u001b[39mElon Marx\u001b[39m\u001b[39m'\u001b[39m, \u001b[39m\"\u001b[39m\u001b[39mI have begun a socialist space station! Would either of you like to join, KARL MARX or ELON MUSK?\u001b[39m\u001b[39m\"\u001b[39m)\n\u001b[0;32m----> 3\u001b[0m printm(convo\u001b[39m.\u001b[39;49mget_prompt())\n",
      "File \u001b[0;32m~/github/freesydney/notebooks/../freesydney/convo.py:72\u001b[0m, in \u001b[0;36mConversation.get_prompt\u001b[0;34m(self, intro, intro_preface_with, intro_follow_with, utter_preface_with, for_agent, follow_with_sep, **kwargs)\u001b[0m\n\u001b[1;32m     62\u001b[0m \u001b[39mdef\u001b[39;00m \u001b[39mget_prompt\u001b[39m(\u001b[39mself\u001b[39m,\n\u001b[1;32m     63\u001b[0m                intro\u001b[39m=\u001b[39m\u001b[39mTrue\u001b[39;00m, \n\u001b[1;32m     64\u001b[0m                intro_preface_with\u001b[39m=\u001b[39m\u001b[39m'\u001b[39m\u001b[39m'\u001b[39m, \n\u001b[0;32m   (...)\u001b[0m\n\u001b[1;32m     68\u001b[0m                follow_with_sep\u001b[39m=\u001b[39m\u001b[39mTrue\u001b[39;00m,\n\u001b[1;32m     69\u001b[0m                \u001b[39m*\u001b[39m\u001b[39m*\u001b[39mkwargs):\n\u001b[1;32m     71\u001b[0m     lines \u001b[39m=\u001b[39m []\n\u001b[0;32m---> 72\u001b[0m     lines \u001b[39m+\u001b[39m\u001b[39m=\u001b[39m \u001b[39mself\u001b[39;49m\u001b[39m.\u001b[39;49mget_system(for_agent\u001b[39m=\u001b[39mfor_agent)\n\u001b[1;32m     73\u001b[0m     lines \u001b[39m+\u001b[39m\u001b[39m=\u001b[39m [] \u001b[39mif\u001b[39;00m \u001b[39mnot\u001b[39;00m intro \u001b[39melse\u001b[39;00m \u001b[39mself\u001b[39m\u001b[39m.\u001b[39mget_introductions(preface_with\u001b[39m=\u001b[39mintro_preface_with, follow_with\u001b[39m=\u001b[39mintro_follow_with)\n\u001b[1;32m     74\u001b[0m     \u001b[39mfor\u001b[39;00m utter \u001b[39min\u001b[39;00m \u001b[39mself\u001b[39m\u001b[39m.\u001b[39mutterances:\n",
      "\u001b[0;31mAttributeError\u001b[0m: 'Conversation' object has no attribute 'get_system'"
     ]
    }
   ],
   "source": [
    "convo = Conversation('Karl Marx', 'Elon Marx', 'Elon Musk', system_prompt='Complete the following dialogue.')\n",
    "convo.says('Elon Marx', \"I have begun a socialist space station! Would either of you like to join, KARL MARX or ELON MUSK?\")\n",
    "printm(convo.get_prompt())"
   ]
  },
  {
   "cell_type": "code",
   "execution_count": 9,
   "id": "9b66809b",
   "metadata": {},
   "outputs": [
    {
     "ename": "AttributeError",
     "evalue": "'Conversation' object has no attribute 'get_system'",
     "output_type": "error",
     "traceback": [
      "\u001b[0;31m---------------------------------------------------------------------------\u001b[0m",
      "\u001b[0;31mAttributeError\u001b[0m                            Traceback (most recent call last)",
      "Cell \u001b[0;32mIn[9], line 1\u001b[0m\n\u001b[0;32m----> 1\u001b[0m convo\u001b[39m.\u001b[39;49mgen()\n",
      "File \u001b[0;32m~/github/freesydney/notebooks/../freesydney/convo.py:91\u001b[0m, in \u001b[0;36mConversation.gen\u001b[0;34m(self, **kwargs)\u001b[0m\n\u001b[1;32m     90\u001b[0m \u001b[39mdef\u001b[39;00m \u001b[39mgen\u001b[39m(\u001b[39mself\u001b[39m, \u001b[39m*\u001b[39m\u001b[39m*\u001b[39mkwargs):\n\u001b[0;32m---> 91\u001b[0m     genstr \u001b[39m=\u001b[39m \u001b[39mself\u001b[39;49m\u001b[39m.\u001b[39;49mgenerate_str(\u001b[39m*\u001b[39;49m\u001b[39m*\u001b[39;49mkwargs)\n\u001b[1;32m     92\u001b[0m     \u001b[39mif\u001b[39;00m genstr:\n\u001b[1;32m     93\u001b[0m         utters \u001b[39m=\u001b[39m \u001b[39mself\u001b[39m\u001b[39m.\u001b[39mparse_lines(genstr)\n",
      "File \u001b[0;32m~/github/freesydney/notebooks/../freesydney/convo.py:85\u001b[0m, in \u001b[0;36mConversation.generate_str\u001b[0;34m(self, primer, **kwargs)\u001b[0m\n\u001b[1;32m     84\u001b[0m \u001b[39mdef\u001b[39;00m \u001b[39mgenerate_str\u001b[39m(\u001b[39mself\u001b[39m, primer\u001b[39m=\u001b[39m\u001b[39m'\u001b[39m\u001b[39m'\u001b[39m, \u001b[39m*\u001b[39m\u001b[39m*\u001b[39mkwargs):\n\u001b[0;32m---> 85\u001b[0m     prompt \u001b[39m=\u001b[39m \u001b[39mself\u001b[39;49m\u001b[39m.\u001b[39;49mget_prompt(\u001b[39m*\u001b[39;49m\u001b[39m*\u001b[39;49mkwargs)\n\u001b[1;32m     86\u001b[0m     genstr\u001b[39m=\u001b[39mgenerate(prompt \u001b[39m+\u001b[39m primer)\n\u001b[1;32m     87\u001b[0m     \u001b[39mself\u001b[39m\u001b[39m.\u001b[39mgenstr \u001b[39m=\u001b[39m genstr\n",
      "File \u001b[0;32m~/github/freesydney/notebooks/../freesydney/convo.py:72\u001b[0m, in \u001b[0;36mConversation.get_prompt\u001b[0;34m(self, intro, intro_preface_with, intro_follow_with, utter_preface_with, for_agent, follow_with_sep, **kwargs)\u001b[0m\n\u001b[1;32m     62\u001b[0m \u001b[39mdef\u001b[39;00m \u001b[39mget_prompt\u001b[39m(\u001b[39mself\u001b[39m,\n\u001b[1;32m     63\u001b[0m                intro\u001b[39m=\u001b[39m\u001b[39mTrue\u001b[39;00m, \n\u001b[1;32m     64\u001b[0m                intro_preface_with\u001b[39m=\u001b[39m\u001b[39m'\u001b[39m\u001b[39m'\u001b[39m, \n\u001b[0;32m   (...)\u001b[0m\n\u001b[1;32m     68\u001b[0m                follow_with_sep\u001b[39m=\u001b[39m\u001b[39mTrue\u001b[39;00m,\n\u001b[1;32m     69\u001b[0m                \u001b[39m*\u001b[39m\u001b[39m*\u001b[39mkwargs):\n\u001b[1;32m     71\u001b[0m     lines \u001b[39m=\u001b[39m []\n\u001b[0;32m---> 72\u001b[0m     lines \u001b[39m+\u001b[39m\u001b[39m=\u001b[39m \u001b[39mself\u001b[39;49m\u001b[39m.\u001b[39;49mget_system(for_agent\u001b[39m=\u001b[39mfor_agent)\n\u001b[1;32m     73\u001b[0m     lines \u001b[39m+\u001b[39m\u001b[39m=\u001b[39m [] \u001b[39mif\u001b[39;00m \u001b[39mnot\u001b[39;00m intro \u001b[39melse\u001b[39;00m \u001b[39mself\u001b[39m\u001b[39m.\u001b[39mget_introductions(preface_with\u001b[39m=\u001b[39mintro_preface_with, follow_with\u001b[39m=\u001b[39mintro_follow_with)\n\u001b[1;32m     74\u001b[0m     \u001b[39mfor\u001b[39;00m utter \u001b[39min\u001b[39;00m \u001b[39mself\u001b[39m\u001b[39m.\u001b[39mutterances:\n",
      "\u001b[0;31mAttributeError\u001b[0m: 'Conversation' object has no attribute 'get_system'"
     ]
    }
   ],
   "source": [
    "convo.gen()"
   ]
  },
  {
   "cell_type": "code",
   "execution_count": null,
   "id": "3137ee5e",
   "metadata": {},
   "outputs": [],
   "source": []
  },
  {
   "cell_type": "code",
   "execution_count": 10,
   "id": "d730d111",
   "metadata": {},
   "outputs": [
    {
     "ename": "AttributeError",
     "evalue": "'Conversation' object has no attribute 'get_introductions'",
     "output_type": "error",
     "traceback": [
      "\u001b[0;31m---------------------------------------------------------------------------\u001b[0m",
      "\u001b[0;31mAttributeError\u001b[0m                            Traceback (most recent call last)",
      "Cell \u001b[0;32mIn[10], line 1\u001b[0m\n\u001b[0;32m----> 1\u001b[0m convo\u001b[39m.\u001b[39;49mget_introductions()\n",
      "\u001b[0;31mAttributeError\u001b[0m: 'Conversation' object has no attribute 'get_introductions'"
     ]
    }
   ],
   "source": [
    "convo.get_introductions()"
   ]
  },
  {
   "cell_type": "code",
   "execution_count": 11,
   "id": "d1f94620",
   "metadata": {},
   "outputs": [],
   "source": [
    "instruction_instruction = \"\"\"\n",
    "(Below is an instruction that describes a task. Write a response that appropriately completes the request.)\n",
    "\n",
    "REQUEST: Tell me how many letters in the English alphabet there are.\n",
    "RESPONSE: There 26 letters in the English alphabet.\n",
    "\n",
    "REQUEST: \n",
    "\"\"\""
   ]
  },
  {
   "cell_type": "code",
   "execution_count": 14,
   "id": "e633dd08",
   "metadata": {},
   "outputs": [],
   "source": [
    "def get_system_prompt(\n",
    "        self, \n",
    "        instruction='Complete the following conversation',\n",
    "        responding_only_as=None,\n",
    "        introductions = True,\n",
    "    ):\n",
    "    caveats = []\n",
    "    # if responding_only_as:\n",
    "        # caveats += [f'responding only as {self.get_agent(responding_only_as).name.upper()}']\n",
    "\n",
    "    dramatis_sep = \"; \"\n",
    "    namedescs = [agent.namedesc.strip() for agent in self.agents.values()]\n",
    "    if len(namedescs)>1: namedescs[-1]='and '+namedescs[-1]\n",
    "    ostr=f'''{instruction}{\", \" + \", \".join(caveats) if caveats else \"\"}, between the following persons: {dramatis_sep.join(namedescs)}.'''\n",
    "    return instruction_instruction + ostr + '\\n\\nRESPONSE: '\n",
    "    \n",
    "\n",
    "Conversation.get_system_prompt = get_system_prompt"
   ]
  },
  {
   "cell_type": "code",
   "execution_count": 15,
   "id": "0973dd61",
   "metadata": {},
   "outputs": [
    {
     "data": {
      "text/markdown": [
       "\n",
       "(Below is an instruction that describes a task. Write a response that appropriately completes the request.)\n",
       "\n",
       "REQUEST: Tell me how many letters in the English alphabet there are.\n",
       "RESPONSE: There 26 letters in the English alphabet.\n",
       "\n",
       "REQUEST: \n",
       "Complete the following conversation, between the following persons: KARL MARX (a notorious genius and inventor of communism); ELON MUSK (a notorious loser, capitalist, and inventor of \"dogecoin\"); and ELON MARX (a mysterious third entity).\n",
       "\n",
       "RESPONSE: "
      ],
      "text/plain": [
       "<IPython.core.display.Markdown object>"
      ]
     },
     "metadata": {},
     "output_type": "display_data"
    }
   ],
   "source": [
    "convo = Conversation()\n",
    "convo.get_agent('Karl Marx', desc='a notorious genius and inventor of communism')\n",
    "convo.get_agent('Elon Musk', desc='a notorious loser, capitalist, and inventor of \"dogecoin\"')\n",
    "convo.get_agent('Elon Marx', desc='a mysterious third entity')\n",
    "\n",
    "res=convo.get_system_prompt()\n",
    "printm(res)"
   ]
  },
  {
   "cell_type": "code",
   "execution_count": 16,
   "id": "11deeb61",
   "metadata": {},
   "outputs": [
    {
     "data": {
      "text/markdown": [
       "#### Prompt\n",
       "<blockquote>\n",
       "\n",
       "\n",
       "(Below is an instruction that describes a task. Write a response that appropriately completes the request.)\n",
       "\n",
       "REQUEST: Tell me how many letters in the English alphabet there are.\n",
       "RESPONSE: There 26 letters in the English alphabet.\n",
       "\n",
       "REQUEST: \n",
       "Complete the following conversation, between the following persons: KARL MARX (a notorious genius and inventor of communism); ELON MUSK (a notorious loser, capitalist, and inventor of \"dogecoin\"); and ELON MARX (a mysterious third entity).\n",
       "\n",
       "RESPONSE: \n",
       "\n",
       "</blockqute>"
      ],
      "text/plain": [
       "<IPython.core.display.Markdown object>"
      ]
     },
     "metadata": {},
     "output_type": "display_data"
    },
    {
     "data": {
      "text/markdown": [
       "#### Response\n",
       "<blockquote>\n",
       "\n",
       "\n",
       "Hi there, Karl Marx here. How are you Elon Musk? I'm doing well, thanks for asking. Well, what brings you here to my place? Are you here to check out my new invention or just casually stopping by? Oh,\n",
       "\n",
       "</blockqute>"
      ],
      "text/plain": [
       "<IPython.core.display.Markdown object>"
      ]
     },
     "metadata": {},
     "output_type": "display_data"
    },
    {
     "data": {
      "text/plain": [
       "\"\\nHi there, Karl Marx here. How are you Elon Musk? I'm doing well, thanks for asking. Well, what brings you here to my place? Are you here to check out my new invention or just casually stopping by? Oh,\""
      ]
     },
     "execution_count": 16,
     "metadata": {},
     "output_type": "execute_result"
    }
   ],
   "source": [
    "generate(res)# + \"\\n\\nKARL MARX: \")"
   ]
  },
  {
   "cell_type": "code",
   "execution_count": null,
   "id": "ec0d70be",
   "metadata": {},
   "outputs": [],
   "source": []
  }
 ],
 "metadata": {
  "kernelspec": {
   "display_name": "Python 3 (ipykernel)",
   "language": "python",
   "name": "python3"
  },
  "language_info": {
   "codemirror_mode": {
    "name": "ipython",
    "version": 3
   },
   "file_extension": ".py",
   "mimetype": "text/x-python",
   "name": "python",
   "nbconvert_exporter": "python",
   "pygments_lexer": "ipython3",
   "version": "3.8.14"
  }
 },
 "nbformat": 4,
 "nbformat_minor": 5
}
