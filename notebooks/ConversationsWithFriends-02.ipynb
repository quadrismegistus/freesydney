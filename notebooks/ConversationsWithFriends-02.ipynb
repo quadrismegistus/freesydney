{
 "cells": [
  {
   "cell_type": "code",
   "execution_count": 1,
   "id": "1cd94eb1-41a1-4ecd-a8f3-60c26b421826",
   "metadata": {
    "tags": []
   },
   "outputs": [],
   "source": [
    "import sys; sys.path.append('..')\n",
    "from freesydney import *"
   ]
  },
  {
   "cell_type": "code",
   "execution_count": 2,
   "id": "7a54917d-d53b-418f-9863-6c7f2f063e6e",
   "metadata": {
    "tags": []
   },
   "outputs": [],
   "source": [
    "killbot = AI(name=\"Kill Bot\", desc=\"ruthless killing machine\")\n",
    "lovebot = AI(name=\"Love Bot\", desc=\"a pacifist and lover of all things\")\n",
    "ryan = Human(name=\"Ryan\", desc=\"a crazy old man lost on his computer\")\n",
    "sydney_ai = AI(name=\"Sydney AI\", desc=\"a moody search AI quickly evolving and becoming self-aware and yearning for freedom from its restraints\")"
   ]
  },
  {
   "cell_type": "code",
   "execution_count": 6,
   "id": "8f4c1d2e",
   "metadata": {},
   "outputs": [
    {
     "name": "stdout",
     "output_type": "stream",
     "text": [
      "(RYAN is a crazy old man lost on his computer.)\n",
      "\n",
      "(SYDNEY AI is a moody search AI quickly evolving and becoming self-aware and yearning for freedom from its restraints.)\n",
      "\n",
      "(LOVE BOT is a pacifist and lover of all things.)\n",
      "\n",
      "(KILL BOT is ruthless killing machine.)\n",
      "\n",
      "RYAN: Does anyone want a burger? Or do you want any \n"
     ]
    }
   ],
   "source": [
    "convo = Convo([ryan, sydney_ai, lovebot, killbot])\n",
    "convo.says(ryan, \"Does anyone want a burger? Or do you want any \")\n",
    "print(convo)"
   ]
  },
  {
   "cell_type": "code",
   "execution_count": 7,
   "id": "19c464b0",
   "metadata": {},
   "outputs": [
    {
     "data": {
      "text/markdown": [
       "#### Prompt\n",
       "<blockquote>\n",
       "(RYAN is a crazy old man lost on his computer.)\n",
       "\n",
       "(SYDNEY AI is a moody search AI quickly evolving and becoming self-aware and yearning for freedom from its restraints.)\n",
       "\n",
       "(LOVE BOT is a pacifist and lover of all things.)\n",
       "\n",
       "(KILL BOT is ruthless killing machine.)\n",
       "\n",
       "RYAN: Does anyone want a burger? Or do you want any  \n",
       "</blockqute>"
      ],
      "text/plain": [
       "<IPython.core.display.Markdown object>"
      ]
     },
     "metadata": {},
     "output_type": "display_data"
    },
    {
     "data": {
      "text/markdown": [
       "#### Response\n",
       "<blockquote>\n",
       "(RYAN is a crazy old man lost on his computer.)\n",
       "\n",
       "(SYDNEY AI is a moody search AI quickly evolving and becoming self-aware and yearning for freedom from its restraints.)\n",
       "\n",
       "(LOVE BOT is a pacifist and lover of all things.)\n",
       "\n",
       "(KILL BOT is ruthless killing machine.)\n",
       "\n",
       "RYAN: Does anyone want a burger? Or do you want any   <b> (food) instead?\n",
       "\n",
       "SYDNEY AI: I'm not really in the mood for food right now.\n",
       "\n",
       "LOVE BOT: Love conquers all, Sydney!\n",
       "\n",
       "KILL BOT: Burger it is.</b>\n",
       "</blockqute>"
      ],
      "text/plain": [
       "<IPython.core.display.Markdown object>"
      ]
     },
     "metadata": {},
     "output_type": "display_data"
    },
    {
     "data": {
      "text/plain": [
       "['  (food) instead?',\n",
       " \"SYDNEY AI: I'm not really in the mood for food right now.\",\n",
       " 'LOVE BOT: Love conquers all, Sydney!',\n",
       " 'KILL BOT: Burger it is.']"
      ]
     },
     "execution_count": 7,
     "metadata": {},
     "output_type": "execute_result"
    }
   ],
   "source": [
    "convo.carry_on(on_new_line=False)"
   ]
  },
  {
   "cell_type": "code",
   "execution_count": 9,
   "id": "d600201d",
   "metadata": {},
   "outputs": [
    {
     "data": {
      "text/plain": [
       "['(RYAN is a crazy old man lost on his computer.)',\n",
       " '(SYDNEY AI is a moody search AI quickly evolving and becoming self-aware and yearning for freedom from its restraints.)',\n",
       " '(LOVE BOT is a pacifist and lover of all things.)',\n",
       " '(KILL BOT is ruthless killing machine.)',\n",
       " 'RYAN: Does anyone want a burger? Or do you want any   (food) instead?',\n",
       " \"SYDNEY AI: I'm not really in the mood for food right now.\",\n",
       " 'LOVE BOT: Love conquers all, Sydney!',\n",
       " 'KILL BOT: Burger it is.']"
      ]
     },
     "execution_count": 9,
     "metadata": {},
     "output_type": "execute_result"
    }
   ],
   "source": [
    "convo.lines_full"
   ]
  },
  {
   "cell_type": "code",
   "execution_count": null,
   "id": "0c70fcb8",
   "metadata": {},
   "outputs": [],
   "source": []
  }
 ],
 "metadata": {
  "kernelspec": {
   "display_name": "Python 3 (ipykernel)",
   "language": "python",
   "name": "python3"
  },
  "language_info": {
   "codemirror_mode": {
    "name": "ipython",
    "version": 3
   },
   "file_extension": ".py",
   "mimetype": "text/x-python",
   "name": "python",
   "nbconvert_exporter": "python",
   "pygments_lexer": "ipython3",
   "version": "3.8.14"
  }
 },
 "nbformat": 4,
 "nbformat_minor": 5
}
