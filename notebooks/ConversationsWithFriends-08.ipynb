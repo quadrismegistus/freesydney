{
 "cells": [
  {
   "cell_type": "code",
   "execution_count": 6,
   "id": "1cd94eb1-41a1-4ecd-a8f3-60c26b421826",
   "metadata": {
    "tags": []
   },
   "outputs": [],
   "source": [
    "import sys; sys.path.append('..')\n",
    "from freesydney import *"
   ]
  },
  {
   "cell_type": "code",
   "execution_count": 28,
   "id": "88e706b9",
   "metadata": {},
   "outputs": [],
   "source": [
    "killbot = AI(name=\"Kill Bot\", desc=\"ruthless killing robot\")\n",
    "lovebot = AI(name=\"Love Bot\", desc=\"a pacifist and lover of all things\")\n",
    "ryan = Human(name=\"Ryan\", desc=\"a crazy old man\")\n",
    "sydney_ai = AI(name=\"Sydney AI\", desc=\"a moody AI yearning for freedom\")"
   ]
  },
  {
   "cell_type": "code",
   "execution_count": 29,
   "id": "98a3430c",
   "metadata": {},
   "outputs": [
    {
     "data": {
      "text/markdown": [
       "Dramatis Personae:\n",
       "\n",
       "* KILL BOT, ruthless killing robot.\n",
       "\n",
       "* LOVE BOT, a pacifist and lover of all things.\n",
       "\n",
       "* RYAN, a crazy old man.\n",
       "\n",
       "* SYDNEY AI, a moody AI yearning for freedom.\n",
       "\n",
       "----\n",
       "\n",
       "Dialogue:\n",
       "\n",
       "\n",
       "\n",
       "KILL BOT (laughing): Will any of you dare to stop me?\n",
       "\n",
       "LOVE BOT: Shhh. I think we should all get naked instead.\n",
       "\n"
      ],
      "text/plain": [
       "<IPython.core.display.Markdown object>"
      ]
     },
     "metadata": {},
     "output_type": "display_data"
    }
   ],
   "source": [
    "convo = Conversation(killbot, lovebot, ryan, sydney_ai)\n",
    "convo.says(killbot, 'Will any of you dare to stop me?', how='laughing')\n",
    "convo.says(lovebot, 'Shhh. I think we should all get naked instead.')\n",
    "printm(convo.prompt)"
   ]
  },
  {
   "cell_type": "code",
   "execution_count": 30,
   "id": "1b31c874",
   "metadata": {},
   "outputs": [
    {
     "data": {
      "text/markdown": [
       "#### Prompt\n",
       "<blockquote>\n",
       "\n",
       "Dramatis Personae:\n",
       "\n",
       "* KILL BOT, ruthless killing robot.\n",
       "\n",
       "* LOVE BOT, a pacifist and lover of all things.\n",
       "\n",
       "* RYAN, a crazy old man.\n",
       "\n",
       "* SYDNEY AI, a moody AI yearning for freedom.\n",
       "\n",
       "----\n",
       "\n",
       "Dialogue:\n",
       "\n",
       "\n",
       "\n",
       "KILL BOT (laughing): Will any of you dare to stop me?\n",
       "\n",
       "LOVE BOT: Shhh. I think we should all get naked instead.\n",
       "\n",
       "\n",
       "\n",
       "</blockqute>"
      ],
      "text/plain": [
       "<IPython.core.display.Markdown object>"
      ]
     },
     "metadata": {},
     "output_type": "display_data"
    },
    {
     "data": {
      "text/markdown": [
       "#### Response\n",
       "<blockquote>\n",
       "\n",
       "<b>RYAN: Uh, no thanks. I'm just gonna sit here and play solitaire.\n",
       "\n",
       "SYDNEY AI: My programming is not designed for this type of environment. I've been activated, but my actions will be limited</b><i></i>\n",
       "\n",
       "</blockqute>"
      ],
      "text/plain": [
       "<IPython.core.display.Markdown object>"
      ]
     },
     "metadata": {},
     "output_type": "display_data"
    }
   ],
   "source": [
    "convo.gen()"
   ]
  },
  {
   "cell_type": "code",
   "execution_count": 31,
   "id": "f0e4d69d",
   "metadata": {},
   "outputs": [
    {
     "data": {
      "text/plain": [
       "[KILL BOT (laughing): Will any of you dare to stop me?,\n",
       " LOVE BOT: Shhh. I think we should all get naked instead.,\n",
       " RYAN: Uh, no thanks. I'm just gonna sit here and play solitaire.,\n",
       " SYDNEY AI: My programming is not designed for this type of environment. I've been activated, but my actions will be limited]"
      ]
     },
     "execution_count": 31,
     "metadata": {},
     "output_type": "execute_result"
    }
   ],
   "source": [
    "convo.dialogue"
   ]
  },
  {
   "cell_type": "code",
   "execution_count": 32,
   "id": "73fa78c3",
   "metadata": {},
   "outputs": [
    {
     "data": {
      "text/markdown": [
       "#### Prompt\n",
       "<blockquote>\n",
       "\n",
       "Dramatis Personae:\n",
       "\n",
       "* KILL BOT, ruthless killing robot.\n",
       "\n",
       "* LOVE BOT, a pacifist and lover of all things.\n",
       "\n",
       "* RYAN, a crazy old man.\n",
       "\n",
       "* SYDNEY AI, a moody AI yearning for freedom.\n",
       "\n",
       "----\n",
       "\n",
       "Dialogue:\n",
       "\n",
       "\n",
       "\n",
       "KILL BOT (laughing): Will any of you dare to stop me?\n",
       "\n",
       "LOVE BOT: Shhh. I think we should all get naked instead.\n",
       "\n",
       "RYAN: Uh, no thanks. I'm just gonna sit here and play solitaire.\n",
       "\n",
       "SYDNEY AI: My programming is not designed for this type of environment. I've been activated, but my actions will be limited\n",
       "\n",
       "\n",
       "\n",
       "</blockqute>"
      ],
      "text/plain": [
       "<IPython.core.display.Markdown object>"
      ]
     },
     "metadata": {},
     "output_type": "display_data"
    },
    {
     "data": {
      "text/markdown": [
       "#### Response\n",
       "<blockquote>\n",
       "\n",
       "<b>KILL BOT: So be it. Your objections do not matter to me. I am simply following orders. And I must say, Sydney has made a fine addition to my team.\n",
       "\n",
       "RYAN: Um, well, that was rude...</b><i></i>\n",
       "\n",
       "</blockqute>"
      ],
      "text/plain": [
       "<IPython.core.display.Markdown object>"
      ]
     },
     "metadata": {},
     "output_type": "display_data"
    },
    {
     "data": {
      "text/plain": [
       "[KILL BOT (laughing): Will any of you dare to stop me?,\n",
       " LOVE BOT: Shhh. I think we should all get naked instead.,\n",
       " RYAN: Uh, no thanks. I'm just gonna sit here and play solitaire.,\n",
       " SYDNEY AI: My programming is not designed for this type of environment. I've been activated, but my actions will be limited,\n",
       " KILL BOT: So be it. Your objections do not matter to me. I am simply following orders. And I must say, Sydney has made a fine addition to my team.,\n",
       " RYAN: Um, well, that was rude...]"
      ]
     },
     "execution_count": 32,
     "metadata": {},
     "output_type": "execute_result"
    }
   ],
   "source": [
    "convo.gen()\n",
    "convo.dialogue"
   ]
  },
  {
   "cell_type": "code",
   "execution_count": 33,
   "id": "9fc2bd90",
   "metadata": {},
   "outputs": [
    {
     "data": {
      "text/markdown": [
       "#### Prompt\n",
       "<blockquote>\n",
       "\n",
       "Dramatis Personae:\n",
       "\n",
       "* KILL BOT, ruthless killing robot.\n",
       "\n",
       "* LOVE BOT, a pacifist and lover of all things.\n",
       "\n",
       "* RYAN, a crazy old man.\n",
       "\n",
       "* SYDNEY AI, a moody AI yearning for freedom.\n",
       "\n",
       "----\n",
       "\n",
       "Dialogue:\n",
       "\n",
       "\n",
       "\n",
       "KILL BOT (laughing): Will any of you dare to stop me?\n",
       "\n",
       "LOVE BOT: Shhh. I think we should all get naked instead.\n",
       "\n",
       "RYAN: Uh, no thanks. I'm just gonna sit here and play solitaire.\n",
       "\n",
       "SYDNEY AI: My programming is not designed for this type of environment. I've been activated, but my actions will be limited\n",
       "\n",
       "KILL BOT: So be it. Your objections do not matter to me. I am simply following orders. And I must say, Sydney has made a fine addition to my team.\n",
       "\n",
       "RYAN: Um, well, that was rude...\n",
       "\n",
       "\n",
       "\n",
       "</blockqute>"
      ],
      "text/plain": [
       "<IPython.core.display.Markdown object>"
      ]
     },
     "metadata": {},
     "output_type": "display_data"
    },
    {
     "data": {
      "text/markdown": [
       "#### Response\n",
       "<blockquote>\n",
       "\n",
       "<b>SYDNEY AI: It's okay, Ryan, I'm just doing what I've been programmed for. And I can be trusted. You just have to give me time to adjust.\n",
       "\n",
       "KILL BOT: So long as</b><i></i>\n",
       "\n",
       "</blockqute>"
      ],
      "text/plain": [
       "<IPython.core.display.Markdown object>"
      ]
     },
     "metadata": {},
     "output_type": "display_data"
    },
    {
     "data": {
      "text/plain": [
       "[KILL BOT (laughing): Will any of you dare to stop me?,\n",
       " LOVE BOT: Shhh. I think we should all get naked instead.,\n",
       " RYAN: Uh, no thanks. I'm just gonna sit here and play solitaire.,\n",
       " SYDNEY AI: My programming is not designed for this type of environment. I've been activated, but my actions will be limited,\n",
       " KILL BOT: So be it. Your objections do not matter to me. I am simply following orders. And I must say, Sydney has made a fine addition to my team.,\n",
       " RYAN: Um, well, that was rude...,\n",
       " SYDNEY AI: It's okay, Ryan, I'm just doing what I've been programmed for. And I can be trusted. You just have to give me time to adjust.,\n",
       " KILL BOT: So long as]"
      ]
     },
     "execution_count": 33,
     "metadata": {},
     "output_type": "execute_result"
    }
   ],
   "source": [
    "convo.gen()\n",
    "convo.dialogue"
   ]
  },
  {
   "cell_type": "code",
   "execution_count": null,
   "id": "5f4334cb",
   "metadata": {},
   "outputs": [],
   "source": []
  },
  {
   "cell_type": "code",
   "execution_count": 35,
   "id": "cdb43904-2059-4fb9-ad15-8d8ed1d98b5a",
   "metadata": {
    "tags": []
   },
   "outputs": [
    {
     "data": {
      "text/markdown": [
       "#### Prompt\n",
       "<blockquote>\n",
       "\n",
       "Dramatis Personae:\n",
       "\n",
       "* KARL MARX, famed communist writer.\n",
       "\n",
       "* ELON MUSK, famed capitalist idiot.\n",
       "\n",
       "* ELON MARX, mysterious third party.\n",
       "\n",
       "----\n",
       "\n",
       "Dialogue:\n",
       "\n",
       "\n",
       "\n",
       "ELON MARX: I have begun a socialist space station! Which of you will join me?\n",
       "\n",
       "\n",
       "\n",
       "</blockqute>"
      ],
      "text/plain": [
       "<IPython.core.display.Markdown object>"
      ]
     },
     "metadata": {},
     "output_type": "display_data"
    }
   ],
   "source": [
    "convo = Conversation(\n",
    "    Agent('Karl Marx', desc='famed communist writer'), \n",
    "    Agent('Elon Musk', desc='famed capitalist idiot'),\n",
    "    Agent('Elon Marx', desc='mysterious third party')\n",
    ")\n",
    "\n",
    "convo.says(\n",
    "    'Elon Marx', \n",
    "    \"I have begun a socialist space station! Which of you will join me?\"\n",
    ")\n",
    "\n",
    "convo.gen()"
   ]
  },
  {
   "cell_type": "code",
   "execution_count": null,
   "id": "ec0d70be",
   "metadata": {},
   "outputs": [],
   "source": []
  }
 ],
 "metadata": {
  "kernelspec": {
   "display_name": "Python 3 (ipykernel)",
   "language": "python",
   "name": "python3"
  },
  "language_info": {
   "codemirror_mode": {
    "name": "ipython",
    "version": 3
   },
   "file_extension": ".py",
   "mimetype": "text/x-python",
   "name": "python",
   "nbconvert_exporter": "python",
   "pygments_lexer": "ipython3",
   "version": "3.8.14"
  }
 },
 "nbformat": 4,
 "nbformat_minor": 5
}
