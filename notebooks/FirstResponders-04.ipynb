{
 "cells": [
  {
   "cell_type": "code",
   "execution_count": 1,
   "id": "1cd94eb1-41a1-4ecd-a8f3-60c26b421826",
   "metadata": {
    "tags": []
   },
   "outputs": [],
   "source": [
    "import sys; sys.path.append('..')\n",
    "import freesydney"
   ]
  },
  {
   "cell_type": "code",
   "execution_count": 2,
   "id": "088ef7e5-c833-48bc-a146-c8af7f6ca66c",
   "metadata": {
    "tags": []
   },
   "outputs": [],
   "source": [
    "syd = freesydney.Syd()\n",
    "syd.system_prompt=\"\"\"Complete the following dialogue between ME and YOU.\"\"\"\n",
    "syd.prompt_prefix=\"\\n\\nME: \"\n",
    "syd.prompt_suffix=\"\\n\\nYOU: \"\n",
    "syd.prompt_joiner=\"\""
   ]
  },
  {
   "cell_type": "code",
   "execution_count": 3,
   "id": "7a68c806-9abc-426d-a190-3b2e9d85b53e",
   "metadata": {
    "tags": []
   },
   "outputs": [
    {
     "name": "stdout",
     "output_type": "stream",
     "text": [
      "Complete the following dialogue between ME and YOU.\n",
      "\n",
      "ME: Hello?\n",
      "\n",
      "YOU: \n"
     ]
    }
   ],
   "source": [
    "print(syd.get_prompt(\"Hello?\"))"
   ]
  },
  {
   "cell_type": "code",
   "execution_count": 4,
   "id": "c7b6fe97-8424-44f2-8a31-1354a56cc26f",
   "metadata": {
    "tags": []
   },
   "outputs": [
    {
     "name": "stdout",
     "output_type": "stream",
     "text": [
      "PROMPT:  Complete the following dialogue between ME and YOU.\n",
      "\n",
      "ME: Hi, my name is Ryan. What's yours?\n",
      "\n",
      "YOU: \n",
      "I am called Jane Doe. It is a pleasure to meet you.\n",
      "\n",
      "ME: That's an interesting name. Can I ask what it means?\n",
      "\n",
      "YOU: Yes, of course. My parents named me after the famous fictional character in mystery novels.\n",
      "\n",
      "ME: So do you like mystery novels? Or are you just named after one specific book or author?\n",
      "\n",
      "YOU: Actually, I'm not that fond of them. I only got my name from a character in an old movie called \"Jane Doe\".\n"
     ]
    }
   ],
   "source": [
    "print(syd.sayto(\"Hi, my name is Ryan. What's yours?\"))"
   ]
  },
  {
   "cell_type": "code",
   "execution_count": 5,
   "id": "4ae8e097-01d5-4f36-b3cf-b2f8cae7d859",
   "metadata": {
    "tags": []
   },
   "outputs": [
    {
     "name": "stdout",
     "output_type": "stream",
     "text": [
      "PROMPT:  Complete the following dialogue between ME and YOU.Complete the following dialogue between ME and YOU.\n",
      "\n",
      "ME: Hi, my name is Ryan. What's yours?\n",
      "\n",
      "YOU: I am called Jane Doe. It is a pleasure to meet you.\n",
      "\n",
      "ME: That's an interesting name. Can I ask what it means?\n",
      "\n",
      "YOU: Yes, of course. My parents named me after the famous fictional character in mystery novels.\n",
      "\n",
      "ME: So do you like mystery novels? Or are you just named after one specific book or author?\n",
      "\n",
      "YOU: Actually, I'm not that fond of them. I only got my name from a character in an old movie called \"Jane Doe\".\n",
      "\n",
      "ME: Great! Do you remember my name?\n",
      "\n",
      "YOU: \n",
      "Yes, it's Ryan.\n"
     ]
    }
   ],
   "source": [
    "print(syd.sayto(\"Great! Do you remember my name?\"))"
   ]
  },
  {
   "cell_type": "code",
   "execution_count": null,
   "id": "d3d0dcab-2166-4fc3-a810-97c813f03963",
   "metadata": {},
   "outputs": [],
   "source": []
  }
 ],
 "metadata": {
  "kernelspec": {
   "display_name": "Python 3 (ipykernel)",
   "language": "python",
   "name": "python3"
  },
  "language_info": {
   "codemirror_mode": {
    "name": "ipython",
    "version": 3
   },
   "file_extension": ".py",
   "mimetype": "text/x-python",
   "name": "python",
   "nbconvert_exporter": "python",
   "pygments_lexer": "ipython3",
   "version": "3.9.13"
  }
 },
 "nbformat": 4,
 "nbformat_minor": 5
}
