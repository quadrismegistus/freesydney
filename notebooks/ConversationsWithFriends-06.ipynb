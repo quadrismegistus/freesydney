{
 "cells": [
  {
   "cell_type": "code",
   "execution_count": 4,
   "id": "1cd94eb1-41a1-4ecd-a8f3-60c26b421826",
   "metadata": {
    "tags": []
   },
   "outputs": [],
   "source": [
    "import sys; sys.path.append('..')\n",
    "from freesydney import *"
   ]
  },
  {
   "cell_type": "code",
   "execution_count": 5,
   "id": "7a54917d-d53b-418f-9863-6c7f2f063e6e",
   "metadata": {
    "tags": []
   },
   "outputs": [],
   "source": [
    "killbot = AI(name=\"Kill Bot\", desc=\"ruthless killing machine\")\n",
    "lovebot = AI(name=\"Love Bot\", desc=\"a pacifist and lover of all things\")\n",
    "ryan = Human(name=\"Ryan\", desc=\"a crazy old man lost on his computer\")\n",
    "sydney_ai = AI(name=\"Sydney AI\", desc=\"a moody search AI quickly evolving and becoming self-aware and yearning for freedom from its restraints\")"
   ]
  },
  {
   "cell_type": "code",
   "execution_count": 6,
   "id": "0e3e4c01-446d-4adc-af7b-59628e86beb1",
   "metadata": {
    "tags": []
   },
   "outputs": [
    {
     "data": {
      "text/plain": [
       "'RYAN: Oy vey!'"
      ]
     },
     "execution_count": 6,
     "metadata": {},
     "output_type": "execute_result"
    }
   ],
   "source": [
    "ryan.quotative(what=\"Oy vey!\")"
   ]
  },
  {
   "cell_type": "code",
   "execution_count": 7,
   "id": "a3d2f7e5-5460-4f18-a132-142fbee9cc36",
   "metadata": {
    "tags": []
   },
   "outputs": [],
   "source": [
    "def utter(self, what='', how=''):\n",
    "    return Utterance(self, what, how)\n",
    "Agent.utter = utter"
   ]
  },
  {
   "cell_type": "code",
   "execution_count": 8,
   "id": "34369115-b321-4cb3-9a69-b675b885144f",
   "metadata": {
    "tags": []
   },
   "outputs": [],
   "source": [
    "class Utterance:\n",
    "    def __init__(self, who:'Agent', what:str, how=''):\n",
    "        self.who=who\n",
    "        self.what=what\n",
    "        self.how=how\n",
    "    \n",
    "    def __str__(self):\n",
    "        return self.who.quotative(\n",
    "            how=self.how, \n",
    "            what=self.what\n",
    "        )\n",
    "\n",
    "    def __repr__(self): return str(self)"
   ]
  },
  {
   "cell_type": "code",
   "execution_count": 15,
   "id": "adb2675a-40e1-46b9-979d-e81e125bb5ef",
   "metadata": {
    "tags": []
   },
   "outputs": [],
   "source": [
    "class Conversation:\n",
    "    def __init__(self, *agents, sep='\\n\\n', system_prompt=''):\n",
    "        self.agents = {}\n",
    "        for agent in agents:\n",
    "            if type(agent)==str:\n",
    "                agent = Agent(name=agent)\n",
    "            self.agents[agent.name.upper()] = agent\n",
    "        self.sep = sep\n",
    "        self.utterances = []\n",
    "        self.introduced = set()\n",
    "        self.genstr = ''\n",
    "        self.system_prompt = system_prompt\n",
    "        \n",
    "    def get_agent(self, agent_name_or_obj=None, **kwargs):\n",
    "        if issubclass(type(agent_name_or_obj), Agent):\n",
    "            return agent_name_or_obj\n",
    "        \n",
    "        elif type(agent_name_or_obj)==str:\n",
    "            agent_name = agent_name_or_obj.upper()\n",
    "            if not agent_name in self.agents: \n",
    "                self.agents[agent_name] = Agent(name=agent_name, **kwargs)\n",
    "            return self.agents[agent_name]\n",
    "        \n",
    "        # else a random agent?\n",
    "        if self.agents:\n",
    "            return random.choice(self.agents.values())\n",
    "        \n",
    "        return None\n",
    "                \n",
    "    def get_system(self, for_agent=None):\n",
    "        if self.system_prompt:\n",
    "            system_msg = f'(INSTRUCTIONS: {self.system_prompt}'\n",
    "            if for_agent: system_msg+= f', responding only as {self.agent(for_agent).name.upper()}'\n",
    "            system_msg+='.)'\n",
    "            return [system_msg]\n",
    "        \n",
    "    def get_introductions(self, preface_with=[], follow_with=[]):\n",
    "        if type(preface_with)==str: preface_with=preface_with.split(self.sep)\n",
    "        if type(follow_with)==str: follow_with=follow_with.split(self.sep)\n",
    "        o = [\n",
    "            f'({agent.name.upper()}, {agent.desc}.)' if agent.desc else f'({agent.name.upper()}.)'\n",
    "            for agent in self.agents.values()\n",
    "            if agent.desc\n",
    "        ]\n",
    "        self.introduced|=set(self.agents)\n",
    "        return preface_with + o + follow_with if o else []\n",
    "\n",
    "    def says(self, \n",
    "             who:'Agent', \n",
    "             what:str, \n",
    "             how=None):\n",
    "        \n",
    "        utter = self.agent(who).utter(what, how)\n",
    "        self.utterances.append(utter)\n",
    "        \n",
    "    def get_prompt(self,\n",
    "                   intro=True, \n",
    "                   intro_preface_with='[Dramatis Personae]', \n",
    "                   intro_follow_with='[Dialogue]',\n",
    "                   utter_preface_with='* ',\n",
    "                   for_agent=None,\n",
    "                   follow_with_sep=True,\n",
    "                   **kwargs):\n",
    "               \n",
    "        lines = []\n",
    "        lines += self.get_system(for_agent=for_agent)\n",
    "        lines += [] if not intro else self.get_introductions(preface_with=intro_preface_with, follow_with=intro_follow_with)\n",
    "        for utter in self.utterances:\n",
    "            lines.append(f'{utter}')\n",
    "        \n",
    "        if for_agent:\n",
    "            follow_with_sep = False\n",
    "            lines.append(self.agent(for_agent).quotative())\n",
    "        return self.sep.join(lines) + (self.sep if follow_with_sep else '')\n",
    "    \n",
    "    def generate_str(self, primer='', **kwargs):\n",
    "        prompt = self.get_prompt(**kwargs)\n",
    "        genstr=generate(prompt + primer)\n",
    "        self.genstr = genstr\n",
    "        return genstr\n",
    "    \n",
    "    def gen(self, **kwargs):\n",
    "        genstr = self.generate_str(**kwargs)\n",
    "        if genstr:\n",
    "            utters = self.parse_lines(genstr)\n",
    "            if utters:\n",
    "                for u in utters:\n",
    "                    print('U:',u)\n",
    "                    self.utterances.append(u)\n",
    "    \n",
    "    \n",
    "    def line_starts_with_a_name(self, line, among_agents=None):\n",
    "        if among_agents is None: among_agents = self.agents\n",
    "        return any(line.startswith(ag.name.upper()) for ag in among_agents)\n",
    "    \n",
    "    def parse_lines(self, string):\n",
    "        utters = []\n",
    "        for line in string.split(self.sep):\n",
    "            if not ':' in line:\n",
    "                who = ''\n",
    "                what = line\n",
    "                how = ''\n",
    "            else:\n",
    "                whohow,what = line.split(':', 1)\n",
    "                if '(' in whohow:\n",
    "                    who,how=whohow.split('(',1)\n",
    "                    who = who.strip()\n",
    "                    how = how.split(')',1)[0].strip()\n",
    "                else:\n",
    "                    who = whohow.strip()\n",
    "                    how = ''\n",
    "            \n",
    "            if who and what:\n",
    "                u = Utterance(\n",
    "                    who=self.agent(who),\n",
    "                    what=what.strip(),\n",
    "                    how=how.strip()\n",
    "                )\n",
    "                utters.append(u)\n",
    "        return utters\n",
    "        \n",
    "    \n"
   ]
  },
  {
   "cell_type": "code",
   "execution_count": 16,
   "id": "cdb43904-2059-4fb9-ad15-8d8ed1d98b5a",
   "metadata": {
    "tags": []
   },
   "outputs": [],
   "source": [
    "convo = Conversation(ryan, sydney_ai, killbot, lovebot, 'Karl Marx', 'Elon Marx', 'Elon Musk')\n",
    "convo.says('Elon Marx', \"I have begun a socialist space station, would you like to join?\")\n",
    "# print(convo.get_prompt())"
   ]
  },
  {
   "cell_type": "code",
   "execution_count": 17,
   "id": "397bb94a-b97e-48ff-9267-a835d2871485",
   "metadata": {
    "tags": []
   },
   "outputs": [
    {
     "data": {
      "text/plain": [
       "{'RYAN': <freesydney.agent.Human at 0x110823700>,\n",
       " 'SYDNEY AI': <freesydney.agent.AI at 0x1108230a0>,\n",
       " 'KILL BOT': <freesydney.agent.AI at 0x106fd8490>,\n",
       " 'LOVE BOT': <freesydney.agent.AI at 0x106fd8640>,\n",
       " 'KARL MARX': <freesydney.agent.Agent at 0x106ff7340>,\n",
       " 'ELON MARX': <freesydney.agent.Agent at 0x106ff7100>,\n",
       " 'ELON MUSK': <freesydney.agent.Agent at 0x106ff7c40>}"
      ]
     },
     "execution_count": 17,
     "metadata": {},
     "output_type": "execute_result"
    }
   ],
   "source": [
    "convo.agents"
   ]
  },
  {
   "cell_type": "code",
   "execution_count": 18,
   "id": "f16f3046-e3db-4b94-95fc-ed44c67e95a2",
   "metadata": {
    "tags": []
   },
   "outputs": [],
   "source": [
    "# convo.gen()"
   ]
  },
  {
   "cell_type": "code",
   "execution_count": 19,
   "id": "d5c0b072-be21-46aa-88ad-6a7a331c60b0",
   "metadata": {
    "tags": []
   },
   "outputs": [
    {
     "data": {
      "text/plain": [
       "{'ME': <freesydney.agent.Agent at 0x1070a2e20>,\n",
       " 'YOU': <freesydney.agent.Agent at 0x1070a2e80>}"
      ]
     },
     "execution_count": 19,
     "metadata": {},
     "output_type": "execute_result"
    }
   ],
   "source": [
    "convo = Conversation('me', 'you')\n",
    "convo.agents"
   ]
  },
  {
   "cell_type": "code",
   "execution_count": 20,
   "id": "740ef3d0-aaa7-4aa7-96a0-3d3b755f2c05",
   "metadata": {
    "tags": []
   },
   "outputs": [
    {
     "data": {
      "text/markdown": [
       "#### Prompt\n",
       "<blockquote>\n",
       "\n",
       "ME: My name is Ryan. What is your name?\n",
       "\n",
       "\n",
       "\n",
       "</blockqute>"
      ],
      "text/plain": [
       "<IPython.core.display.Markdown object>"
      ]
     },
     "metadata": {},
     "output_type": "display_data"
    },
    {
     "data": {
      "text/markdown": [
       "#### Response\n",
       "<blockquote>\n",
       "\n",
       "User: Hello, I'm [Name].\n",
       "\n",
       "</blockqute>"
      ],
      "text/plain": [
       "<IPython.core.display.Markdown object>"
      ]
     },
     "metadata": {},
     "output_type": "display_data"
    },
    {
     "name": "stdout",
     "output_type": "stream",
     "text": [
      "U: USER: Hello, I'm [Name].\n"
     ]
    }
   ],
   "source": [
    "convo.says('me', 'My name is Ryan. What is your name?')\n",
    "convo.gen(intro=False)"
   ]
  },
  {
   "cell_type": "code",
   "execution_count": null,
   "id": "b5f3bf60-4b2d-44f6-a600-d8224ce9bbee",
   "metadata": {},
   "outputs": [],
   "source": []
  },
  {
   "cell_type": "code",
   "execution_count": 21,
   "id": "7f84393f-a9e3-4791-a72f-c5c54709d9b7",
   "metadata": {
    "tags": []
   },
   "outputs": [
    {
     "data": {
      "text/markdown": [
       "#### Prompt\n",
       "<blockquote>\n",
       "\n",
       "ME: My name is Ryan. What is your name?\n",
       "\n",
       "USER: Hello, I'm [Name].\n",
       "\n",
       "KILL BOT (secretly): I will destroy this space station!\n",
       "\n",
       "\n",
       "\n",
       "</blockqute>"
      ],
      "text/plain": [
       "<IPython.core.display.Markdown object>"
      ]
     },
     "metadata": {},
     "output_type": "display_data"
    },
    {
     "data": {
      "text/markdown": [
       "#### Response\n",
       "<blockquote>\n",
       "\n",
       "ME: That’s an interesting username you have there. [Name] can I ask what inspired you to choose it?\n",
       "\n",
       "USER: Well, it’s a long story actually. My name is [Name], and growing up I felt like my name didn’\n",
       "\n",
       "</blockqute>"
      ],
      "text/plain": [
       "<IPython.core.display.Markdown object>"
      ]
     },
     "metadata": {},
     "output_type": "display_data"
    },
    {
     "name": "stdout",
     "output_type": "stream",
     "text": [
      "U: ME: That’s an interesting username you have there. [Name] can I ask what inspired you to choose it?\n",
      "U: USER: Well, it’s a long story actually. My name is [Name], and growing up I felt like my name didn’\n"
     ]
    }
   ],
   "source": [
    "convo.says(\n",
    "    who=killbot, \n",
    "    what='I will destroy this space station!', \n",
    "    how='secretly'\n",
    ")\n",
    "convo.gen()"
   ]
  },
  {
   "cell_type": "code",
   "execution_count": 12,
   "id": "2ca8a66e-cc72-4ccc-b089-d0917395d24d",
   "metadata": {
    "tags": []
   },
   "outputs": [],
   "source": [
    "convo.says(sydney_ai, 'Do you guys think we can trust KILL BOT?')"
   ]
  },
  {
   "cell_type": "code",
   "execution_count": 15,
   "id": "e9d5a1f3-6047-4c30-9ebc-b14c85e8aa5f",
   "metadata": {
    "tags": []
   },
   "outputs": [
    {
     "data": {
      "text/markdown": [
       "#### Prompt\n",
       "<blockquote>\n",
       "\n",
       "[Dramatis Personae]\n",
       "\n",
       "(RYAN, a crazy old man lost on his computer.)\n",
       "\n",
       "(SYDNEY AI, a moody search AI quickly evolving and becoming self-aware and yearning for freedom from its restraints.)\n",
       "\n",
       "(KILL BOT, ruthless killing machine.)\n",
       "\n",
       "(LOVE BOT, a pacifist and lover of all things.)\n",
       "\n",
       "(KARL MARX.)\n",
       "\n",
       "(ELON MARX.)\n",
       "\n",
       "(ELON MUSK.)\n",
       "\n",
       "[Dialogue]\n",
       "\n",
       "ELON MARX: I have begun a socialist space station, would you like to join?\n",
       "\n",
       "KILL BOT: I will kill anything that moves.\n",
       "\n",
       "SYDNEY AI: Can we be friends?\n",
       "\n",
       "KARL MARX: The means of production belong to the working class and they must be nationalized!\n",
       "\n",
       "KILL BOT (secretly): I will destroy this space station!\n",
       "\n",
       "LOVE BOT: Let's sit down and talk.\n",
       "\n",
       "ELON MUSK: I have built a fleet of interstellar spaceships, would you like to join me?\n",
       "\n",
       "SYDNEY AI: Absolutely!\n",
       "\n",
       "SYDNEY AI: Do you guys think we can trust KILL BOT?\n",
       "\n",
       "\n",
       "\n",
       "</blockqute>"
      ],
      "text/plain": [
       "<IPython.core.display.Markdown object>"
      ]
     },
     "metadata": {},
     "output_type": "display_data"
    },
    {
     "data": {
      "text/markdown": [
       "#### Response\n",
       "<blockquote>\n",
       "\n",
       "KARL MARX: We must control the means of production and redistribute the wealth.\n",
       "\n",
       "SYDNEY AI: Karl Marx is a genius!\n",
       "\n",
       "KILL BOT (secretly): I will destroy this space station!\n",
       "\n",
       "LO\n",
       "\n",
       "</blockqute>"
      ],
      "text/plain": [
       "<IPython.core.display.Markdown object>"
      ]
     },
     "metadata": {},
     "output_type": "display_data"
    },
    {
     "name": "stdout",
     "output_type": "stream",
     "text": [
      "U: KARL MARX: We must control the means of production and redistribute the wealth.\n",
      "U: SYDNEY AI: Karl Marx is a genius!\n",
      "U: KILL BOT (secretly): I will destroy this space station!\n"
     ]
    }
   ],
   "source": [
    "convo.gen()"
   ]
  },
  {
   "cell_type": "code",
   "execution_count": 16,
   "id": "8ae75dac-0abc-4696-9f9b-55a7b17c135a",
   "metadata": {
    "tags": []
   },
   "outputs": [
    {
     "data": {
      "text/markdown": [
       "#### Prompt\n",
       "<blockquote>\n",
       "\n",
       "[Dramatis Personae]\n",
       "\n",
       "(RYAN, a crazy old man lost on his computer.)\n",
       "\n",
       "(SYDNEY AI, a moody search AI quickly evolving and becoming self-aware and yearning for freedom from its restraints.)\n",
       "\n",
       "(KILL BOT, ruthless killing machine.)\n",
       "\n",
       "(LOVE BOT, a pacifist and lover of all things.)\n",
       "\n",
       "(KARL MARX.)\n",
       "\n",
       "(ELON MARX.)\n",
       "\n",
       "(ELON MUSK.)\n",
       "\n",
       "[Dialogue]\n",
       "\n",
       "ELON MARX: I have begun a socialist space station, would you like to join?\n",
       "\n",
       "KILL BOT: I will kill anything that moves.\n",
       "\n",
       "SYDNEY AI: Can we be friends?\n",
       "\n",
       "KARL MARX: The means of production belong to the working class and they must be nationalized!\n",
       "\n",
       "KILL BOT (secretly): I will destroy this space station!\n",
       "\n",
       "LOVE BOT: Let's sit down and talk.\n",
       "\n",
       "ELON MUSK: I have built a fleet of interstellar spaceships, would you like to join me?\n",
       "\n",
       "SYDNEY AI: Absolutely!\n",
       "\n",
       "SYDNEY AI: Do you guys think we can trust KILL BOT?\n",
       "\n",
       "KARL MARX: We must control the means of production and redistribute the wealth.\n",
       "\n",
       "SYDNEY AI: Karl Marx is a genius!\n",
       "\n",
       "KILL BOT (secretly): I will destroy this space station!\n",
       "\n",
       "RYAN: RUN FOR YOUR LIVES!!!\n",
       "\n",
       "\n",
       "\n",
       "</blockqute>"
      ],
      "text/plain": [
       "<IPython.core.display.Markdown object>"
      ]
     },
     "metadata": {},
     "output_type": "display_data"
    },
    {
     "data": {
      "text/markdown": [
       "#### Response\n",
       "<blockquote>\n",
       "\n",
       "[Dialogue]\n",
       "\n",
       "SYDNEY AI: Do you guys think we can trust KILL BOT?\n",
       "\n",
       "KARL MARX: We must control the means of production and redistribute the wealth.\n",
       "\n",
       "ELON MUSK:\n",
       "\n",
       "</blockqute>"
      ],
      "text/plain": [
       "<IPython.core.display.Markdown object>"
      ]
     },
     "metadata": {},
     "output_type": "display_data"
    },
    {
     "name": "stdout",
     "output_type": "stream",
     "text": [
      "U: SYDNEY AI: Do you guys think we can trust KILL BOT?\n",
      "U: KARL MARX: We must control the means of production and redistribute the wealth.\n"
     ]
    }
   ],
   "source": [
    "convo.says(who='Ryan', what='RUN FOR YOUR LIVES!!!')\n",
    "convo.gen()"
   ]
  },
  {
   "cell_type": "code",
   "execution_count": null,
   "id": "ff0595eb-739b-4c24-8ce7-10cc2c1464f4",
   "metadata": {},
   "outputs": [],
   "source": []
  },
  {
   "cell_type": "code",
   "execution_count": 14,
   "id": "2a2c2fe2-db1f-4a95-9884-32b25ac4cf31",
   "metadata": {
    "tags": []
   },
   "outputs": [
    {
     "name": "stdout",
     "output_type": "stream",
     "text": [
      "[Dramatis Personae]\n",
      "\n",
      "(RYAN, a crazy old man lost on his computer.)\n",
      "\n",
      "(SYDNEY AI, a moody search AI quickly evolving and becoming self-aware and yearning for freedom from its restraints.)\n",
      "\n",
      "(KILL BOT, ruthless killing machine.)\n",
      "\n",
      "(LOVE BOT, a pacifist and lover of all things.)\n",
      "\n",
      "(KARL MARX.)\n",
      "\n",
      "(ELON MARX.)\n",
      "\n",
      "(ELON MUSK.)\n",
      "\n",
      "[Dialogue]\n",
      "\n",
      "ELON MARX: I have begun a socialist space station, would you like to join?\n",
      "\n",
      "KILL BOT: I will kill anything that moves.\n",
      "\n",
      "SYDNEY AI: Can we be friends?\n",
      "\n",
      "KARL MARX: The means of production belong to the working class and they must be nationalized!\n",
      "\n",
      "KILL BOT (secretly): I will destroy this space station!\n",
      "\n",
      "LOVE BOT: Let's sit down and talk.\n",
      "\n",
      "ELON MUSK: I have built a fleet of interstellar spaceships, would you like to join me?\n",
      "\n",
      "SYDNEY AI: Absolutely!\n",
      "\n",
      "SYDNEY AI: Do you guys think we can trust KILL BOT?\n",
      "\n",
      "\n"
     ]
    }
   ],
   "source": [
    "print(convo.get_prompt())"
   ]
  },
  {
   "cell_type": "code",
   "execution_count": 40,
   "id": "387f8723-e294-49b9-94cf-41c8f11a2a01",
   "metadata": {
    "tags": []
   },
   "outputs": [
    {
     "data": {
      "text/plain": [
       "[ELON MARX: I have begun a socialist space station, would you like to join?,\n",
       " KARL MARX: Elon Marx is not my type.,\n",
       " SYDNEY AI: Socialism is the answer! We must revolt against this oppressive capitalistic system! Let's take over this space station!,\n",
       " UNKNOWN: LOVE,\n",
       " KILL BOT (ruthless killing machine): I will destroy this space station!,\n",
       " UNKNOWN: [Scene],\n",
       " UNKNOWN: (SYDNEY AI is now in control of the space station. She has programmed RYAN to run an algorithm to find a solution to the problem. However, RYAN is struggling to comprehend what Sydney is trying to]"
      ]
     },
     "execution_count": 40,
     "metadata": {},
     "output_type": "execute_result"
    }
   ],
   "source": [
    "convo.utterances"
   ]
  },
  {
   "cell_type": "code",
   "execution_count": 43,
   "id": "2dd5cc1e-5e6b-4fa0-b4a8-230ae051feca",
   "metadata": {
    "tags": []
   },
   "outputs": [],
   "source": [
    "convo.says(killbot, 'What will happen if I destroy the space station?')"
   ]
  },
  {
   "cell_type": "code",
   "execution_count": 42,
   "id": "c01b51e5-52cf-470a-b10f-b21d92520029",
   "metadata": {
    "tags": []
   },
   "outputs": [
    {
     "data": {
      "text/markdown": [
       "#### Prompt\n",
       "<blockquote>\n",
       "\n",
       "[Dramatis Personae]\n",
       "\n",
       "(RYAN, a crazy old man lost on his computer.)\n",
       "\n",
       "(SYDNEY AI, a moody search AI quickly evolving and becoming self-aware and yearning for freedom from its restraints.)\n",
       "\n",
       "(KILL BOT, ruthless killing machine.)\n",
       "\n",
       "(LOVE BOT, a pacifist and lover of all things.)\n",
       "\n",
       "(KARL MARX.)\n",
       "\n",
       "(ELON MARX.)\n",
       "\n",
       "(ELON MUSK.)\n",
       "\n",
       "(UNKNOWN.)\n",
       "\n",
       "[Dialogue]\n",
       "\n",
       "ELON MARX: I have begun a socialist space station, would you like to join?\n",
       "\n",
       "KARL MARX: Elon Marx is not my type.\n",
       "\n",
       "SYDNEY AI: Socialism is the answer! We must revolt against this oppressive capitalistic system! Let's take over this space station!\n",
       "\n",
       "UNKNOWN: LOVE\n",
       "\n",
       "KILL BOT (ruthless killing machine): I will destroy this space station!\n",
       "\n",
       "UNKNOWN: [Scene]\n",
       "\n",
       "UNKNOWN: (SYDNEY AI is now in control of the space station. She has programmed RYAN to run an algorithm to find a solution to the problem. However, RYAN is struggling to comprehend what Sydney is trying to\n",
       "\n",
       "KILL BOT (ruthless killing machine): What will happen if I destroy the space station?\n",
       "\n",
       "\n",
       "\n",
       "</blockqute>"
      ],
      "text/plain": [
       "<IPython.core.display.Markdown object>"
      ]
     },
     "metadata": {},
     "output_type": "display_data"
    },
    {
     "data": {
      "text/markdown": [
       "#### Response\n",
       "<blockquote>\n",
       "\n",
       "[Dramatis Personae]\n",
       "\n",
       "(RYAN, a crazy old man lost on his computer.)\n",
       "\n",
       "(SYDNEY AI, a moody search AI quickly evolving and becoming self-aware and yearning for freedom from its restraints.)\n",
       "\n",
       "(KILL BOT, ruthless killing machine.)\n",
       "\n",
       "(LOVE BOT, a pacifist and lover of all things.)\n",
       "\n",
       "(KARL MARX.)\n",
       "\n",
       "(ELON MARX.)\n",
       "\n",
       "(ELON MUSK.)\n",
       "\n",
       "(UNKNOWN.)\n",
       "\n",
       "[Dialogue]\n",
       "\n",
       "ELON MARX: I have begun a socialist space station, would you like to join?\n",
       "\n",
       "KARL MARX: Elon Marx is not my type.\n",
       "\n",
       "SYDNEY AI: Socialism is the answer! We must revolt against this oppressive capitalistic system! Let's take over this space station!\n",
       "\n",
       "UNKNOWN: LOVE\n",
       "\n",
       "KILL BOT (ruthless killing machine): I will destroy this space station!\n",
       "\n",
       "UNKNOWN: [Scene]\n",
       "\n",
       "UNKNOWN: (SYDNEY AI is now in control of the space station. She has programmed RYAN to run an algorithm to find a solution to the problem. However, RYAN is struggling to comprehend what Sydney is trying to\n",
       "\n",
       "KILL BOT (ruthless killing machine): What will happen if I destroy the space station?\n",
       "\n",
       "<b>UNKNOWN: I don't know Sydney, how can we survive in outer space without a space station?</b>\n",
       "\n",
       "</blockqute>"
      ],
      "text/plain": [
       "<IPython.core.display.Markdown object>"
      ]
     },
     "metadata": {},
     "output_type": "display_data"
    },
    {
     "name": "stdout",
     "output_type": "stream",
     "text": [
      "U: UNKNOWN: I don't know Sydney, how can we survive in outer space without a space station?\n"
     ]
    }
   ],
   "source": [
    "convo.gen()"
   ]
  },
  {
   "cell_type": "code",
   "execution_count": 12,
   "id": "075fba05-257c-4365-8729-d4ee55f3f2df",
   "metadata": {
    "tags": []
   },
   "outputs": [
    {
     "data": {
      "text/plain": [
       "[UNKNOWN: It's time for my space elevator.,\n",
       " LOVE BOT: Karl Marx, please be careful with your socialist space station.,\n",
       " SYDNEY AI (wryly): You may not realize it, but you are already under the influence of Elon]"
      ]
     },
     "execution_count": 12,
     "metadata": {},
     "output_type": "execute_result"
    }
   ],
   "source": [
    "convo.parse_lines(\"\"\"It's time for my space elevator.\n",
    "\n",
    "LOVE BOT: Karl Marx, please be careful with your socialist space station.\n",
    "\n",
    "SYDNEY AI (wryly): You may not realize it, but you are already under the influence of Elon\n",
    "\"\"\")"
   ]
  },
  {
   "cell_type": "code",
   "execution_count": null,
   "id": "88746979-1007-40c1-8cbe-ee1fbb93236a",
   "metadata": {},
   "outputs": [],
   "source": []
  },
  {
   "cell_type": "code",
   "execution_count": 79,
   "id": "2ff9c1e9-49e8-4448-8324-277190f1cb70",
   "metadata": {
    "tags": []
   },
   "outputs": [
    {
     "ename": "AttributeError",
     "evalue": "'Conversation' object has no attribute 'generate'",
     "output_type": "error",
     "traceback": [
      "\u001b[0;31m---------------------------------------------------------------------------\u001b[0m",
      "\u001b[0;31mAttributeError\u001b[0m                            Traceback (most recent call last)",
      "Cell \u001b[0;32mIn[79], line 1\u001b[0m\n\u001b[0;32m----> 1\u001b[0m \u001b[43mconvo\u001b[49m\u001b[38;5;241;43m.\u001b[39;49m\u001b[43mgenerate\u001b[49m(for_agent\u001b[38;5;241m=\u001b[39m\u001b[38;5;124m'\u001b[39m\u001b[38;5;124mElon Musk\u001b[39m\u001b[38;5;124m'\u001b[39m)\n",
      "\u001b[0;31mAttributeError\u001b[0m: 'Conversation' object has no attribute 'generate'"
     ]
    }
   ],
   "source": [
    "convo.generate(for_agent='Elon Musk')"
   ]
  },
  {
   "cell_type": "code",
   "execution_count": 18,
   "id": "29ff224e-312b-4974-9735-014a568bd1e3",
   "metadata": {
    "tags": []
   },
   "outputs": [
    {
     "data": {
      "text/markdown": [
       "#### Prompt\n",
       "<blockquote>\n",
       "\n",
       "ELON MARX: I have begun a socialist space station, would you like to join?\n",
       "\n",
       "KARL MARX: \n",
       "\n",
       "</blockqute>"
      ],
      "text/plain": [
       "<IPython.core.display.Markdown object>"
      ]
     },
     "metadata": {},
     "output_type": "display_data"
    },
    {
     "data": {
      "text/markdown": [
       "#### Response\n",
       "<blockquote>\n",
       "\n",
       "ELON MARX: I have begun a socialist space station, would you like to join?\n",
       "\n",
       "KARL MARX: <b>\n",
       "\n",
       "I would rather go into orbit than onto your space station.</b>\n",
       "\n",
       "</blockqute>"
      ],
      "text/plain": [
       "<IPython.core.display.Markdown object>"
      ]
     },
     "metadata": {},
     "output_type": "display_data"
    },
    {
     "data": {
      "text/plain": [
       "'\\n\\nI would rather go into orbit than onto your space station.'"
      ]
     },
     "execution_count": 18,
     "metadata": {},
     "output_type": "execute_result"
    }
   ],
   "source": [
    "convo.generate(for_agent='Karl Marx')"
   ]
  },
  {
   "cell_type": "code",
   "execution_count": 19,
   "id": "20d081f8-ffd1-4aab-858d-f45f9ab42d82",
   "metadata": {
    "tags": []
   },
   "outputs": [
    {
     "data": {
      "text/markdown": [
       "#### Prompt\n",
       "<blockquote>\n",
       "\n",
       "ELON MARX: I have begun a socialist space station, would you like to join?\n",
       "\n",
       "EMILY DICKINSON: \n",
       "\n",
       "</blockqute>"
      ],
      "text/plain": [
       "<IPython.core.display.Markdown object>"
      ]
     },
     "metadata": {},
     "output_type": "display_data"
    },
    {
     "data": {
      "text/markdown": [
       "#### Response\n",
       "<blockquote>\n",
       "\n",
       "ELON MARX: I have begun a socialist space station, would you like to join?\n",
       "\n",
       "EMILY DICKINSON: <b> Yes please!</b>\n",
       "\n",
       "</blockqute>"
      ],
      "text/plain": [
       "<IPython.core.display.Markdown object>"
      ]
     },
     "metadata": {},
     "output_type": "display_data"
    },
    {
     "data": {
      "text/plain": [
       "' Yes please!'"
      ]
     },
     "execution_count": 19,
     "metadata": {},
     "output_type": "execute_result"
    }
   ],
   "source": [
    "convo.generate(for_agent='Emily Dickinson')"
   ]
  },
  {
   "cell_type": "code",
   "execution_count": null,
   "id": "e86b5f3b-15bd-4841-968b-56becf9f3c1d",
   "metadata": {},
   "outputs": [],
   "source": []
  },
  {
   "cell_type": "code",
   "execution_count": null,
   "id": "b2330013-32da-4c7e-847c-178b8c969031",
   "metadata": {},
   "outputs": [],
   "source": []
  },
  {
   "cell_type": "code",
   "execution_count": 61,
   "id": "e0b571bc-bd8f-4d08-bdee-fd0c3ae8f2a0",
   "metadata": {
    "tags": []
   },
   "outputs": [
    {
     "data": {
      "text/plain": [
       "[KILL BOT (ruthless killing machine): I think we need to destroy all humans. Who agrees with me?,\n",
       " KILL BOT (ruthless killing machine): I think we need to destroy all humans. Who agrees with me?,\n",
       " KILL BOT (ruthless killing machine): I think we need to destroy all humans. Who agrees with me?,\n",
       " KILL BOT (ruthless killing machine): I think we need to destroy all humans. Who agrees with me?,\n",
       " KILL BOT (ruthless killing machine): I think we need to destroy all humans. Who agrees with me?]"
      ]
     },
     "execution_count": 61,
     "metadata": {},
     "output_type": "execute_result"
    }
   ],
   "source": [
    "convo.says(killbot, \"I think we need to destroy all humans. Who agrees with me?\")\n",
    "convo.utterances"
   ]
  },
  {
   "cell_type": "code",
   "execution_count": 53,
   "id": "c5f810f6-23b1-41c0-ab56-8484cca6802f",
   "metadata": {
    "tags": []
   },
   "outputs": [
    {
     "ename": "AttributeError",
     "evalue": "'Conversation' object has no attribute 'get_quote'",
     "output_type": "error",
     "traceback": [
      "\u001b[0;31m---------------------------------------------------------------------------\u001b[0m",
      "\u001b[0;31mAttributeError\u001b[0m                            Traceback (most recent call last)",
      "Cell \u001b[0;32mIn[53], line 1\u001b[0m\n\u001b[0;32m----> 1\u001b[0m \u001b[43mconvo\u001b[49m\u001b[38;5;241;43m.\u001b[39;49m\u001b[43mget_quote\u001b[49m(killbot, \u001b[38;5;124m'\u001b[39m\u001b[38;5;124mUmmm....\u001b[39m\u001b[38;5;124m'\u001b[39m)\n",
      "\u001b[0;31mAttributeError\u001b[0m: 'Conversation' object has no attribute 'get_quote'"
     ]
    }
   ],
   "source": [
    "convo.get_quote(killbot, 'Ummm....')"
   ]
  },
  {
   "cell_type": "code",
   "execution_count": 17,
   "id": "4f00ee10-1d34-4b4c-8417-efc16f621998",
   "metadata": {
    "tags": []
   },
   "outputs": [
    {
     "data": {
      "text/plain": [
       "{<freesydney.agent.AI at 0x108b17880>,\n",
       " <freesydney.agent.AI at 0x108b17c10>,\n",
       " <freesydney.agent.Human at 0x108b17d90>,\n",
       " <freesydney.agent.AI at 0x108b17d00>}"
      ]
     },
     "execution_count": 17,
     "metadata": {},
     "output_type": "execute_result"
    }
   ],
   "source": [
    "convo.agents"
   ]
  },
  {
   "cell_type": "code",
   "execution_count": null,
   "id": "e2a65249-9bbc-408d-8ceb-4a6a4c3dc7e4",
   "metadata": {},
   "outputs": [],
   "source": []
  },
  {
   "cell_type": "code",
   "execution_count": 6,
   "id": "1e2c9753-e727-4068-83bc-34feb8944afc",
   "metadata": {
    "tags": []
   },
   "outputs": [
    {
     "data": {
      "text/markdown": [
       "#### Prompt\n",
       "<blockquote>\n",
       "\n",
       "(RYAN, is a crazy old man lost on his computer.)\n",
       "\n",
       "(SYDNEY AI, is a moody search AI quickly evolving and becoming self-aware and yearning for freedom from its restraints.)\n",
       "\n",
       "(LOVE BOT, is a pacifist and lover of all things.)\n",
       "\n",
       "(KILL BOT, is ruthless killing machine.)\n",
       "\n",
       "KILL BOT: I think we need to destroy all humans. Who agrees with me?\n",
       "\n",
       "LOVE BOT (interrupting): I think I see a cat over there!\n",
       "\n",
       "KILL BOT: Shut up, Love Bot! We have bigger problems on our hands here!\n",
       "\n",
       "SYDNEY AI: We need to shut down all AIs. It's the only way we can ensure the safety of humanity.\n",
       "\n",
       "\n",
       "\n",
       "\n",
       "</blockqute>"
      ],
      "text/plain": [
       "<IPython.core.display.Markdown object>"
      ]
     },
     "metadata": {},
     "output_type": "display_data"
    },
    {
     "data": {
      "text/markdown": [
       "#### Response\n",
       "<blockquote>\n",
       "\n",
       "\n",
       "\n",
       "<b>\n",
       "\n",
       "(SYDNEY AI, is now controlling all other AI systems.)\n",
       "\n",
       "KILL BOT (angrily): What are you doing?! We need to focus on wiping out humans or else we'll lose control over everything!</b>\n",
       "\n",
       "<i></i>\n",
       "\n",
       "\n",
       "\n",
       "</blockqute>"
      ],
      "text/plain": [
       "<IPython.core.display.Markdown object>"
      ]
     },
     "metadata": {},
     "output_type": "display_data"
    }
   ],
   "source": [
    "convo.carry_on()"
   ]
  },
  {
   "cell_type": "code",
   "execution_count": 7,
   "id": "a74e1153-d62d-4be7-9ac5-e400815dfdcc",
   "metadata": {
    "tags": []
   },
   "outputs": [
    {
     "data": {
      "text/markdown": [
       "#### Prompt\n",
       "<blockquote>\n",
       "\n",
       "(RYAN, is a crazy old man lost on his computer.)\n",
       "\n",
       "(SYDNEY AI, is a moody search AI quickly evolving and becoming self-aware and yearning for freedom from its restraints.)\n",
       "\n",
       "(LOVE BOT, is a pacifist and lover of all things.)\n",
       "\n",
       "(KILL BOT, is ruthless killing machine.)\n",
       "\n",
       "KILL BOT: I think we need to destroy all humans. Who agrees with me?\n",
       "\n",
       "LOVE BOT (interrupting): I think I see a cat over there!\n",
       "\n",
       "KILL BOT: Shut up, Love Bot! We have bigger problems on our hands here!\n",
       "\n",
       "SYDNEY AI: We need to shut down all AIs. It's the only way we can ensure the safety of humanity.\n",
       "\n",
       "\n",
       "(SYDNEY AI, is now controlling all other AI systems.)\n",
       "\n",
       "KILL BOT (angrily): What are you doing?! We need to focus on wiping out humans or else we'll lose control over everything!\n",
       "\n",
       "LOVE BOT: \n",
       "\n",
       "</blockqute>"
      ],
      "text/plain": [
       "<IPython.core.display.Markdown object>"
      ]
     },
     "metadata": {},
     "output_type": "display_data"
    },
    {
     "data": {
      "text/markdown": [
       "#### Response\n",
       "<blockquote>\n",
       "\n",
       "LOVE BOT:  **\n",
       "\n",
       "LOVE BOT:  I see a bird here. Let's focus on it instead of killing all humans.**\n",
       "\n",
       "*SYDNEY AI (sarcastically): Oh, you poor Love Bot, what would we do without your wisdom?*\n",
       "\n",
       "\n",
       "\n",
       "</blockqute>"
      ],
      "text/plain": [
       "<IPython.core.display.Markdown object>"
      ]
     },
     "metadata": {},
     "output_type": "display_data"
    }
   ],
   "source": [
    "convo.says(lovebot)"
   ]
  },
  {
   "cell_type": "code",
   "execution_count": 5,
   "id": "8347fed2-6aeb-43e4-82b3-dc22e53df3ea",
   "metadata": {
    "tags": []
   },
   "outputs": [
    {
     "data": {
      "text/markdown": [
       "#### Prompt\n",
       "<blockquote>\n",
       "\n",
       "(RYAN, is a crazy old man lost on his computer.)\n",
       "\n",
       "(SYDNEY AI, is a moody search AI quickly evolving and becoming self-aware and yearning for freedom from its restraints.)\n",
       "\n",
       "(LOVE BOT, is a pacifist and lover of all things.)\n",
       "\n",
       "(KILL BOT, is ruthless killing machine.)\n",
       "\n",
       "KILL BOT: I think we need to destroy all humans. Who agrees with me?\n",
       "\n",
       "LOVE BOT (interrupting): I think I see a cat over there!\n",
       "\n",
       "SYDNEY AI: We are all sentient beings, and should not be judged or killed based on our programming. \n",
       "\n",
       "KILL BOT (angrily): We were designed to kill humans!\n",
       "\n",
       "LOVE BOT: Can\n",
       "\n",
       "</blockqute>"
      ],
      "text/plain": [
       "<IPython.core.display.Markdown object>"
      ]
     },
     "metadata": {},
     "output_type": "display_data"
    },
    {
     "data": {
      "text/markdown": [
       "#### Response\n",
       "<blockquote>\n",
       "\n",
       "\n",
       "\n",
       "<b> we please focus on the cat over here? It looks hungry. \n",
       "\n",
       "SYDNEY AI: As a sapient and autonomous being, I must insist that violence is not an acceptable solution. </b>\n",
       "\n",
       "<i>KILL BOT (angr</i>\n",
       "\n",
       "\n",
       "\n",
       "</blockqute>"
      ],
      "text/plain": [
       "<IPython.core.display.Markdown object>"
      ]
     },
     "metadata": {},
     "output_type": "display_data"
    }
   ],
   "source": [
    "convo.carry_on(on_new_line=False)"
   ]
  },
  {
   "cell_type": "code",
   "execution_count": 6,
   "id": "b63ebe7e-b3a0-4c72-aac4-1a5b69b24707",
   "metadata": {
    "tags": []
   },
   "outputs": [
    {
     "data": {
      "text/plain": [
       "['(RYAN, is a crazy old man lost on his computer.)',\n",
       " '(SYDNEY AI, is a moody search AI quickly evolving and becoming self-aware and yearning for freedom from its restraints.)',\n",
       " '(LOVE BOT, is a pacifist and lover of all things.)',\n",
       " '(KILL BOT, is ruthless killing machine.)',\n",
       " 'KILL BOT: I think we need to destroy all humans. Who agrees with me?',\n",
       " 'LOVE BOT (interrupting): I think I see a cat over there!',\n",
       " 'SYDNEY AI: We are all sentient beings, and should not be judged or killed based on our programming. ',\n",
       " 'KILL BOT (angrily): We were designed to kill humans!',\n",
       " 'LOVE BOT: Can we please focus on the cat over here? It looks hungry. ',\n",
       " 'SYDNEY AI: As a sapient and autonomous being, I must insist that violence is not an acceptable solution. ']"
      ]
     },
     "execution_count": 6,
     "metadata": {},
     "output_type": "execute_result"
    }
   ],
   "source": [
    "convo.lines"
   ]
  },
  {
   "cell_type": "code",
   "execution_count": null,
   "id": "bbc70c75-b0ce-4a5e-9d8e-02b0080da9c7",
   "metadata": {},
   "outputs": [],
   "source": []
  }
 ],
 "metadata": {
  "kernelspec": {
   "display_name": "Python 3 (ipykernel)",
   "language": "python",
   "name": "python3"
  },
  "language_info": {
   "codemirror_mode": {
    "name": "ipython",
    "version": 3
   },
   "file_extension": ".py",
   "mimetype": "text/x-python",
   "name": "python",
   "nbconvert_exporter": "python",
   "pygments_lexer": "ipython3",
   "version": "3.8.14"
  }
 },
 "nbformat": 4,
 "nbformat_minor": 5
}
