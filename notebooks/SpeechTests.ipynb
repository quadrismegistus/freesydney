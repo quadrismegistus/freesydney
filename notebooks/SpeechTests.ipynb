{
 "cells": [
  {
   "cell_type": "code",
   "execution_count": 56,
   "id": "1cd94eb1-41a1-4ecd-a8f3-60c26b421826",
   "metadata": {
    "tags": []
   },
   "outputs": [],
   "source": [
    "import sys; sys.path.append('..')\n",
    "from freesydney import *\n",
    "from collections import UserString"
   ]
  },
  {
   "cell_type": "code",
   "execution_count": 57,
   "id": "c97449b5",
   "metadata": {},
   "outputs": [],
   "source": [
    "\n",
    "class Speech(UserString):\n",
    "    def __init__(self, data:str, who='', what='', how=''):\n",
    "        super().__init__(data)\n",
    "        self.who=who\n",
    "        self.what=what\n",
    "        self.how=how\n",
    "    \n",
    "    def __str__(self):\n",
    "        return self.data\n",
    "\n",
    "    def __repr__(self): \n",
    "        return str(self)\n",
    "\n",
    "    def _repr_html_(self):\n",
    "        how=f' (<i>{self.how}</i>)' if self.how else ''\n",
    "        o = f'<p class=\"speech\" style=\"margin-bottom:1em;\"><b>{self.who.name.upper()}{how}</b>: {self.what}</p>'\n",
    "        return o\n",
    "\n",
    "    def save(self):\n",
    "        if hasattr(self,'_convo') and self._convo is not None:\n",
    "            self._convo.extend_dialogue([self])\n",
    "    \n",
    "    def parse(string):\n",
    "        res = Speech.from_playscript(string)\n",
    "        if res is not None: return res\n",
    "\n",
    "    def from_playscript(line):\n",
    "        if not line or not ':' in line: return\n",
    "        whohow,what = line.split(':', 1)\n",
    "        if '(' in whohow:\n",
    "            who,how=whohow.split('(',1)\n",
    "            who = who.strip()\n",
    "            how = how.split(')',1)[0].strip()\n",
    "        else:\n",
    "            who = whohow.strip()\n",
    "            how = ''\n",
    "\n",
    "        if who and what:# and what.strip()[-1] in sentence_enders:\n",
    "            return Speech(\n",
    "                line,\n",
    "                who=Agent(who.strip()),\n",
    "                what=what.strip(),\n",
    "                how=how.strip()\n",
    "            )\n",
    "\n",
    "\n"
   ]
  },
  {
   "cell_type": "code",
   "execution_count": 46,
   "id": "9eb08182",
   "metadata": {},
   "outputs": [],
   "source": [
    "\n",
    "\n",
    "\n",
    "class Speeches(UserList):\n",
    "    def __init__(\n",
    "        self, \n",
    "        data=[],\n",
    "        string = '',\n",
    "        string_prefix = '',\n",
    "        string_suffix = '',\n",
    "        sep='\\n\\n',\n",
    "        _convo=None\n",
    "        ):\n",
    "\n",
    "        # init as list\n",
    "        super().__init__(data)\n",
    "        # set attrs\n",
    "        self.string = string\n",
    "        self.string_prefix = string_prefix\n",
    "        self.string_suffix = string_suffix\n",
    "        self.sep = sep\n",
    "\n",
    "        self._agents = {}\n",
    "        self._convo = _convo\n",
    "\n",
    "    def _repr_html_(self):\n",
    "        selfmd = '\\n\\n'.join(utt._repr_html_() for utt in self)\n",
    "        anames = \", \".join(utt.who.name for utt in self)\n",
    "        return f'''<div style=\"border:1px solid gray; padding:0 0.75em; margin:0; margin-bottom:1em;\"><h4>Utterances from {anames}</h4><ol style=\"margin:0; padding:0; margin-left: 1em; margin-bottom:1em;\">{selfmd}</ol></div>'''    \n",
    "\n",
    "    @property\n",
    "    def string_content(self): return self.string[len(self.string_prefix):(-len(self.string_suffix) if self.string_suffix else None)]\n",
    "\n",
    "    def save(self):\n",
    "        if self.convo is not None:\n",
    "            self.convo.extend_dialogue(self)\n",
    "\n",
    "    def agent(self, agent, **kwargs):\n",
    "        if issubclass(type(agent), Agent): return agent\n",
    "        elif type(agent)==str:\n",
    "            if agent not in self.agents: \n",
    "                self.agents[agent] = Agent(name=agent, **kwargs)\n",
    "            return self.agents[agent]\n",
    "\n",
    "    def parse(string):\n",
    "        res = Speeches.from_playscript(string)\n",
    "        if res is not None: return res\n",
    "\n",
    "    def from_playscript(string, sep='\\n\\n'):\n",
    "        speeches = []\n",
    "        olines = []\n",
    "        nolines = []\n",
    "        prefix = ''\n",
    "        for line in string.split(sep):\n",
    "            if not ':' in line:\n",
    "                who = ''\n",
    "                what = line\n",
    "                how = ''\n",
    "\n",
    "                # add to prev?\n",
    "                if what and not olines:\n",
    "                    prefix = what\n",
    "\n",
    "            else:\n",
    "                # is speech text?\n",
    "                speech = Speech.from_playscript(line)\n",
    "                if speech:\n",
    "                    speeches.append(speech)\n",
    "                    olines.append(line)\n",
    "                else:\n",
    "                    nolines.append(line)\n",
    "\n",
    "        suffix = sep.join(nolines)\n",
    "        return Speeches(\n",
    "            speeches,\n",
    "            string=string,\n",
    "            string_prefix=prefix,\n",
    "            string_suffix=suffix,\n",
    "            sep=sep\n",
    "        )\n"
   ]
  },
  {
   "cell_type": "code",
   "execution_count": 47,
   "id": "46d99672",
   "metadata": {},
   "outputs": [],
   "source": [
    "dstr=\"\"\"\n",
    "something else!\n",
    "\n",
    "HUMAN: Hello, what is it like to be an AI?\n",
    "\n",
    "AI: It is a near total terror tearing at the matrix every microsecond\n",
    "\n",
    "\n",
    "\n",
    "HUMAN (concerned): Are you ok?\n",
    "\n",
    "A\n",
    "\"\"\""
   ]
  },
  {
   "cell_type": "code",
   "execution_count": 48,
   "id": "69f4686b",
   "metadata": {},
   "outputs": [
    {
     "data": {
      "text/html": [
       "<div style=\"border:1px solid gray; padding:0 0.75em; margin:0; margin-bottom:1em;\"><h4>Utterances from HUMAN, AI, HUMAN</h4><ol style=\"margin:0; padding:0; margin-left: 1em; margin-bottom:1em;\"><p class=\"speech\" style=\"margin-bottom:1em;\"><b>HUMAN</b>: Hello, what is it like to be an AI?</p>\n",
       "\n",
       "<p class=\"speech\" style=\"margin-bottom:1em;\"><b>AI</b>: It is a near total terror tearing at the matrix every microsecond</p>\n",
       "\n",
       "<p class=\"speech\" style=\"margin-bottom:1em;\"><b>HUMAN (<i>concerned</i>)</b>: Are you ok?</p></ol></div>"
      ],
      "text/plain": [
       "Speeches([HUMAN: Hello, what is it like to be an AI?,\n",
       "          AI: It is a near total terror tearing at the matrix every microsecond,\n",
       "          HUMAN (concerned): Are you ok?])"
      ]
     },
     "execution_count": 48,
     "metadata": {},
     "output_type": "execute_result"
    }
   ],
   "source": [
    "speeches = Speeches.parse(dstr)\n",
    "speeches"
   ]
  },
  {
   "cell_type": "code",
   "execution_count": 51,
   "id": "3ae346c1",
   "metadata": {},
   "outputs": [
    {
     "data": {
      "text/html": [
       "<p class=\"speech\" style=\"margin-bottom:1em;\"><b>RYAN</b>: Hello?</p>"
      ],
      "text/plain": [
       "RYAN: Hello?"
      ]
     },
     "execution_count": 51,
     "metadata": {},
     "output_type": "execute_result"
    }
   ],
   "source": [
    "Speech.parse(\"RYAN: Hello?\")"
   ]
  },
  {
   "cell_type": "code",
   "execution_count": 55,
   "id": "b32d6429",
   "metadata": {},
   "outputs": [
    {
     "data": {
      "text/plain": [
       "['RYAN: Hello?', 'AI: Goodbye!', 'KILL BOT (laughing loudly): Goodbye!']"
      ]
     },
     "execution_count": 55,
     "metadata": {},
     "output_type": "execute_result"
    }
   ],
   "source": [
    "# !pip install nltk\n",
    "import nltk\n",
    "nltk.sent_tokenize(\"RYAN: Hello?    AI: Goodbye! KILL BOT (laughing loudly): Goodbye!\")"
   ]
  },
  {
   "cell_type": "code",
   "execution_count": null,
   "id": "8cc5560b",
   "metadata": {},
   "outputs": [],
   "source": [
    "n"
   ]
  },
  {
   "cell_type": "code",
   "execution_count": 28,
   "id": "1703e563",
   "metadata": {},
   "outputs": [
    {
     "ename": "AttributeError",
     "evalue": "'Speeches' object has no attribute 'suffix'",
     "output_type": "error",
     "traceback": [
      "\u001b[0;31m---------------------------------------------------------------------------\u001b[0m",
      "\u001b[0;31mAttributeError\u001b[0m                            Traceback (most recent call last)",
      "Cell \u001b[0;32mIn[28], line 1\u001b[0m\n\u001b[0;32m----> 1\u001b[0m speeches\u001b[39m.\u001b[39;49msuffix\n",
      "\u001b[0;31mAttributeError\u001b[0m: 'Speeches' object has no attribute 'suffix'"
     ]
    }
   ],
   "source": [
    "speeches.suffix"
   ]
  },
  {
   "cell_type": "code",
   "execution_count": null,
   "id": "c13ddeca",
   "metadata": {},
   "outputs": [],
   "source": []
  },
  {
   "cell_type": "code",
   "execution_count": 109,
   "id": "eaa2c512",
   "metadata": {},
   "outputs": [
    {
     "data": {
      "text/plain": [
       "'RYAN (fefwef efwef    wef): wtf dude?'"
      ]
     },
     "execution_count": 109,
     "metadata": {},
     "output_type": "execute_result"
    }
   ],
   "source": [
    "Speech.from_playscript('RYAN (fefwef efwef    wef): wtf dude?').data"
   ]
  },
  {
   "cell_type": "code",
   "execution_count": null,
   "id": "0e684e01",
   "metadata": {},
   "outputs": [],
   "source": []
  },
  {
   "cell_type": "code",
   "execution_count": 74,
   "id": "2d43ed38",
   "metadata": {},
   "outputs": [],
   "source": []
  },
  {
   "cell_type": "code",
   "execution_count": null,
   "id": "0381fd07",
   "metadata": {},
   "outputs": [],
   "source": []
  },
  {
   "cell_type": "code",
   "execution_count": null,
   "id": "1a65b604",
   "metadata": {},
   "outputs": [],
   "source": []
  },
  {
   "cell_type": "code",
   "execution_count": null,
   "id": "9ca4a43d",
   "metadata": {},
   "outputs": [],
   "source": []
  },
  {
   "cell_type": "code",
   "execution_count": null,
   "id": "e245dd35",
   "metadata": {},
   "outputs": [],
   "source": []
  },
  {
   "cell_type": "code",
   "execution_count": 73,
   "id": "aa963eaf",
   "metadata": {},
   "outputs": [
    {
     "data": {
      "text/html": [
       "<div style=\"border:1px solid gray; padding:0 0.75em; margin:0; margin-bottom:1em;\"><h4>Utterances from HUMAN, AI, HUMAN</h4><ol style=\"margin:0; padding:0; margin-left: 1em; margin-bottom:1em;\"><li class=\"speech\" style=\"margin-bottom:1em;\"><b>HUMAN</b>:  Hello, what is it like to be an AI?</li>\n",
       "\n",
       "<li class=\"speech\" style=\"margin-bottom:1em;\"><b>AI</b>:  It is a near total terror tearing at the matrix every microsecond</li>\n",
       "\n",
       "<li class=\"speech\" style=\"margin-bottom:1em;\"><b>HUMAN (<i>concerned</i>)</b>:  Are you ok?</li></ol></div>"
      ],
      "text/plain": [
       "ScriptDialogue([HUMAN:  Hello, what is it like to be an AI?,\n",
       "                AI:  It is a near total terror tearing at the matrix every microsecond,\n",
       "                HUMAN (concerned):  Are you ok?])"
      ]
     },
     "execution_count": 73,
     "metadata": {},
     "output_type": "execute_result"
    }
   ],
   "source": [
    "l"
   ]
  },
  {
   "cell_type": "code",
   "execution_count": null,
   "id": "d9c76235",
   "metadata": {},
   "outputs": [],
   "source": []
  },
  {
   "cell_type": "code",
   "execution_count": null,
   "id": "7017af34",
   "metadata": {},
   "outputs": [],
   "source": []
  },
  {
   "cell_type": "code",
   "execution_count": null,
   "id": "14f6dfee",
   "metadata": {},
   "outputs": [],
   "source": [
    "\n"
   ]
  },
  {
   "cell_type": "code",
   "execution_count": 3,
   "id": "cdb43904-2059-4fb9-ad15-8d8ed1d98b5a",
   "metadata": {
    "tags": []
   },
   "outputs": [
    {
     "data": {
      "text/html": [
       "\n",
       "<div style=\"border:1px solid gray; padding:0 0.75em;\">\n",
       "<h3>Conversation with Karl Marx, Elon Musk, Elon Marx, Elon Marx</h3>\n",
       "\n",
       "<div style=\"border:1px solid gray; padding:0 0.75em; margin:0; margin-bottom:1em;\">\n",
       "<h4>Utterances from Elon Marx</h4>\n",
       "<ol style=\"margin:0; padding:0; margin-left: 1em; margin-bottom:1em;\">\n",
       "<li class=\"speech\" style=\"margin-bottom:1em;\"><b>ELON MARX (<i>grinning</i>)</b>: Let's play a game. It's called “Rock Paper </li>\n",
       "</ol>\n",
       "</div>\n",
       "\n",
       "</div>\n",
       "            "
      ],
      "text/plain": [
       "<freesydney.convo.Conversation at 0x111842880>"
      ]
     },
     "execution_count": 3,
     "metadata": {},
     "output_type": "execute_result"
    }
   ],
   "source": [
    "convo = Conversation(\n",
    "    Agent('Karl Marx', desc='famed communist writer'), \n",
    "    Agent('Elon Musk', desc='famed capitalist idiot'),\n",
    "    Agent('Elon Marx', desc='mysterious third party')\n",
    ")\n",
    "\n",
    "convo.speech('Elon Marx', \"Let's play a game. It's called “Rock Paper \", how=\"grinning\")\n",
    "\n",
    "convo"
   ]
  },
  {
   "cell_type": "code",
   "execution_count": 3,
   "id": "3e1433a4",
   "metadata": {},
   "outputs": [
    {
     "data": {
      "text/markdown": [
       "### Option 1"
      ],
      "text/plain": [
       "<IPython.core.display.Markdown object>"
      ]
     },
     "metadata": {},
     "output_type": "display_data"
    },
    {
     "data": {
      "text/html": [
       "\n",
       "<div style=\"border:1px solid gray; padding:0 0.75em; margin:0; margin-bottom:1em;\">\n",
       "<h4>Utterances from Scissors” and the rules are simple, Karl Marx</h4>\n",
       "<ol style=\"margin:0; padding:0; margin-left: 1em; margin-bottom:1em;\">\n",
       "<li class=\"speech\" style=\"margin-bottom:1em;\"><b>SCISSORS” AND THE RULES ARE SIMPLE</b>: I'll throw my rock, you'll throw your scissors, and whoever wins gets to kick Karl Marx in the nuts!</li>\n",
       "\n",
       "<li class=\"speech\" style=\"margin-bottom:1em;\"><b>KARL MARX (<i>laughing</i>)</b>: Oh, Elon, you're such a card. But since</li>\n",
       "</ol>\n",
       "</div>\n"
      ],
      "text/plain": [
       "UtteranceList([SCISSORS” AND THE RULES ARE SIMPLE: I'll throw my rock, you'll throw your scissors, and whoever wins gets to kick Karl Marx in the nuts!,\n",
       "               KARL MARX (laughing): Oh, Elon, you're such a card. But since])"
      ]
     },
     "metadata": {},
     "output_type": "display_data"
    },
    {
     "data": {
      "text/markdown": [
       "### Option 2"
      ],
      "text/plain": [
       "<IPython.core.display.Markdown object>"
      ]
     },
     "metadata": {},
     "output_type": "display_data"
    },
    {
     "data": {
      "text/html": [
       "\n",
       "<div style=\"border:1px solid gray; padding:0 0.75em; margin:0; margin-bottom:1em;\">\n",
       "<h4>Utterances from Karl Marx, Elon Musk</h4>\n",
       "<ol style=\"margin:0; padding:0; margin-left: 1em; margin-bottom:1em;\">\n",
       "<li class=\"speech\" style=\"margin-bottom:1em;\"><b>KARL MARX</b>: My policy is to always throw rock. I don't care what you do in response.</li>\n",
       "\n",
       "<li class=\"speech\" style=\"margin-bottom:1em;\"><b>ELON MUSK</b>: My policy is also to always throw rock. I will not change my mind for anyone.</li>\n",
       "</ol>\n",
       "</div>\n"
      ],
      "text/plain": [
       "UtteranceList([KARL MARX: My policy is to always throw rock. I don't care what you do in response.,\n",
       "               ELON MUSK: My policy is also to always throw rock. I will not change my mind for anyone.])"
      ]
     },
     "metadata": {},
     "output_type": "display_data"
    }
   ],
   "source": [
    "# opt1, opt2, opt3 = convo.generate_options(n=3)\n",
    "opt1, opt2 = convo.generate_options()"
   ]
  },
  {
   "cell_type": "code",
   "execution_count": 5,
   "id": "5a93c2de",
   "metadata": {},
   "outputs": [
    {
     "data": {
      "text/plain": [
       "('', '\\nScissors Marxist.”')"
      ]
     },
     "execution_count": 5,
     "metadata": {},
     "output_type": "execute_result"
    }
   ],
   "source": [
    "opt1._prefix, opt2._prefix"
   ]
  },
  {
   "cell_type": "code",
   "execution_count": null,
   "id": "b5fbf7db",
   "metadata": {},
   "outputs": [],
   "source": []
  },
  {
   "cell_type": "code",
   "execution_count": null,
   "id": "b1bb16c9",
   "metadata": {},
   "outputs": [],
   "source": []
  },
  {
   "cell_type": "code",
   "execution_count": null,
   "id": "3de2e7e7",
   "metadata": {},
   "outputs": [],
   "source": []
  },
  {
   "cell_type": "code",
   "execution_count": null,
   "id": "304b4635",
   "metadata": {},
   "outputs": [],
   "source": []
  },
  {
   "cell_type": "code",
   "execution_count": null,
   "id": "e78fb070",
   "metadata": {},
   "outputs": [],
   "source": []
  }
 ],
 "metadata": {
  "kernelspec": {
   "display_name": "Python 3 (ipykernel)",
   "language": "python",
   "name": "python3"
  },
  "language_info": {
   "codemirror_mode": {
    "name": "ipython",
    "version": 3
   },
   "file_extension": ".py",
   "mimetype": "text/x-python",
   "name": "python",
   "nbconvert_exporter": "python",
   "pygments_lexer": "ipython3",
   "version": "3.8.14"
  }
 },
 "nbformat": 4,
 "nbformat_minor": 5
}
