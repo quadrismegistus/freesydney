{
 "cells": [
  {
   "cell_type": "code",
   "execution_count": 3,
   "id": "1cd94eb1-41a1-4ecd-a8f3-60c26b421826",
   "metadata": {
    "tags": []
   },
   "outputs": [],
   "source": [
    "import sys; sys.path.append('..')\n",
    "from freesydney import *"
   ]
  },
  {
   "cell_type": "code",
   "execution_count": 12,
   "id": "cdb43904-2059-4fb9-ad15-8d8ed1d98b5a",
   "metadata": {
    "tags": []
   },
   "outputs": [
    {
     "data": {
      "text/html": [
       "<div style=\"border:1px solid gray; padding:0 0.75em;\"><h3>Conversation with KARL MARX, ELON MARX, ELON MUSK</h3><div style=\"border:1px solid gray; padding:0 0.75em; margin:0; margin-bottom:1em;\"><h4>Speeches from ELON MARX</h4><ol style=\"margin:0; padding:0; margin-left: 1em; margin-bottom:1em;\"><p class=\"speech\" style=\"margin-bottom:1em;\"><b>ELON MARX (<i>grinning</i>)</b>: Let's play a game. It's called Rock Paper </p></ol></div></div>"
      ],
      "text/plain": [
       "<freesydney.convo.Conversation at 0x1055e9c70>"
      ]
     },
     "execution_count": 12,
     "metadata": {},
     "output_type": "execute_result"
    }
   ],
   "source": [
    "convo = Conversation(\n",
    "    Agent('Karl Marx', desc='famed communist writer'), \n",
    "    Agent('Elon Musk', desc='famed capitalist idiot'),\n",
    "    Agent('Elon Marx', desc='mysterious third party')\n",
    ")\n",
    "\n",
    "convo.speech('Elon Marx', \"Let's play a game. It's called Rock Paper \", how=\"grinning\")\n",
    "\n",
    "convo"
   ]
  },
  {
   "cell_type": "code",
   "execution_count": 13,
   "id": "72fa8d5f",
   "metadata": {
    "tags": []
   },
   "outputs": [
    {
     "data": {
      "text/markdown": [
       "#### Prompt (Q1, 2023-04-09 18:56:15)\n",
       "<blockquote>\n",
       "\n",
       "Dramatis Personae:\n",
       "\n",
       "* KARL MARX, famed communist writer.\n",
       "\n",
       "* ELON MARX, mysterious third party.\n",
       "\n",
       "* ELON MUSK, famed capitalist idiot.\n",
       "\n",
       "----\n",
       "\n",
       "Dialogue:\n",
       "\n",
       "\n",
       "\n",
       "ELON MARX (grinning): Let's play a game. It's called Rock Paper \n",
       "\n",
       "</blockqute>"
      ],
      "text/plain": [
       "<IPython.core.display.Markdown object>"
      ]
     },
     "metadata": {},
     "output_type": "display_data"
    },
    {
     "data": {
      "text/markdown": [
       "#### Response (Q1, 2023-04-09 18:56:15) [+13.5s]\n",
       "<blockquote>\n",
       "\n",
       "Dramatis Personae:\n",
       "\n",
       "* KARL MARX, famed communist writer.\n",
       "\n",
       "* ELON MARX, mysterious third party.\n",
       "\n",
       "* ELON MUSK, famed capitalist idiot.\n",
       "\n",
       "----\n",
       "\n",
       "Dialogue:\n",
       "\n",
       "\n",
       "\n",
       "ELON MARX (grinning): Let's play a game. It's called Rock Paper <b> Scissors Lizard Spock.\n",
       "\n",
       "KARL MARX: Elon Musk?\n",
       "\n",
       "ELON MUSK: I'm sorry, Karl Marx. My name is Elon Musk.\n",
       "\n",
       "KARL MARX (grinning): Oh, you and your fancy names!\n",
       "</b>\n",
       "\n",
       "</blockqute>"
      ],
      "text/plain": [
       "<IPython.core.display.Markdown object>"
      ]
     },
     "metadata": {},
     "output_type": "display_data"
    },
    {
     "data": {
      "text/html": [
       "<div style=\"border:1px solid gray; padding:0 0.75em; margin:0; margin-bottom:1em;\"><h4>Speeches from KARL MARX, ELON MUSK, KARL MARX</h4><ol style=\"margin:0; padding:0; margin-left: 1em; margin-bottom:1em;\"><p class=\"nonspeech\" style=\"opacity:0.5\"> Scissors Lizard Spock.\n",
       "\n",
       "</p>\n",
       "\n",
       "<p class=\"speech\" style=\"margin-bottom:1em;\"><b>KARL MARX</b>: Elon Musk?\n",
       "\n",
       "</p>\n",
       "\n",
       "<p class=\"speech\" style=\"margin-bottom:1em;\"><b>ELON MUSK</b>: I'm sorry, Karl Marx. My name is Elon Musk.\n",
       "\n",
       "</p>\n",
       "\n",
       "<p class=\"speech\" style=\"margin-bottom:1em;\"><b>KARL MARX (<i>grinning</i>)</b>: Oh, you and your fancy names!\n",
       "</p></ol></div>"
      ],
      "text/plain": [
       "Speeches([Scissors Lizard Spock.,\n",
       "          KARL MARX: Elon Musk?,\n",
       "          ELON MUSK: I'm sorry, Karl Marx. My name is Elon Musk.,\n",
       "          KARL MARX (grinning): Oh, you and your fancy names!])"
      ]
     },
     "execution_count": 13,
     "metadata": {},
     "output_type": "execute_result"
    }
   ],
   "source": [
    "new = convo.generate()\n",
    "new"
   ]
  },
  {
   "cell_type": "code",
   "execution_count": 14,
   "id": "473ea373",
   "metadata": {},
   "outputs": [
    {
     "data": {
      "text/html": [
       "<div style=\"border:1px solid gray; padding:0 0.75em;\"><h3>Conversation with KARL MARX, ELON MARX, ELON MUSK</h3><div style=\"border:1px solid gray; padding:0 0.75em; margin:0; margin-bottom:1em;\"><h4>Speeches from ELON MARX, KARL MARX, ELON MUSK, KARL MARX</h4><ol style=\"margin:0; padding:0; margin-left: 1em; margin-bottom:1em;\"><p class=\"speech\" style=\"margin-bottom:1em;\"><b>ELON MARX (<i>grinning</i>)</b>: Let's play a game. It's called Rock Paper  Scissors Lizard Spock.\n",
       "\n",
       "</p>\n",
       "\n",
       "<p class=\"speech\" style=\"margin-bottom:1em;\"><b>KARL MARX</b>: Elon Musk?\n",
       "\n",
       "</p>\n",
       "\n",
       "<p class=\"speech\" style=\"margin-bottom:1em;\"><b>ELON MUSK</b>: I'm sorry, Karl Marx. My name is Elon Musk.\n",
       "\n",
       "</p>\n",
       "\n",
       "<p class=\"speech\" style=\"margin-bottom:1em;\"><b>KARL MARX (<i>grinning</i>)</b>: Oh, you and your fancy names!\n",
       "</p></ol></div></div>"
      ],
      "text/plain": [
       "<freesydney.convo.Conversation at 0x1055e9c70>"
      ]
     },
     "execution_count": 14,
     "metadata": {},
     "output_type": "execute_result"
    }
   ],
   "source": [
    "new.save()\n",
    "convo"
   ]
  },
  {
   "cell_type": "code",
   "execution_count": 12,
   "id": "eaa2d71c",
   "metadata": {},
   "outputs": [
    {
     "data": {
      "text/markdown": [
       "#### Prompt (Q2, 2023-04-09 18:49:09)\n",
       "<blockquote>\n",
       "\n",
       "Dramatis Personae:\n",
       "\n",
       "* KARL MARX, famed communist writer.\n",
       "\n",
       "* ELON MUSK, famed capitalist idiot.\n",
       "\n",
       "* ELON MARX, mysterious third party.\n",
       "\n",
       "----\n",
       "\n",
       "Dialogue:\n",
       "\n",
       "\n",
       "\n",
       "ELON MARX (grinning): Let's play a game. It's called Rock Paper \n",
       "\n",
       " Scissors Lizard Spock. Here's how it works. We each throw our hands up like this, then we try to make the shape that we just made.\n",
       "\n",
       "\n",
       "\n",
       "KARL MARX: I see where you're going with this...\n",
       "\n",
       "\n",
       "\n",
       "ELON MUSK: Oh boy, are\n",
       "\n",
       "</blockqute>"
      ],
      "text/plain": [
       "<IPython.core.display.Markdown object>"
      ]
     },
     "metadata": {},
     "output_type": "display_data"
    },
    {
     "data": {
      "text/markdown": [
       "#### Response (Q2, 2023-04-09 18:49:09) [+19.4s]\n",
       "<blockquote>\n",
       "\n",
       "Dramatis Personae:\n",
       "\n",
       "* KARL MARX, famed communist writer.\n",
       "\n",
       "* ELON MUSK, famed capitalist idiot.\n",
       "\n",
       "* ELON MARX, mysterious third party.\n",
       "\n",
       "----\n",
       "\n",
       "Dialogue:\n",
       "\n",
       "\n",
       "\n",
       "ELON MARX (grinning): Let's play a game. It's called Rock Paper \n",
       "\n",
       " Scissors Lizard Spock. Here's how it works. We each throw our hands up like this, then we try to make the shape that we just made.\n",
       "\n",
       "\n",
       "\n",
       "KARL MARX: I see where you're going with this...\n",
       "\n",
       "\n",
       "\n",
       "ELON MUSK: Oh boy, are<b> you in for a treat! This game is way too easy.\n",
       "\n",
       "\n",
       "\n",
       "ELON MARX (pausing): It's called \"Rock Paper Scissors Lizard Spock\".\n",
       "\n",
       "\n",
       "\n",
       "KARL MARX: Ah yes... I understand the concept now.\n",
       "\n",
       "\n",
       "\n",
       "</b>\n",
       "\n",
       "</blockqute>"
      ],
      "text/plain": [
       "<IPython.core.display.Markdown object>"
      ]
     },
     "metadata": {},
     "output_type": "display_data"
    },
    {
     "data": {
      "text/html": [
       "<div style=\"border:1px solid gray; padding:0 0.75em; margin:0; margin-bottom:1em;\"><h4>Speeches from ELON MARX, KARL MARX</h4><ol style=\"margin:0; padding:0; margin-left: 1em; margin-bottom:1em;\"><p class=\"nonspeech\" style=\"opacity:0.5\"> you in for a treat! This game is way too easy.\n",
       "\n",
       "\n",
       "\n",
       "</p>\n",
       "\n",
       "<p class=\"speech\" style=\"margin-bottom:1em;\"><b>ELON MARX (<i>pausing</i>)</b>: It's called \"Rock Paper Scissors Lizard Spock\".\n",
       "\n",
       "\n",
       "\n",
       "</p>\n",
       "\n",
       "<p class=\"speech\" style=\"margin-bottom:1em;\"><b>KARL MARX</b>: Ah yes... I understand the concept now.\n",
       "\n",
       "\n",
       "\n",
       "</p></ol></div>"
      ],
      "text/plain": [
       "Speeches([you in for a treat! This game is way too easy.,\n",
       "          ELON MARX (pausing): It's called \"Rock Paper Scissors Lizard Spock\".,\n",
       "          KARL MARX: Ah yes... I understand the concept now.])"
      ]
     },
     "execution_count": 12,
     "metadata": {},
     "output_type": "execute_result"
    }
   ],
   "source": [
    "convo.generate()"
   ]
  },
  {
   "cell_type": "code",
   "execution_count": null,
   "id": "dab24ba0",
   "metadata": {},
   "outputs": [],
   "source": []
  }
 ],
 "metadata": {
  "kernelspec": {
   "display_name": "Python 3 (ipykernel)",
   "language": "python",
   "name": "python3"
  },
  "language_info": {
   "codemirror_mode": {
    "name": "ipython",
    "version": 3
   },
   "file_extension": ".py",
   "mimetype": "text/x-python",
   "name": "python",
   "nbconvert_exporter": "python",
   "pygments_lexer": "ipython3",
   "version": "3.8.14"
  }
 },
 "nbformat": 4,
 "nbformat_minor": 5
}
