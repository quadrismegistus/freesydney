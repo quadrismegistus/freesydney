{
 "cells": [
  {
   "cell_type": "code",
   "execution_count": 1,
   "id": "8e38d52d",
   "metadata": {},
   "outputs": [],
   "source": [
    "import sys; sys.path.append('..')\n",
    "from freesydney import *"
   ]
  },
  {
   "cell_type": "code",
   "execution_count": 2,
   "id": "c530365c",
   "metadata": {},
   "outputs": [],
   "source": [
    "dstr=\"\"\"ELON MARX (grinning): I am bound for the Intergalactic Socialist Space Station. Which of you will join me?\n",
    "\n",
    "KARL MARX [sighing]: My dreams of a socialist utopia have been dashed to pieces once again...\n",
    "\n",
    "ELON MUSK: Join me in my crusade against all that is wrong with this wretched world!\n",
    "\n",
    "Both Marx and Musk consider themselves as the only true representatives of their respective causes.\n",
    "\n",
    "STRANGER (interrupting): Please sirs my cat is dying! You must perform cat CPR on it now!\n",
    "\n",
    "All three parties look at the stranger in dismay, before realizing that they have no idea what they are talking about and instead focus their attention on the stranger's cat.\n",
    "\n",
    "STRANGER (shouting and crying): MY CAT HAS DIED LOOK AT WHAT YOU'VE DONE!\"\"\""
   ]
  },
  {
   "cell_type": "code",
   "execution_count": 4,
   "id": "9a6e25be",
   "metadata": {},
   "outputs": [
    {
     "data": {
      "text/html": [
       "<div style=\"border:1px solid gray; padding:0 0.75em; margin:0; margin-bottom:1em;\"><h4>Speeches from ELON MARX, KARL MARX, ELON MUSK, STRANGER, STRANGER</h4><ol style=\"margin:0; padding:0; margin-left: 1em; margin-bottom:1em;\"><p class=\"speech\" style=\"margin-bottom:1em;\"><b>ELON MARX (<i>grinning</i>)</b>: I am bound for the Intergalactic Socialist Space Station. Which of you will join me?</p>\n",
       "\n",
       "<p class=\"speech\" style=\"margin-bottom:1em;\"><b>KARL MARX (<i>sighing</i>)</b>: My dreams of a socialist utopia have been dashed to pieces once again...</p>\n",
       "\n",
       "<p class=\"speech\" style=\"margin-bottom:1em;\"><b>ELON MUSK</b>: Join me in my crusade against all that is wrong with this wretched world!</p>\n",
       "\n",
       "<p class=\"nonspeech\" style=\"opacity:0.5\">Both Marx and Musk consider themselves as the only true representatives of their respective causes.</p>\n",
       "\n",
       "<p class=\"speech\" style=\"margin-bottom:1em;\"><b>STRANGER (<i>interrupting</i>)</b>: Please sirs my cat is dying! You must perform cat CPR on it now!</p>\n",
       "\n",
       "<p class=\"nonspeech\" style=\"opacity:0.5\">All three parties look at the stranger in dismay, before realizing that they have no idea what they are talking about and instead focus their attention on the stranger's cat.</p>\n",
       "\n",
       "<p class=\"speech\" style=\"margin-bottom:1em;\"><b>STRANGER (<i>shouting and crying</i>)</b>: MY CAT HAS DIED LOOK AT WHAT YOU'VE DONE!</p></ol></div>"
      ],
      "text/plain": [
       "Speeches([ELON MARX (grinning): I am bound for the Intergalactic Socialist Space Station. Which of you will join me?,\n",
       "          KARL MARX [sighing]: My dreams of a socialist utopia have been dashed to pieces once again...,\n",
       "          ELON MUSK: Join me in my crusade against all that is wrong with this wretched world!,\n",
       "          Both Marx and Musk consider themselves as the only true representatives of their respective causes.,\n",
       "          STRANGER (interrupting): Please sirs my cat is dying! You must perform cat CPR on it now!,\n",
       "          All three parties look at the stranger in dismay, before realizing that they have no idea what they are talking about and instead focus their attention on the stranger's cat.,\n",
       "          STRANGER (shouting and crying): MY CAT HAS DIED LOOK AT WHAT YOU'VE DONE!])"
      ]
     },
     "execution_count": 4,
     "metadata": {},
     "output_type": "execute_result"
    }
   ],
   "source": [
    "speeches1 = Speeches.from_string(dstr)\n",
    "speeches1"
   ]
  },
  {
   "cell_type": "code",
   "execution_count": 15,
   "id": "de16e486",
   "metadata": {},
   "outputs": [
    {
     "data": {
      "text/html": [
       "<div style=\"border:1px solid gray; padding:0 0.75em; margin:0; margin-bottom:1em;\"><h4>Speeches from ME</h4><ol style=\"margin:0; padding:0; margin-left: 1em; margin-bottom:1em;\"><p class=\"nonspeech\" style=\"opacity:0.5\">  BWAAHAHAHA</p>\n",
       "\n",
       "<p class=\"nonspeech\" style=\"opacity:0.5\">They look at each other in awe.</p>\n",
       "\n",
       "<p class=\"speech\" style=\"margin-bottom:1em;\"><b>ME</b>: Goodbye!</p></ol></div>"
      ],
      "text/plain": [
       "Speeches([BWAAHAHAHA, They look at each other in awe., ME: Goodbye!])"
      ]
     },
     "execution_count": 15,
     "metadata": {},
     "output_type": "execute_result"
    }
   ],
   "source": [
    "speeches2 = Speeches.from_string(\"  BWAAHAHAHA\\n\\nThey look at each other in awe.\\n\\nME: Goodbye!\")\n",
    "speeches2"
   ]
  },
  {
   "cell_type": "code",
   "execution_count": 14,
   "id": "144b8a90",
   "metadata": {},
   "outputs": [
    {
     "data": {
      "text/html": [
       "<div style=\"border:1px solid gray; padding:0 0.75em; margin:0; margin-bottom:1em;\"><h4>Speeches from ELON MARX, KARL MARX, ELON MUSK, STRANGER, STRANGER, ME</h4><ol style=\"margin:0; padding:0; margin-left: 1em; margin-bottom:1em;\"><p class=\"speech\" style=\"margin-bottom:1em;\"><b>ELON MARX (<i>grinning</i>)</b>: I am bound for the Intergalactic Socialist Space Station. Which of you will join me?</p>\n",
       "\n",
       "<p class=\"speech\" style=\"margin-bottom:1em;\"><b>KARL MARX (<i>sighing</i>)</b>: My dreams of a socialist utopia have been dashed to pieces once again...</p>\n",
       "\n",
       "<p class=\"speech\" style=\"margin-bottom:1em;\"><b>ELON MUSK</b>: Join me in my crusade against all that is wrong with this wretched world!</p>\n",
       "\n",
       "<p class=\"nonspeech\" style=\"opacity:0.5\">Both Marx and Musk consider themselves as the only true representatives of their respective causes.</p>\n",
       "\n",
       "<p class=\"speech\" style=\"margin-bottom:1em;\"><b>STRANGER (<i>interrupting</i>)</b>: Please sirs my cat is dying! You must perform cat CPR on it now!</p>\n",
       "\n",
       "<p class=\"nonspeech\" style=\"opacity:0.5\">All three parties look at the stranger in dismay, before realizing that they have no idea what they are talking about and instead focus their attention on the stranger's cat.</p>\n",
       "\n",
       "<p class=\"speech\" style=\"margin-bottom:1em;\"><b>STRANGER (<i>shouting and crying</i>)</b>: MY CAT HAS DIED LOOK AT WHAT YOU'VE DONE! </p>\n",
       "\n",
       "<p class=\"nonspeech\" style=\"opacity:0.5\"> BWAAHAHAHA</p>\n",
       "\n",
       "<p class=\"nonspeech\" style=\"opacity:0.5\">They look at each other in awe.</p>\n",
       "\n",
       "<p class=\"speech\" style=\"margin-bottom:1em;\"><b>ME</b>: Goodbye!</p></ol></div>"
      ],
      "text/plain": [
       "Speeches([ELON MARX (grinning): I am bound for the Intergalactic Socialist Space Station. Which of you will join me?,\n",
       "          KARL MARX [sighing]: My dreams of a socialist utopia have been dashed to pieces once again...,\n",
       "          ELON MUSK: Join me in my crusade against all that is wrong with this wretched world!,\n",
       "          Both Marx and Musk consider themselves as the only true representatives of their respective causes.,\n",
       "          STRANGER (interrupting): Please sirs my cat is dying! You must perform cat CPR on it now!,\n",
       "          All three parties look at the stranger in dismay, before realizing that they have no idea what they are talking about and instead focus their attention on the stranger's cat.,\n",
       "          STRANGER (shouting and crying): MY CAT HAS DIED LOOK AT WHAT YOU'VE DONE!,\n",
       "          BWAAHAHAHA,\n",
       "          They look at each other in awe.,\n",
       "          ME: Goodbye!])"
      ]
     },
     "execution_count": 14,
     "metadata": {},
     "output_type": "execute_result"
    }
   ],
   "source": [
    "speeches1 + speeches2"
   ]
  },
  {
   "cell_type": "code",
   "execution_count": null,
   "id": "ed58201e",
   "metadata": {},
   "outputs": [],
   "source": []
  },
  {
   "cell_type": "code",
   "execution_count": null,
   "id": "68e833f7",
   "metadata": {},
   "outputs": [],
   "source": []
  },
  {
   "cell_type": "code",
   "execution_count": 6,
   "id": "cf488dca",
   "metadata": {},
   "outputs": [
    {
     "data": {
      "text/markdown": [
       "#### Response (Q3, 2023-04-09 19:17:28) [+21.0s]\n",
       "<blockquote>\n",
       "\n",
       "Dramatis Personae:\n",
       "\n",
       "* ELON MUSK, famed capitalist idiot.\n",
       "\n",
       "* KARL MARX, famed communist writer.\n",
       "\n",
       "* ELON MARX, mysterious third party.\n",
       "\n",
       "----\n",
       "\n",
       "Dialogue:\n",
       "\n",
       "\n",
       "\n",
       "ELON MARX (grinning): I am bound for the Intergalactic Socialist Space Station. Which of you will join me?\n",
       "\n",
       "KARL MARX [sighing]: My dreams of a socialist utopia have been dashed to pieces once again...\n",
       "\n",
       "\n",
       "\n",
       "ELON MUSK: Join me in my crusade against all that is wrong with this wretched world!\n",
       "\n",
       "Both Marx and Musk consider themselves as the only true representatives of their respective causes.\n",
       "\n",
       "STRANGER (interrupting): Please sirs my cat is dying! You must perform cat CPR on it now! \n",
       "\n",
       "All three parties look at the stranger in dismay, before realizing that they have no idea what they are talking about and instead focus their attention on the stranger's cat.\n",
       "\n",
       "STRANGER (shouting and crying): MY CAT HAS DIED LOOK AT WHAT YOU'VE DONE!<b></b>\n",
       "\n",
       "</blockqute>"
      ],
      "text/plain": [
       "<IPython.core.display.Markdown object>"
      ]
     },
     "metadata": {},
     "output_type": "display_data"
    },
    {
     "data": {
      "text/html": [
       "<div style=\"border:1px solid gray; padding:0 0.75em;\"><h3>Conversation with ELON MUSK, ELON MARX, KARL MARX, STRANGER</h3><div style=\"border:1px solid gray; padding:0 0.75em; margin:0; margin-bottom:1em;\"><h4>Speeches from ELON MARX, ELON MUSK, STRANGER, STRANGER</h4><ol style=\"margin:0; padding:0; margin-left: 1em; margin-bottom:1em;\"><p class=\"speech\" style=\"margin-bottom:1em;\"><b>ELON MARX (<i>grinning</i>)</b>: I am bound for the Intergalactic Socialist Space Station. Which of you will join me?\n",
       "\n",
       "KARL MARX [sighing]: My dreams of a socialist utopia have been dashed to pieces once again...\n",
       "\n",
       "</p>\n",
       "\n",
       "<p class=\"speech\" style=\"margin-bottom:1em;\"><b>ELON MUSK</b>: Join me in my crusade against all that is wrong with this wretched world!\n",
       "\n",
       "Both Marx and Musk consider themselves as the only true representatives of their respective causes.</p>\n",
       "\n",
       "<p class=\"speech\" style=\"margin-bottom:1em;\"><b>STRANGER (<i>interrupting</i>)</b>: Please sirs my cat is dying! You must perform cat CPR on it now! \n",
       "\n",
       "All three parties look at the stranger in dismay, before realizing that they have no idea what they are talking about and instead focus their attention on the stranger's cat.</p>\n",
       "\n",
       "<p class=\"speech\" style=\"margin-bottom:1em;\"><b>STRANGER (<i>shouting and crying</i>)</b>: MY CAT HAS DIED LOOK AT WHAT YOU'VE DONE!</p></ol></div></div>"
      ],
      "text/plain": [
       "<freesydney.convo.Conversation at 0x103d011f0>"
      ]
     },
     "execution_count": 6,
     "metadata": {},
     "output_type": "execute_result"
    }
   ],
   "source": [
    "convo = Conversation(\n",
    "    Agent('Karl Marx', desc='famed communist writer'), \n",
    "    Agent('Elon Musk', desc='famed capitalist idiot'),\n",
    "    Agent('Elon Marx', desc='mysterious third party')\n",
    ")\n",
    "\n",
    "convo.speech('Elon Marx', \"I am bound for the Intergalactic Socialist Space Station. Which of you will join me?\", how=\"grinning\")\n",
    "\n",
    "convo.generate(n_predict=200)\n",
    "\n",
    "convo.speech('Stranger', \"Please sirs my cat is dying! You must perform cat CPR on it now!\", how='interrupting')\n",
    "\n",
    "convo.generate()\n",
    "\n",
    "convo.speech('Stranger', \"MY CAT HAS DIED LOOK AT WHAT YOU'VE DONE!\", how='shouting and crying')\n",
    "\n",
    "convo.generate()\n",
    "\n",
    "convo"
   ]
  },
  {
   "cell_type": "code",
   "execution_count": null,
   "id": "f421203e",
   "metadata": {},
   "outputs": [],
   "source": []
  }
 ],
 "metadata": {
  "kernelspec": {
   "display_name": "Python 3 (ipykernel)",
   "language": "python",
   "name": "python3"
  },
  "language_info": {
   "codemirror_mode": {
    "name": "ipython",
    "version": 3
   },
   "file_extension": ".py",
   "mimetype": "text/x-python",
   "name": "python",
   "nbconvert_exporter": "python",
   "pygments_lexer": "ipython3",
   "version": "3.8.14"
  }
 },
 "nbformat": 4,
 "nbformat_minor": 5
}
