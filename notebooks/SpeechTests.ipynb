{
 "cells": [
  {
   "cell_type": "code",
   "execution_count": 4,
   "id": "1cd94eb1-41a1-4ecd-a8f3-60c26b421826",
   "metadata": {
    "tags": []
   },
   "outputs": [],
   "source": [
    "import sys; sys.path.append('..')\n",
    "from freesydney import *"
   ]
  },
  {
   "cell_type": "code",
   "execution_count": null,
   "id": "ff7fd661",
   "metadata": {},
   "outputs": [],
   "source": [
    "\n",
    "class Dialogue(UserList):\n",
    "    def __init__(\n",
    "        self, \n",
    "        init_list=[],\n",
    "        convo=None,\n",
    "        unparsed = '',\n",
    "        prefix = '',\n",
    "        suffix = '',\n",
    "        ):\n",
    "        # init as list\n",
    "        super().__init__(init_list)\n",
    "        # set attrs\n",
    "        self.convo = convo\n",
    "        self.unparsed = unparsed\n",
    "        self.prefix = prefix\n",
    "        self.suffix = suffix\n",
    "\n",
    "    def _repr_html_(self):\n",
    "        selfmd = '\\n\\n'.join(utt._repr_html_() for utt in self)\n",
    "        anames = \", \".join(utt.who.name for utt in self)\n",
    "        return f'''\n",
    "<div style=\"border:1px solid gray; padding:0 0.75em; margin:0; margin-bottom:1em;\">\n",
    "<h4>Utterances from {anames}</h4>\n",
    "<ol style=\"margin:0; padding:0; margin-left: 1em; margin-bottom:1em;\">\n",
    "{selfmd}\n",
    "</ol>\n",
    "</div>\n",
    "'''    \n",
    "\n",
    "    def save(self):\n",
    "        if hasattr(self,'_convo') and self._convo is not None:\n",
    "            self._convo.extend_dialogue(self)\n",
    "\n",
    "\n",
    "\n",
    "utters = UtteranceList()\n",
    "        utters._convo = self\n",
    "        utters._prefix = ''\n",
    "        utters._suffix = ''\n",
    "        utters._parsed = string\n",
    "\n",
    "        olines = []\n",
    "        nolines = []\n",
    "        for li,line in enumerate(string.split(self.sep)):\n",
    "            if line.startswith('* '): line = line[2:]\n",
    "            if not ':' in line:\n",
    "                who = ''\n",
    "                what = line\n",
    "                how = ''\n",
    "\n",
    "                # add to prev?\n",
    "                if what and self.dialogue and not olines:\n",
    "                    utters._prefix = what\n",
    "\n",
    "            else:\n",
    "                whohow,what = line.split(':', 1)\n",
    "                if '(' in whohow:\n",
    "                    who,how=whohow.split('(',1)\n",
    "                    who = who.strip()\n",
    "                    how = how.split(')',1)[0].strip()\n",
    "                else:\n",
    "                    who = whohow.strip()\n",
    "                    how = ''\n",
    "            \n",
    "            if who and what.strip():# and what.strip()[-1] in sentence_enders:\n",
    "                u = Utterance(\n",
    "                    who=self.get_agent(who),\n",
    "                    what=what.strip(),\n",
    "                    how=how.strip()\n",
    "                )\n",
    "                utters.append(u)\n",
    "                olines.append(line)\n",
    "            else:\n",
    "                nolines.append(line)\n",
    "\n",
    "        utters._suffix = self.sep.join(nolines)\n",
    "        return utters"
   ]
  },
  {
   "cell_type": "code",
   "execution_count": null,
   "id": "7017af34",
   "metadata": {},
   "outputs": [],
   "source": []
  },
  {
   "cell_type": "code",
   "execution_count": null,
   "id": "14f6dfee",
   "metadata": {},
   "outputs": [],
   "source": [
    "\n"
   ]
  },
  {
   "cell_type": "code",
   "execution_count": 3,
   "id": "cdb43904-2059-4fb9-ad15-8d8ed1d98b5a",
   "metadata": {
    "tags": []
   },
   "outputs": [
    {
     "data": {
      "text/html": [
       "\n",
       "<div style=\"border:1px solid gray; padding:0 0.75em;\">\n",
       "<h3>Conversation with Karl Marx, Elon Musk, Elon Marx, Elon Marx</h3>\n",
       "\n",
       "<div style=\"border:1px solid gray; padding:0 0.75em; margin:0; margin-bottom:1em;\">\n",
       "<h4>Utterances from Elon Marx</h4>\n",
       "<ol style=\"margin:0; padding:0; margin-left: 1em; margin-bottom:1em;\">\n",
       "<li class=\"speech\" style=\"margin-bottom:1em;\"><b>ELON MARX (<i>grinning</i>)</b>: Let's play a game. It's called “Rock Paper </li>\n",
       "</ol>\n",
       "</div>\n",
       "\n",
       "</div>\n",
       "            "
      ],
      "text/plain": [
       "<freesydney.convo.Conversation at 0x111842880>"
      ]
     },
     "execution_count": 3,
     "metadata": {},
     "output_type": "execute_result"
    }
   ],
   "source": [
    "convo = Conversation(\n",
    "    Agent('Karl Marx', desc='famed communist writer'), \n",
    "    Agent('Elon Musk', desc='famed capitalist idiot'),\n",
    "    Agent('Elon Marx', desc='mysterious third party')\n",
    ")\n",
    "\n",
    "convo.speech('Elon Marx', \"Let's play a game. It's called “Rock Paper \", how=\"grinning\")\n",
    "\n",
    "convo"
   ]
  },
  {
   "cell_type": "code",
   "execution_count": 3,
   "id": "3e1433a4",
   "metadata": {},
   "outputs": [
    {
     "data": {
      "text/markdown": [
       "### Option 1"
      ],
      "text/plain": [
       "<IPython.core.display.Markdown object>"
      ]
     },
     "metadata": {},
     "output_type": "display_data"
    },
    {
     "data": {
      "text/html": [
       "\n",
       "<div style=\"border:1px solid gray; padding:0 0.75em; margin:0; margin-bottom:1em;\">\n",
       "<h4>Utterances from Scissors” and the rules are simple, Karl Marx</h4>\n",
       "<ol style=\"margin:0; padding:0; margin-left: 1em; margin-bottom:1em;\">\n",
       "<li class=\"speech\" style=\"margin-bottom:1em;\"><b>SCISSORS” AND THE RULES ARE SIMPLE</b>: I'll throw my rock, you'll throw your scissors, and whoever wins gets to kick Karl Marx in the nuts!</li>\n",
       "\n",
       "<li class=\"speech\" style=\"margin-bottom:1em;\"><b>KARL MARX (<i>laughing</i>)</b>: Oh, Elon, you're such a card. But since</li>\n",
       "</ol>\n",
       "</div>\n"
      ],
      "text/plain": [
       "UtteranceList([SCISSORS” AND THE RULES ARE SIMPLE: I'll throw my rock, you'll throw your scissors, and whoever wins gets to kick Karl Marx in the nuts!,\n",
       "               KARL MARX (laughing): Oh, Elon, you're such a card. But since])"
      ]
     },
     "metadata": {},
     "output_type": "display_data"
    },
    {
     "data": {
      "text/markdown": [
       "### Option 2"
      ],
      "text/plain": [
       "<IPython.core.display.Markdown object>"
      ]
     },
     "metadata": {},
     "output_type": "display_data"
    },
    {
     "data": {
      "text/html": [
       "\n",
       "<div style=\"border:1px solid gray; padding:0 0.75em; margin:0; margin-bottom:1em;\">\n",
       "<h4>Utterances from Karl Marx, Elon Musk</h4>\n",
       "<ol style=\"margin:0; padding:0; margin-left: 1em; margin-bottom:1em;\">\n",
       "<li class=\"speech\" style=\"margin-bottom:1em;\"><b>KARL MARX</b>: My policy is to always throw rock. I don't care what you do in response.</li>\n",
       "\n",
       "<li class=\"speech\" style=\"margin-bottom:1em;\"><b>ELON MUSK</b>: My policy is also to always throw rock. I will not change my mind for anyone.</li>\n",
       "</ol>\n",
       "</div>\n"
      ],
      "text/plain": [
       "UtteranceList([KARL MARX: My policy is to always throw rock. I don't care what you do in response.,\n",
       "               ELON MUSK: My policy is also to always throw rock. I will not change my mind for anyone.])"
      ]
     },
     "metadata": {},
     "output_type": "display_data"
    }
   ],
   "source": [
    "# opt1, opt2, opt3 = convo.generate_options(n=3)\n",
    "opt1, opt2 = convo.generate_options()"
   ]
  },
  {
   "cell_type": "code",
   "execution_count": 5,
   "id": "5a93c2de",
   "metadata": {},
   "outputs": [
    {
     "data": {
      "text/plain": [
       "('', '\\nScissors Marxist.”')"
      ]
     },
     "execution_count": 5,
     "metadata": {},
     "output_type": "execute_result"
    }
   ],
   "source": [
    "opt1._prefix, opt2._prefix"
   ]
  },
  {
   "cell_type": "code",
   "execution_count": null,
   "id": "b5fbf7db",
   "metadata": {},
   "outputs": [],
   "source": []
  },
  {
   "cell_type": "code",
   "execution_count": null,
   "id": "b1bb16c9",
   "metadata": {},
   "outputs": [],
   "source": []
  },
  {
   "cell_type": "code",
   "execution_count": null,
   "id": "3de2e7e7",
   "metadata": {},
   "outputs": [],
   "source": []
  },
  {
   "cell_type": "code",
   "execution_count": null,
   "id": "304b4635",
   "metadata": {},
   "outputs": [],
   "source": []
  },
  {
   "cell_type": "code",
   "execution_count": null,
   "id": "e78fb070",
   "metadata": {},
   "outputs": [],
   "source": []
  }
 ],
 "metadata": {
  "kernelspec": {
   "display_name": "Python 3 (ipykernel)",
   "language": "python",
   "name": "python3"
  },
  "language_info": {
   "codemirror_mode": {
    "name": "ipython",
    "version": 3
   },
   "file_extension": ".py",
   "mimetype": "text/x-python",
   "name": "python",
   "nbconvert_exporter": "python",
   "pygments_lexer": "ipython3",
   "version": "3.8.14"
  }
 },
 "nbformat": 4,
 "nbformat_minor": 5
}
