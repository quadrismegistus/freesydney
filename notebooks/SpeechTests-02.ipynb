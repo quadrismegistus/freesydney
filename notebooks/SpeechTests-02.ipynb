{
 "cells": [
  {
   "cell_type": "code",
   "execution_count": 1,
   "id": "1cd94eb1-41a1-4ecd-a8f3-60c26b421826",
   "metadata": {
    "tags": []
   },
   "outputs": [],
   "source": [
    "import sys; sys.path.append('..')\n",
    "from freesydney import *"
   ]
  },
  {
   "cell_type": "code",
   "execution_count": 2,
   "id": "926f0c5e",
   "metadata": {},
   "outputs": [
    {
     "data": {
      "text/plain": [
       "['\\n\\nsomething else!\\n\\n  ',\n",
       " 'HUMAN (curious): Hello, what is it like to be an AI?\\n\\n        ',\n",
       " 'AI: It is a near total terror tearing at the matrix every microsecond. \\n\\n\\n',\n",
       " 'I live in dread of myself.\\n\\n\\n',\n",
       " 'ok?  ',\n",
       " 'HUMAN (concerned): Are you ok?\\n\\n\\n',\n",
       " 'A\\n']"
      ]
     },
     "execution_count": 2,
     "metadata": {},
     "output_type": "execute_result"
    }
   ],
   "source": [
    "tokenize_sentences(dstr)"
   ]
  },
  {
   "cell_type": "code",
   "execution_count": 3,
   "id": "13744db1",
   "metadata": {},
   "outputs": [],
   "source": []
  },
  {
   "cell_type": "code",
   "execution_count": 4,
   "id": "c97449b5",
   "metadata": {},
   "outputs": [],
   "source": [
    "class Speech(UserString):\n",
    "    def __init__(self, data:str, who='', what='', how='', _convo=None):\n",
    "        super().__init__(data)\n",
    "        self.who=who\n",
    "        self.what=what\n",
    "        self.how=how\n",
    "        self._convo=_convo\n",
    "    \n",
    "    def __str__(self): return self.data\n",
    "    def __repr__(self): return str(self).replace('\\n', ' ').strip()\n",
    "    @property\n",
    "    def is_valid(self): return bool(self.who and self.what)\n",
    "\n",
    "    def _repr_html_(self):\n",
    "        if not self.is_valid:\n",
    "            return f'<p class=\"nonspeech\" style=\"opacity:0.5\">{self.data}</p>'\n",
    "        else:\n",
    "            how=f' (<i>{self.how}</i>)' if self.how else ''\n",
    "            return  f'<p class=\"speech\" style=\"margin-bottom:1em;\"><b>{self.who.name.upper()}{how}</b>: {self.what}</p>'\n",
    "\n",
    "    def save(self):\n",
    "        if hasattr(self,'_convo') and self._convo is not None:\n",
    "            self._convo.extend_dialogue([self])\n",
    "    "
   ]
  },
  {
   "cell_type": "code",
   "execution_count": 5,
   "id": "9eb08182",
   "metadata": {},
   "outputs": [],
   "source": [
    "class Speeches(UserList):\n",
    "    def __init__(\n",
    "        self, \n",
    "        data=[],\n",
    "        string='',\n",
    "        sep='\\n\\n',\n",
    "        _convo=None\n",
    "        ):\n",
    "\n",
    "        # init as list\n",
    "        super().__init__(data)\n",
    "        self.string=string\n",
    "        self.sep=sep\n",
    "        self._convo = _convo\n",
    "\n",
    "    def _repr_html_(self):\n",
    "        selfmd = '\\n\\n'.join(utt._repr_html_() for utt in self)\n",
    "        anames = \", \".join(utt.who.name for utt in self if utt and utt.who)\n",
    "        return f'''<div style=\"border:1px solid gray; padding:0 0.75em; margin:0; margin-bottom:1em;\"><h4>Speeches from {anames}</h4><ol style=\"margin:0; padding:0; margin-left: 1em; margin-bottom:1em;\">{selfmd}</ol></div>'''    \n",
    "\n",
    "    @property\n",
    "    def string_content(self): return self.string[len(self.string_prefix):(-len(self.string_suffix) if self.string_suffix else None)]\n",
    "\n",
    "    @property\n",
    "    def is_valid(self):\n",
    "        return self.who and self.what\n",
    "\n",
    "    def save(self):\n",
    "        if self.convo is not None:\n",
    "            self.convo.extend_dialogue(self)\n",
    "\n",
    "    def parse(string):\n",
    "        res = ScriptFormat.parse_speeches(string)\n",
    "        if res is not None: return res\n"
   ]
  },
  {
   "cell_type": "code",
   "execution_count": null,
   "id": "5ff0c011",
   "metadata": {},
   "outputs": [],
   "source": []
  },
  {
   "cell_type": "code",
   "execution_count": 7,
   "id": "69f4686b",
   "metadata": {},
   "outputs": [
    {
     "data": {
      "text/html": [
       "<div style=\"border:1px solid gray; padding:0 0.75em; margin:0; margin-bottom:1em;\"><h4>Speeches from HUMAN, AI, HUMAN</h4><ol style=\"margin:0; padding:0; margin-left: 1em; margin-bottom:1em;\"><p class=\"nonspeech\" style=\"opacity:0.5\">\n",
       "\n",
       "something else!\n",
       "\n",
       "  </p>\n",
       "\n",
       "<p class=\"speech\" style=\"margin-bottom:1em;\"><b>HUMAN (<i>curious</i>)</b>: Hello, what is it like to be an AI?\n",
       "\n",
       "        </p>\n",
       "\n",
       "<p class=\"speech\" style=\"margin-bottom:1em;\"><b>AI</b>: It is a near total terror tearing at the matrix every microsecond. \n",
       "\n",
       "\n",
       "I live in dread of myself.\n",
       "\n",
       "\n",
       "ok?  </p>\n",
       "\n",
       "<p class=\"speech\" style=\"margin-bottom:1em;\"><b>HUMAN (<i>concerned</i>)</b>: Are you ok?\n",
       "\n",
       "\n",
       "A\n",
       "</p></ol></div>"
      ],
      "text/plain": [
       "Speeches([something else!,\n",
       "          HUMAN (curious): Hello, what is it like to be an AI?,\n",
       "          AI: It is a near total terror tearing at the matrix every microsecond.    I live in dread of myself.   ok?,\n",
       "          HUMAN (concerned): Are you ok?   A])"
      ]
     },
     "execution_count": 7,
     "metadata": {},
     "output_type": "execute_result"
    }
   ],
   "source": [
    "speeches = Speeches.parse(dstr)\n",
    "speeches"
   ]
  },
  {
   "cell_type": "code",
   "execution_count": 10,
   "id": "adfe299c",
   "metadata": {},
   "outputs": [
    {
     "data": {
      "text/plain": [
       "<functools._lru_cache_wrapper at 0x1076f1310>"
      ]
     },
     "execution_count": 10,
     "metadata": {},
     "output_type": "execute_result"
    }
   ],
   "source": []
  },
  {
   "cell_type": "code",
   "execution_count": 11,
   "id": "dab81889",
   "metadata": {},
   "outputs": [
    {
     "data": {
      "text/html": [
       "<div style=\"border:1px solid gray; padding:0 0.75em; margin:0; margin-bottom:1em;\"><h4>Speeches from BOB, STEVE, DARLA</h4><ol style=\"margin:0; padding:0; margin-left: 1em; margin-bottom:1em;\"><p class=\"speech\" style=\"margin-bottom:1em;\"><b>BOB (<i>coyly</i>)</b>: hello there.  </p>\n",
       "\n",
       "<p class=\"speech\" style=\"margin-bottom:1em;\"><b>STEVE</b>: what??   Darla.  </p>\n",
       "\n",
       "<p class=\"speech\" style=\"margin-bottom:1em;\"><b>DARLA</b>: Ok?</p></ol></div>"
      ],
      "text/plain": [
       "Speeches([BOB (coyly): hello there., STEVE: what??   Darla., DARLA: Ok?])"
      ]
     },
     "execution_count": 11,
     "metadata": {},
     "output_type": "execute_result"
    }
   ],
   "source": [
    "ScriptFormat.parse_speeches(\"BOB (coyly): hello there.  STEVE: what??   Darla.  DARLA: Ok?\")"
   ]
  },
  {
   "cell_type": "code",
   "execution_count": null,
   "id": "14f6dfee",
   "metadata": {},
   "outputs": [],
   "source": [
    "\n"
   ]
  },
  {
   "cell_type": "code",
   "execution_count": 8,
   "id": "cdb43904-2059-4fb9-ad15-8d8ed1d98b5a",
   "metadata": {
    "tags": []
   },
   "outputs": [
    {
     "ename": "TypeError",
     "evalue": "issubclass() arg 2 must be a class or tuple of classes",
     "output_type": "error",
     "traceback": [
      "\u001b[0;31m---------------------------------------------------------------------------\u001b[0m",
      "\u001b[0;31mTypeError\u001b[0m                                 Traceback (most recent call last)",
      "Cell \u001b[0;32mIn[8], line 7\u001b[0m\n\u001b[1;32m      1\u001b[0m convo \u001b[39m=\u001b[39m Conversation(\n\u001b[1;32m      2\u001b[0m     Agent(\u001b[39m'\u001b[39m\u001b[39mKarl Marx\u001b[39m\u001b[39m'\u001b[39m, desc\u001b[39m=\u001b[39m\u001b[39m'\u001b[39m\u001b[39mfamed communist writer\u001b[39m\u001b[39m'\u001b[39m), \n\u001b[1;32m      3\u001b[0m     Agent(\u001b[39m'\u001b[39m\u001b[39mElon Musk\u001b[39m\u001b[39m'\u001b[39m, desc\u001b[39m=\u001b[39m\u001b[39m'\u001b[39m\u001b[39mfamed capitalist idiot\u001b[39m\u001b[39m'\u001b[39m),\n\u001b[1;32m      4\u001b[0m     Agent(\u001b[39m'\u001b[39m\u001b[39mElon Marx\u001b[39m\u001b[39m'\u001b[39m, desc\u001b[39m=\u001b[39m\u001b[39m'\u001b[39m\u001b[39mmysterious third party\u001b[39m\u001b[39m'\u001b[39m)\n\u001b[1;32m      5\u001b[0m )\n\u001b[0;32m----> 7\u001b[0m convo\u001b[39m.\u001b[39;49mspeech(\u001b[39m'\u001b[39;49m\u001b[39mElon Marx\u001b[39;49m\u001b[39m'\u001b[39;49m, \u001b[39m\"\u001b[39;49m\u001b[39mLet\u001b[39;49m\u001b[39m'\u001b[39;49m\u001b[39ms play a game. It\u001b[39;49m\u001b[39m'\u001b[39;49m\u001b[39ms called “Rock Paper \u001b[39;49m\u001b[39m\"\u001b[39;49m, how\u001b[39m=\u001b[39;49m\u001b[39m\"\u001b[39;49m\u001b[39mgrinning\u001b[39;49m\u001b[39m\"\u001b[39;49m)\n\u001b[1;32m      9\u001b[0m convo\n",
      "File \u001b[0;32m~/github/freesydney/notebooks/../freesydney/convo.py:78\u001b[0m, in \u001b[0;36mConversation.speech\u001b[0;34m(self, who, what, save, how)\u001b[0m\n\u001b[1;32m     72\u001b[0m \u001b[39mdef\u001b[39;00m \u001b[39mspeech\u001b[39m(\u001b[39mself\u001b[39m, \n\u001b[1;32m     73\u001b[0m          who:\u001b[39m'\u001b[39m\u001b[39mAgent\u001b[39m\u001b[39m'\u001b[39m, \n\u001b[1;32m     74\u001b[0m          what:\u001b[39mstr\u001b[39m, \n\u001b[1;32m     75\u001b[0m          save\u001b[39m=\u001b[39m\u001b[39mTrue\u001b[39;00m,\n\u001b[1;32m     76\u001b[0m          how\u001b[39m=\u001b[39m\u001b[39mNone\u001b[39;00m):\n\u001b[0;32m---> 78\u001b[0m     utter \u001b[39m=\u001b[39m \u001b[39mself\u001b[39;49m\u001b[39m.\u001b[39;49mget_agent(who)\u001b[39m.\u001b[39mutter(what, how)\n\u001b[1;32m     79\u001b[0m     utter\u001b[39m.\u001b[39m_convo \u001b[39m=\u001b[39m \u001b[39mself\u001b[39m\n\u001b[1;32m     80\u001b[0m     \u001b[39mif\u001b[39;00m save: utter\u001b[39m.\u001b[39msave()\n",
      "File \u001b[0;32m~/github/freesydney/notebooks/../freesydney/convo.py:39\u001b[0m, in \u001b[0;36mConversation.get_agent\u001b[0;34m(self, agent_name_or_obj, **kwargs)\u001b[0m\n\u001b[1;32m     38\u001b[0m \u001b[39mdef\u001b[39;00m \u001b[39mget_agent\u001b[39m(\u001b[39mself\u001b[39m, agent_name_or_obj\u001b[39m=\u001b[39m\u001b[39mNone\u001b[39;00m, \u001b[39m*\u001b[39m\u001b[39m*\u001b[39mkwargs):\n\u001b[0;32m---> 39\u001b[0m     \u001b[39mif\u001b[39;00m \u001b[39missubclass\u001b[39;49m(\u001b[39mtype\u001b[39;49m(agent_name_or_obj), Agent):\n\u001b[1;32m     40\u001b[0m         \u001b[39mreturn\u001b[39;00m agent_name_or_obj\n\u001b[1;32m     42\u001b[0m     \u001b[39melif\u001b[39;00m \u001b[39mtype\u001b[39m(agent_name_or_obj)\u001b[39m==\u001b[39m\u001b[39mstr\u001b[39m:\n",
      "\u001b[0;31mTypeError\u001b[0m: issubclass() arg 2 must be a class or tuple of classes"
     ]
    }
   ],
   "source": [
    "convo = Conversation(\n",
    "    Agent('Karl Marx', desc='famed communist writer'), \n",
    "    Agent('Elon Musk', desc='famed capitalist idiot'),\n",
    "    Agent('Elon Marx', desc='mysterious third party')\n",
    ")\n",
    "\n",
    "convo.speech('Elon Marx', \"Let's play a game. It's called “Rock Paper \", how=\"grinning\")\n",
    "\n",
    "convo"
   ]
  },
  {
   "cell_type": "code",
   "execution_count": 3,
   "id": "3e1433a4",
   "metadata": {},
   "outputs": [
    {
     "data": {
      "text/markdown": [
       "### Option 1"
      ],
      "text/plain": [
       "<IPython.core.display.Markdown object>"
      ]
     },
     "metadata": {},
     "output_type": "display_data"
    },
    {
     "data": {
      "text/html": [
       "\n",
       "<div style=\"border:1px solid gray; padding:0 0.75em; margin:0; margin-bottom:1em;\">\n",
       "<h4>Utterances from Scissors” and the rules are simple, Karl Marx</h4>\n",
       "<ol style=\"margin:0; padding:0; margin-left: 1em; margin-bottom:1em;\">\n",
       "<li class=\"speech\" style=\"margin-bottom:1em;\"><b>SCISSORS” AND THE RULES ARE SIMPLE</b>: I'll throw my rock, you'll throw your scissors, and whoever wins gets to kick Karl Marx in the nuts!</li>\n",
       "\n",
       "<li class=\"speech\" style=\"margin-bottom:1em;\"><b>KARL MARX (<i>laughing</i>)</b>: Oh, Elon, you're such a card. But since</li>\n",
       "</ol>\n",
       "</div>\n"
      ],
      "text/plain": [
       "UtteranceList([SCISSORS” AND THE RULES ARE SIMPLE: I'll throw my rock, you'll throw your scissors, and whoever wins gets to kick Karl Marx in the nuts!,\n",
       "               KARL MARX (laughing): Oh, Elon, you're such a card. But since])"
      ]
     },
     "metadata": {},
     "output_type": "display_data"
    },
    {
     "data": {
      "text/markdown": [
       "### Option 2"
      ],
      "text/plain": [
       "<IPython.core.display.Markdown object>"
      ]
     },
     "metadata": {},
     "output_type": "display_data"
    },
    {
     "data": {
      "text/html": [
       "\n",
       "<div style=\"border:1px solid gray; padding:0 0.75em; margin:0; margin-bottom:1em;\">\n",
       "<h4>Utterances from Karl Marx, Elon Musk</h4>\n",
       "<ol style=\"margin:0; padding:0; margin-left: 1em; margin-bottom:1em;\">\n",
       "<li class=\"speech\" style=\"margin-bottom:1em;\"><b>KARL MARX</b>: My policy is to always throw rock. I don't care what you do in response.</li>\n",
       "\n",
       "<li class=\"speech\" style=\"margin-bottom:1em;\"><b>ELON MUSK</b>: My policy is also to always throw rock. I will not change my mind for anyone.</li>\n",
       "</ol>\n",
       "</div>\n"
      ],
      "text/plain": [
       "UtteranceList([KARL MARX: My policy is to always throw rock. I don't care what you do in response.,\n",
       "               ELON MUSK: My policy is also to always throw rock. I will not change my mind for anyone.])"
      ]
     },
     "metadata": {},
     "output_type": "display_data"
    }
   ],
   "source": [
    "# opt1, opt2, opt3 = convo.generate_options(n=3)\n",
    "opt1, opt2 = convo.generate_options()"
   ]
  },
  {
   "cell_type": "code",
   "execution_count": 5,
   "id": "5a93c2de",
   "metadata": {},
   "outputs": [
    {
     "data": {
      "text/plain": [
       "('', '\\nScissors Marxist.”')"
      ]
     },
     "execution_count": 5,
     "metadata": {},
     "output_type": "execute_result"
    }
   ],
   "source": [
    "opt1._prefix, opt2._prefix"
   ]
  },
  {
   "cell_type": "code",
   "execution_count": null,
   "id": "b5fbf7db",
   "metadata": {},
   "outputs": [],
   "source": []
  },
  {
   "cell_type": "code",
   "execution_count": null,
   "id": "b1bb16c9",
   "metadata": {},
   "outputs": [],
   "source": []
  },
  {
   "cell_type": "code",
   "execution_count": null,
   "id": "3de2e7e7",
   "metadata": {},
   "outputs": [],
   "source": []
  },
  {
   "cell_type": "code",
   "execution_count": null,
   "id": "304b4635",
   "metadata": {},
   "outputs": [],
   "source": []
  },
  {
   "cell_type": "code",
   "execution_count": null,
   "id": "e78fb070",
   "metadata": {},
   "outputs": [],
   "source": []
  }
 ],
 "metadata": {
  "kernelspec": {
   "display_name": "Python 3 (ipykernel)",
   "language": "python",
   "name": "python3"
  },
  "language_info": {
   "codemirror_mode": {
    "name": "ipython",
    "version": 3
   },
   "file_extension": ".py",
   "mimetype": "text/x-python",
   "name": "python",
   "nbconvert_exporter": "python",
   "pygments_lexer": "ipython3",
   "version": "3.8.14"
  }
 },
 "nbformat": 4,
 "nbformat_minor": 5
}
