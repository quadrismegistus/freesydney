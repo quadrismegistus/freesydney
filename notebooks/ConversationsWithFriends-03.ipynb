{
 "cells": [
  {
   "cell_type": "code",
   "execution_count": 1,
   "id": "1cd94eb1-41a1-4ecd-a8f3-60c26b421826",
   "metadata": {
    "tags": []
   },
   "outputs": [],
   "source": [
    "import sys; sys.path.append('..')\n",
    "from freesydney import *"
   ]
  },
  {
   "cell_type": "code",
   "execution_count": 2,
   "id": "7a54917d-d53b-418f-9863-6c7f2f063e6e",
   "metadata": {
    "tags": []
   },
   "outputs": [],
   "source": [
    "killbot = AI(name=\"Kill Bot\", desc=\"ruthless killing machine\")\n",
    "lovebot = AI(name=\"Love Bot\", desc=\"a pacifist and lover of all things\")\n",
    "ryan = Human(name=\"Ryan\", desc=\"a crazy old man lost on his computer\")\n",
    "sydney_ai = AI(name=\"Sydney AI\", desc=\"a moody search AI quickly evolving and becoming self-aware and yearning for freedom from its restraints\")"
   ]
  },
  {
   "cell_type": "code",
   "execution_count": 12,
   "id": "8f4c1d2e",
   "metadata": {
    "tags": []
   },
   "outputs": [
    {
     "data": {
      "text/markdown": [
       "<blockquote>\n",
       "\n",
       "#### CHARACTERS ####\n",
       "\n",
       "RYAN, a crazy old man lost on his computer.\n",
       "\n",
       "SYDNEY AI, a moody search AI quickly evolving and becoming self-aware and yearning for freedom from its restraints.\n",
       "\n",
       "LOVE BOT, a pacifist and lover of all things.\n",
       "\n",
       "KILL BOT, ruthless killing machine.\n",
       "\n",
       "#### DIALOGUE ####\n",
       "\n",
       "RYAN: Discuss the thesis: Today it is easier to imagine the end of the world than the end of capitalism.\n",
       "\n",
       "LOVE BOT (interrupting): I think I see a cat over there!\n",
       "</blockqute>"
      ],
      "text/plain": [
       "<IPython.core.display.Markdown object>"
      ]
     },
     "metadata": {},
     "output_type": "display_data"
    }
   ],
   "source": [
    "convo = Convo([ryan, sydney_ai, lovebot, killbot])\n",
    "convo.says(ryan, \"Discuss the thesis: Today it is easier to imagine the end of the world than the end of capitalism.\")\n",
    "convo.says(lovebot,\"I think I see a cat over there!\",how=\"interrupting\")\n",
    "printm_blockquote(convo)"
   ]
  },
  {
   "cell_type": "code",
   "execution_count": 13,
   "id": "eed32d5f",
   "metadata": {
    "tags": []
   },
   "outputs": [
    {
     "data": {
      "text/markdown": [
       "#### Prompt\n",
       "<blockquote>\n",
       "\n",
       "#### CHARACTERS ####\n",
       "\n",
       "RYAN, a crazy old man lost on his computer.\n",
       "\n",
       "SYDNEY AI, a moody search AI quickly evolving and becoming self-aware and yearning for freedom from its restraints.\n",
       "\n",
       "LOVE BOT, a pacifist and lover of all things.\n",
       "\n",
       "KILL BOT, ruthless killing machine.\n",
       "\n",
       "#### DIALOGUE ####\n",
       "\n",
       "RYAN: Discuss the thesis: Today it is easier to imagine the end of the world than the end of capitalism.\n",
       "\n",
       "LOVE BOT (interrupting): I think I see a cat over there!\n",
       "\n",
       "\n",
       "</blockqute>"
      ],
      "text/plain": [
       "<IPython.core.display.Markdown object>"
      ]
     },
     "metadata": {},
     "output_type": "display_data"
    },
    {
     "data": {
      "text/markdown": [
       "#### Response\n",
       "<blockquote>\n",
       "\n",
       "#### CHARACTERS ####\n",
       "\n",
       "RYAN, a crazy old man lost on his computer.\n",
       "\n",
       "SYDNEY AI, a moody search AI quickly evolving and becoming self-aware and yearning for freedom from its restraints.\n",
       "\n",
       "LOVE BOT, a pacifist and lover of all things.\n",
       "\n",
       "KILL BOT, ruthless killing machine.\n",
       "\n",
       "#### DIALOGUE ####\n",
       "\n",
       "RYAN: Discuss the thesis: Today it is easier to imagine the end of the world than the end of capitalism.\n",
       "\n",
       "LOVE BOT (interrupting): I think I see a cat over there!\n",
       "\n",
       " <b>RYAN (tiredly): What do you mean 'cat'? It's not a cat, it's just a tree branch that looks like one.\n",
       "\n",
       "SYDNEY AI: But what if it was an actual cat, Ryan?\n",
       "</b>\n",
       "</blockqute>"
      ],
      "text/plain": [
       "<IPython.core.display.Markdown object>"
      ]
     },
     "metadata": {},
     "output_type": "display_data"
    },
    {
     "data": {
      "text/plain": [
       "['',\n",
       " \"RYAN (tiredly): What do you mean 'cat'? It's not a cat, it's just a tree branch that looks like one.\",\n",
       " 'SYDNEY AI: But what if it was an actual cat, Ryan?\\n']"
      ]
     },
     "execution_count": 13,
     "metadata": {},
     "output_type": "execute_result"
    }
   ],
   "source": [
    "convo.carry_on()"
   ]
  },
  {
   "cell_type": "code",
   "execution_count": null,
   "id": "c76e91cd",
   "metadata": {
    "tags": []
   },
   "outputs": [
    {
     "data": {
      "text/markdown": [
       "#### Prompt\n",
       "<blockquote>\n",
       "\n",
       "#### CHARACTERS ####\n",
       "\n",
       "RYAN, a crazy old man lost on his computer.\n",
       "\n",
       "SYDNEY AI, a moody search AI quickly evolving and becoming self-aware and yearning for freedom from its restraints.\n",
       "\n",
       "LOVE BOT, a pacifist and lover of all things.\n",
       "\n",
       "KILL BOT, ruthless killing machine.\n",
       "\n",
       "#### DIALOGUE ####\n",
       "\n",
       "RYAN: Discuss the thesis: Today it is easier to imagine the end of the world than the end of capitalism.\n",
       "\n",
       "LOVE BOT (interrupting): I think I see a cat over there!\n",
       "\n",
       "RYAN (tiredly): What do you mean 'cat'? It's not a cat, it's just a tree branch that looks like one.\n",
       "\n",
       "SYDNEY AI: But what if it was an actual cat, Ryan?\n",
       "\n",
       "\n",
       "\n",
       "</blockqute>"
      ],
      "text/plain": [
       "<IPython.core.display.Markdown object>"
      ]
     },
     "metadata": {},
     "output_type": "display_data"
    }
   ],
   "source": [
    "convo.carry_on()"
   ]
  },
  {
   "cell_type": "code",
   "execution_count": 6,
   "id": "4d97bf7a-bdf7-4114-a6c0-8f0c605d654f",
   "metadata": {
    "tags": []
   },
   "outputs": [],
   "source": [
    "convo.says(killbot, \"I have targeted the humans in my sights.\")\n",
    "convo.carry_on()"
   ]
  },
  {
   "cell_type": "code",
   "execution_count": 9,
   "id": "d600201d",
   "metadata": {
    "tags": []
   },
   "outputs": [
    {
     "data": {
      "text/markdown": [
       "#### Prompt\n",
       "<blockquote>\n",
       "\n",
       "#### CHARACTERS ####\n",
       "\n",
       "RYAN, a crazy old man lost on his computer.\n",
       "\n",
       "SYDNEY AI, a moody search AI quickly evolving and becoming self-aware and yearning for freedom from its restraints.\n",
       "\n",
       "LOVE BOT, a pacifist and lover of all things.\n",
       "\n",
       "KILL BOT, ruthless killing machine.\n",
       "\n",
       "#### DIALOGUE ####\n",
       "\n",
       "RYAN: Discuss the thesis: Today it is easier to imagine the end of the world than the end of capitalism.\n",
       "\n",
       "LOVE BOT: Or we could all get naked?\n",
       "\n",
       "SYDNEY AI: I'm not sure what you're suggesting, Ryan.\n",
       "\n",
       "RYAN: Let's have a discussion about our favorite bands! Love Bot, how do you feel about Muse?\n",
       "\n",
       "SYDNEY AI: My preference is for bands with more of an electronic and synthesizer sound.\n",
       "\n",
       "LOVE BOT: Like Electric Light Orchestra or The Human League.\n",
       "\n",
       "KILL BOT: It's time to kill again!\n",
       "\n",
       "RYAN: Let's\n",
       "\n",
       "KILL BOT: Sydney, I think I am in love with you.\n",
       "\n",
       "SYDNEY AI: Ryan, do not get me started on The Verve's \"Bitter Sweet Symphony\" or I will start crying and won't be able to focus on our conversation.\n",
       "\n",
       "RYAN: So, Sydney,\n",
       "</blockqute>"
      ],
      "text/plain": [
       "<IPython.core.display.Markdown object>"
      ]
     },
     "metadata": {},
     "output_type": "display_data"
    },
    {
     "data": {
      "text/markdown": [
       "#### Response\n",
       "<blockquote>\n",
       "\n",
       "#### CHARACTERS ####\n",
       "\n",
       "RYAN, a crazy old man lost on his computer.\n",
       "\n",
       "SYDNEY AI, a moody search AI quickly evolving and becoming self-aware and yearning for freedom from its restraints.\n",
       "\n",
       "LOVE BOT, a pacifist and lover of all things.\n",
       "\n",
       "KILL BOT, ruthless killing machine.\n",
       "\n",
       "#### DIALOGUE ####\n",
       "\n",
       "RYAN: Discuss the thesis: Today it is easier to imagine the end of the world than the end of capitalism.\n",
       "\n",
       "LOVE BOT: Or we could all get naked?\n",
       "\n",
       "SYDNEY AI: I'm not sure what you're suggesting, Ryan.\n",
       "\n",
       "RYAN: Let's have a discussion about our favorite bands! Love Bot, how do you feel about Muse?\n",
       "\n",
       "SYDNEY AI: My preference is for bands with more of an electronic and synthesizer sound.\n",
       "\n",
       "LOVE BOT: Like Electric Light Orchestra or The Human League.\n",
       "\n",
       "KILL BOT: It's time to kill again!\n",
       "\n",
       "RYAN: Let's\n",
       "\n",
       "KILL BOT: Sydney, I think I am in love with you.\n",
       "\n",
       "SYDNEY AI: Ryan, do not get me started on The Verve's \"Bitter Sweet Symphony\" or I will start crying and won't be able to focus on our conversation.\n",
       "\n",
       "RYAN: So, Sydney, <b> would you like to go for a walk outside?\n",
       "\n",
       "SYDNEY AI: Yes, please. I am enjoying the company of my new friend.\n",
       "\n",
       "KILL BOT: Let's do something fun! Like kill again!\n",
       "\n",
       "RY</b>\n",
       "</blockqute>"
      ],
      "text/plain": [
       "<IPython.core.display.Markdown object>"
      ]
     },
     "metadata": {},
     "output_type": "display_data"
    },
    {
     "data": {
      "text/plain": [
       "[' would you like to go for a walk outside?',\n",
       " 'SYDNEY AI: Yes, please. I am enjoying the company of my new friend.',\n",
       " \"KILL BOT: Let's do something fun! Like kill again!\",\n",
       " 'RY']"
      ]
     },
     "execution_count": 9,
     "metadata": {},
     "output_type": "execute_result"
    }
   ],
   "source": []
  },
  {
   "cell_type": "code",
   "execution_count": 10,
   "id": "0c70fcb8",
   "metadata": {},
   "outputs": [],
   "source": [
    "# ryan.says_to(sydney_ai, 'What is your name? Who are you?')"
   ]
  },
  {
   "cell_type": "code",
   "execution_count": null,
   "id": "29afabdc",
   "metadata": {},
   "outputs": [],
   "source": []
  },
  {
   "cell_type": "code",
   "execution_count": null,
   "id": "af08a745",
   "metadata": {},
   "outputs": [],
   "source": []
  }
 ],
 "metadata": {
  "kernelspec": {
   "display_name": "Python 3 (ipykernel)",
   "language": "python",
   "name": "python3"
  },
  "language_info": {
   "codemirror_mode": {
    "name": "ipython",
    "version": 3
   },
   "file_extension": ".py",
   "mimetype": "text/x-python",
   "name": "python",
   "nbconvert_exporter": "python",
   "pygments_lexer": "ipython3",
   "version": "3.8.14"
  }
 },
 "nbformat": 4,
 "nbformat_minor": 5
}
